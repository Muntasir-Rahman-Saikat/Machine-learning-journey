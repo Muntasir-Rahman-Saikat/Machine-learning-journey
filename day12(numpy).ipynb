{
 "cells": [
  {
   "cell_type": "code",
   "execution_count": 2,
   "id": "6fd7b9f4-faa8-483b-8c68-d98a095f01b0",
   "metadata": {},
   "outputs": [],
   "source": [
    "import numpy as np\n"
   ]
  },
  {
   "cell_type": "code",
   "execution_count": 2,
   "id": "3f9bd202-9178-4680-9d3b-6f133838b52b",
   "metadata": {},
   "outputs": [],
   "source": [
    "n=[1,4,1,14]"
   ]
  },
  {
   "cell_type": "code",
   "execution_count": 7,
   "id": "95546219-87d4-4779-a2c6-64beb4167c9f",
   "metadata": {},
   "outputs": [
    {
     "name": "stdout",
     "output_type": "stream",
     "text": [
      "[1, 4, 1, 14]\n"
     ]
    }
   ],
   "source": [
    "print(n)"
   ]
  },
  {
   "cell_type": "code",
   "execution_count": 6,
   "id": "ad3d9dc3-dee7-47f1-aece-0cf94bf741dd",
   "metadata": {},
   "outputs": [
    {
     "name": "stdout",
     "output_type": "stream",
     "text": [
      "[ 1  2  3 41]\n"
     ]
    }
   ],
   "source": [
    "a=np.array([1,2,3,41])\n",
    "print(a)"
   ]
  },
  {
   "cell_type": "code",
   "execution_count": 10,
   "id": "eb11934d-122b-4fdc-a7cd-1e729652f061",
   "metadata": {},
   "outputs": [
    {
     "name": "stdout",
     "output_type": "stream",
     "text": [
      "[1 2]\n"
     ]
    }
   ],
   "source": [
    "print(a[:-2])"
   ]
  },
  {
   "cell_type": "code",
   "execution_count": 18,
   "id": "065c6335-fdac-4169-9e90-f4dd5bb9c645",
   "metadata": {},
   "outputs": [
    {
     "name": "stdout",
     "output_type": "stream",
     "text": [
      "(3, 4)\n"
     ]
    }
   ],
   "source": [
    "ap=np.array([[1,2,3,1],\n",
    "            [34,34,52,2],\n",
    "            [21,1,4,5]\n",
    "           ])\n",
    "print(ap.shape)"
   ]
  },
  {
   "cell_type": "code",
   "execution_count": 20,
   "id": "fa12760e-e5bc-4e2e-b4b8-609bfcd9a696",
   "metadata": {},
   "outputs": [],
   "source": [
    "y=np.array([\n",
    "    [[1,3,4,1],\n",
    "    [13,2,13,2],\n",
    "    [4,4,11,34]],\n",
    "    [[2,1,41,1],\n",
    "    [231,2,1,4],\n",
    "    [1,3,1,1]]\n",
    "])\n",
    "    "
   ]
  },
  {
   "cell_type": "code",
   "execution_count": 25,
   "id": "0af5e995-3e49-41b3-ab53-27697d182d00",
   "metadata": {},
   "outputs": [
    {
     "name": "stdout",
     "output_type": "stream",
     "text": [
      "(2, 3, 4)\n"
     ]
    }
   ],
   "source": [
    "print(y.shape)"
   ]
  },
  {
   "cell_type": "code",
   "execution_count": 27,
   "id": "33c84540-fc4e-456b-ae85-0957bae406f3",
   "metadata": {},
   "outputs": [
    {
     "name": "stdout",
     "output_type": "stream",
     "text": [
      "3\n",
      "2\n"
     ]
    }
   ],
   "source": [
    "print(y.ndim)\n",
    "print(ap.ndim)"
   ]
  },
  {
   "cell_type": "code",
   "execution_count": 28,
   "id": "53c6463c-ed8c-4ea2-88dc-622804f94fce",
   "metadata": {},
   "outputs": [
    {
     "name": "stdout",
     "output_type": "stream",
     "text": [
      "24\n"
     ]
    }
   ],
   "source": [
    "print(y.size)"
   ]
  },
  {
   "cell_type": "code",
   "execution_count": 29,
   "id": "32ecdbdf-368f-453a-ba22-49f67ad69bbe",
   "metadata": {},
   "outputs": [
    {
     "name": "stdout",
     "output_type": "stream",
     "text": [
      "int32\n"
     ]
    }
   ],
   "source": [
    "print(y.dtype)"
   ]
  },
  {
   "cell_type": "code",
   "execution_count": 6,
   "id": "df81d631-c368-4e6c-a176-b16be86af073",
   "metadata": {},
   "outputs": [
    {
     "name": "stdout",
     "output_type": "stream",
     "text": [
      "[[[9 9 9 9]\n",
      "  [9 9 9 9]\n",
      "  [9 9 9 9]]\n",
      "\n",
      " [[9 9 9 9]\n",
      "  [9 9 9 9]\n",
      "  [9 9 9 9]]]\n"
     ]
    }
   ],
   "source": [
    "a=np.full((2,3,4),9)\n",
    "print(a)"
   ]
  },
  {
   "cell_type": "code",
   "execution_count": 8,
   "id": "4d2b274f-94b4-42d9-bd40-d679e030acde",
   "metadata": {},
   "outputs": [
    {
     "name": "stdout",
     "output_type": "stream",
     "text": [
      "[[[0. 0.]\n",
      "  [0. 0.]\n",
      "  [0. 0.]\n",
      "  [0. 0.]\n",
      "  [0. 0.]]\n",
      "\n",
      " [[0. 0.]\n",
      "  [0. 0.]\n",
      "  [0. 0.]\n",
      "  [0. 0.]\n",
      "  [0. 0.]]]\n"
     ]
    }
   ],
   "source": [
    "a=np.zeros((2,5,2))\n",
    "print(a)"
   ]
  },
  {
   "cell_type": "code",
   "execution_count": 10,
   "id": "64438052-9319-42d8-ab5f-3be74deb6d06",
   "metadata": {},
   "outputs": [
    {
     "name": "stdout",
     "output_type": "stream",
     "text": [
      "[[[1.90979621e-313 1.90979621e-313]\n",
      "  [1.90979621e-313 1.90979621e-313]\n",
      "  [1.90979621e-313 1.90979621e-313]]\n",
      "\n",
      " [[1.90979621e-313 1.90979621e-313]\n",
      "  [1.90979621e-313 1.90979621e-313]\n",
      "  [1.90979621e-313 1.90979621e-313]]]\n"
     ]
    }
   ],
   "source": [
    "a=np.empty((2,3,2))\n",
    "print(a)"
   ]
  },
  {
   "cell_type": "code",
   "execution_count": 14,
   "id": "b64bbccd-7eb9-4ee0-a3fe-ed5e0e4aa39c",
   "metadata": {},
   "outputs": [
    {
     "name": "stdout",
     "output_type": "stream",
     "text": [
      "[  0   5  10  15  20  25  30  35  40  45  50  55  60  65  70  75  80  85\n",
      "  90  95 100 105 110 115 120 125 130 135 140 145 150 155 160 165 170 175\n",
      " 180 185 190 195 200 205 210 215 220 225 230 235 240 245 250 255 260 265\n",
      " 270 275 280 285 290 295 300 305 310 315 320 325 330 335 340 345 350 355\n",
      " 360 365 370 375 380 385 390 395 400 405 410 415 420 425 430 435 440 445\n",
      " 450 455 460 465 470 475 480 485 490 495 500 505 510 515 520 525 530 535\n",
      " 540 545 550 555 560 565 570 575 580 585 590 595 600 605 610 615 620 625\n",
      " 630 635 640 645 650 655 660 665 670 675 680 685 690 695 700 705 710 715\n",
      " 720 725 730 735 740 745 750 755 760 765 770 775 780 785 790 795 800 805\n",
      " 810 815 820 825 830 835 840 845 850 855 860 865 870 875 880 885 890 895\n",
      " 900 905 910 915 920 925 930 935 940 945 950 955 960 965 970 975 980 985\n",
      " 990 995]\n"
     ]
    }
   ],
   "source": [
    "x_values=np.arange(0,1000,5)# here 5 is a step size\n",
    "print(x_values)"
   ]
  },
  {
   "cell_type": "code",
   "execution_count": 17,
   "id": "9025e677-d3a1-40aa-b923-6aa44c2b4d40",
   "metadata": {},
   "outputs": [
    {
     "name": "stdout",
     "output_type": "stream",
     "text": [
      "[   0.  500. 1000.]\n"
     ]
    }
   ],
   "source": [
    "y_values=np.linspace(0,1000,3)# means I want 3 numbers in btween zero and 1000\n",
    "print(y_values)"
   ]
  },
  {
   "cell_type": "code",
   "execution_count": 18,
   "id": "326bd535-d324-49dd-b373-8032c1394442",
   "metadata": {},
   "outputs": [
    {
     "name": "stdout",
     "output_type": "stream",
     "text": [
      "True\n"
     ]
    }
   ],
   "source": [
    "print(np.isnan(np.nan))"
   ]
  },
  {
   "cell_type": "code",
   "execution_count": 19,
   "id": "0e7bed08-f960-40bd-98a4-0c787a08ea2b",
   "metadata": {},
   "outputs": [
    {
     "name": "stdout",
     "output_type": "stream",
     "text": [
      "True\n"
     ]
    }
   ],
   "source": [
    "print(np.isinf(np.inf))"
   ]
  },
  {
   "cell_type": "code",
   "execution_count": 23,
   "id": "ded51ba3-e8e3-4aef-a8ca-1fa4538ea33a",
   "metadata": {},
   "outputs": [
    {
     "name": "stdout",
     "output_type": "stream",
     "text": [
      "nan\n"
     ]
    },
    {
     "name": "stderr",
     "output_type": "stream",
     "text": [
      "C:\\Users\\User\\AppData\\Local\\Temp\\ipykernel_5924\\267541580.py:1: RuntimeWarning: invalid value encountered in sqrt\n",
      "  print(np.sqrt(-1))\n"
     ]
    }
   ],
   "source": [
    "print(np.sqrt(-1))"
   ]
  },
  {
   "cell_type": "code",
   "execution_count": 27,
   "id": "6ad0be32-500d-47b4-86d5-7b024777e5ff",
   "metadata": {},
   "outputs": [
    {
     "name": "stdout",
     "output_type": "stream",
     "text": [
      "[inf]\n"
     ]
    },
    {
     "name": "stderr",
     "output_type": "stream",
     "text": [
      "C:\\Users\\User\\AppData\\Local\\Temp\\ipykernel_5924\\500388721.py:1: RuntimeWarning: divide by zero encountered in divide\n",
      "  print(np.array([10])/0)\n"
     ]
    }
   ],
   "source": [
    "print(np.array([10])/0)"
   ]
  },
  {
   "cell_type": "code",
   "execution_count": 29,
   "id": "452f9383-6b63-43d4-8a64-c1bbe4af0142",
   "metadata": {},
   "outputs": [
    {
     "name": "stdout",
     "output_type": "stream",
     "text": [
      "list multiplication:\n",
      "[1, 3, 34, 1, 2, 1, 3, 34, 1, 2, 1, 3, 34, 1, 2, 1, 3, 34, 1, 2]\n",
      "array multiplication:\n",
      "[  4  12 136   4   8]\n"
     ]
    }
   ],
   "source": [
    "l1=[1,3,34,1,2]\n",
    "l2=[1,21,41,4,1]\n",
    "a1=np.array(l1)\n",
    "a2=np.array(l2)\n",
    "print('list multiplication:')\n",
    "print(l1*4)\n",
    "print('array multiplication:')\n",
    "print(a1*4)"
   ]
  },
  {
   "cell_type": "code",
   "execution_count": 30,
   "id": "2748d017-2b26-420d-bfe0-a62b532a9a99",
   "metadata": {},
   "outputs": [
    {
     "name": "stdout",
     "output_type": "stream",
     "text": [
      "[1, 3, 34, 1, 2, 1, 21, 41, 4, 1]\n",
      "[ 2 24 75  5  3]\n"
     ]
    }
   ],
   "source": [
    "print(l1+l2)\n",
    "print(a1+a2)"
   ]
  },
  {
   "cell_type": "code",
   "execution_count": 31,
   "id": "7772e0a0-572a-44ea-9135-084220954dc0",
   "metadata": {},
   "outputs": [
    {
     "ename": "TypeError",
     "evalue": "unsupported operand type(s) for -: 'list' and 'list'",
     "output_type": "error",
     "traceback": [
      "\u001b[31m---------------------------------------------------------------------------\u001b[39m",
      "\u001b[31mTypeError\u001b[39m                                 Traceback (most recent call last)",
      "\u001b[36mCell\u001b[39m\u001b[36m \u001b[39m\u001b[32mIn[31]\u001b[39m\u001b[32m, line 1\u001b[39m\n\u001b[32m----> \u001b[39m\u001b[32m1\u001b[39m \u001b[43m[\u001b[49m\u001b[32;43m1\u001b[39;49m\u001b[43m,\u001b[49m\u001b[32;43m2\u001b[39;49m\u001b[43m,\u001b[49m\u001b[32;43m3\u001b[39;49m\u001b[43m,\u001b[49m\u001b[32;43m4\u001b[39;49m\u001b[43m,\u001b[49m\u001b[32;43m5\u001b[39;49m\u001b[43m]\u001b[49m\u001b[43m-\u001b[49m\u001b[43m[\u001b[49m\u001b[32;43m1\u001b[39;49m\u001b[43m,\u001b[49m\u001b[32;43m2\u001b[39;49m\u001b[43m,\u001b[49m\u001b[32;43m3\u001b[39;49m\u001b[43m,\u001b[49m\u001b[32;43m4\u001b[39;49m\u001b[43m]\u001b[49m\n",
      "\u001b[31mTypeError\u001b[39m: unsupported operand type(s) for -: 'list' and 'list'"
     ]
    }
   ],
   "source": []
  },
  {
   "cell_type": "code",
   "execution_count": 35,
   "id": "7f646b77-a780-4f20-99e6-b6c20be1031e",
   "metadata": {},
   "outputs": [
    {
     "name": "stdout",
     "output_type": "stream",
     "text": [
      "[[ 23   4   4]\n",
      " [ 96 211  12]\n",
      " [ 68  48 160]]\n"
     ]
    }
   ],
   "source": [
    "b1=np.array([[1,2,4],\n",
    "            [32,211,1],\n",
    "            [2,4,32]])\n",
    "b2=np.array([[23,2,1],\n",
    "             [3,1,12],\n",
    "             [34,12,5]])\n",
    "c=b1*b2\n",
    "print(c)"
   ]
  },
  {
   "cell_type": "code",
   "execution_count": 36,
   "id": "2e5913c6-07f9-4be3-b426-268825978f4d",
   "metadata": {},
   "outputs": [
    {
     "name": "stdout",
     "output_type": "stream",
     "text": [
      "[[ 4.79583152  2.          2.        ]\n",
      " [ 9.79795897 14.52583905  3.46410162]\n",
      " [ 8.24621125  6.92820323 12.64911064]]\n"
     ]
    }
   ],
   "source": [
    "print(np.sqrt(c))"
   ]
  },
  {
   "cell_type": "code",
   "execution_count": 100,
   "id": "78bb3fce-0d20-4219-8051-c4dd58d60436",
   "metadata": {},
   "outputs": [],
   "source": [
    "z=np.append(b1,[3,4,5])"
   ]
  },
  {
   "cell_type": "code",
   "execution_count": 101,
   "id": "4b7ae0a6-096b-4085-940e-2c9ce51120a2",
   "metadata": {},
   "outputs": [
    {
     "data": {
      "text/plain": [
       "array([  1,   2,   4,  32, 211,   1,   2,   4,  32,   3,   4,   5])"
      ]
     },
     "execution_count": 101,
     "metadata": {},
     "output_type": "execute_result"
    }
   ],
   "source": [
    "z"
   ]
  },
  {
   "cell_type": "code",
   "execution_count": 102,
   "id": "2314a951-b390-4b91-87c0-45456d348542",
   "metadata": {},
   "outputs": [
    {
     "data": {
      "text/plain": [
       "array([  1, 233, 442,   2,   4,  32, 211,   1,   2,   4,  32,   3,   4,\n",
       "         5])"
      ]
     },
     "execution_count": 102,
     "metadata": {},
     "output_type": "execute_result"
    }
   ],
   "source": [
    "z=np.insert(z,1,[233,442])\n",
    "z"
   ]
  },
  {
   "cell_type": "markdown",
   "id": "422fd955-193e-4f45-8e8f-b665a1c11924",
   "metadata": {},
   "source": [
    "# **Use of delete**"
   ]
  },
  {
   "cell_type": "code",
   "execution_count": 103,
   "id": "03b44e7f-ab0d-4e82-8a78-28f9be2078e3",
   "metadata": {},
   "outputs": [
    {
     "name": "stdout",
     "output_type": "stream",
     "text": [
      "[  1 233   2   4  32 211   1   2   4  32   3   4   5]\n"
     ]
    }
   ],
   "source": [
    "print(np.delete(z,2))"
   ]
  },
  {
   "cell_type": "code",
   "execution_count": 49,
   "id": "53a4b784-4254-4634-81d9-530f822a67cb",
   "metadata": {},
   "outputs": [
    {
     "data": {
      "text/plain": [
       "array([[  1,   2,   4],\n",
       "       [ 32, 211,   1],\n",
       "       [  2,   4,  32]])"
      ]
     },
     "execution_count": 49,
     "metadata": {},
     "output_type": "execute_result"
    }
   ],
   "source": [
    "b1"
   ]
  },
  {
   "cell_type": "code",
   "execution_count": 56,
   "id": "133c7d97-83fe-44e0-8c3c-7cef9145c64c",
   "metadata": {},
   "outputs": [
    {
     "name": "stdout",
     "output_type": "stream",
     "text": [
      "[[ 1  4]\n",
      " [32  1]\n",
      " [ 2 32]]\n"
     ]
    }
   ],
   "source": [
    "print(np.delete(b1,1,1)) # np.delete(array, obj, axis)"
   ]
  },
  {
   "cell_type": "code",
   "execution_count": 6,
   "id": "0ddd0021-25a6-49fb-aa30-b5a79122d0e0",
   "metadata": {},
   "outputs": [
    {
     "name": "stdout",
     "output_type": "stream",
     "text": [
      "(4, 5)\n",
      "[[ 2  1  1 32]\n",
      " [ 1 12 11 23]\n",
      " [ 1  4 13 34]\n",
      " [12 41 43 32]\n",
      " [41  4  2  5]]\n",
      "[[[ 2]\n",
      "  [ 1]]\n",
      "\n",
      " [[ 1]\n",
      "  [32]]\n",
      "\n",
      " [[ 1]\n",
      "  [12]]\n",
      "\n",
      " [[11]\n",
      "  [23]]\n",
      "\n",
      " [[ 1]\n",
      "  [ 4]]\n",
      "\n",
      " [[13]\n",
      "  [34]]\n",
      "\n",
      " [[12]\n",
      "  [41]]\n",
      "\n",
      " [[43]\n",
      "  [32]]\n",
      "\n",
      " [[41]\n",
      "  [ 4]]\n",
      "\n",
      " [[ 2]\n",
      "  [ 5]]]\n"
     ]
    }
   ],
   "source": [
    "a=np.array([[2,1,1,32,1],\n",
    "            [12,11,23,1,4],\n",
    "            [13,34,12,41,43],\n",
    "            [32,41,4,2,5]])\n",
    "print(a.shape)\n",
    "print(a.reshape(5,4))\n",
    "print(a.reshape(10,2,1))\n",
    "                "
   ]
  },
  {
   "cell_type": "code",
   "execution_count": 90,
   "id": "b3e719c2-f559-4cad-bb3d-ad4af10ff33a",
   "metadata": {},
   "outputs": [
    {
     "data": {
      "text/plain": [
       "array([[ 2,  1,  1, 32,  1],\n",
       "       [12, 11, 23,  1,  4],\n",
       "       [13, 34, 12, 41, 43],\n",
       "       [32, 41,  4,  2,  5]])"
      ]
     },
     "execution_count": 90,
     "metadata": {},
     "output_type": "execute_result"
    }
   ],
   "source": [
    "b=a\n",
    "b"
   ]
  },
  {
   "cell_type": "markdown",
   "id": "a2a0a764-fec6-46ac-8931-5f3df2e4016b",
   "metadata": {},
   "source": [
    "# **Use of ravel and flatten**"
   ]
  },
  {
   "cell_type": "code",
   "execution_count": 82,
   "id": "e5a7c22a-2dd7-48c2-a830-25c0be0f98dc",
   "metadata": {},
   "outputs": [
    {
     "name": "stdout",
     "output_type": "stream",
     "text": [
      "[ 2  1  1 32  1 12 11 23  1  4 13 34 12 41 43 32 41  4  2  5]\n",
      "[ 2  1  1 32  1 12 11 23  1  4 13 34 12 41 43 32 41  4  2  5]\n"
     ]
    }
   ],
   "source": [
    "print(a.flatten())\n",
    "print(b.ravel())"
   ]
  },
  {
   "cell_type": "code",
   "execution_count": 91,
   "id": "4237608f-0bdd-4cc7-95b7-897d60a53a4a",
   "metadata": {},
   "outputs": [
    {
     "name": "stdout",
     "output_type": "stream",
     "text": [
      "[  2   1 100  32   1  12  11  23   1   4  13  34  12  41  43  32  41   4\n",
      "   2   5]\n",
      "[[ 2  1  1 32  1]\n",
      " [12 11 23  1  4]\n",
      " [13 34 12 41 43]\n",
      " [32 41  4  2  5]]\n"
     ]
    }
   ],
   "source": [
    "# flatten doesn't change the original array value \n",
    "var1=a.flatten()\n",
    "var1[2]=100\n",
    "\n",
    "print(var1)\n",
    "print(a)# main array doesn't change\n"
   ]
  },
  {
   "cell_type": "code",
   "execution_count": 92,
   "id": "732498c7-2f11-42ec-8fd2-419dccb30f88",
   "metadata": {},
   "outputs": [
    {
     "name": "stdout",
     "output_type": "stream",
     "text": [
      "[  2   1 100  32   1  12  11  23   1   4  13  34  12  41  43  32  41   4\n",
      "   2   5]\n",
      "[[  2   1 100  32   1]\n",
      " [ 12  11  23   1   4]\n",
      " [ 13  34  12  41  43]\n",
      " [ 32  41   4   2   5]]\n"
     ]
    }
   ],
   "source": [
    "# ravel does change the original array value \n",
    "var2=b.ravel()\n",
    "var2[2]=100\n",
    "print(var2)\n",
    "print(b)#main array does change"
   ]
  },
  {
   "cell_type": "markdown",
   "id": "1b499a4f-a189-49ea-a008-2524701ca257",
   "metadata": {},
   "source": [
    "# **Transposing**"
   ]
  },
  {
   "cell_type": "code",
   "execution_count": 96,
   "id": "c3e50324-9d08-4e51-88aa-55a0b16d60ba",
   "metadata": {},
   "outputs": [
    {
     "name": "stdout",
     "output_type": "stream",
     "text": [
      "[[  2   1 100  32   1]\n",
      " [ 12  11  23   1   4]\n",
      " [ 13  34  12  41  43]\n",
      " [ 32  41   4   2   5]]\n",
      "\n",
      " [[  2  12  13  32]\n",
      " [  1  11  34  41]\n",
      " [100  23  12   4]\n",
      " [ 32   1  41   2]\n",
      " [  1   4  43   5]]\n"
     ]
    }
   ],
   "source": [
    "print(a)\n",
    "print('\\n',a.transpose())"
   ]
  },
  {
   "cell_type": "code",
   "execution_count": 107,
   "id": "8260d89f-96a9-4bfd-a08c-a30566b390e4",
   "metadata": {},
   "outputs": [
    {
     "name": "stdout",
     "output_type": "stream",
     "text": [
      "[[  2   1 100  32   1]\n",
      " [ 12  11  23   1   4]\n",
      " [ 13  34  12  41  43]\n",
      " [ 32  41   4   2   5]]\n",
      "\n",
      " [[  2  12  13  32]\n",
      " [  1  11  34  41]\n",
      " [100  23  12   4]\n",
      " [ 32   1  41   2]\n",
      " [  1   4  43   5]]\n"
     ]
    }
   ],
   "source": [
    "print(a)\n",
    "print('\\n',a.T)"
   ]
  },
  {
   "cell_type": "code",
   "execution_count": 110,
   "id": "6264700b-21df-4dcc-915d-40ca823feae1",
   "metadata": {},
   "outputs": [
    {
     "name": "stdout",
     "output_type": "stream",
     "text": [
      "[[  2   1 100  32   1]\n",
      " [ 12  11  23   1   4]\n",
      " [ 13  34  12  41  43]\n",
      " [ 32  41   4   2   5]]\n",
      "\n",
      " [[  2  12  13  32]\n",
      " [  1  11  34  41]\n",
      " [100  23  12   4]\n",
      " [ 32   1  41   2]\n",
      " [  1   4  43   5]]\n"
     ]
    }
   ],
   "source": [
    "print(a)\n",
    "print('\\n',a.swapaxes(0,1))"
   ]
  },
  {
   "cell_type": "markdown",
   "id": "4494d433-cda2-49fb-a417-a17b44fc4ac7",
   "metadata": {},
   "source": [
    "# **concatenation**"
   ]
  },
  {
   "cell_type": "code",
   "execution_count": 121,
   "id": "f7e17264-3b71-426a-872c-e8f159821457",
   "metadata": {},
   "outputs": [],
   "source": [
    "\n",
    " a1=np.array([[  2  ,12,  13,  32],\n",
    " [  1 , 11,  34,  41],\n",
    " [100  ,23 , 12,   4]])\n",
    "a2=np.array([\n",
    " [ 32  ,1  ,41,   2],\n",
    " [  1   ,4  ,43  , 5]])\n",
    "s=np.concatenate((a1,a2),axis=0)#np.vstack"
   ]
  },
  {
   "cell_type": "code",
   "execution_count": 122,
   "id": "32e5d475-c1dc-454c-8a4b-3e4934b03056",
   "metadata": {},
   "outputs": [
    {
     "data": {
      "text/plain": [
       "array([[  2,  12,  13,  32],\n",
       "       [  1,  11,  34,  41],\n",
       "       [100,  23,  12,   4],\n",
       "       [ 32,   1,  41,   2],\n",
       "       [  1,   4,  43,   5]])"
      ]
     },
     "execution_count": 122,
     "metadata": {},
     "output_type": "execute_result"
    }
   ],
   "source": [
    "s"
   ]
  },
  {
   "cell_type": "code",
   "execution_count": 123,
   "id": "f5de8c0f-77de-4bb2-8155-68803e7a224d",
   "metadata": {},
   "outputs": [
    {
     "name": "stdout",
     "output_type": "stream",
     "text": [
      "[[ 2 12 13 32 32  1 41  2]\n",
      " [ 1 11 34 41  1  4 43  5]]\n"
     ]
    }
   ],
   "source": [
    "\n",
    " a1=np.array([[  2  ,12,  13,  32],\n",
    " [  1 , 11,  34,  41],\n",
    "])\n",
    "a2=np.array([\n",
    " [ 32  ,1  ,41,   2],\n",
    " [  1   ,4  ,43  , 5]])\n",
    "print(np.concatenate((a1,a2),axis=1))#alternative: np.hstack\n"
   ]
  },
  {
   "cell_type": "markdown",
   "id": "451083f2-7cd1-4aed-bad9-11827b0d22a4",
   "metadata": {},
   "source": [
    "# **Use of stack**"
   ]
  },
  {
   "cell_type": "code",
   "execution_count": 128,
   "id": "15ecf15c-161a-46f1-bf4a-c86f31b945a2",
   "metadata": {},
   "outputs": [],
   "source": [
    "i=np.stack((a1,a2))"
   ]
  },
  {
   "cell_type": "code",
   "execution_count": 129,
   "id": "ea1b3cdf-8f22-48b6-9ff0-e86b04e29117",
   "metadata": {},
   "outputs": [
    {
     "data": {
      "text/plain": [
       "(2, 2, 4)"
      ]
     },
     "execution_count": 129,
     "metadata": {},
     "output_type": "execute_result"
    }
   ],
   "source": [
    "i.shape"
   ]
  },
  {
   "cell_type": "code",
   "execution_count": 7,
   "id": "e6b94609-e4ff-4ff3-9b58-099d137c9696",
   "metadata": {},
   "outputs": [
    {
     "data": {
      "text/plain": [
       "array([[ 2,  1,  1, 32,  1],\n",
       "       [12, 11, 23,  1,  4],\n",
       "       [13, 34, 12, 41, 43],\n",
       "       [32, 41,  4,  2,  5]])"
      ]
     },
     "execution_count": 7,
     "metadata": {},
     "output_type": "execute_result"
    }
   ],
   "source": [
    "a"
   ]
  },
  {
   "cell_type": "code",
   "execution_count": 9,
   "id": "4dab0e31-0eb7-4b48-8fe7-80b24bfb4b6f",
   "metadata": {},
   "outputs": [
    {
     "data": {
      "text/plain": [
       "[array([[ 2,  1,  1, 32,  1]]),\n",
       " array([[12, 11, 23,  1,  4]]),\n",
       " array([[13, 34, 12, 41, 43]]),\n",
       " array([[32, 41,  4,  2,  5]])]"
      ]
     },
     "execution_count": 9,
     "metadata": {},
     "output_type": "execute_result"
    }
   ],
   "source": [
    "np.split(a,4,axis=0)"
   ]
  },
  {
   "cell_type": "code",
   "execution_count": 14,
   "id": "361ebba3-45fd-499d-b515-4329b820dd3e",
   "metadata": {},
   "outputs": [
    {
     "name": "stdout",
     "output_type": "stream",
     "text": [
      "1\n",
      "15.75\n",
      "43\n",
      "15.214713273670325\n",
      "315\n",
      "11.5\n",
      "43\n"
     ]
    }
   ],
   "source": [
    "print(a.min())\n",
    "print(a.mean())\n",
    "print(a.max())\n",
    "print(a.std())\n",
    "print(a.sum())\n",
    "print(np.median(a))\n",
    "print(np.max(a))"
   ]
  },
  {
   "cell_type": "code",
   "execution_count": 26,
   "id": "dcc37fb1-a3f0-492c-9b00-be9fc97c90ac",
   "metadata": {},
   "outputs": [
    {
     "name": "stdout",
     "output_type": "stream",
     "text": [
      "46\n"
     ]
    }
   ],
   "source": [
    "print(np.random.randint(3,100))"
   ]
  },
  {
   "cell_type": "code",
   "execution_count": 29,
   "id": "ea0b62bb-f9c5-447d-ae56-8c74bc9c6c55",
   "metadata": {},
   "outputs": [
    {
     "name": "stdout",
     "output_type": "stream",
     "text": [
      "[[[1 1 1 0 1]\n",
      "  [0 0 0 0 1]]\n",
      "\n",
      " [[0 1 1 1 0]\n",
      "  [0 0 0 0 0]]\n",
      "\n",
      " [[1 0 0 1 1]\n",
      "  [1 0 0 1 0]]\n",
      "\n",
      " [[1 1 0 0 1]\n",
      "  [0 1 0 0 0]]\n",
      "\n",
      " [[1 1 1 1 1]\n",
      "  [0 1 0 1 0]]]\n"
     ]
    }
   ],
   "source": [
    "print(np.random.randint(2,size=(5,2,5)))"
   ]
  },
  {
   "cell_type": "code",
   "execution_count": 11,
   "id": "41040c06-ad7b-45a1-923d-2f2fff1ff0ea",
   "metadata": {},
   "outputs": [
    {
     "name": "stdout",
     "output_type": "stream",
     "text": [
      "[[4 6 2 4 4 5 5 7 8 4]\n",
      " [6 6 6 8 5 4 3 6 6 5]\n",
      " [8 6 5 4 3 3 7 3 2 3]\n",
      " [8 5 6 6 2 6 8 4 4 5]\n",
      " [6 3 4 4 4 8 4 7 3 6]]\n"
     ]
    }
   ],
   "source": [
    "numbers=np.random.binomial(10,p=0.5,size=(5,10))\n",
    "print(numbers)"
   ]
  },
  {
   "cell_type": "code",
   "execution_count": 14,
   "id": "137c2b12-9082-4e40-8bd8-5cd4f89c26d3",
   "metadata": {},
   "outputs": [
    {
     "name": "stdout",
     "output_type": "stream",
     "text": [
      "[[174.83612565 166.95059711 168.02881845 158.92507432 168.06514766\n",
      "  183.12933183 165.23482617 154.32987282 186.79768452 161.81872113]\n",
      " [169.42868138 144.3078812  160.94052497 191.47689457 150.48418427\n",
      "  183.02762118 172.91479141 156.27003577 166.20692559 178.81923216]\n",
      " [158.05337682 207.12932182 179.96259354 171.19096135 164.97844045\n",
      "  188.06490792 170.01277373 166.98864115 149.3910332  175.64409467]\n",
      " [151.08856139 168.50863166 166.70262529 156.54373481 152.25966203\n",
      "  151.31860436 174.59958636 174.4104355  160.82012848 195.49913163]\n",
      " [151.1966879  165.29309816 169.44452651 148.06621494 199.92662362\n",
      "  157.22254383 183.33285078 186.25226854 169.55344529 205.02010587]]\n"
     ]
    }
   ],
   "source": [
    "numbers=np.random.normal(loc=170,scale=15,size=(5,10))\n",
    "print(numbers)"
   ]
  },
  {
   "cell_type": "code",
   "execution_count": 16,
   "id": "2187c9db-ab6b-484b-8b83-58dcd0ebe518",
   "metadata": {},
   "outputs": [
    {
     "name": "stdout",
     "output_type": "stream",
     "text": [
      "[[30 40 20 40 40 10 10 40 30 10]\n",
      " [40 30 40 30 40 40 50 20 30 20]\n",
      " [30 30 20 30 10 30 30 20 10 10]\n",
      " [10 10 30 50 20 50 50 10 20 40]\n",
      " [30 30 50 40 10 20 30 30 20 20]]\n"
     ]
    }
   ],
   "source": [
    "numbers=np.random.choice([10,20,30,40,50],size=(5,10))\n",
    "print(numbers)"
   ]
  },
  {
   "cell_type": "markdown",
   "id": "4d40c1f2-af29-4a97-8fd0-00db9237e0c6",
   "metadata": {},
   "source": [
    "# **Exporting and importing numpy arrays**"
   ]
  },
  {
   "cell_type": "markdown",
   "id": "f443bff9-373d-4c08-b4c2-cbf3c79de3ed",
   "metadata": {},
   "source": [
    "**npy file**"
   ]
  },
  {
   "cell_type": "code",
   "execution_count": 19,
   "id": "5dc6a390-3b96-40ce-85b9-816ae95bd45a",
   "metadata": {},
   "outputs": [],
   "source": [
    "a=np.array([[1,2,4,5,6],\n",
    "           [1,32,1,1,3],\n",
    "           [43,1,132,1,3]])\n",
    "np.save(\"myarray.npy\",a)\n"
   ]
  },
  {
   "cell_type": "code",
   "execution_count": 20,
   "id": "133cdc83-805d-4fdb-b7b7-0ff35c015352",
   "metadata": {},
   "outputs": [
    {
     "name": "stdout",
     "output_type": "stream",
     "text": [
      "[[  1   2   4   5   6]\n",
      " [  1  32   1   1   3]\n",
      " [ 43   1 132   1   3]]\n"
     ]
    }
   ],
   "source": [
    "k=np.load(\"myarray.npy\")\n",
    "print(k)"
   ]
  },
  {
   "cell_type": "markdown",
   "id": "12ce3f3e-ec20-450c-88a2-47f23d686871",
   "metadata": {},
   "source": [
    "**csv file**"
   ]
  },
  {
   "cell_type": "code",
   "execution_count": 23,
   "id": "d88c72ff-0da5-4a6f-945f-860578a47f86",
   "metadata": {},
   "outputs": [],
   "source": [
    "np.savetxt('myarray.csv',a,delimiter=',')"
   ]
  },
  {
   "cell_type": "code",
   "execution_count": 28,
   "id": "840f0c71-de4d-4cb0-9594-ddc955d15653",
   "metadata": {},
   "outputs": [
    {
     "name": "stdout",
     "output_type": "stream",
     "text": [
      "[[  1.   2.   4.   5.   6.]\n",
      " [  1.  32.   1.   1.   3.]\n",
      " [ 43.   1. 132.   1.   3.]]\n"
     ]
    }
   ],
   "source": [
    "f=np.loadtxt('myarray.csv',delimiter=',')\n",
    "print(f)"
   ]
  },
  {
   "cell_type": "code",
   "execution_count": 2,
   "id": "5426ed0d-c283-43db-9eb1-5752a79f887a",
   "metadata": {},
   "outputs": [
    {
     "name": "stdout",
     "output_type": "stream",
     "text": [
      "[]\n"
     ]
    }
   ],
   "source": [
    "a=[1,2,3]\n",
    "print(a[13:])"
   ]
  },
  {
   "cell_type": "code",
   "execution_count": 5,
   "id": "2c35aa6c-1e1e-4a3f-8b17-a80b655be5e3",
   "metadata": {},
   "outputs": [
    {
     "name": "stdout",
     "output_type": "stream",
     "text": [
      "True\n",
      "True\n"
     ]
    }
   ],
   "source": [
    "a=255\n",
    "b=255\n",
    "print(a is b)\n",
    "a=3\n",
    "b=3\n",
    "print(a is b)"
   ]
  },
  {
   "cell_type": "code",
   "execution_count": 11,
   "id": "74860d16-31c6-43bf-aa7b-27740bb25f8d",
   "metadata": {},
   "outputs": [],
   "source": [
    "def weird_function(x=[]):\n",
    "    x.append(1)\n",
    "    return x\n",
    "\n"
   ]
  },
  {
   "cell_type": "code",
   "execution_count": 12,
   "id": "89ee5ef6-c8c2-465f-ba07-cd0fafca5ec7",
   "metadata": {},
   "outputs": [
    {
     "name": "stdout",
     "output_type": "stream",
     "text": [
      "[1]\n",
      "[1, 1]\n",
      "[1, 1, 1]\n"
     ]
    }
   ],
   "source": [
    "print(weird_function())\n",
    "print(weird_function())\n",
    "print(weird_function())"
   ]
  },
  {
   "cell_type": "code",
   "execution_count": 25,
   "id": "eda3f9a2-39e0-4a99-bbd2-a316dc52bdf1",
   "metadata": {},
   "outputs": [],
   "source": [
    "a=[1,2,3]\n",
    "b=a\n",
    "b.append(4)"
   ]
  },
  {
   "cell_type": "code",
   "execution_count": 20,
   "id": "b36d33c3-b2ec-4f0e-90e3-d0d8258fd36d",
   "metadata": {},
   "outputs": [
    {
     "name": "stdout",
     "output_type": "stream",
     "text": [
      "None\n"
     ]
    }
   ],
   "source": [
    "print(b)"
   ]
  },
  {
   "cell_type": "code",
   "execution_count": null,
   "id": "7252c79e-58f6-4280-931d-7f254c10024b",
   "metadata": {},
   "outputs": [],
   "source": []
  }
 ],
 "metadata": {
  "kernelspec": {
   "display_name": "Python 3 (ipykernel)",
   "language": "python",
   "name": "python3"
  },
  "language_info": {
   "codemirror_mode": {
    "name": "ipython",
    "version": 3
   },
   "file_extension": ".py",
   "mimetype": "text/x-python",
   "name": "python",
   "nbconvert_exporter": "python",
   "pygments_lexer": "ipython3",
   "version": "3.12.7"
  }
 },
 "nbformat": 4,
 "nbformat_minor": 5
}
