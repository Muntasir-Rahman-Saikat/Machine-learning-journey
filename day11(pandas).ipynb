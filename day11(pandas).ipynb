{
 "cells": [
  {
   "cell_type": "markdown",
   "id": "0790eac3-d028-4128-bb6e-e7ee1bcd6eb6",
   "metadata": {},
   "source": [
    "# **use of DataFrame.loc**"
   ]
  },
  {
   "cell_type": "code",
   "execution_count": 5,
   "id": "1328ffb4-2485-488f-ab4a-6160a010013f",
   "metadata": {},
   "outputs": [
    {
     "name": "stdout",
     "output_type": "stream",
     "text": [
      "student record\n",
      "\n",
      "   student  rank  marks\n",
      "0    amit     1     95\n",
      "1    john     2     70\n",
      "2   jacob     3     80\n",
      "3   david     4     60\n",
      "4   steve     5     90\n",
      "Student Records\n",
      "\n",
      "      student  rank  marks\n",
      "rowA    amit     1     95\n",
      "RowB    john     2     70\n",
      "RowC   jacob     3     80\n",
      "RowD   david     4     60\n",
      "RowE   steve     5     90\n",
      "value=\n",
      "\n",
      " student    amit\n",
      "rank          1\n",
      "marks        95\n",
      "Name: rowA, dtype: object\n"
     ]
    }
   ],
   "source": [
    "import pandas as pd\n",
    "data={\n",
    "    'student':[\"amit\",\"john\",\"jacob\",\"david\",\"steve\"],\n",
    "\n",
    "    'rank' :[1,2,3,4,5],\n",
    "    'marks':[95,70,80,60,90]\n",
    "}\n",
    "df=pd.DataFrame(data)\n",
    "\n",
    "print('student record\\n\\n',df)\n",
    "df=pd.DataFrame(data,index=['rowA','RowB','RowC','RowD','RowE'])\n",
    "print('Student Records\\n\\n',df)\n",
    "\n",
    "#access the value in the student column corresponding to the RowA label\n",
    "print('value=\\n\\n',df.loc['rowA'])\n"
   ]
  },
  {
   "cell_type": "code",
   "execution_count": 6,
   "id": "d5930589-7d1d-4009-822c-4598c5e108a1",
   "metadata": {},
   "outputs": [
    {
     "name": "stdout",
     "output_type": "stream",
     "text": [
      "student record\n",
      "\n",
      "   student  rank  marks\n",
      "0    amit     1     95\n",
      "1    john     2     70\n",
      "2   jacob     3     80\n",
      "3   david     4     60\n",
      "4   steve     5     90\n",
      "         rank  marks\n",
      "student             \n",
      "amit        1     95\n",
      "john        2     70\n",
      "jacob       3     80\n",
      "david       4     60\n",
      "steve       5     90\n"
     ]
    }
   ],
   "source": [
    "import pandas as pd\n",
    "data={\n",
    "    'student':[\"amit\",\"john\",\"jacob\",\"david\",\"steve\"],\n",
    "\n",
    "    'rank' :[1,2,3,4,5],\n",
    "    'marks':[95,70,80,60,90]\n",
    "}\n",
    "df=pd.DataFrame(data)\n",
    "\n",
    "print('student record\\n\\n',df)\n",
    "df=df.set_index('student')#setting the indexes as student\n",
    "print(df)"
   ]
  },
  {
   "cell_type": "markdown",
   "id": "59449d24-5a9b-4606-8965-89eba8c03386",
   "metadata": {},
   "source": [
    "# **Converting data frame to csv file** "
   ]
  },
  {
   "cell_type": "code",
   "execution_count": 7,
   "id": "c6652b66-6319-4865-9459-506a73a07207",
   "metadata": {},
   "outputs": [
    {
     "name": "stdout",
     "output_type": "stream",
     "text": [
      "         rank  marks\n",
      "student             \n",
      "amit        1     95\n",
      "john        2     70\n",
      "jacob       3     80\n",
      "david       4     60\n",
      "steve       5     90\n"
     ]
    }
   ],
   "source": [
    "import pandas as pd\n",
    "data={\n",
    "    'student':[\"amit\",\"john\",\"jacob\",\"david\",\"steve\"],\n",
    "\n",
    "    'rank' :[1,2,3,4,5],\n",
    "    'marks':[95,70,80,60,90]\n",
    "}\n",
    "df=pd.DataFrame(data)\n",
    "\n",
    "df.to_csv('mydata.csv',index=None)#index=None given so that no index appears at the csv file\n",
    "\n",
    "print(pd.read_csv('mydata.csv',index_col=0))#taking the 0'th column of csv file as the index "
   ]
  },
  {
   "cell_type": "markdown",
   "id": "62411593-11a1-4ecf-a9f5-29f7c0a7308b",
   "metadata": {},
   "source": [
    "# **use of DataFrame.iloc**"
   ]
  },
  {
   "cell_type": "code",
   "execution_count": 8,
   "id": "1eb269c4-a705-4124-9994-0190fa926211",
   "metadata": {},
   "outputs": [
    {
     "name": "stdout",
     "output_type": "stream",
     "text": [
      "  student  rank  marks\n",
      "0    amit     1     95\n",
      "1    john     2     70\n",
      "2   jacob     3     80\n",
      "3   david     4     60\n",
      "4   steve     5     90\n",
      "\n",
      "replacing the index numbers with row names:\n",
      "\n",
      "      student  rank  marks\n",
      "rowA    amit     1     95\n",
      "RowB    john     2     70\n",
      "RowC   jacob     3     80\n",
      "RowD   david     4     60\n",
      "RowE   steve     5     90\n",
      "\n",
      " taking multiple rows=\n",
      "\n",
      "      student  rank  marks\n",
      "rowA    amit     1     95\n",
      "RowB    john     2     70\n",
      "RowC   jacob     3     80\n"
     ]
    }
   ],
   "source": [
    "import pandas as pd\n",
    "data={\n",
    "    'student':[\"amit\",\"john\",\"jacob\",\"david\",\"steve\"],\n",
    "\n",
    "    'rank' :[1,2,3,4,5],\n",
    "    'marks':[95,70,80,60,90]\n",
    "}\n",
    "df=pd.DataFrame(data)\n",
    "\n",
    "print(df)\n",
    "df=pd.DataFrame(data,index=['rowA','RowB','RowC','RowD','RowE'])\n",
    "print('\\nreplacing the index numbers with row names:\\n\\n',df)\n",
    "\n",
    "\n",
    "print('\\n taking multiple rows=\\n\\n',df.iloc[[0,1,2]])# here double [] is used to acces multiple group of rows and columns "
   ]
  },
  {
   "cell_type": "code",
   "execution_count": 9,
   "id": "f7b2dde0-7f5e-4ac1-9cfa-0563faf93156",
   "metadata": {},
   "outputs": [
    {
     "name": "stdout",
     "output_type": "stream",
     "text": [
      "  student  rank  marks\n",
      "0    amit     1     95\n",
      "1    john     2     70\n",
      "2   jacob     3     80\n",
      "3   david     4     60\n",
      "4   steve     5     90\n",
      "\n",
      "replacing the index numbers with row names:\n",
      "\n",
      "      student  rank  marks\n",
      "rowA    amit     1     95\n",
      "RowB    john     2     70\n",
      "RowC   jacob     3     80\n",
      "RowD   david     4     60\n",
      "RowE   steve     5     90\n",
      "\n",
      " taking multiple rows=\n",
      "\n",
      "      student  rank  marks\n",
      "rowA    amit     1     95\n",
      "RowC   jacob     3     80\n",
      "student\n",
      "rank\n",
      "marks\n"
     ]
    }
   ],
   "source": [
    "import pandas as pd\n",
    "data={\n",
    "    'student':[\"amit\",\"john\",\"jacob\",\"david\",\"steve\"],\n",
    "\n",
    "    'rank' :[1,2,3,4,5],\n",
    "    'marks':[95,70,80,60,90]\n",
    "}\n",
    "df=pd.DataFrame(data)\n",
    "\n",
    "print(df)\n",
    "df=pd.DataFrame(data,index=['rowA','RowB','RowC','RowD','RowE'])\n",
    "print('\\nreplacing the index numbers with row names:\\n\\n',df)\n",
    "\n",
    "\n",
    "print('\\n taking multiple rows=\\n\\n',df.iloc[[0,2]])# here double [] is used to acces multiple group of rows and columns \n",
    "for col in df:\n",
    "    print(col)"
   ]
  },
  {
   "cell_type": "markdown",
   "id": "87aa3739-ebac-4035-b158-0aa1b090343b",
   "metadata": {},
   "source": [
    "# **Use of DataFrame attributes**"
   ]
  },
  {
   "cell_type": "code",
   "execution_count": 10,
   "id": "5f464d28-81fb-4241-b860-2130a6ae2ce9",
   "metadata": {},
   "outputs": [
    {
     "name": "stdout",
     "output_type": "stream",
     "text": [
      "  student  rank  marks\n",
      "0    amit     1     95\n",
      "1    john     2     70\n",
      "2   jacob     3     80\n",
      "3   david     4     60\n",
      "4   steve     5     90\n",
      "\n",
      "replacing the index numbers with row names:\n",
      "\n",
      "      student  rank  marks\n",
      "rowA    amit     1     95\n",
      "RowB    john     2     70\n",
      "RowC   jacob     3     80\n",
      "RowD   david     4     60\n",
      "RowE   steve     5     90\n",
      "\n",
      " taking multiple rows=\n",
      "\n",
      "      student  rank  marks\n",
      "rowA    amit     1     95\n",
      "RowC   jacob     3     80\n",
      "student    object\n",
      "rank        int64\n",
      "marks       int64\n",
      "dtype: object\n",
      "2\n",
      "15\n",
      "(5, 3)\n",
      "Index(['rowA', 'RowB', 'RowC', 'RowD', 'RowE'], dtype='object')\n",
      "         rowA  RowB   RowC   RowD   RowE\n",
      "student  amit  john  jacob  david  steve\n",
      "rank        1     2      3      4      5\n",
      "marks      95    70     80     60     90\n",
      "     student  rank  marks\n",
      "rowA    amit     1     95\n",
      "RowB    john     2     70\n",
      "RowC   jacob     3     80\n",
      "RowD   david     4     60\n",
      "RowE   steve     5     90\n",
      "     student  rank  marks\n",
      "RowD   david     4     60\n",
      "RowE   steve     5     90\n"
     ]
    }
   ],
   "source": [
    "import pandas as pd\n",
    "data={\n",
    "    'student':[\"amit\",\"john\",\"jacob\",\"david\",\"steve\"],\n",
    "\n",
    "    'rank' :[1,2,3,4,5],\n",
    "    'marks':[95,70,80,60,90]\n",
    "}\n",
    "df=pd.DataFrame(data)\n",
    "\n",
    "print(df)\n",
    "df=pd.DataFrame(data,index=['rowA','RowB','RowC','RowD','RowE'])\n",
    "print('\\nreplacing the index numbers with row names:\\n\\n',df)\n",
    "\n",
    "\n",
    "print('\\n taking multiple rows=\\n\\n',df.iloc[[0,2]])# here double [] is used to acces multiple group of rows and columns \n",
    "print(df.dtypes)\n",
    "print(df.ndim)#checking dimension of ndim\n",
    "print(df.size)#size basically means the value except the keys and the indexes\n",
    "print(df.shape)\n",
    "print(df.index)\n",
    "print(df.T)#transpose\n",
    "print(df.head(10))# this one is used to return first n rows\n",
    "print(df.tail(2))#this one is used to return last n rows \n"
   ]
  },
  {
   "cell_type": "markdown",
   "id": "0edfe011-9d1e-4f28-b042-8000ae78c57a",
   "metadata": {},
   "source": [
    "# **Merging two dataframes**"
   ]
  },
  {
   "cell_type": "code",
   "execution_count": 11,
   "id": "50576850-93ef-46af-a842-dd9ebb7b5f7c",
   "metadata": {},
   "outputs": [
    {
     "name": "stdout",
     "output_type": "stream",
     "text": [
      "    Id   student     roll\n",
      "0  s01  muntasir  1902078\n",
      "1  s02    saikat  1902077\n",
      "2  s03    Tanvir  1901001\n",
      "3  s04     sakib  1901006\n",
      "4  s05     maruf  1902080\n",
      "\n",
      "    rank  makrs\n",
      "0     1     23\n",
      "1     2     43\n",
      "2     4    124\n",
      "3     5     51\n",
      "4     3    111\n",
      "\n",
      "     Id   student     roll  rank  makrs\n",
      "0  s01  muntasir  1902078     1     23\n",
      "1  s02    saikat  1902077     2     43\n",
      "2  s03    Tanvir  1901001     4    124\n",
      "3  s04     sakib  1901006     5     51\n",
      "4  s05     maruf  1902080     3    111\n"
     ]
    }
   ],
   "source": [
    "import pandas as pd\n",
    "data1={\n",
    "    'Id':['s01','s02','s03','s04','s05'],\n",
    "    'student':['muntasir','saikat','Tanvir','sakib','maruf'],\n",
    "    'roll':[1902078,1902077,1901001,1901006,1902080]\n",
    "}\n",
    "data2={\n",
    "    'rank':[1,2,4,5,3],\n",
    "    'makrs':[23,43,124,51,111]\n",
    "}\n",
    "dataframe1=pd.DataFrame(data1)\n",
    "print(dataframe1)\n",
    "dataframe2=pd.DataFrame(data2)\n",
    "print('\\n',dataframe2)\n",
    "merge=dataframe1.join(dataframe2)\n",
    "print('\\n',merge)"
   ]
  },
  {
   "cell_type": "markdown",
   "id": "5bf144f5-4a34-4281-96c1-5f24612dac88",
   "metadata": {},
   "source": [
    "# **Merging can also be done using concat()**"
   ]
  },
  {
   "cell_type": "code",
   "execution_count": 202,
   "id": "cbdaabdd-2a5d-4be3-8697-06bc83d68f0d",
   "metadata": {},
   "outputs": [
    {
     "name": "stdout",
     "output_type": "stream",
     "text": [
      "    Id   student     roll\n",
      "0  s01  muntasir  1902078\n",
      "1  s02    saikat  1902077\n",
      "2  s03    Tanvir  1901001\n",
      "3  s04     sakib  1901006\n",
      "4  s05     maruf  1902080\n",
      "\n",
      "    rank  makrs\n",
      "0     1     23\n",
      "1     2     43\n",
      "2     4    124\n",
      "3     5     51\n",
      "4     3    111\n",
      "\n",
      "     Id   student     roll  rank  makrs\n",
      "0  s01  muntasir  1902078     1     23\n",
      "1  s02    saikat  1902077     2     43\n",
      "2  s03    Tanvir  1901001     4    124\n",
      "3  s04     sakib  1901006     5     51\n",
      "4  s05     maruf  1902080     3    111\n"
     ]
    }
   ],
   "source": [
    "import pandas as pd\n",
    "data1={\n",
    "    'Id':['s01','s02','s03','s04','s05'],\n",
    "    'student':['muntasir','saikat','Tanvir','sakib','maruf'],\n",
    "    'roll':[1902078,1902077,1901001,1901006,1902080]\n",
    "}\n",
    "data2={\n",
    "    'rank':[1,2,4,5,3],\n",
    "    'makrs':[23,43,124,51,111]\n",
    "}\n",
    "dataframe1=pd.DataFrame(data1)\n",
    "print(dataframe1)\n",
    "dataframe2=pd.DataFrame(data2)\n",
    "print('\\n',dataframe2)\n",
    "merge=pd.concat([dataframe1,dataframe2],axis=1)\n",
    "print('\\n',merge)"
   ]
  },
  {
   "cell_type": "markdown",
   "id": "97bda645-6cc0-492e-9049-d32e65794de5",
   "metadata": {},
   "source": [
    "# **During merging suppose dimensions are not same**"
   ]
  },
  {
   "cell_type": "code",
   "execution_count": 219,
   "id": "f581f172-dc38-4336-8b30-a3fd44d76827",
   "metadata": {},
   "outputs": [
    {
     "data": {
      "text/html": [
       "<div>\n",
       "<style scoped>\n",
       "    .dataframe tbody tr th:only-of-type {\n",
       "        vertical-align: middle;\n",
       "    }\n",
       "\n",
       "    .dataframe tbody tr th {\n",
       "        vertical-align: top;\n",
       "    }\n",
       "\n",
       "    .dataframe thead th {\n",
       "        text-align: right;\n",
       "    }\n",
       "</style>\n",
       "<table border=\"1\" class=\"dataframe\">\n",
       "  <thead>\n",
       "    <tr style=\"text-align: right;\">\n",
       "      <th></th>\n",
       "      <th>item</th>\n",
       "      <th>country</th>\n",
       "      <th>Code</th>\n",
       "    </tr>\n",
       "  </thead>\n",
       "  <tbody>\n",
       "    <tr>\n",
       "      <th>0</th>\n",
       "      <td>A</td>\n",
       "      <td>Bangladesh</td>\n",
       "      <td>NaN</td>\n",
       "    </tr>\n",
       "    <tr>\n",
       "      <th>1</th>\n",
       "      <td>B</td>\n",
       "      <td>Singapore</td>\n",
       "      <td>12.0</td>\n",
       "    </tr>\n",
       "    <tr>\n",
       "      <th>2</th>\n",
       "      <td>C</td>\n",
       "      <td>Vietnam</td>\n",
       "      <td>35.0</td>\n",
       "    </tr>\n",
       "    <tr>\n",
       "      <th>3</th>\n",
       "      <td>D</td>\n",
       "      <td>NaN</td>\n",
       "      <td>4.0</td>\n",
       "    </tr>\n",
       "  </tbody>\n",
       "</table>\n",
       "</div>"
      ],
      "text/plain": [
       "  item     country  Code\n",
       "0    A  Bangladesh   NaN\n",
       "1    B   Singapore  12.0\n",
       "2    C     Vietnam  35.0\n",
       "3    D         NaN   4.0"
      ]
     },
     "execution_count": 219,
     "metadata": {},
     "output_type": "execute_result"
    }
   ],
   "source": [
    "import pandas as pd\n",
    "df1=pd.DataFrame({\n",
    "        'item':['A','B','C'],\n",
    "        'country':['Bangladesh','Singapore','Vietnam']\n",
    "    })\n",
    "df2=pd.DataFrame({\n",
    "        'item':['B','C','D'],\n",
    "        'Code':[12,35,4]\n",
    "    })\n",
    "\n",
    "pd.merge(df1,df2,how='outer') \n",
    "    "
   ]
  },
  {
   "cell_type": "markdown",
   "id": "3b8443c5-ff73-4b1d-a03b-9034c74428ba",
   "metadata": {},
   "source": [
    "# **Concatenation of two dataframes**"
   ]
  },
  {
   "cell_type": "code",
   "execution_count": 199,
   "id": "412a1c59-ca2c-47fc-9fb1-c414d4ebb5f1",
   "metadata": {
    "scrolled": true
   },
   "outputs": [
    {
     "name": "stdout",
     "output_type": "stream",
     "text": [
      "       name        dept       Id\n",
      "0  muntasir         EEE  1902078\n",
      "1    saikat         EEE  1902077\n",
      "2    Tanvir       CIVIL  1901006\n",
      "3     sakib       CIVIL  1901001\n",
      "4    Towhid  MECHANICAL  1903004\n",
      "\n",
      "       name dept       Id\n",
      "0    Maruf  EEE  1902080\n",
      "1    Tuhin  URP  1912077\n",
      "2     Taki  EEE  1904006\n",
      "3  shafiul  CSE  1904001\n",
      "4    kanak  BME  1907004\n",
      "\n",
      "        name        dept       Id\n",
      "0  muntasir         EEE  1902078\n",
      "1    saikat         EEE  1902077\n",
      "2    Tanvir       CIVIL  1901006\n",
      "3     sakib       CIVIL  1901001\n",
      "4    Towhid  MECHANICAL  1903004\n",
      "0     Maruf         EEE  1902080\n",
      "1     Tuhin         URP  1912077\n",
      "2      Taki         EEE  1904006\n",
      "3   shafiul         CSE  1904001\n",
      "4     kanak         BME  1907004\n",
      "dimension= 2\n"
     ]
    }
   ],
   "source": [
    "import pandas as pd\n",
    "data1={\n",
    "    'name':['muntasir','saikat','Tanvir','sakib','Towhid'],\n",
    "    'dept':['EEE','EEE','CIVIL','CIVIL','MECHANICAL'],\n",
    "    'Id':[1902078,1902077,1901006,1901001,1903004]\n",
    "}\n",
    "dataframe1=pd.DataFrame(data1)\n",
    "print(dataframe1)\n",
    "data2={\n",
    "    'name':['Maruf','Tuhin','Taki','shafiul','kanak'],\n",
    "    'dept':['EEE','URP','EEE','CSE','BME'],\n",
    "    'Id':[1902080,1912077,1904006,1904001,1907004]\n",
    "}\n",
    "\n",
    "dataframe2=pd.DataFrame(data2)\n",
    "print('\\n',dataframe2)\n",
    "print('\\n',pd.concat([dataframe1,dataframe2]))\n",
    "print('dimension=',dataframe2.ndim)\n"
   ]
  },
  {
   "cell_type": "code",
   "execution_count": 13,
   "id": "d163aec0-5607-4bad-b593-8ef1a6a0398a",
   "metadata": {},
   "outputs": [
    {
     "ename": "TypeError",
     "evalue": "cannot concatenate object of type '<class 'dict'>'; only Series and DataFrame objs are valid",
     "output_type": "error",
     "traceback": [
      "\u001b[31m---------------------------------------------------------------------------\u001b[39m",
      "\u001b[31mTypeError\u001b[39m                                 Traceback (most recent call last)",
      "\u001b[36mCell\u001b[39m\u001b[36m \u001b[39m\u001b[32mIn[13]\u001b[39m\u001b[32m, line 1\u001b[39m\n\u001b[32m----> \u001b[39m\u001b[32m1\u001b[39m \u001b[38;5;28mprint\u001b[39m(\u001b[43mpd\u001b[49m\u001b[43m.\u001b[49m\u001b[43mconcat\u001b[49m\u001b[43m(\u001b[49m\u001b[43m[\u001b[49m\u001b[43mdataframe1\u001b[49m\u001b[43m,\u001b[49m\u001b[43mdata\u001b[49m\u001b[43m]\u001b[49m\u001b[43m)\u001b[49m)\u001b[38;5;66;03m#cannot concatinate of different keys .has to be of same keys\u001b[39;00m\n",
      "\u001b[36mFile \u001b[39m\u001b[32mF:\\anaconda_running_folder\\Lib\\site-packages\\pandas\\core\\reshape\\concat.py:382\u001b[39m, in \u001b[36mconcat\u001b[39m\u001b[34m(objs, axis, join, ignore_index, keys, levels, names, verify_integrity, sort, copy)\u001b[39m\n\u001b[32m    379\u001b[39m \u001b[38;5;28;01melif\u001b[39;00m copy \u001b[38;5;129;01mand\u001b[39;00m using_copy_on_write():\n\u001b[32m    380\u001b[39m     copy = \u001b[38;5;28;01mFalse\u001b[39;00m\n\u001b[32m--> \u001b[39m\u001b[32m382\u001b[39m op = \u001b[43m_Concatenator\u001b[49m\u001b[43m(\u001b[49m\n\u001b[32m    383\u001b[39m \u001b[43m    \u001b[49m\u001b[43mobjs\u001b[49m\u001b[43m,\u001b[49m\n\u001b[32m    384\u001b[39m \u001b[43m    \u001b[49m\u001b[43maxis\u001b[49m\u001b[43m=\u001b[49m\u001b[43maxis\u001b[49m\u001b[43m,\u001b[49m\n\u001b[32m    385\u001b[39m \u001b[43m    \u001b[49m\u001b[43mignore_index\u001b[49m\u001b[43m=\u001b[49m\u001b[43mignore_index\u001b[49m\u001b[43m,\u001b[49m\n\u001b[32m    386\u001b[39m \u001b[43m    \u001b[49m\u001b[43mjoin\u001b[49m\u001b[43m=\u001b[49m\u001b[43mjoin\u001b[49m\u001b[43m,\u001b[49m\n\u001b[32m    387\u001b[39m \u001b[43m    \u001b[49m\u001b[43mkeys\u001b[49m\u001b[43m=\u001b[49m\u001b[43mkeys\u001b[49m\u001b[43m,\u001b[49m\n\u001b[32m    388\u001b[39m \u001b[43m    \u001b[49m\u001b[43mlevels\u001b[49m\u001b[43m=\u001b[49m\u001b[43mlevels\u001b[49m\u001b[43m,\u001b[49m\n\u001b[32m    389\u001b[39m \u001b[43m    \u001b[49m\u001b[43mnames\u001b[49m\u001b[43m=\u001b[49m\u001b[43mnames\u001b[49m\u001b[43m,\u001b[49m\n\u001b[32m    390\u001b[39m \u001b[43m    \u001b[49m\u001b[43mverify_integrity\u001b[49m\u001b[43m=\u001b[49m\u001b[43mverify_integrity\u001b[49m\u001b[43m,\u001b[49m\n\u001b[32m    391\u001b[39m \u001b[43m    \u001b[49m\u001b[43mcopy\u001b[49m\u001b[43m=\u001b[49m\u001b[43mcopy\u001b[49m\u001b[43m,\u001b[49m\n\u001b[32m    392\u001b[39m \u001b[43m    \u001b[49m\u001b[43msort\u001b[49m\u001b[43m=\u001b[49m\u001b[43msort\u001b[49m\u001b[43m,\u001b[49m\n\u001b[32m    393\u001b[39m \u001b[43m\u001b[49m\u001b[43m)\u001b[49m\n\u001b[32m    395\u001b[39m \u001b[38;5;28;01mreturn\u001b[39;00m op.get_result()\n",
      "\u001b[36mFile \u001b[39m\u001b[32mF:\\anaconda_running_folder\\Lib\\site-packages\\pandas\\core\\reshape\\concat.py:448\u001b[39m, in \u001b[36m_Concatenator.__init__\u001b[39m\u001b[34m(self, objs, axis, join, keys, levels, names, ignore_index, verify_integrity, copy, sort)\u001b[39m\n\u001b[32m    445\u001b[39m objs, keys = \u001b[38;5;28mself\u001b[39m._clean_keys_and_objs(objs, keys)\n\u001b[32m    447\u001b[39m \u001b[38;5;66;03m# figure out what our result ndim is going to be\u001b[39;00m\n\u001b[32m--> \u001b[39m\u001b[32m448\u001b[39m ndims = \u001b[38;5;28;43mself\u001b[39;49m\u001b[43m.\u001b[49m\u001b[43m_get_ndims\u001b[49m\u001b[43m(\u001b[49m\u001b[43mobjs\u001b[49m\u001b[43m)\u001b[49m\n\u001b[32m    449\u001b[39m sample, objs = \u001b[38;5;28mself\u001b[39m._get_sample_object(objs, ndims, keys, names, levels)\n\u001b[32m    451\u001b[39m \u001b[38;5;66;03m# Standardize axis parameter to int\u001b[39;00m\n",
      "\u001b[36mFile \u001b[39m\u001b[32mF:\\anaconda_running_folder\\Lib\\site-packages\\pandas\\core\\reshape\\concat.py:489\u001b[39m, in \u001b[36m_Concatenator._get_ndims\u001b[39m\u001b[34m(self, objs)\u001b[39m\n\u001b[32m    484\u001b[39m     \u001b[38;5;28;01mif\u001b[39;00m \u001b[38;5;129;01mnot\u001b[39;00m \u001b[38;5;28misinstance\u001b[39m(obj, (ABCSeries, ABCDataFrame)):\n\u001b[32m    485\u001b[39m         msg = (\n\u001b[32m    486\u001b[39m             \u001b[33mf\u001b[39m\u001b[33m\"\u001b[39m\u001b[33mcannot concatenate object of type \u001b[39m\u001b[33m'\u001b[39m\u001b[38;5;132;01m{\u001b[39;00m\u001b[38;5;28mtype\u001b[39m(obj)\u001b[38;5;132;01m}\u001b[39;00m\u001b[33m'\u001b[39m\u001b[33m; \u001b[39m\u001b[33m\"\u001b[39m\n\u001b[32m    487\u001b[39m             \u001b[33m\"\u001b[39m\u001b[33monly Series and DataFrame objs are valid\u001b[39m\u001b[33m\"\u001b[39m\n\u001b[32m    488\u001b[39m         )\n\u001b[32m--> \u001b[39m\u001b[32m489\u001b[39m         \u001b[38;5;28;01mraise\u001b[39;00m \u001b[38;5;167;01mTypeError\u001b[39;00m(msg)\n\u001b[32m    491\u001b[39m     ndims.add(obj.ndim)\n\u001b[32m    492\u001b[39m \u001b[38;5;28;01mreturn\u001b[39;00m ndims\n",
      "\u001b[31mTypeError\u001b[39m: cannot concatenate object of type '<class 'dict'>'; only Series and DataFrame objs are valid"
     ]
    }
   ],
   "source": [
    "print(pd.concat([dataframe1,data]))#cannot concatinate of different keys .has to be of same keys"
   ]
  },
  {
   "cell_type": "markdown",
   "id": "8fda1b14-3f8a-4686-b39b-fb3eaa0ae6d4",
   "metadata": {},
   "source": [
    "# **Pandas Series**"
   ]
  },
  {
   "cell_type": "code",
   "execution_count": 14,
   "id": "b7443a1c-45e9-49ca-af75-67aa3d04a535",
   "metadata": {},
   "outputs": [
    {
     "name": "stdout",
     "output_type": "stream",
     "text": [
      "0      1\n",
      "1      4\n",
      "2      1\n",
      "3    423\n",
      "4     42\n",
      "dtype: int64\n",
      "\n",
      " value from a Pandas Series 423\n",
      "\n",
      " row1      1\n",
      "row2      4\n",
      "row3      1\n",
      "row4    423\n",
      "row5     42\n",
      "dtype: int64\n",
      "1\n",
      "dimension= 1\n"
     ]
    }
   ],
   "source": [
    "#creating a pandas series\n",
    "mydata=[1,4,1,423,42]\n",
    "s=pd.Series(mydata)\n",
    "print(s)\n",
    "#Accesing values from pandas\n",
    "print('\\n value from a Pandas Series',s[3])\n",
    "#naming indexes in pandas series\n",
    "i=pd.Series(mydata,index=['row1','row2','row3','row4','row5'])\n",
    "print('\\n',i)\n",
    "print(i['row3'])#accessing the values by referring the label('row3')\n",
    "print('dimension=',i.ndim)\n"
   ]
  },
  {
   "cell_type": "code",
   "execution_count": 15,
   "id": "56bff47b-e092-459c-9b3f-60c4645bd33c",
   "metadata": {},
   "outputs": [
    {
     "name": "stdout",
     "output_type": "stream",
     "text": [
      "0      1\n",
      "1      4\n",
      "2      1\n",
      "3    423\n",
      "4     42\n",
      "Name: My number series, dtype: int64\n",
      "My number series\n"
     ]
    }
   ],
   "source": [
    "mydata2=[1,4,1,423,42]\n",
    "f=pd.Series(mydata2,name='My number series')\n",
    "print(f)\n",
    "print(f.name)#displayed again"
   ]
  },
  {
   "cell_type": "code",
   "execution_count": 16,
   "id": "21401c1f-b17f-466d-b7a5-a894548c961a",
   "metadata": {},
   "outputs": [
    {
     "name": "stdout",
     "output_type": "stream",
     "text": [
      "num1      1.0\n",
      "num2      4.0\n",
      "num3      1.0\n",
      "num4    423.0\n",
      "num5     42.0\n",
      "num6      NaN\n",
      "Name: my series, dtype: float64\n",
      "does the series has nan? True\n"
     ]
    }
   ],
   "source": [
    "#pandas hasnans attribute\n",
    "import numpy as np\n",
    "import pandas as pd\n",
    "mydata2=[1,4,1,423,42,np.nan]\n",
    "s=pd.Series(mydata2,name='my series',index=['num1','num2','num3','num4','num5','num6'])#naming the indexes\n",
    "print(s)\n",
    "print('does the series has nan?',s.hasnans)\n",
    "\n"
   ]
  },
  {
   "cell_type": "markdown",
   "id": "9807d61d-1151-4fd1-abe4-bedbc6dcd1f3",
   "metadata": {},
   "source": [
    "# **Category** "
   ]
  },
  {
   "cell_type": "code",
   "execution_count": 17,
   "id": "576fc5a8-81c0-478c-9878-50e2c1e5f305",
   "metadata": {},
   "outputs": [
    {
     "name": "stdout",
     "output_type": "stream",
     "text": [
      "  cat1 cat2\n",
      "0    p    d\n",
      "1    w    f\n",
      "2    e    d\n",
      "3    r    f\n"
     ]
    },
    {
     "data": {
      "text/plain": [
       "pandas.core.frame.DataFrame"
      ]
     },
     "execution_count": 17,
     "metadata": {},
     "output_type": "execute_result"
    }
   ],
   "source": [
    "import pandas as pd\n",
    "sata={\n",
    "    'cat1':list('pwer'),\n",
    "    'cat2':list('dfdf')\n",
    "}\n",
    "df=pd.DataFrame(sata)\n",
    "print(df)\n",
    "type(df)"
   ]
  },
  {
   "cell_type": "code",
   "execution_count": 18,
   "id": "57e9cd12-4275-4f48-a5df-fffcfce9dcb1",
   "metadata": {},
   "outputs": [
    {
     "name": "stdout",
     "output_type": "stream",
     "text": [
      "catagories=\n",
      " 0    sfd\n",
      "1     df\n",
      "2    gaw\n",
      "3    vxc\n",
      "4    cvb\n",
      "dtype: category\n",
      "Categories (5, object): ['cvb', 'df', 'gaw', 'sfd', 'vxc']\n",
      "\n",
      "updated catagories=\n",
      "\n",
      " 0    sfd\n",
      "1     df\n",
      "2    gaw\n",
      "3    vxc\n",
      "4    cvb\n",
      "dtype: category\n",
      "Categories (6, object): ['cvb', 'df', 'gaw', 'sfd', 'vxc', 't']\n"
     ]
    }
   ],
   "source": [
    "import pandas as pd\n",
    "\n",
    "s=pd.Series(data=['sfd','df','gaw','vxc','cvb'],dtype='category')\n",
    "print('catagories=\\n',s)\n",
    "s=s.cat.add_categories('t')#adding a catagory\n",
    "print('\\nupdated catagories=\\n\\n',s)"
   ]
  },
  {
   "cell_type": "code",
   "execution_count": 19,
   "id": "abb4dd43-13c2-4d51-8579-b7ae37c68179",
   "metadata": {},
   "outputs": [
    {
     "name": "stdout",
     "output_type": "stream",
     "text": [
      "0    NaN\n",
      "1     df\n",
      "2    gaw\n",
      "3    NaN\n",
      "4    cvb\n",
      "dtype: category\n",
      "Categories (4, object): ['cvb', 'df', 'gaw', 't']\n"
     ]
    }
   ],
   "source": [
    "s=s.cat.remove_categories(['vxc','sfd'])#removing a catagory\n",
    "print(s)"
   ]
  },
  {
   "cell_type": "code",
   "execution_count": 20,
   "id": "4ca56bd1-89c1-4262-9006-ff9293472648",
   "metadata": {},
   "outputs": [
    {
     "name": "stderr",
     "output_type": "stream",
     "text": [
      "<>:2: SyntaxWarning: invalid escape sequence '\\C'\n",
      "<>:2: SyntaxWarning: invalid escape sequence '\\C'\n",
      "C:\\Users\\User\\AppData\\Local\\Temp\\ipykernel_1548\\4225615413.py:2: SyntaxWarning: invalid escape sequence '\\C'\n",
      "  xl=pd.read_excel('E:\\Cuet\\lab\\stepresponsekp1.xlsx',index_col='TimeStamp')\n"
     ]
    },
    {
     "name": "stdout",
     "output_type": "stream",
     "text": [
      "TimeStamp\n",
      "5.01   -0.187118\n",
      "5.02   -0.141058\n",
      "5.03   -0.158330\n",
      "5.04   -0.123786\n",
      "5.05   -0.141058\n",
      "5.06   -0.178481\n",
      "5.07   -0.169845\n",
      "5.08   -0.187118\n",
      "5.09   -0.169845\n",
      "5.10   -0.123786\n",
      "Name: Current, dtype: float64\n"
     ]
    }
   ],
   "source": [
    "import pandas as pd \n",
    "xl=pd.read_excel('E:\\Cuet\\lab\\stepresponsekp1.xlsx',index_col='TimeStamp')\n",
    "xll=xl['Current']\n",
    "print(xll.head(10))\n",
    "\n"
   ]
  },
  {
   "cell_type": "code",
   "execution_count": 21,
   "id": "a226d6de-c7cb-44b0-96f7-1cfee938832b",
   "metadata": {},
   "outputs": [
    {
     "name": "stdout",
     "output_type": "stream",
     "text": [
      "    MedInc  HouseAge  AveRooms  AveBedrms  Population  AveOccup  Latitude  \\\n",
      "0   8.3252      41.0  6.984127   1.023810       322.0  2.555556     37.88   \n",
      "1   8.3014      21.0  6.238137   0.971880      2401.0  2.109842     37.86   \n",
      "2   7.2574      52.0  8.288136   1.073446       496.0  2.802260     37.85   \n",
      "3   5.6431      52.0  5.817352   1.073059       558.0  2.547945     37.85   \n",
      "4   3.8462      52.0  6.281853   1.081081       565.0  2.181467     37.85   \n",
      "5   4.0368      52.0  4.761658   1.103627       413.0  2.139896     37.85   \n",
      "6   3.6591      52.0  4.931907   0.951362      1094.0  2.128405     37.84   \n",
      "7   3.1200      52.0  4.797527   1.061824      1157.0  1.788253     37.84   \n",
      "8   2.0804      42.0  4.294118   1.117647      1206.0  2.026891     37.84   \n",
      "9   3.6912      52.0  4.970588   0.990196      1551.0  2.172269     37.84   \n",
      "10  3.2031      52.0  5.477612   1.079602       910.0  2.263682     37.85   \n",
      "11  3.2705      52.0  4.772480   1.024523      1504.0  2.049046     37.85   \n",
      "12  3.0750      52.0  5.322650   1.012821      1098.0  2.346154     37.85   \n",
      "13  2.6736      52.0  4.000000   1.097701       345.0  1.982759     37.84   \n",
      "14  1.9167      52.0  4.262903   1.009677      1212.0  1.954839     37.85   \n",
      "15  2.1250      50.0  4.242424   1.071970       697.0  2.640152     37.85   \n",
      "16  2.7750      52.0  5.939577   1.048338       793.0  2.395770     37.85   \n",
      "17  2.1202      52.0  4.052805   0.966997       648.0  2.138614     37.85   \n",
      "18  1.9911      50.0  5.343675   1.085919       990.0  2.362768     37.84   \n",
      "19  2.6033      52.0  5.465455   1.083636       690.0  2.509091     37.84   \n",
      "\n",
      "    Longitude  MedHouseVal  \n",
      "0     -122.23        4.526  \n",
      "1     -122.22        3.585  \n",
      "2     -122.24        3.521  \n",
      "3     -122.25        3.413  \n",
      "4     -122.25        3.422  \n",
      "5     -122.25        2.697  \n",
      "6     -122.25        2.992  \n",
      "7     -122.25        2.414  \n",
      "8     -122.26        2.267  \n",
      "9     -122.25        2.611  \n",
      "10    -122.26        2.815  \n",
      "11    -122.26        2.418  \n",
      "12    -122.26        2.135  \n",
      "13    -122.26        1.913  \n",
      "14    -122.26        1.592  \n",
      "15    -122.26        1.400  \n",
      "16    -122.27        1.525  \n",
      "17    -122.27        1.555  \n",
      "18    -122.26        1.587  \n",
      "19    -122.27        1.629  \n"
     ]
    }
   ],
   "source": [
    "#pip3 install scikit-learn matplotlib\n",
    "import pandas as pd\n",
    "from sklearn.datasets import fetch_california_housing\n",
    "data= fetch_california_housing(as_frame=True).frame\n",
    "print(data.head(20))\n"
   ]
  },
  {
   "cell_type": "code",
   "execution_count": 22,
   "id": "344d3da0-5c8a-4a0f-9a9f-3e460e92c409",
   "metadata": {},
   "outputs": [
    {
     "name": "stdout",
     "output_type": "stream",
     "text": [
      "       MedInc  HouseAge  AveRooms  AveBedrms  Population  AveOccup  Latitude  \\\n",
      "5607   2.5000      21.0  3.897810   1.032847      1180.0  4.306569     33.79   \n",
      "14199  4.1837      22.0  5.670782   1.061728      1849.0  3.804527     32.70   \n",
      "\n",
      "       Longitude  MedHouseVal  \n",
      "5607     -118.30        1.575  \n",
      "14199    -117.02        1.254  \n"
     ]
    }
   ],
   "source": [
    "print(data.sample(2))#this takes 2 random  rows"
   ]
  },
  {
   "cell_type": "code",
   "execution_count": 23,
   "id": "078cbf65-e424-474a-a858-7d9262085e08",
   "metadata": {},
   "outputs": [
    {
     "data": {
      "text/plain": [
       "Index(['MedInc', 'HouseAge', 'AveRooms', 'AveBedrms', 'Population', 'AveOccup',\n",
       "       'Latitude', 'Longitude', 'MedHouseVal'],\n",
       "      dtype='object')"
      ]
     },
     "execution_count": 23,
     "metadata": {},
     "output_type": "execute_result"
    }
   ],
   "source": [
    "data.columns"
   ]
  },
  {
   "cell_type": "code",
   "execution_count": 24,
   "id": "06e4ed94-00ac-44e8-b485-d61fc357843e",
   "metadata": {},
   "outputs": [
    {
     "data": {
      "text/plain": [
       "['MedInc',\n",
       " 'HouseAge',\n",
       " 'AveRooms',\n",
       " 'AveBedrms',\n",
       " 'Population',\n",
       " 'AveOccup',\n",
       " 'Latitude',\n",
       " 'Longitude',\n",
       " 'MedHouseVal']"
      ]
     },
     "execution_count": 24,
     "metadata": {},
     "output_type": "execute_result"
    }
   ],
   "source": [
    "list(data.columns)"
   ]
  },
  {
   "cell_type": "code",
   "execution_count": 25,
   "id": "238f0ffa-e618-4d83-972a-eafe30b43b20",
   "metadata": {},
   "outputs": [
    {
     "data": {
      "text/html": [
       "<div>\n",
       "<style scoped>\n",
       "    .dataframe tbody tr th:only-of-type {\n",
       "        vertical-align: middle;\n",
       "    }\n",
       "\n",
       "    .dataframe tbody tr th {\n",
       "        vertical-align: top;\n",
       "    }\n",
       "\n",
       "    .dataframe thead th {\n",
       "        text-align: right;\n",
       "    }\n",
       "</style>\n",
       "<table border=\"1\" class=\"dataframe\">\n",
       "  <thead>\n",
       "    <tr style=\"text-align: right;\">\n",
       "      <th></th>\n",
       "      <th>MedInc</th>\n",
       "      <th>HouseAge</th>\n",
       "      <th>AveRooms</th>\n",
       "      <th>AveBedrms</th>\n",
       "      <th>Population</th>\n",
       "      <th>AveOccup</th>\n",
       "      <th>Latitude</th>\n",
       "      <th>Longitude</th>\n",
       "      <th>MedHouseVal</th>\n",
       "    </tr>\n",
       "  </thead>\n",
       "  <tbody>\n",
       "    <tr>\n",
       "      <th>0</th>\n",
       "      <td>8.3252</td>\n",
       "      <td>41.0</td>\n",
       "      <td>6.984127</td>\n",
       "      <td>1.023810</td>\n",
       "      <td>322.0</td>\n",
       "      <td>2.555556</td>\n",
       "      <td>37.88</td>\n",
       "      <td>-122.23</td>\n",
       "      <td>4.526</td>\n",
       "    </tr>\n",
       "    <tr>\n",
       "      <th>1</th>\n",
       "      <td>8.3014</td>\n",
       "      <td>21.0</td>\n",
       "      <td>6.238137</td>\n",
       "      <td>0.971880</td>\n",
       "      <td>2401.0</td>\n",
       "      <td>2.109842</td>\n",
       "      <td>37.86</td>\n",
       "      <td>-122.22</td>\n",
       "      <td>3.585</td>\n",
       "    </tr>\n",
       "    <tr>\n",
       "      <th>2</th>\n",
       "      <td>7.2574</td>\n",
       "      <td>52.0</td>\n",
       "      <td>8.288136</td>\n",
       "      <td>1.073446</td>\n",
       "      <td>496.0</td>\n",
       "      <td>2.802260</td>\n",
       "      <td>37.85</td>\n",
       "      <td>-122.24</td>\n",
       "      <td>3.521</td>\n",
       "    </tr>\n",
       "    <tr>\n",
       "      <th>3</th>\n",
       "      <td>5.6431</td>\n",
       "      <td>52.0</td>\n",
       "      <td>5.817352</td>\n",
       "      <td>1.073059</td>\n",
       "      <td>558.0</td>\n",
       "      <td>2.547945</td>\n",
       "      <td>37.85</td>\n",
       "      <td>-122.25</td>\n",
       "      <td>3.413</td>\n",
       "    </tr>\n",
       "    <tr>\n",
       "      <th>4</th>\n",
       "      <td>3.8462</td>\n",
       "      <td>52.0</td>\n",
       "      <td>6.281853</td>\n",
       "      <td>1.081081</td>\n",
       "      <td>565.0</td>\n",
       "      <td>2.181467</td>\n",
       "      <td>37.85</td>\n",
       "      <td>-122.25</td>\n",
       "      <td>3.422</td>\n",
       "    </tr>\n",
       "    <tr>\n",
       "      <th>...</th>\n",
       "      <td>...</td>\n",
       "      <td>...</td>\n",
       "      <td>...</td>\n",
       "      <td>...</td>\n",
       "      <td>...</td>\n",
       "      <td>...</td>\n",
       "      <td>...</td>\n",
       "      <td>...</td>\n",
       "      <td>...</td>\n",
       "    </tr>\n",
       "    <tr>\n",
       "      <th>20635</th>\n",
       "      <td>1.5603</td>\n",
       "      <td>25.0</td>\n",
       "      <td>5.045455</td>\n",
       "      <td>1.133333</td>\n",
       "      <td>845.0</td>\n",
       "      <td>2.560606</td>\n",
       "      <td>39.48</td>\n",
       "      <td>-121.09</td>\n",
       "      <td>0.781</td>\n",
       "    </tr>\n",
       "    <tr>\n",
       "      <th>20636</th>\n",
       "      <td>2.5568</td>\n",
       "      <td>18.0</td>\n",
       "      <td>6.114035</td>\n",
       "      <td>1.315789</td>\n",
       "      <td>356.0</td>\n",
       "      <td>3.122807</td>\n",
       "      <td>39.49</td>\n",
       "      <td>-121.21</td>\n",
       "      <td>0.771</td>\n",
       "    </tr>\n",
       "    <tr>\n",
       "      <th>20637</th>\n",
       "      <td>1.7000</td>\n",
       "      <td>17.0</td>\n",
       "      <td>5.205543</td>\n",
       "      <td>1.120092</td>\n",
       "      <td>1007.0</td>\n",
       "      <td>2.325635</td>\n",
       "      <td>39.43</td>\n",
       "      <td>-121.22</td>\n",
       "      <td>0.923</td>\n",
       "    </tr>\n",
       "    <tr>\n",
       "      <th>20638</th>\n",
       "      <td>1.8672</td>\n",
       "      <td>18.0</td>\n",
       "      <td>5.329513</td>\n",
       "      <td>1.171920</td>\n",
       "      <td>741.0</td>\n",
       "      <td>2.123209</td>\n",
       "      <td>39.43</td>\n",
       "      <td>-121.32</td>\n",
       "      <td>0.847</td>\n",
       "    </tr>\n",
       "    <tr>\n",
       "      <th>20639</th>\n",
       "      <td>2.3886</td>\n",
       "      <td>16.0</td>\n",
       "      <td>5.254717</td>\n",
       "      <td>1.162264</td>\n",
       "      <td>1387.0</td>\n",
       "      <td>2.616981</td>\n",
       "      <td>39.37</td>\n",
       "      <td>-121.24</td>\n",
       "      <td>0.894</td>\n",
       "    </tr>\n",
       "  </tbody>\n",
       "</table>\n",
       "<p>20640 rows × 9 columns</p>\n",
       "</div>"
      ],
      "text/plain": [
       "       MedInc  HouseAge  AveRooms  AveBedrms  Population  AveOccup  Latitude  \\\n",
       "0      8.3252      41.0  6.984127   1.023810       322.0  2.555556     37.88   \n",
       "1      8.3014      21.0  6.238137   0.971880      2401.0  2.109842     37.86   \n",
       "2      7.2574      52.0  8.288136   1.073446       496.0  2.802260     37.85   \n",
       "3      5.6431      52.0  5.817352   1.073059       558.0  2.547945     37.85   \n",
       "4      3.8462      52.0  6.281853   1.081081       565.0  2.181467     37.85   \n",
       "...       ...       ...       ...        ...         ...       ...       ...   \n",
       "20635  1.5603      25.0  5.045455   1.133333       845.0  2.560606     39.48   \n",
       "20636  2.5568      18.0  6.114035   1.315789       356.0  3.122807     39.49   \n",
       "20637  1.7000      17.0  5.205543   1.120092      1007.0  2.325635     39.43   \n",
       "20638  1.8672      18.0  5.329513   1.171920       741.0  2.123209     39.43   \n",
       "20639  2.3886      16.0  5.254717   1.162264      1387.0  2.616981     39.37   \n",
       "\n",
       "       Longitude  MedHouseVal  \n",
       "0        -122.23        4.526  \n",
       "1        -122.22        3.585  \n",
       "2        -122.24        3.521  \n",
       "3        -122.25        3.413  \n",
       "4        -122.25        3.422  \n",
       "...          ...          ...  \n",
       "20635    -121.09        0.781  \n",
       "20636    -121.21        0.771  \n",
       "20637    -121.22        0.923  \n",
       "20638    -121.32        0.847  \n",
       "20639    -121.24        0.894  \n",
       "\n",
       "[20640 rows x 9 columns]"
      ]
     },
     "execution_count": 25,
     "metadata": {},
     "output_type": "execute_result"
    }
   ],
   "source": [
    "pd.options.display.max_columns=500#shows all columns\n",
    "data"
   ]
  },
  {
   "cell_type": "code",
   "execution_count": 26,
   "id": "b2ac02ec-4de4-4ca4-aee5-7a07ab45382f",
   "metadata": {},
   "outputs": [
    {
     "name": "stdout",
     "output_type": "stream",
     "text": [
      "<class 'pandas.core.frame.DataFrame'>\n",
      "RangeIndex: 20640 entries, 0 to 20639\n",
      "Data columns (total 9 columns):\n",
      " #   Column       Non-Null Count  Dtype  \n",
      "---  ------       --------------  -----  \n",
      " 0   MedInc       20640 non-null  float64\n",
      " 1   HouseAge     20640 non-null  float64\n",
      " 2   AveRooms     20640 non-null  float64\n",
      " 3   AveBedrms    20640 non-null  float64\n",
      " 4   Population   20640 non-null  float64\n",
      " 5   AveOccup     20640 non-null  float64\n",
      " 6   Latitude     20640 non-null  float64\n",
      " 7   Longitude    20640 non-null  float64\n",
      " 8   MedHouseVal  20640 non-null  float64\n",
      "dtypes: float64(9)\n",
      "memory usage: 1.4 MB\n"
     ]
    }
   ],
   "source": [
    "data.info()"
   ]
  },
  {
   "cell_type": "code",
   "execution_count": 27,
   "id": "8df63ab9-962d-45c8-a794-f5f26c5b580b",
   "metadata": {},
   "outputs": [
    {
     "data": {
      "text/html": [
       "<div>\n",
       "<style scoped>\n",
       "    .dataframe tbody tr th:only-of-type {\n",
       "        vertical-align: middle;\n",
       "    }\n",
       "\n",
       "    .dataframe tbody tr th {\n",
       "        vertical-align: top;\n",
       "    }\n",
       "\n",
       "    .dataframe thead th {\n",
       "        text-align: right;\n",
       "    }\n",
       "</style>\n",
       "<table border=\"1\" class=\"dataframe\">\n",
       "  <thead>\n",
       "    <tr style=\"text-align: right;\">\n",
       "      <th></th>\n",
       "      <th>MedInc</th>\n",
       "      <th>HouseAge</th>\n",
       "      <th>AveRooms</th>\n",
       "      <th>AveBedrms</th>\n",
       "      <th>Population</th>\n",
       "      <th>AveOccup</th>\n",
       "      <th>Latitude</th>\n",
       "      <th>Longitude</th>\n",
       "      <th>MedHouseVal</th>\n",
       "    </tr>\n",
       "  </thead>\n",
       "  <tbody>\n",
       "    <tr>\n",
       "      <th>count</th>\n",
       "      <td>20640.000000</td>\n",
       "      <td>20640.000000</td>\n",
       "      <td>20640.000000</td>\n",
       "      <td>20640.000000</td>\n",
       "      <td>20640.000000</td>\n",
       "      <td>20640.000000</td>\n",
       "      <td>20640.000000</td>\n",
       "      <td>20640.000000</td>\n",
       "      <td>20640.000000</td>\n",
       "    </tr>\n",
       "    <tr>\n",
       "      <th>mean</th>\n",
       "      <td>3.870671</td>\n",
       "      <td>28.639486</td>\n",
       "      <td>5.429000</td>\n",
       "      <td>1.096675</td>\n",
       "      <td>1425.476744</td>\n",
       "      <td>3.070655</td>\n",
       "      <td>35.631861</td>\n",
       "      <td>-119.569704</td>\n",
       "      <td>2.068558</td>\n",
       "    </tr>\n",
       "    <tr>\n",
       "      <th>std</th>\n",
       "      <td>1.899822</td>\n",
       "      <td>12.585558</td>\n",
       "      <td>2.474173</td>\n",
       "      <td>0.473911</td>\n",
       "      <td>1132.462122</td>\n",
       "      <td>10.386050</td>\n",
       "      <td>2.135952</td>\n",
       "      <td>2.003532</td>\n",
       "      <td>1.153956</td>\n",
       "    </tr>\n",
       "    <tr>\n",
       "      <th>min</th>\n",
       "      <td>0.499900</td>\n",
       "      <td>1.000000</td>\n",
       "      <td>0.846154</td>\n",
       "      <td>0.333333</td>\n",
       "      <td>3.000000</td>\n",
       "      <td>0.692308</td>\n",
       "      <td>32.540000</td>\n",
       "      <td>-124.350000</td>\n",
       "      <td>0.149990</td>\n",
       "    </tr>\n",
       "    <tr>\n",
       "      <th>25%</th>\n",
       "      <td>2.563400</td>\n",
       "      <td>18.000000</td>\n",
       "      <td>4.440716</td>\n",
       "      <td>1.006079</td>\n",
       "      <td>787.000000</td>\n",
       "      <td>2.429741</td>\n",
       "      <td>33.930000</td>\n",
       "      <td>-121.800000</td>\n",
       "      <td>1.196000</td>\n",
       "    </tr>\n",
       "    <tr>\n",
       "      <th>50%</th>\n",
       "      <td>3.534800</td>\n",
       "      <td>29.000000</td>\n",
       "      <td>5.229129</td>\n",
       "      <td>1.048780</td>\n",
       "      <td>1166.000000</td>\n",
       "      <td>2.818116</td>\n",
       "      <td>34.260000</td>\n",
       "      <td>-118.490000</td>\n",
       "      <td>1.797000</td>\n",
       "    </tr>\n",
       "    <tr>\n",
       "      <th>75%</th>\n",
       "      <td>4.743250</td>\n",
       "      <td>37.000000</td>\n",
       "      <td>6.052381</td>\n",
       "      <td>1.099526</td>\n",
       "      <td>1725.000000</td>\n",
       "      <td>3.282261</td>\n",
       "      <td>37.710000</td>\n",
       "      <td>-118.010000</td>\n",
       "      <td>2.647250</td>\n",
       "    </tr>\n",
       "    <tr>\n",
       "      <th>max</th>\n",
       "      <td>15.000100</td>\n",
       "      <td>52.000000</td>\n",
       "      <td>141.909091</td>\n",
       "      <td>34.066667</td>\n",
       "      <td>35682.000000</td>\n",
       "      <td>1243.333333</td>\n",
       "      <td>41.950000</td>\n",
       "      <td>-114.310000</td>\n",
       "      <td>5.000010</td>\n",
       "    </tr>\n",
       "  </tbody>\n",
       "</table>\n",
       "</div>"
      ],
      "text/plain": [
       "             MedInc      HouseAge      AveRooms     AveBedrms    Population  \\\n",
       "count  20640.000000  20640.000000  20640.000000  20640.000000  20640.000000   \n",
       "mean       3.870671     28.639486      5.429000      1.096675   1425.476744   \n",
       "std        1.899822     12.585558      2.474173      0.473911   1132.462122   \n",
       "min        0.499900      1.000000      0.846154      0.333333      3.000000   \n",
       "25%        2.563400     18.000000      4.440716      1.006079    787.000000   \n",
       "50%        3.534800     29.000000      5.229129      1.048780   1166.000000   \n",
       "75%        4.743250     37.000000      6.052381      1.099526   1725.000000   \n",
       "max       15.000100     52.000000    141.909091     34.066667  35682.000000   \n",
       "\n",
       "           AveOccup      Latitude     Longitude   MedHouseVal  \n",
       "count  20640.000000  20640.000000  20640.000000  20640.000000  \n",
       "mean       3.070655     35.631861   -119.569704      2.068558  \n",
       "std       10.386050      2.135952      2.003532      1.153956  \n",
       "min        0.692308     32.540000   -124.350000      0.149990  \n",
       "25%        2.429741     33.930000   -121.800000      1.196000  \n",
       "50%        2.818116     34.260000   -118.490000      1.797000  \n",
       "75%        3.282261     37.710000   -118.010000      2.647250  \n",
       "max     1243.333333     41.950000   -114.310000      5.000010  "
      ]
     },
     "execution_count": 27,
     "metadata": {},
     "output_type": "execute_result"
    }
   ],
   "source": [
    "data.describe()#provides a detail information about each collumn"
   ]
  },
  {
   "cell_type": "code",
   "execution_count": 28,
   "id": "9a392a00-a9e9-4dfe-bcee-b4de97cf61ee",
   "metadata": {},
   "outputs": [
    {
     "data": {
      "text/plain": [
       "0        41.0\n",
       "1        21.0\n",
       "2        52.0\n",
       "3        52.0\n",
       "4        52.0\n",
       "         ... \n",
       "20635    25.0\n",
       "20636    18.0\n",
       "20637    17.0\n",
       "20638    18.0\n",
       "20639    16.0\n",
       "Name: HouseAge, Length: 20640, dtype: float64"
      ]
     },
     "execution_count": 28,
     "metadata": {},
     "output_type": "execute_result"
    }
   ],
   "source": [
    "data.HouseAge#checking column of a dataframe"
   ]
  },
  {
   "cell_type": "code",
   "execution_count": 29,
   "id": "f39d8aed-1397-4c4f-ad72-4f5a51e89984",
   "metadata": {},
   "outputs": [
    {
     "data": {
      "text/plain": [
       "pandas.core.series.Series"
      ]
     },
     "execution_count": 29,
     "metadata": {},
     "output_type": "execute_result"
    }
   ],
   "source": [
    "type(data.HouseAge)#column of a dataframe is series"
   ]
  },
  {
   "cell_type": "code",
   "execution_count": 30,
   "id": "3aefed17-dc8d-4563-ab24-204f3d0c14dc",
   "metadata": {},
   "outputs": [
    {
     "data": {
      "text/plain": [
       "28.639486434108527"
      ]
     },
     "execution_count": 30,
     "metadata": {},
     "output_type": "execute_result"
    }
   ],
   "source": [
    "data.HouseAge.mean()\n"
   ]
  },
  {
   "cell_type": "code",
   "execution_count": 31,
   "id": "bd6da9cd-ebb3-4adc-a3fd-91221ce2c37b",
   "metadata": {},
   "outputs": [
    {
     "data": {
      "text/plain": [
       "52.0"
      ]
     },
     "execution_count": 31,
     "metadata": {},
     "output_type": "execute_result"
    }
   ],
   "source": [
    "data.HouseAge.max()"
   ]
  },
  {
   "cell_type": "code",
   "execution_count": 32,
   "id": "b4fdcc7b-7b9b-4760-adae-94466904ea61",
   "metadata": {},
   "outputs": [
    {
     "data": {
      "text/plain": [
       "<Axes: >"
      ]
     },
     "execution_count": 32,
     "metadata": {},
     "output_type": "execute_result"
    },
    {
     "data": {
      "image/png": "[encoded data removed]",
      "text/plain": [
       "<Figure size 640x480 with 1 Axes>"
      ]
     },
     "metadata": {},
     "output_type": "display_data"
    }
   ],
   "source": [
    "data.HouseAge.hist()"
   ]
  },
  {
   "cell_type": "code",
   "execution_count": 33,
   "id": "a669f2b4-21c5-418c-b56f-f759604682ee",
   "metadata": {},
   "outputs": [
    {
     "data": {
      "image/png": "[encoded data removed]",
      "text/plain": [
       "<Figure size 1200x800 with 1 Axes>"
      ]
     },
     "metadata": {},
     "output_type": "display_data"
    }
   ],
   "source": [
    "#customizing the histogram\n",
    "import matplotlib.pyplot as plt\n",
    "data.HouseAge.hist(figsize=(12,8))\n",
    "plt.title('house Age')\n",
    "plt.show()\n"
   ]
  },
  {
   "cell_type": "code",
   "execution_count": 34,
   "id": "d35d4598-a065-4ed6-8d56-240a01b1a65c",
   "metadata": {},
   "outputs": [
    {
     "data": {
      "image/png": "[encoded data removed]",
      "text/plain": [
       "<Figure size 640x480 with 9 Axes>"
      ]
     },
     "metadata": {},
     "output_type": "display_data"
    }
   ],
   "source": [
    "data.hist()\n",
    "plt.tight_layout()"
   ]
  },
  {
   "cell_type": "code",
   "execution_count": 35,
   "id": "8331522b-8407-406f-bca4-1e57d92b817d",
   "metadata": {},
   "outputs": [
    {
     "data": {
      "text/plain": [
       "<Axes: >"
      ]
     },
     "execution_count": 35,
     "metadata": {},
     "output_type": "execute_result"
    },
    {
     "data": {
      "image/png": "[encoded data removed]",
      "text/plain": [
       "<Figure size 640x480 with 1 Axes>"
      ]
     },
     "metadata": {},
     "output_type": "display_data"
    }
   ],
   "source": [
    "data.plot()"
   ]
  },
  {
   "cell_type": "code",
   "execution_count": 38,
   "id": "a9e9a8b4-552e-416c-98cc-6746f3dae765",
   "metadata": {},
   "outputs": [
    {
     "name": "stderr",
     "output_type": "stream",
     "text": [
      "[*********************100%***********************]  1 of 1 completed\n"
     ]
    }
   ],
   "source": [
    "import yfinance as yf\n",
    "stock_data=yf.download('AAPL')"
   ]
  },
  {
   "cell_type": "code",
   "execution_count": 37,
   "id": "f3a0d9c1-e4ba-409a-9484-86288ae1df71",
   "metadata": {},
   "outputs": [
    {
     "data": {
      "image/png": "[encoded data removed]",
      "text/plain": [
       "<Figure size 640x480 with 6 Axes>"
      ]
     },
     "metadata": {},
     "output_type": "display_data"
    }
   ],
   "source": [
    "stock_data.hist()\n",
    "plt.tight_layout()"
   ]
  },
  {
   "cell_type": "code",
   "execution_count": 39,
   "id": "9e6c5aea-388b-49dd-ae6f-a1790d74f3a6",
   "metadata": {},
   "outputs": [],
   "source": [
    "df=pd.DataFrame({\n",
    "    'name':['mike','Alice','bob'],\n",
    "    'age':[30,45,80],\n",
    "    'job':['programmer','Designer','Accountant']\n",
    "})\n",
    "df=df.set_index('name')\n",
    "\n",
    "\n",
    "    "
   ]
  },
  {
   "cell_type": "code",
   "execution_count": 40,
   "id": "e4a84ed1-754f-41b7-8f51-5f244404603d",
   "metadata": {},
   "outputs": [
    {
     "data": {
      "text/html": [
       "<div>\n",
       "<style scoped>\n",
       "    .dataframe tbody tr th:only-of-type {\n",
       "        vertical-align: middle;\n",
       "    }\n",
       "\n",
       "    .dataframe tbody tr th {\n",
       "        vertical-align: top;\n",
       "    }\n",
       "\n",
       "    .dataframe thead th {\n",
       "        text-align: right;\n",
       "    }\n",
       "</style>\n",
       "<table border=\"1\" class=\"dataframe\">\n",
       "  <thead>\n",
       "    <tr style=\"text-align: right;\">\n",
       "      <th></th>\n",
       "      <th>age</th>\n",
       "      <th>job</th>\n",
       "    </tr>\n",
       "    <tr>\n",
       "      <th>name</th>\n",
       "      <th></th>\n",
       "      <th></th>\n",
       "    </tr>\n",
       "  </thead>\n",
       "  <tbody>\n",
       "    <tr>\n",
       "      <th>mike</th>\n",
       "      <td>30</td>\n",
       "      <td>programmer</td>\n",
       "    </tr>\n",
       "    <tr>\n",
       "      <th>Alice</th>\n",
       "      <td>45</td>\n",
       "      <td>Designer</td>\n",
       "    </tr>\n",
       "    <tr>\n",
       "      <th>bob</th>\n",
       "      <td>80</td>\n",
       "      <td>Accountant</td>\n",
       "    </tr>\n",
       "  </tbody>\n",
       "</table>\n",
       "</div>"
      ],
      "text/plain": [
       "       age         job\n",
       "name                  \n",
       "mike    30  programmer\n",
       "Alice   45    Designer\n",
       "bob     80  Accountant"
      ]
     },
     "execution_count": 40,
     "metadata": {},
     "output_type": "execute_result"
    }
   ],
   "source": [
    "df"
   ]
  },
  {
   "cell_type": "code",
   "execution_count": 41,
   "id": "d6c8f910-73f6-4b2d-9570-1dbdfedb57ec",
   "metadata": {},
   "outputs": [
    {
     "name": "stdout",
     "output_type": "stream",
     "text": [
      "30\n"
     ]
    }
   ],
   "source": [
    "print(df.loc['mike','age'])"
   ]
  },
  {
   "cell_type": "code",
   "execution_count": 47,
   "id": "bf92a0bb-9a71-409b-811c-e584168f9e35",
   "metadata": {},
   "outputs": [
    {
     "ename": "KeyError",
     "evalue": "1",
     "output_type": "error",
     "traceback": [
      "\u001b[31m---------------------------------------------------------------------------\u001b[39m",
      "\u001b[31mKeyError\u001b[39m                                  Traceback (most recent call last)",
      "\u001b[36mFile \u001b[39m\u001b[32mF:\\anaconda_running_folder\\Lib\\site-packages\\pandas\\core\\indexes\\base.py:3805\u001b[39m, in \u001b[36mIndex.get_loc\u001b[39m\u001b[34m(self, key)\u001b[39m\n\u001b[32m   3804\u001b[39m \u001b[38;5;28;01mtry\u001b[39;00m:\n\u001b[32m-> \u001b[39m\u001b[32m3805\u001b[39m     \u001b[38;5;28;01mreturn\u001b[39;00m \u001b[38;5;28;43mself\u001b[39;49m\u001b[43m.\u001b[49m\u001b[43m_engine\u001b[49m\u001b[43m.\u001b[49m\u001b[43mget_loc\u001b[49m\u001b[43m(\u001b[49m\u001b[43mcasted_key\u001b[49m\u001b[43m)\u001b[49m\n\u001b[32m   3806\u001b[39m \u001b[38;5;28;01mexcept\u001b[39;00m \u001b[38;5;167;01mKeyError\u001b[39;00m \u001b[38;5;28;01mas\u001b[39;00m err:\n",
      "\u001b[36mFile \u001b[39m\u001b[32mindex.pyx:167\u001b[39m, in \u001b[36mpandas._libs.index.IndexEngine.get_loc\u001b[39m\u001b[34m()\u001b[39m\n",
      "\u001b[36mFile \u001b[39m\u001b[32mindex.pyx:196\u001b[39m, in \u001b[36mpandas._libs.index.IndexEngine.get_loc\u001b[39m\u001b[34m()\u001b[39m\n",
      "\u001b[36mFile \u001b[39m\u001b[32mpandas\\\\_libs\\\\hashtable_class_helper.pxi:7081\u001b[39m, in \u001b[36mpandas._libs.hashtable.PyObjectHashTable.get_item\u001b[39m\u001b[34m()\u001b[39m\n",
      "\u001b[36mFile \u001b[39m\u001b[32mpandas\\\\_libs\\\\hashtable_class_helper.pxi:7089\u001b[39m, in \u001b[36mpandas._libs.hashtable.PyObjectHashTable.get_item\u001b[39m\u001b[34m()\u001b[39m\n",
      "\u001b[31mKeyError\u001b[39m: 1",
      "\nThe above exception was the direct cause of the following exception:\n",
      "\u001b[31mKeyError\u001b[39m                                  Traceback (most recent call last)",
      "\u001b[36mCell\u001b[39m\u001b[36m \u001b[39m\u001b[32mIn[47]\u001b[39m\u001b[32m, line 1\u001b[39m\n\u001b[32m----> \u001b[39m\u001b[32m1\u001b[39m \u001b[43mdf\u001b[49m\u001b[43m.\u001b[49m\u001b[43mat\u001b[49m\u001b[43m[\u001b[49m\u001b[32;43m2\u001b[39;49m\u001b[43m,\u001b[49m\u001b[32;43m1\u001b[39;49m\u001b[43m]\u001b[49m  \u001b[38;5;66;03m#'at' is just used for  one specific value \u001b[39;00m\n",
      "\u001b[36mFile \u001b[39m\u001b[32mF:\\anaconda_running_folder\\Lib\\site-packages\\pandas\\core\\indexing.py:2575\u001b[39m, in \u001b[36m_AtIndexer.__getitem__\u001b[39m\u001b[34m(self, key)\u001b[39m\n\u001b[32m   2572\u001b[39m         \u001b[38;5;28;01mraise\u001b[39;00m \u001b[38;5;167;01mValueError\u001b[39;00m(\u001b[33m\"\u001b[39m\u001b[33mInvalid call for scalar access (getting)!\u001b[39m\u001b[33m\"\u001b[39m)\n\u001b[32m   2573\u001b[39m     \u001b[38;5;28;01mreturn\u001b[39;00m \u001b[38;5;28mself\u001b[39m.obj.loc[key]\n\u001b[32m-> \u001b[39m\u001b[32m2575\u001b[39m \u001b[38;5;28;01mreturn\u001b[39;00m \u001b[38;5;28;43msuper\u001b[39;49m\u001b[43m(\u001b[49m\u001b[43m)\u001b[49m\u001b[43m.\u001b[49m\u001b[34;43m__getitem__\u001b[39;49m\u001b[43m(\u001b[49m\u001b[43mkey\u001b[49m\u001b[43m)\u001b[49m\n",
      "\u001b[36mFile \u001b[39m\u001b[32mF:\\anaconda_running_folder\\Lib\\site-packages\\pandas\\core\\indexing.py:2527\u001b[39m, in \u001b[36m_ScalarAccessIndexer.__getitem__\u001b[39m\u001b[34m(self, key)\u001b[39m\n\u001b[32m   2524\u001b[39m         \u001b[38;5;28;01mraise\u001b[39;00m \u001b[38;5;167;01mValueError\u001b[39;00m(\u001b[33m\"\u001b[39m\u001b[33mInvalid call for scalar access (getting)!\u001b[39m\u001b[33m\"\u001b[39m)\n\u001b[32m   2526\u001b[39m key = \u001b[38;5;28mself\u001b[39m._convert_key(key)\n\u001b[32m-> \u001b[39m\u001b[32m2527\u001b[39m \u001b[38;5;28;01mreturn\u001b[39;00m \u001b[38;5;28;43mself\u001b[39;49m\u001b[43m.\u001b[49m\u001b[43mobj\u001b[49m\u001b[43m.\u001b[49m\u001b[43m_get_value\u001b[49m\u001b[43m(\u001b[49m\u001b[43m*\u001b[49m\u001b[43mkey\u001b[49m\u001b[43m,\u001b[49m\u001b[43m \u001b[49m\u001b[43mtakeable\u001b[49m\u001b[43m=\u001b[49m\u001b[38;5;28;43mself\u001b[39;49m\u001b[43m.\u001b[49m\u001b[43m_takeable\u001b[49m\u001b[43m)\u001b[49m\n",
      "\u001b[36mFile \u001b[39m\u001b[32mF:\\anaconda_running_folder\\Lib\\site-packages\\pandas\\core\\frame.py:4214\u001b[39m, in \u001b[36mDataFrame._get_value\u001b[39m\u001b[34m(self, index, col, takeable)\u001b[39m\n\u001b[32m   4211\u001b[39m     series = \u001b[38;5;28mself\u001b[39m._ixs(col, axis=\u001b[32m1\u001b[39m)\n\u001b[32m   4212\u001b[39m     \u001b[38;5;28;01mreturn\u001b[39;00m series._values[index]\n\u001b[32m-> \u001b[39m\u001b[32m4214\u001b[39m series = \u001b[38;5;28;43mself\u001b[39;49m\u001b[43m.\u001b[49m\u001b[43m_get_item_cache\u001b[49m\u001b[43m(\u001b[49m\u001b[43mcol\u001b[49m\u001b[43m)\u001b[49m\n\u001b[32m   4215\u001b[39m engine = \u001b[38;5;28mself\u001b[39m.index._engine\n\u001b[32m   4217\u001b[39m \u001b[38;5;28;01mif\u001b[39;00m \u001b[38;5;129;01mnot\u001b[39;00m \u001b[38;5;28misinstance\u001b[39m(\u001b[38;5;28mself\u001b[39m.index, MultiIndex):\n\u001b[32m   4218\u001b[39m     \u001b[38;5;66;03m# CategoricalIndex: Trying to use the engine fastpath may give incorrect\u001b[39;00m\n\u001b[32m   4219\u001b[39m     \u001b[38;5;66;03m#  results if our categories are integers that dont match our codes\u001b[39;00m\n\u001b[32m   4220\u001b[39m     \u001b[38;5;66;03m# IntervalIndex: IntervalTree has no get_loc\u001b[39;00m\n",
      "\u001b[36mFile \u001b[39m\u001b[32mF:\\anaconda_running_folder\\Lib\\site-packages\\pandas\\core\\frame.py:4638\u001b[39m, in \u001b[36mDataFrame._get_item_cache\u001b[39m\u001b[34m(self, item)\u001b[39m\n\u001b[32m   4633\u001b[39m res = cache.get(item)\n\u001b[32m   4634\u001b[39m \u001b[38;5;28;01mif\u001b[39;00m res \u001b[38;5;129;01mis\u001b[39;00m \u001b[38;5;28;01mNone\u001b[39;00m:\n\u001b[32m   4635\u001b[39m     \u001b[38;5;66;03m# All places that call _get_item_cache have unique columns,\u001b[39;00m\n\u001b[32m   4636\u001b[39m     \u001b[38;5;66;03m#  pending resolution of GH#33047\u001b[39;00m\n\u001b[32m-> \u001b[39m\u001b[32m4638\u001b[39m     loc = \u001b[38;5;28;43mself\u001b[39;49m\u001b[43m.\u001b[49m\u001b[43mcolumns\u001b[49m\u001b[43m.\u001b[49m\u001b[43mget_loc\u001b[49m\u001b[43m(\u001b[49m\u001b[43mitem\u001b[49m\u001b[43m)\u001b[49m\n\u001b[32m   4639\u001b[39m     res = \u001b[38;5;28mself\u001b[39m._ixs(loc, axis=\u001b[32m1\u001b[39m)\n\u001b[32m   4641\u001b[39m     cache[item] = res\n",
      "\u001b[36mFile \u001b[39m\u001b[32mF:\\anaconda_running_folder\\Lib\\site-packages\\pandas\\core\\indexes\\base.py:3812\u001b[39m, in \u001b[36mIndex.get_loc\u001b[39m\u001b[34m(self, key)\u001b[39m\n\u001b[32m   3807\u001b[39m     \u001b[38;5;28;01mif\u001b[39;00m \u001b[38;5;28misinstance\u001b[39m(casted_key, \u001b[38;5;28mslice\u001b[39m) \u001b[38;5;129;01mor\u001b[39;00m (\n\u001b[32m   3808\u001b[39m         \u001b[38;5;28misinstance\u001b[39m(casted_key, abc.Iterable)\n\u001b[32m   3809\u001b[39m         \u001b[38;5;129;01mand\u001b[39;00m \u001b[38;5;28many\u001b[39m(\u001b[38;5;28misinstance\u001b[39m(x, \u001b[38;5;28mslice\u001b[39m) \u001b[38;5;28;01mfor\u001b[39;00m x \u001b[38;5;129;01min\u001b[39;00m casted_key)\n\u001b[32m   3810\u001b[39m     ):\n\u001b[32m   3811\u001b[39m         \u001b[38;5;28;01mraise\u001b[39;00m InvalidIndexError(key)\n\u001b[32m-> \u001b[39m\u001b[32m3812\u001b[39m     \u001b[38;5;28;01mraise\u001b[39;00m \u001b[38;5;167;01mKeyError\u001b[39;00m(key) \u001b[38;5;28;01mfrom\u001b[39;00m\u001b[38;5;250m \u001b[39m\u001b[34;01merr\u001b[39;00m\n\u001b[32m   3813\u001b[39m \u001b[38;5;28;01mexcept\u001b[39;00m \u001b[38;5;167;01mTypeError\u001b[39;00m:\n\u001b[32m   3814\u001b[39m     \u001b[38;5;66;03m# If we have a listlike key, _check_indexing_error will raise\u001b[39;00m\n\u001b[32m   3815\u001b[39m     \u001b[38;5;66;03m#  InvalidIndexError. Otherwise we fall through and re-raise\u001b[39;00m\n\u001b[32m   3816\u001b[39m     \u001b[38;5;66;03m#  the TypeError.\u001b[39;00m\n\u001b[32m   3817\u001b[39m     \u001b[38;5;28mself\u001b[39m._check_indexing_error(key)\n",
      "\u001b[31mKeyError\u001b[39m: 1"
     ]
    }
   ],
   "source": [
    "df.at[2,1]  #'at' is just used for  one specific value "
   ]
  },
  {
   "cell_type": "code",
   "execution_count": 48,
   "id": "43afdbc1-588f-4fe6-b878-10ee273f5800",
   "metadata": {},
   "outputs": [
    {
     "data": {
      "text/plain": [
       "'Accountant'"
      ]
     },
     "execution_count": 48,
     "metadata": {},
     "output_type": "execute_result"
    }
   ],
   "source": [
    "df.iat[2,1]"
   ]
  },
  {
   "cell_type": "code",
   "execution_count": 49,
   "id": "451c9102-8ad3-4804-937d-1636fa555075",
   "metadata": {},
   "outputs": [],
   "source": [
    "import pandas as pd\n",
    "df=pd.DataFrame(\n",
    "    {\n",
    "        'name':['Mike','Alice','Bob'],\n",
    "        'Age':[30,45,80],\n",
    "        'job':['programmer','Designer','Accountant']\n",
    "    }\n",
    ")"
   ]
  },
  {
   "cell_type": "code",
   "execution_count": 50,
   "id": "1b62482c-12fb-4a11-876b-637da18209d7",
   "metadata": {},
   "outputs": [],
   "source": [
    "df=df.set_index('name')"
   ]
  },
  {
   "cell_type": "code",
   "execution_count": 51,
   "id": "026dbe28-b73b-4383-a577-d07a59e1a7cd",
   "metadata": {},
   "outputs": [
    {
     "data": {
      "text/html": [
       "<div>\n",
       "<style scoped>\n",
       "    .dataframe tbody tr th:only-of-type {\n",
       "        vertical-align: middle;\n",
       "    }\n",
       "\n",
       "    .dataframe tbody tr th {\n",
       "        vertical-align: top;\n",
       "    }\n",
       "\n",
       "    .dataframe thead th {\n",
       "        text-align: right;\n",
       "    }\n",
       "</style>\n",
       "<table border=\"1\" class=\"dataframe\">\n",
       "  <thead>\n",
       "    <tr style=\"text-align: right;\">\n",
       "      <th></th>\n",
       "      <th>Age</th>\n",
       "      <th>job</th>\n",
       "    </tr>\n",
       "    <tr>\n",
       "      <th>name</th>\n",
       "      <th></th>\n",
       "      <th></th>\n",
       "    </tr>\n",
       "  </thead>\n",
       "  <tbody>\n",
       "    <tr>\n",
       "      <th>Mike</th>\n",
       "      <td>30</td>\n",
       "      <td>programmer</td>\n",
       "    </tr>\n",
       "    <tr>\n",
       "      <th>Alice</th>\n",
       "      <td>45</td>\n",
       "      <td>Designer</td>\n",
       "    </tr>\n",
       "    <tr>\n",
       "      <th>Bob</th>\n",
       "      <td>80</td>\n",
       "      <td>Accountant</td>\n",
       "    </tr>\n",
       "  </tbody>\n",
       "</table>\n",
       "</div>"
      ],
      "text/plain": [
       "       Age         job\n",
       "name                  \n",
       "Mike    30  programmer\n",
       "Alice   45    Designer\n",
       "Bob     80  Accountant"
      ]
     },
     "execution_count": 51,
     "metadata": {},
     "output_type": "execute_result"
    }
   ],
   "source": [
    "df"
   ]
  },
  {
   "cell_type": "code",
   "execution_count": 52,
   "id": "b4193898-4e58-4cc3-a12b-80acb843f1eb",
   "metadata": {},
   "outputs": [
    {
     "data": {
      "text/plain": [
       "Age          45\n",
       "job    Designer\n",
       "Name: Alice, dtype: object"
      ]
     },
     "execution_count": 52,
     "metadata": {},
     "output_type": "execute_result"
    }
   ],
   "source": [
    "df.loc['Alice']"
   ]
  },
  {
   "cell_type": "code",
   "execution_count": 53,
   "id": "f9e46c3d-f9f4-40fc-92fd-c9166d6391d4",
   "metadata": {},
   "outputs": [
    {
     "data": {
      "text/html": [
       "<div>\n",
       "<style scoped>\n",
       "    .dataframe tbody tr th:only-of-type {\n",
       "        vertical-align: middle;\n",
       "    }\n",
       "\n",
       "    .dataframe tbody tr th {\n",
       "        vertical-align: top;\n",
       "    }\n",
       "\n",
       "    .dataframe thead th {\n",
       "        text-align: right;\n",
       "    }\n",
       "</style>\n",
       "<table border=\"1\" class=\"dataframe\">\n",
       "  <thead>\n",
       "    <tr style=\"text-align: right;\">\n",
       "      <th></th>\n",
       "      <th>Age</th>\n",
       "      <th>job</th>\n",
       "    </tr>\n",
       "    <tr>\n",
       "      <th>name</th>\n",
       "      <th></th>\n",
       "      <th></th>\n",
       "    </tr>\n",
       "  </thead>\n",
       "  <tbody>\n",
       "    <tr>\n",
       "      <th>Alice</th>\n",
       "      <td>45</td>\n",
       "      <td>Designer</td>\n",
       "    </tr>\n",
       "    <tr>\n",
       "      <th>Mike</th>\n",
       "      <td>30</td>\n",
       "      <td>programmer</td>\n",
       "    </tr>\n",
       "    <tr>\n",
       "      <th>Bob</th>\n",
       "      <td>80</td>\n",
       "      <td>Accountant</td>\n",
       "    </tr>\n",
       "  </tbody>\n",
       "</table>\n",
       "</div>"
      ],
      "text/plain": [
       "       Age         job\n",
       "name                  \n",
       "Alice   45    Designer\n",
       "Mike    30  programmer\n",
       "Bob     80  Accountant"
      ]
     },
     "execution_count": 53,
     "metadata": {},
     "output_type": "execute_result"
    }
   ],
   "source": [
    "df.iloc[[1,0,2]]"
   ]
  },
  {
   "cell_type": "code",
   "execution_count": 54,
   "id": "46787254-4b19-4321-a57c-eeec775597ff",
   "metadata": {},
   "outputs": [],
   "source": [
    "df.iat[1,1]='Designer'\n",
    "df.iat[1,0]=700\n"
   ]
  },
  {
   "cell_type": "code",
   "execution_count": 55,
   "id": "8a8c077b-e888-46dd-906f-a1cd71e3f221",
   "metadata": {},
   "outputs": [
    {
     "data": {
      "text/html": [
       "<div>\n",
       "<style scoped>\n",
       "    .dataframe tbody tr th:only-of-type {\n",
       "        vertical-align: middle;\n",
       "    }\n",
       "\n",
       "    .dataframe tbody tr th {\n",
       "        vertical-align: top;\n",
       "    }\n",
       "\n",
       "    .dataframe thead th {\n",
       "        text-align: right;\n",
       "    }\n",
       "</style>\n",
       "<table border=\"1\" class=\"dataframe\">\n",
       "  <thead>\n",
       "    <tr style=\"text-align: right;\">\n",
       "      <th></th>\n",
       "      <th>Age</th>\n",
       "      <th>job</th>\n",
       "    </tr>\n",
       "    <tr>\n",
       "      <th>name</th>\n",
       "      <th></th>\n",
       "      <th></th>\n",
       "    </tr>\n",
       "  </thead>\n",
       "  <tbody>\n",
       "    <tr>\n",
       "      <th>Mike</th>\n",
       "      <td>30</td>\n",
       "      <td>programmer</td>\n",
       "    </tr>\n",
       "    <tr>\n",
       "      <th>Alice</th>\n",
       "      <td>700</td>\n",
       "      <td>Designer</td>\n",
       "    </tr>\n",
       "    <tr>\n",
       "      <th>Bob</th>\n",
       "      <td>80</td>\n",
       "      <td>Accountant</td>\n",
       "    </tr>\n",
       "  </tbody>\n",
       "</table>\n",
       "</div>"
      ],
      "text/plain": [
       "       Age         job\n",
       "name                  \n",
       "Mike    30  programmer\n",
       "Alice  700    Designer\n",
       "Bob     80  Accountant"
      ]
     },
     "execution_count": 55,
     "metadata": {},
     "output_type": "execute_result"
    }
   ],
   "source": [
    "df"
   ]
  },
  {
   "cell_type": "markdown",
   "id": "32060a18-f2fc-4a74-907a-7cd29c5eb7c2",
   "metadata": {},
   "source": [
    "# **Adding another data(i.e. row) to the Dataframe**"
   ]
  },
  {
   "cell_type": "code",
   "execution_count": 56,
   "id": "bc523368-f3ea-4f2c-a336-b54e061821e2",
   "metadata": {},
   "outputs": [],
   "source": [
    "df.loc['john']=[88,'Teacher']"
   ]
  },
  {
   "cell_type": "code",
   "execution_count": 57,
   "id": "145e3781-4baf-4b2e-a69c-03330dade485",
   "metadata": {},
   "outputs": [
    {
     "data": {
      "text/html": [
       "<div>\n",
       "<style scoped>\n",
       "    .dataframe tbody tr th:only-of-type {\n",
       "        vertical-align: middle;\n",
       "    }\n",
       "\n",
       "    .dataframe tbody tr th {\n",
       "        vertical-align: top;\n",
       "    }\n",
       "\n",
       "    .dataframe thead th {\n",
       "        text-align: right;\n",
       "    }\n",
       "</style>\n",
       "<table border=\"1\" class=\"dataframe\">\n",
       "  <thead>\n",
       "    <tr style=\"text-align: right;\">\n",
       "      <th></th>\n",
       "      <th>Age</th>\n",
       "      <th>job</th>\n",
       "    </tr>\n",
       "    <tr>\n",
       "      <th>name</th>\n",
       "      <th></th>\n",
       "      <th></th>\n",
       "    </tr>\n",
       "  </thead>\n",
       "  <tbody>\n",
       "    <tr>\n",
       "      <th>Mike</th>\n",
       "      <td>30</td>\n",
       "      <td>programmer</td>\n",
       "    </tr>\n",
       "    <tr>\n",
       "      <th>Alice</th>\n",
       "      <td>700</td>\n",
       "      <td>Designer</td>\n",
       "    </tr>\n",
       "    <tr>\n",
       "      <th>Bob</th>\n",
       "      <td>80</td>\n",
       "      <td>Accountant</td>\n",
       "    </tr>\n",
       "    <tr>\n",
       "      <th>john</th>\n",
       "      <td>88</td>\n",
       "      <td>Teacher</td>\n",
       "    </tr>\n",
       "  </tbody>\n",
       "</table>\n",
       "</div>"
      ],
      "text/plain": [
       "       Age         job\n",
       "name                  \n",
       "Mike    30  programmer\n",
       "Alice  700    Designer\n",
       "Bob     80  Accountant\n",
       "john    88     Teacher"
      ]
     },
     "execution_count": 57,
     "metadata": {},
     "output_type": "execute_result"
    }
   ],
   "source": [
    "df"
   ]
  },
  {
   "cell_type": "code",
   "execution_count": 58,
   "id": "b5bb06e0-b35a-4de2-afef-5f9c79258ec6",
   "metadata": {},
   "outputs": [
    {
     "data": {
      "text/plain": [
       "name\n",
       "Mike      30\n",
       "Alice    700\n",
       "Bob       80\n",
       "john      88\n",
       "Name: Age, dtype: int64"
      ]
     },
     "execution_count": 58,
     "metadata": {},
     "output_type": "execute_result"
    }
   ],
   "source": [
    "df.iloc[:,0]"
   ]
  },
  {
   "cell_type": "code",
   "execution_count": 59,
   "id": "e3e0952d-5f2a-4aba-aa72-c14b63c3ea51",
   "metadata": {},
   "outputs": [
    {
     "data": {
      "text/plain": [
       "name\n",
       "Mike      15.0\n",
       "Alice    350.0\n",
       "Bob       40.0\n",
       "john      44.0\n",
       "Name: Age, dtype: float64"
      ]
     },
     "execution_count": 59,
     "metadata": {},
     "output_type": "execute_result"
    }
   ],
   "source": [
    "df.Age / 2"
   ]
  },
  {
   "cell_type": "markdown",
   "id": "f54678da-3217-43a3-9506-f2ca96ffc6f9",
   "metadata": {},
   "source": [
    "# **applying function in the Dataframe**"
   ]
  },
  {
   "cell_type": "code",
   "execution_count": 60,
   "id": "607a0a64-6601-471f-891d-920d05806aae",
   "metadata": {},
   "outputs": [],
   "source": [
    "def myfunction(x):\n",
    "    if x %2 == 0:\n",
    "        return x**2\n",
    "    else:\n",
    "        return x/2"
   ]
  },
  {
   "cell_type": "code",
   "execution_count": 61,
   "id": "167abeed-8051-45a5-adee-f97da93dec08",
   "metadata": {},
   "outputs": [
    {
     "data": {
      "text/plain": [
       "name\n",
       "Mike        900\n",
       "Alice    490000\n",
       "Bob        6400\n",
       "john       7744\n",
       "Name: Age, dtype: int64"
      ]
     },
     "execution_count": 61,
     "metadata": {},
     "output_type": "execute_result"
    }
   ],
   "source": [
    "df.Age.apply(myfunction)"
   ]
  },
  {
   "cell_type": "code",
   "execution_count": 62,
   "id": "aec8c732-26c7-4200-a25b-d3ff6d1b0ce4",
   "metadata": {},
   "outputs": [],
   "source": [
    "def myfunction2(x):\n",
    "    if x.endswith('r'):\n",
    "        return 'without job'\n",
    "    else:\n",
    "        return x"
   ]
  },
  {
   "cell_type": "code",
   "execution_count": 63,
   "id": "e12e24d7-d6e8-42cf-b441-bf3ce832a0ce",
   "metadata": {},
   "outputs": [],
   "source": [
    "df.job=df.job.apply(myfunction2)"
   ]
  },
  {
   "cell_type": "code",
   "execution_count": 64,
   "id": "b4aa0f33-0243-4f94-9195-b4a4bf5f9743",
   "metadata": {},
   "outputs": [
    {
     "data": {
      "text/html": [
       "<div>\n",
       "<style scoped>\n",
       "    .dataframe tbody tr th:only-of-type {\n",
       "        vertical-align: middle;\n",
       "    }\n",
       "\n",
       "    .dataframe tbody tr th {\n",
       "        vertical-align: top;\n",
       "    }\n",
       "\n",
       "    .dataframe thead th {\n",
       "        text-align: right;\n",
       "    }\n",
       "</style>\n",
       "<table border=\"1\" class=\"dataframe\">\n",
       "  <thead>\n",
       "    <tr style=\"text-align: right;\">\n",
       "      <th></th>\n",
       "      <th>Age</th>\n",
       "      <th>job</th>\n",
       "    </tr>\n",
       "    <tr>\n",
       "      <th>name</th>\n",
       "      <th></th>\n",
       "      <th></th>\n",
       "    </tr>\n",
       "  </thead>\n",
       "  <tbody>\n",
       "    <tr>\n",
       "      <th>Mike</th>\n",
       "      <td>30</td>\n",
       "      <td>without job</td>\n",
       "    </tr>\n",
       "    <tr>\n",
       "      <th>Alice</th>\n",
       "      <td>700</td>\n",
       "      <td>without job</td>\n",
       "    </tr>\n",
       "    <tr>\n",
       "      <th>Bob</th>\n",
       "      <td>80</td>\n",
       "      <td>Accountant</td>\n",
       "    </tr>\n",
       "    <tr>\n",
       "      <th>john</th>\n",
       "      <td>88</td>\n",
       "      <td>without job</td>\n",
       "    </tr>\n",
       "  </tbody>\n",
       "</table>\n",
       "</div>"
      ],
      "text/plain": [
       "       Age          job\n",
       "name                   \n",
       "Mike    30  without job\n",
       "Alice  700  without job\n",
       "Bob     80   Accountant\n",
       "john    88  without job"
      ]
     },
     "execution_count": 64,
     "metadata": {},
     "output_type": "execute_result"
    }
   ],
   "source": [
    "df"
   ]
  },
  {
   "cell_type": "code",
   "execution_count": 65,
   "id": "d2b4ba8f-11e2-44cf-98a1-c50348e84712",
   "metadata": {},
   "outputs": [],
   "source": [
    "df.Age=df.Age.apply(lambda x:x**2 if x%10==0 else float(x/2))"
   ]
  },
  {
   "cell_type": "code",
   "execution_count": 66,
   "id": "71d2e7b1-6035-4cff-948c-28a248510c08",
   "metadata": {},
   "outputs": [
    {
     "data": {
      "text/html": [
       "<div>\n",
       "<style scoped>\n",
       "    .dataframe tbody tr th:only-of-type {\n",
       "        vertical-align: middle;\n",
       "    }\n",
       "\n",
       "    .dataframe tbody tr th {\n",
       "        vertical-align: top;\n",
       "    }\n",
       "\n",
       "    .dataframe thead th {\n",
       "        text-align: right;\n",
       "    }\n",
       "</style>\n",
       "<table border=\"1\" class=\"dataframe\">\n",
       "  <thead>\n",
       "    <tr style=\"text-align: right;\">\n",
       "      <th></th>\n",
       "      <th>Age</th>\n",
       "      <th>job</th>\n",
       "    </tr>\n",
       "    <tr>\n",
       "      <th>name</th>\n",
       "      <th></th>\n",
       "      <th></th>\n",
       "    </tr>\n",
       "  </thead>\n",
       "  <tbody>\n",
       "    <tr>\n",
       "      <th>Mike</th>\n",
       "      <td>900.0</td>\n",
       "      <td>without job</td>\n",
       "    </tr>\n",
       "    <tr>\n",
       "      <th>Alice</th>\n",
       "      <td>490000.0</td>\n",
       "      <td>without job</td>\n",
       "    </tr>\n",
       "    <tr>\n",
       "      <th>Bob</th>\n",
       "      <td>6400.0</td>\n",
       "      <td>Accountant</td>\n",
       "    </tr>\n",
       "    <tr>\n",
       "      <th>john</th>\n",
       "      <td>44.0</td>\n",
       "      <td>without job</td>\n",
       "    </tr>\n",
       "  </tbody>\n",
       "</table>\n",
       "</div>"
      ],
      "text/plain": [
       "            Age          job\n",
       "name                        \n",
       "Mike      900.0  without job\n",
       "Alice  490000.0  without job\n",
       "Bob      6400.0   Accountant\n",
       "john       44.0  without job"
      ]
     },
     "execution_count": 66,
     "metadata": {},
     "output_type": "execute_result"
    }
   ],
   "source": [
    "df"
   ]
  },
  {
   "cell_type": "markdown",
   "id": "28f40ed1-2fb2-4536-9052-ff48b63fce51",
   "metadata": {},
   "source": [
    "# **adding a new column**"
   ]
  },
  {
   "cell_type": "code",
   "execution_count": 67,
   "id": "aab2a5df-11bc-416a-bca2-c69c1007a74e",
   "metadata": {},
   "outputs": [],
   "source": [
    "df['summary'] = df.apply(lambda row: f\"age:{row['Age']}, job:{row['job']}\", axis=1)"
   ]
  },
  {
   "cell_type": "code",
   "execution_count": 68,
   "id": "7ee2acee-3472-4a05-a70f-d9eab72884ff",
   "metadata": {},
   "outputs": [
    {
     "data": {
      "text/html": [
       "<div>\n",
       "<style scoped>\n",
       "    .dataframe tbody tr th:only-of-type {\n",
       "        vertical-align: middle;\n",
       "    }\n",
       "\n",
       "    .dataframe tbody tr th {\n",
       "        vertical-align: top;\n",
       "    }\n",
       "\n",
       "    .dataframe thead th {\n",
       "        text-align: right;\n",
       "    }\n",
       "</style>\n",
       "<table border=\"1\" class=\"dataframe\">\n",
       "  <thead>\n",
       "    <tr style=\"text-align: right;\">\n",
       "      <th></th>\n",
       "      <th>Age</th>\n",
       "      <th>job</th>\n",
       "      <th>summary</th>\n",
       "    </tr>\n",
       "    <tr>\n",
       "      <th>name</th>\n",
       "      <th></th>\n",
       "      <th></th>\n",
       "      <th></th>\n",
       "    </tr>\n",
       "  </thead>\n",
       "  <tbody>\n",
       "    <tr>\n",
       "      <th>Mike</th>\n",
       "      <td>900.0</td>\n",
       "      <td>without job</td>\n",
       "      <td>age:900.0, job:without job</td>\n",
       "    </tr>\n",
       "    <tr>\n",
       "      <th>Alice</th>\n",
       "      <td>490000.0</td>\n",
       "      <td>without job</td>\n",
       "      <td>age:490000.0, job:without job</td>\n",
       "    </tr>\n",
       "    <tr>\n",
       "      <th>Bob</th>\n",
       "      <td>6400.0</td>\n",
       "      <td>Accountant</td>\n",
       "      <td>age:6400.0, job:Accountant</td>\n",
       "    </tr>\n",
       "    <tr>\n",
       "      <th>john</th>\n",
       "      <td>44.0</td>\n",
       "      <td>without job</td>\n",
       "      <td>age:44.0, job:without job</td>\n",
       "    </tr>\n",
       "  </tbody>\n",
       "</table>\n",
       "</div>"
      ],
      "text/plain": [
       "            Age          job                        summary\n",
       "name                                                       \n",
       "Mike      900.0  without job     age:900.0, job:without job\n",
       "Alice  490000.0  without job  age:490000.0, job:without job\n",
       "Bob      6400.0   Accountant     age:6400.0, job:Accountant\n",
       "john       44.0  without job      age:44.0, job:without job"
      ]
     },
     "execution_count": 68,
     "metadata": {},
     "output_type": "execute_result"
    }
   ],
   "source": [
    "df"
   ]
  },
  {
   "cell_type": "markdown",
   "id": "9fa16340-35c3-4eca-80a4-ef372b6200a5",
   "metadata": {},
   "source": [
    "# **Removing a columns using drop function**"
   ]
  },
  {
   "cell_type": "code",
   "execution_count": 69,
   "id": "3017f00b-d5e2-4215-9d2b-7be3e7d200fc",
   "metadata": {},
   "outputs": [
    {
     "data": {
      "text/html": [
       "<div>\n",
       "<style scoped>\n",
       "    .dataframe tbody tr th:only-of-type {\n",
       "        vertical-align: middle;\n",
       "    }\n",
       "\n",
       "    .dataframe tbody tr th {\n",
       "        vertical-align: top;\n",
       "    }\n",
       "\n",
       "    .dataframe thead th {\n",
       "        text-align: right;\n",
       "    }\n",
       "</style>\n",
       "<table border=\"1\" class=\"dataframe\">\n",
       "  <thead>\n",
       "    <tr style=\"text-align: right;\">\n",
       "      <th></th>\n",
       "      <th>Age</th>\n",
       "      <th>summary</th>\n",
       "    </tr>\n",
       "    <tr>\n",
       "      <th>name</th>\n",
       "      <th></th>\n",
       "      <th></th>\n",
       "    </tr>\n",
       "  </thead>\n",
       "  <tbody>\n",
       "    <tr>\n",
       "      <th>Mike</th>\n",
       "      <td>900.0</td>\n",
       "      <td>age:900.0, job:without job</td>\n",
       "    </tr>\n",
       "    <tr>\n",
       "      <th>Alice</th>\n",
       "      <td>490000.0</td>\n",
       "      <td>age:490000.0, job:without job</td>\n",
       "    </tr>\n",
       "    <tr>\n",
       "      <th>Bob</th>\n",
       "      <td>6400.0</td>\n",
       "      <td>age:6400.0, job:Accountant</td>\n",
       "    </tr>\n",
       "    <tr>\n",
       "      <th>john</th>\n",
       "      <td>44.0</td>\n",
       "      <td>age:44.0, job:without job</td>\n",
       "    </tr>\n",
       "  </tbody>\n",
       "</table>\n",
       "</div>"
      ],
      "text/plain": [
       "            Age                        summary\n",
       "name                                          \n",
       "Mike      900.0     age:900.0, job:without job\n",
       "Alice  490000.0  age:490000.0, job:without job\n",
       "Bob      6400.0     age:6400.0, job:Accountant\n",
       "john       44.0      age:44.0, job:without job"
      ]
     },
     "execution_count": 69,
     "metadata": {},
     "output_type": "execute_result"
    }
   ],
   "source": [
    "df.drop('job',axis=1)"
   ]
  },
  {
   "cell_type": "code",
   "execution_count": 70,
   "id": "a3df5b25-7696-4564-9995-b7a5db1c0028",
   "metadata": {},
   "outputs": [
    {
     "data": {
      "text/html": [
       "<div>\n",
       "<style scoped>\n",
       "    .dataframe tbody tr th:only-of-type {\n",
       "        vertical-align: middle;\n",
       "    }\n",
       "\n",
       "    .dataframe tbody tr th {\n",
       "        vertical-align: top;\n",
       "    }\n",
       "\n",
       "    .dataframe thead th {\n",
       "        text-align: right;\n",
       "    }\n",
       "</style>\n",
       "<table border=\"1\" class=\"dataframe\">\n",
       "  <thead>\n",
       "    <tr style=\"text-align: right;\">\n",
       "      <th></th>\n",
       "      <th>Age</th>\n",
       "      <th>job</th>\n",
       "      <th>summary</th>\n",
       "    </tr>\n",
       "    <tr>\n",
       "      <th>name</th>\n",
       "      <th></th>\n",
       "      <th></th>\n",
       "      <th></th>\n",
       "    </tr>\n",
       "  </thead>\n",
       "  <tbody>\n",
       "    <tr>\n",
       "      <th>Mike</th>\n",
       "      <td>900.0</td>\n",
       "      <td>without job</td>\n",
       "      <td>age:900.0, job:without job</td>\n",
       "    </tr>\n",
       "    <tr>\n",
       "      <th>Alice</th>\n",
       "      <td>490000.0</td>\n",
       "      <td>without job</td>\n",
       "      <td>age:490000.0, job:without job</td>\n",
       "    </tr>\n",
       "    <tr>\n",
       "      <th>Bob</th>\n",
       "      <td>6400.0</td>\n",
       "      <td>Accountant</td>\n",
       "      <td>age:6400.0, job:Accountant</td>\n",
       "    </tr>\n",
       "    <tr>\n",
       "      <th>john</th>\n",
       "      <td>44.0</td>\n",
       "      <td>without job</td>\n",
       "      <td>age:44.0, job:without job</td>\n",
       "    </tr>\n",
       "  </tbody>\n",
       "</table>\n",
       "</div>"
      ],
      "text/plain": [
       "            Age          job                        summary\n",
       "name                                                       \n",
       "Mike      900.0  without job     age:900.0, job:without job\n",
       "Alice  490000.0  without job  age:490000.0, job:without job\n",
       "Bob      6400.0   Accountant     age:6400.0, job:Accountant\n",
       "john       44.0  without job      age:44.0, job:without job"
      ]
     },
     "execution_count": 70,
     "metadata": {},
     "output_type": "execute_result"
    }
   ],
   "source": [
    "df"
   ]
  },
  {
   "cell_type": "code",
   "execution_count": 71,
   "id": "e42308ab-722c-4a4b-9b83-ef647579c81d",
   "metadata": {},
   "outputs": [
    {
     "ename": "KeyError",
     "evalue": "\"['student', 'rank'] not found in axis\"",
     "output_type": "error",
     "traceback": [
      "\u001b[31m---------------------------------------------------------------------------\u001b[39m",
      "\u001b[31mKeyError\u001b[39m                                  Traceback (most recent call last)",
      "\u001b[36mCell\u001b[39m\u001b[36m \u001b[39m\u001b[32mIn[71]\u001b[39m\u001b[32m, line 1\u001b[39m\n\u001b[32m----> \u001b[39m\u001b[32m1\u001b[39m \u001b[43mdf\u001b[49m\u001b[43m.\u001b[49m\u001b[43mdrop\u001b[49m\u001b[43m(\u001b[49m\u001b[43m[\u001b[49m\u001b[33;43m'\u001b[39;49m\u001b[33;43mstudent\u001b[39;49m\u001b[33;43m'\u001b[39;49m\u001b[43m,\u001b[49m\u001b[33;43m'\u001b[39;49m\u001b[33;43mrank\u001b[39;49m\u001b[33;43m'\u001b[39;49m\u001b[43m]\u001b[49m\u001b[43m,\u001b[49m\u001b[43maxis\u001b[49m\u001b[43m=\u001b[49m\u001b[32;43m1\u001b[39;49m\u001b[43m)\u001b[49m\n",
      "\u001b[36mFile \u001b[39m\u001b[32mF:\\anaconda_running_folder\\Lib\\site-packages\\pandas\\core\\frame.py:5581\u001b[39m, in \u001b[36mDataFrame.drop\u001b[39m\u001b[34m(self, labels, axis, index, columns, level, inplace, errors)\u001b[39m\n\u001b[32m   5433\u001b[39m \u001b[38;5;28;01mdef\u001b[39;00m\u001b[38;5;250m \u001b[39m\u001b[34mdrop\u001b[39m(\n\u001b[32m   5434\u001b[39m     \u001b[38;5;28mself\u001b[39m,\n\u001b[32m   5435\u001b[39m     labels: IndexLabel | \u001b[38;5;28;01mNone\u001b[39;00m = \u001b[38;5;28;01mNone\u001b[39;00m,\n\u001b[32m   (...)\u001b[39m\u001b[32m   5442\u001b[39m     errors: IgnoreRaise = \u001b[33m\"\u001b[39m\u001b[33mraise\u001b[39m\u001b[33m\"\u001b[39m,\n\u001b[32m   5443\u001b[39m ) -> DataFrame | \u001b[38;5;28;01mNone\u001b[39;00m:\n\u001b[32m   5444\u001b[39m \u001b[38;5;250m    \u001b[39m\u001b[33;03m\"\"\"\u001b[39;00m\n\u001b[32m   5445\u001b[39m \u001b[33;03m    Drop specified labels from rows or columns.\u001b[39;00m\n\u001b[32m   5446\u001b[39m \n\u001b[32m   (...)\u001b[39m\u001b[32m   5579\u001b[39m \u001b[33;03m            weight  1.0     0.8\u001b[39;00m\n\u001b[32m   5580\u001b[39m \u001b[33;03m    \"\"\"\u001b[39;00m\n\u001b[32m-> \u001b[39m\u001b[32m5581\u001b[39m     \u001b[38;5;28;01mreturn\u001b[39;00m \u001b[38;5;28;43msuper\u001b[39;49m\u001b[43m(\u001b[49m\u001b[43m)\u001b[49m\u001b[43m.\u001b[49m\u001b[43mdrop\u001b[49m\u001b[43m(\u001b[49m\n\u001b[32m   5582\u001b[39m \u001b[43m        \u001b[49m\u001b[43mlabels\u001b[49m\u001b[43m=\u001b[49m\u001b[43mlabels\u001b[49m\u001b[43m,\u001b[49m\n\u001b[32m   5583\u001b[39m \u001b[43m        \u001b[49m\u001b[43maxis\u001b[49m\u001b[43m=\u001b[49m\u001b[43maxis\u001b[49m\u001b[43m,\u001b[49m\n\u001b[32m   5584\u001b[39m \u001b[43m        \u001b[49m\u001b[43mindex\u001b[49m\u001b[43m=\u001b[49m\u001b[43mindex\u001b[49m\u001b[43m,\u001b[49m\n\u001b[32m   5585\u001b[39m \u001b[43m        \u001b[49m\u001b[43mcolumns\u001b[49m\u001b[43m=\u001b[49m\u001b[43mcolumns\u001b[49m\u001b[43m,\u001b[49m\n\u001b[32m   5586\u001b[39m \u001b[43m        \u001b[49m\u001b[43mlevel\u001b[49m\u001b[43m=\u001b[49m\u001b[43mlevel\u001b[49m\u001b[43m,\u001b[49m\n\u001b[32m   5587\u001b[39m \u001b[43m        \u001b[49m\u001b[43minplace\u001b[49m\u001b[43m=\u001b[49m\u001b[43minplace\u001b[49m\u001b[43m,\u001b[49m\n\u001b[32m   5588\u001b[39m \u001b[43m        \u001b[49m\u001b[43merrors\u001b[49m\u001b[43m=\u001b[49m\u001b[43merrors\u001b[49m\u001b[43m,\u001b[49m\n\u001b[32m   5589\u001b[39m \u001b[43m    \u001b[49m\u001b[43m)\u001b[49m\n",
      "\u001b[36mFile \u001b[39m\u001b[32mF:\\anaconda_running_folder\\Lib\\site-packages\\pandas\\core\\generic.py:4788\u001b[39m, in \u001b[36mNDFrame.drop\u001b[39m\u001b[34m(self, labels, axis, index, columns, level, inplace, errors)\u001b[39m\n\u001b[32m   4786\u001b[39m \u001b[38;5;28;01mfor\u001b[39;00m axis, labels \u001b[38;5;129;01min\u001b[39;00m axes.items():\n\u001b[32m   4787\u001b[39m     \u001b[38;5;28;01mif\u001b[39;00m labels \u001b[38;5;129;01mis\u001b[39;00m \u001b[38;5;129;01mnot\u001b[39;00m \u001b[38;5;28;01mNone\u001b[39;00m:\n\u001b[32m-> \u001b[39m\u001b[32m4788\u001b[39m         obj = \u001b[43mobj\u001b[49m\u001b[43m.\u001b[49m\u001b[43m_drop_axis\u001b[49m\u001b[43m(\u001b[49m\u001b[43mlabels\u001b[49m\u001b[43m,\u001b[49m\u001b[43m \u001b[49m\u001b[43maxis\u001b[49m\u001b[43m,\u001b[49m\u001b[43m \u001b[49m\u001b[43mlevel\u001b[49m\u001b[43m=\u001b[49m\u001b[43mlevel\u001b[49m\u001b[43m,\u001b[49m\u001b[43m \u001b[49m\u001b[43merrors\u001b[49m\u001b[43m=\u001b[49m\u001b[43merrors\u001b[49m\u001b[43m)\u001b[49m\n\u001b[32m   4790\u001b[39m \u001b[38;5;28;01mif\u001b[39;00m inplace:\n\u001b[32m   4791\u001b[39m     \u001b[38;5;28mself\u001b[39m._update_inplace(obj)\n",
      "\u001b[36mFile \u001b[39m\u001b[32mF:\\anaconda_running_folder\\Lib\\site-packages\\pandas\\core\\generic.py:4830\u001b[39m, in \u001b[36mNDFrame._drop_axis\u001b[39m\u001b[34m(self, labels, axis, level, errors, only_slice)\u001b[39m\n\u001b[32m   4828\u001b[39m         new_axis = axis.drop(labels, level=level, errors=errors)\n\u001b[32m   4829\u001b[39m     \u001b[38;5;28;01melse\u001b[39;00m:\n\u001b[32m-> \u001b[39m\u001b[32m4830\u001b[39m         new_axis = \u001b[43maxis\u001b[49m\u001b[43m.\u001b[49m\u001b[43mdrop\u001b[49m\u001b[43m(\u001b[49m\u001b[43mlabels\u001b[49m\u001b[43m,\u001b[49m\u001b[43m \u001b[49m\u001b[43merrors\u001b[49m\u001b[43m=\u001b[49m\u001b[43merrors\u001b[49m\u001b[43m)\u001b[49m\n\u001b[32m   4831\u001b[39m     indexer = axis.get_indexer(new_axis)\n\u001b[32m   4833\u001b[39m \u001b[38;5;66;03m# Case for non-unique axis\u001b[39;00m\n\u001b[32m   4834\u001b[39m \u001b[38;5;28;01melse\u001b[39;00m:\n",
      "\u001b[36mFile \u001b[39m\u001b[32mF:\\anaconda_running_folder\\Lib\\site-packages\\pandas\\core\\indexes\\base.py:7070\u001b[39m, in \u001b[36mIndex.drop\u001b[39m\u001b[34m(self, labels, errors)\u001b[39m\n\u001b[32m   7068\u001b[39m \u001b[38;5;28;01mif\u001b[39;00m mask.any():\n\u001b[32m   7069\u001b[39m     \u001b[38;5;28;01mif\u001b[39;00m errors != \u001b[33m\"\u001b[39m\u001b[33mignore\u001b[39m\u001b[33m\"\u001b[39m:\n\u001b[32m-> \u001b[39m\u001b[32m7070\u001b[39m         \u001b[38;5;28;01mraise\u001b[39;00m \u001b[38;5;167;01mKeyError\u001b[39;00m(\u001b[33mf\u001b[39m\u001b[33m\"\u001b[39m\u001b[38;5;132;01m{\u001b[39;00mlabels[mask].tolist()\u001b[38;5;132;01m}\u001b[39;00m\u001b[33m not found in axis\u001b[39m\u001b[33m\"\u001b[39m)\n\u001b[32m   7071\u001b[39m     indexer = indexer[~mask]\n\u001b[32m   7072\u001b[39m \u001b[38;5;28;01mreturn\u001b[39;00m \u001b[38;5;28mself\u001b[39m.delete(indexer)\n",
      "\u001b[31mKeyError\u001b[39m: \"['student', 'rank'] not found in axis\""
     ]
    }
   ],
   "source": [
    "df.drop(['student','rank'],axis=1)"
   ]
  },
  {
   "cell_type": "code",
   "execution_count": 72,
   "id": "811b8403-5b58-400f-b7c8-4cdb3ca2cb57",
   "metadata": {},
   "outputs": [],
   "source": [
    "df.at['Bob','Age']=float('nan')"
   ]
  },
  {
   "cell_type": "code",
   "execution_count": 73,
   "id": "8fccf63d-58bf-4dd3-938d-b1b560a83b85",
   "metadata": {},
   "outputs": [
    {
     "data": {
      "text/html": [
       "<div>\n",
       "<style scoped>\n",
       "    .dataframe tbody tr th:only-of-type {\n",
       "        vertical-align: middle;\n",
       "    }\n",
       "\n",
       "    .dataframe tbody tr th {\n",
       "        vertical-align: top;\n",
       "    }\n",
       "\n",
       "    .dataframe thead th {\n",
       "        text-align: right;\n",
       "    }\n",
       "</style>\n",
       "<table border=\"1\" class=\"dataframe\">\n",
       "  <thead>\n",
       "    <tr style=\"text-align: right;\">\n",
       "      <th></th>\n",
       "      <th>Age</th>\n",
       "      <th>job</th>\n",
       "      <th>summary</th>\n",
       "    </tr>\n",
       "    <tr>\n",
       "      <th>name</th>\n",
       "      <th></th>\n",
       "      <th></th>\n",
       "      <th></th>\n",
       "    </tr>\n",
       "  </thead>\n",
       "  <tbody>\n",
       "    <tr>\n",
       "      <th>Mike</th>\n",
       "      <td>900.0</td>\n",
       "      <td>without job</td>\n",
       "      <td>age:900.0, job:without job</td>\n",
       "    </tr>\n",
       "    <tr>\n",
       "      <th>Alice</th>\n",
       "      <td>490000.0</td>\n",
       "      <td>without job</td>\n",
       "      <td>age:490000.0, job:without job</td>\n",
       "    </tr>\n",
       "    <tr>\n",
       "      <th>Bob</th>\n",
       "      <td>NaN</td>\n",
       "      <td>Accountant</td>\n",
       "      <td>age:6400.0, job:Accountant</td>\n",
       "    </tr>\n",
       "    <tr>\n",
       "      <th>john</th>\n",
       "      <td>44.0</td>\n",
       "      <td>without job</td>\n",
       "      <td>age:44.0, job:without job</td>\n",
       "    </tr>\n",
       "  </tbody>\n",
       "</table>\n",
       "</div>"
      ],
      "text/plain": [
       "            Age          job                        summary\n",
       "name                                                       \n",
       "Mike      900.0  without job     age:900.0, job:without job\n",
       "Alice  490000.0  without job  age:490000.0, job:without job\n",
       "Bob         NaN   Accountant     age:6400.0, job:Accountant\n",
       "john       44.0  without job      age:44.0, job:without job"
      ]
     },
     "execution_count": 73,
     "metadata": {},
     "output_type": "execute_result"
    }
   ],
   "source": [
    "df"
   ]
  },
  {
   "cell_type": "code",
   "execution_count": 74,
   "id": "a8c7f63a-4a51-450c-a11d-fb64bbcaa2a3",
   "metadata": {},
   "outputs": [
    {
     "name": "stdout",
     "output_type": "stream",
     "text": [
      "<class 'pandas.core.frame.DataFrame'>\n",
      "Index: 4 entries, Mike to john\n",
      "Data columns (total 3 columns):\n",
      " #   Column   Non-Null Count  Dtype  \n",
      "---  ------   --------------  -----  \n",
      " 0   Age      3 non-null      float64\n",
      " 1   job      4 non-null      object \n",
      " 2   summary  4 non-null      object \n",
      "dtypes: float64(1), object(2)\n",
      "memory usage: 300.0+ bytes\n"
     ]
    }
   ],
   "source": [
    "df.info()"
   ]
  },
  {
   "cell_type": "markdown",
   "id": "9fb9a005-c31a-44b9-aa47-edf0492e7b2d",
   "metadata": {},
   "source": [
    "# **Dropping the nan values using dropna()**"
   ]
  },
  {
   "cell_type": "code",
   "execution_count": 75,
   "id": "62e39dae-e739-446d-b171-2c5980b3185d",
   "metadata": {},
   "outputs": [
    {
     "data": {
      "text/html": [
       "<div>\n",
       "<style scoped>\n",
       "    .dataframe tbody tr th:only-of-type {\n",
       "        vertical-align: middle;\n",
       "    }\n",
       "\n",
       "    .dataframe tbody tr th {\n",
       "        vertical-align: top;\n",
       "    }\n",
       "\n",
       "    .dataframe thead th {\n",
       "        text-align: right;\n",
       "    }\n",
       "</style>\n",
       "<table border=\"1\" class=\"dataframe\">\n",
       "  <thead>\n",
       "    <tr style=\"text-align: right;\">\n",
       "      <th></th>\n",
       "      <th>Age</th>\n",
       "      <th>job</th>\n",
       "      <th>summary</th>\n",
       "    </tr>\n",
       "    <tr>\n",
       "      <th>name</th>\n",
       "      <th></th>\n",
       "      <th></th>\n",
       "      <th></th>\n",
       "    </tr>\n",
       "  </thead>\n",
       "  <tbody>\n",
       "    <tr>\n",
       "      <th>Mike</th>\n",
       "      <td>900.0</td>\n",
       "      <td>without job</td>\n",
       "      <td>age:900.0, job:without job</td>\n",
       "    </tr>\n",
       "    <tr>\n",
       "      <th>Alice</th>\n",
       "      <td>490000.0</td>\n",
       "      <td>without job</td>\n",
       "      <td>age:490000.0, job:without job</td>\n",
       "    </tr>\n",
       "    <tr>\n",
       "      <th>john</th>\n",
       "      <td>44.0</td>\n",
       "      <td>without job</td>\n",
       "      <td>age:44.0, job:without job</td>\n",
       "    </tr>\n",
       "  </tbody>\n",
       "</table>\n",
       "</div>"
      ],
      "text/plain": [
       "            Age          job                        summary\n",
       "name                                                       \n",
       "Mike      900.0  without job     age:900.0, job:without job\n",
       "Alice  490000.0  without job  age:490000.0, job:without job\n",
       "john       44.0  without job      age:44.0, job:without job"
      ]
     },
     "execution_count": 75,
     "metadata": {},
     "output_type": "execute_result"
    }
   ],
   "source": [
    "df.dropna()"
   ]
  },
  {
   "cell_type": "markdown",
   "id": "c3285c44-3cb9-4b2f-ac01-3cbf71889d7d",
   "metadata": {},
   "source": [
    "# **replacing nan values with any value**"
   ]
  },
  {
   "cell_type": "code",
   "execution_count": 76,
   "id": "ce3bc447-8078-41dc-bfdd-5d6abe13be27",
   "metadata": {},
   "outputs": [
    {
     "data": {
      "text/html": [
       "<div>\n",
       "<style scoped>\n",
       "    .dataframe tbody tr th:only-of-type {\n",
       "        vertical-align: middle;\n",
       "    }\n",
       "\n",
       "    .dataframe tbody tr th {\n",
       "        vertical-align: top;\n",
       "    }\n",
       "\n",
       "    .dataframe thead th {\n",
       "        text-align: right;\n",
       "    }\n",
       "</style>\n",
       "<table border=\"1\" class=\"dataframe\">\n",
       "  <thead>\n",
       "    <tr style=\"text-align: right;\">\n",
       "      <th></th>\n",
       "      <th>Age</th>\n",
       "      <th>job</th>\n",
       "      <th>summary</th>\n",
       "    </tr>\n",
       "    <tr>\n",
       "      <th>name</th>\n",
       "      <th></th>\n",
       "      <th></th>\n",
       "      <th></th>\n",
       "    </tr>\n",
       "  </thead>\n",
       "  <tbody>\n",
       "    <tr>\n",
       "      <th>Mike</th>\n",
       "      <td>900.0</td>\n",
       "      <td>without job</td>\n",
       "      <td>age:900.0, job:without job</td>\n",
       "    </tr>\n",
       "    <tr>\n",
       "      <th>Alice</th>\n",
       "      <td>490000.0</td>\n",
       "      <td>without job</td>\n",
       "      <td>age:490000.0, job:without job</td>\n",
       "    </tr>\n",
       "    <tr>\n",
       "      <th>Bob</th>\n",
       "      <td>0.0</td>\n",
       "      <td>Accountant</td>\n",
       "      <td>age:6400.0, job:Accountant</td>\n",
       "    </tr>\n",
       "    <tr>\n",
       "      <th>john</th>\n",
       "      <td>44.0</td>\n",
       "      <td>without job</td>\n",
       "      <td>age:44.0, job:without job</td>\n",
       "    </tr>\n",
       "  </tbody>\n",
       "</table>\n",
       "</div>"
      ],
      "text/plain": [
       "            Age          job                        summary\n",
       "name                                                       \n",
       "Mike      900.0  without job     age:900.0, job:without job\n",
       "Alice  490000.0  without job  age:490000.0, job:without job\n",
       "Bob         0.0   Accountant     age:6400.0, job:Accountant\n",
       "john       44.0  without job      age:44.0, job:without job"
      ]
     },
     "execution_count": 76,
     "metadata": {},
     "output_type": "execute_result"
    }
   ],
   "source": [
    "df.fillna(0)"
   ]
  },
  {
   "cell_type": "code",
   "execution_count": 77,
   "id": "801b6256-a929-454a-9932-3ceaf5bdd9a7",
   "metadata": {},
   "outputs": [
    {
     "data": {
      "text/html": [
       "<div>\n",
       "<style scoped>\n",
       "    .dataframe tbody tr th:only-of-type {\n",
       "        vertical-align: middle;\n",
       "    }\n",
       "\n",
       "    .dataframe tbody tr th {\n",
       "        vertical-align: top;\n",
       "    }\n",
       "\n",
       "    .dataframe thead th {\n",
       "        text-align: right;\n",
       "    }\n",
       "</style>\n",
       "<table border=\"1\" class=\"dataframe\">\n",
       "  <thead>\n",
       "    <tr style=\"text-align: right;\">\n",
       "      <th></th>\n",
       "      <th>Age</th>\n",
       "      <th>job</th>\n",
       "      <th>summary</th>\n",
       "    </tr>\n",
       "    <tr>\n",
       "      <th>name</th>\n",
       "      <th></th>\n",
       "      <th></th>\n",
       "      <th></th>\n",
       "    </tr>\n",
       "  </thead>\n",
       "  <tbody>\n",
       "    <tr>\n",
       "      <th>Mike</th>\n",
       "      <td>900.0</td>\n",
       "      <td>without job</td>\n",
       "      <td>age:900.0, job:without job</td>\n",
       "    </tr>\n",
       "    <tr>\n",
       "      <th>Alice</th>\n",
       "      <td>490000.0</td>\n",
       "      <td>without job</td>\n",
       "      <td>age:490000.0, job:without job</td>\n",
       "    </tr>\n",
       "    <tr>\n",
       "      <th>Bob</th>\n",
       "      <td>163648.0</td>\n",
       "      <td>Accountant</td>\n",
       "      <td>age:6400.0, job:Accountant</td>\n",
       "    </tr>\n",
       "    <tr>\n",
       "      <th>john</th>\n",
       "      <td>44.0</td>\n",
       "      <td>without job</td>\n",
       "      <td>age:44.0, job:without job</td>\n",
       "    </tr>\n",
       "  </tbody>\n",
       "</table>\n",
       "</div>"
      ],
      "text/plain": [
       "            Age          job                        summary\n",
       "name                                                       \n",
       "Mike      900.0  without job     age:900.0, job:without job\n",
       "Alice  490000.0  without job  age:490000.0, job:without job\n",
       "Bob    163648.0   Accountant     age:6400.0, job:Accountant\n",
       "john       44.0  without job      age:44.0, job:without job"
      ]
     },
     "execution_count": 77,
     "metadata": {},
     "output_type": "execute_result"
    }
   ],
   "source": [
    "df.fillna(df.Age.mean())#taking the average of the rest and replacing the nan with that average"
   ]
  },
  {
   "cell_type": "code",
   "execution_count": 78,
   "id": "572f0ca1-0a35-42a0-b748-9b744ada61f5",
   "metadata": {},
   "outputs": [
    {
     "data": {
      "text/html": [
       "<div>\n",
       "<style scoped>\n",
       "    .dataframe tbody tr th:only-of-type {\n",
       "        vertical-align: middle;\n",
       "    }\n",
       "\n",
       "    .dataframe tbody tr th {\n",
       "        vertical-align: top;\n",
       "    }\n",
       "\n",
       "    .dataframe thead th {\n",
       "        text-align: right;\n",
       "    }\n",
       "</style>\n",
       "<table border=\"1\" class=\"dataframe\">\n",
       "  <thead>\n",
       "    <tr style=\"text-align: right;\">\n",
       "      <th></th>\n",
       "      <th>Age</th>\n",
       "      <th>job</th>\n",
       "      <th>summary</th>\n",
       "    </tr>\n",
       "    <tr>\n",
       "      <th>name</th>\n",
       "      <th></th>\n",
       "      <th></th>\n",
       "      <th></th>\n",
       "    </tr>\n",
       "  </thead>\n",
       "  <tbody>\n",
       "    <tr>\n",
       "      <th>Mike</th>\n",
       "      <td>True</td>\n",
       "      <td>True</td>\n",
       "      <td>True</td>\n",
       "    </tr>\n",
       "    <tr>\n",
       "      <th>Alice</th>\n",
       "      <td>True</td>\n",
       "      <td>True</td>\n",
       "      <td>True</td>\n",
       "    </tr>\n",
       "    <tr>\n",
       "      <th>Bob</th>\n",
       "      <td>False</td>\n",
       "      <td>True</td>\n",
       "      <td>True</td>\n",
       "    </tr>\n",
       "    <tr>\n",
       "      <th>john</th>\n",
       "      <td>True</td>\n",
       "      <td>True</td>\n",
       "      <td>True</td>\n",
       "    </tr>\n",
       "  </tbody>\n",
       "</table>\n",
       "</div>"
      ],
      "text/plain": [
       "         Age   job  summary\n",
       "name                       \n",
       "Mike    True  True     True\n",
       "Alice   True  True     True\n",
       "Bob    False  True     True\n",
       "john    True  True     True"
      ]
     },
     "execution_count": 78,
     "metadata": {},
     "output_type": "execute_result"
    }
   ],
   "source": [
    "df.notna()"
   ]
  },
  {
   "cell_type": "code",
   "execution_count": 79,
   "id": "6348d228-563d-48e2-b5a2-b87102b5c8fe",
   "metadata": {},
   "outputs": [
    {
     "data": {
      "text/html": [
       "<div>\n",
       "<style scoped>\n",
       "    .dataframe tbody tr th:only-of-type {\n",
       "        vertical-align: middle;\n",
       "    }\n",
       "\n",
       "    .dataframe tbody tr th {\n",
       "        vertical-align: top;\n",
       "    }\n",
       "\n",
       "    .dataframe thead th {\n",
       "        text-align: right;\n",
       "    }\n",
       "</style>\n",
       "<table border=\"1\" class=\"dataframe\">\n",
       "  <thead>\n",
       "    <tr style=\"text-align: right;\">\n",
       "      <th></th>\n",
       "      <th>Age</th>\n",
       "      <th>job</th>\n",
       "      <th>summary</th>\n",
       "    </tr>\n",
       "    <tr>\n",
       "      <th>name</th>\n",
       "      <th></th>\n",
       "      <th></th>\n",
       "      <th></th>\n",
       "    </tr>\n",
       "  </thead>\n",
       "  <tbody>\n",
       "    <tr>\n",
       "      <th>Mike</th>\n",
       "      <td>900.0</td>\n",
       "      <td>without job</td>\n",
       "      <td>age:900.0, job:without job</td>\n",
       "    </tr>\n",
       "    <tr>\n",
       "      <th>Alice</th>\n",
       "      <td>490000.0</td>\n",
       "      <td>without job</td>\n",
       "      <td>age:490000.0, job:without job</td>\n",
       "    </tr>\n",
       "    <tr>\n",
       "      <th>Bob</th>\n",
       "      <td>NaN</td>\n",
       "      <td>Accountant</td>\n",
       "      <td>age:6400.0, job:Accountant</td>\n",
       "    </tr>\n",
       "    <tr>\n",
       "      <th>john</th>\n",
       "      <td>44.0</td>\n",
       "      <td>without job</td>\n",
       "      <td>age:44.0, job:without job</td>\n",
       "    </tr>\n",
       "  </tbody>\n",
       "</table>\n",
       "</div>"
      ],
      "text/plain": [
       "            Age          job                        summary\n",
       "name                                                       \n",
       "Mike      900.0  without job     age:900.0, job:without job\n",
       "Alice  490000.0  without job  age:490000.0, job:without job\n",
       "Bob         NaN   Accountant     age:6400.0, job:Accountant\n",
       "john       44.0  without job      age:44.0, job:without job"
      ]
     },
     "execution_count": 79,
     "metadata": {},
     "output_type": "execute_result"
    }
   ],
   "source": [
    "df"
   ]
  },
  {
   "cell_type": "markdown",
   "id": "8187fe5b-ee3a-4c73-8afd-37d9de53f45f",
   "metadata": {},
   "source": [
    "# **iteration in DataFrame**"
   ]
  },
  {
   "cell_type": "code",
   "execution_count": 80,
   "id": "8cc25eb5-c3bb-4906-a634-6040080d4659",
   "metadata": {},
   "outputs": [
    {
     "data": {
      "text/plain": [
       "<generator object DataFrame.iterrows at 0x000001892A52CBF0>"
      ]
     },
     "execution_count": 80,
     "metadata": {},
     "output_type": "execute_result"
    }
   ],
   "source": [
    "df.iterrows()"
   ]
  },
  {
   "cell_type": "code",
   "execution_count": 81,
   "id": "2123cfdc-1d48-4ea6-bb5b-1510bd9d9a1f",
   "metadata": {},
   "outputs": [
    {
     "name": "stdout",
     "output_type": "stream",
     "text": [
      "('Mike', Age                             900.0\n",
      "job                       without job\n",
      "summary    age:900.0, job:without job\n",
      "Name: Mike, dtype: object)\n",
      "('Alice', Age                             490000.0\n",
      "job                          without job\n",
      "summary    age:490000.0, job:without job\n",
      "Name: Alice, dtype: object)\n",
      "('Bob', Age                               NaN\n",
      "job                        Accountant\n",
      "summary    age:6400.0, job:Accountant\n",
      "Name: Bob, dtype: object)\n",
      "('john', Age                             44.0\n",
      "job                      without job\n",
      "summary    age:44.0, job:without job\n",
      "Name: john, dtype: object)\n"
     ]
    }
   ],
   "source": [
    "for row in df.iterrows():\n",
    "    print(row)"
   ]
  },
  {
   "cell_type": "code",
   "execution_count": 82,
   "id": "f684bb71-79fe-4f5d-941b-100dd5e278c8",
   "metadata": {},
   "outputs": [
    {
     "name": "stdout",
     "output_type": "stream",
     "text": [
      "name\n",
      "Mike        900.0\n",
      "Alice    490000.0\n",
      "Bob           NaN\n",
      "john         44.0\n",
      "Name: Age, dtype: float64\n",
      "name\n",
      "Mike     without job\n",
      "Alice    without job\n",
      "Bob       Accountant\n",
      "john     without job\n",
      "Name: job, dtype: object\n",
      "name\n",
      "Mike        age:900.0, job:without job\n",
      "Alice    age:490000.0, job:without job\n",
      "Bob         age:6400.0, job:Accountant\n",
      "john         age:44.0, job:without job\n",
      "Name: summary, dtype: object\n"
     ]
    }
   ],
   "source": [
    "for i,col in df.items():\n",
    "    print(col)"
   ]
  },
  {
   "cell_type": "code",
   "execution_count": 83,
   "id": "b7845d99-07c8-4c11-9052-faa82079ff3b",
   "metadata": {},
   "outputs": [
    {
     "data": {
      "text/html": [
       "<div>\n",
       "<style scoped>\n",
       "    .dataframe tbody tr th:only-of-type {\n",
       "        vertical-align: middle;\n",
       "    }\n",
       "\n",
       "    .dataframe tbody tr th {\n",
       "        vertical-align: top;\n",
       "    }\n",
       "\n",
       "    .dataframe thead th {\n",
       "        text-align: right;\n",
       "    }\n",
       "</style>\n",
       "<table border=\"1\" class=\"dataframe\">\n",
       "  <thead>\n",
       "    <tr style=\"text-align: right;\">\n",
       "      <th></th>\n",
       "      <th>Age</th>\n",
       "      <th>job</th>\n",
       "      <th>summary</th>\n",
       "    </tr>\n",
       "    <tr>\n",
       "      <th>name</th>\n",
       "      <th></th>\n",
       "      <th></th>\n",
       "      <th></th>\n",
       "    </tr>\n",
       "  </thead>\n",
       "  <tbody>\n",
       "    <tr>\n",
       "      <th>Mike</th>\n",
       "      <td>900.0</td>\n",
       "      <td>without job</td>\n",
       "      <td>age:900.0, job:without job</td>\n",
       "    </tr>\n",
       "    <tr>\n",
       "      <th>Alice</th>\n",
       "      <td>490000.0</td>\n",
       "      <td>without job</td>\n",
       "      <td>age:490000.0, job:without job</td>\n",
       "    </tr>\n",
       "    <tr>\n",
       "      <th>Bob</th>\n",
       "      <td>NaN</td>\n",
       "      <td>Accountant</td>\n",
       "      <td>age:6400.0, job:Accountant</td>\n",
       "    </tr>\n",
       "    <tr>\n",
       "      <th>john</th>\n",
       "      <td>44.0</td>\n",
       "      <td>without job</td>\n",
       "      <td>age:44.0, job:without job</td>\n",
       "    </tr>\n",
       "  </tbody>\n",
       "</table>\n",
       "</div>"
      ],
      "text/plain": [
       "            Age          job                        summary\n",
       "name                                                       \n",
       "Mike      900.0  without job     age:900.0, job:without job\n",
       "Alice  490000.0  without job  age:490000.0, job:without job\n",
       "Bob         NaN   Accountant     age:6400.0, job:Accountant\n",
       "john       44.0  without job      age:44.0, job:without job"
      ]
     },
     "execution_count": 83,
     "metadata": {},
     "output_type": "execute_result"
    }
   ],
   "source": [
    "df"
   ]
  },
  {
   "cell_type": "markdown",
   "id": "2293fca0-a384-40d3-b6fd-e72d77e546af",
   "metadata": {},
   "source": [
    "# **extracting datas based on conditions**"
   ]
  },
  {
   "cell_type": "code",
   "execution_count": 84,
   "id": "aace70ec-5a7f-4757-a35a-1c33ceb3b8e1",
   "metadata": {},
   "outputs": [
    {
     "data": {
      "text/plain": [
       "name\n",
       "Mike      True\n",
       "Alice     True\n",
       "Bob      False\n",
       "john      True\n",
       "dtype: bool"
      ]
     },
     "execution_count": 84,
     "metadata": {},
     "output_type": "execute_result"
    }
   ],
   "source": [
    "(df.Age>40)  & (df.job.notna())"
   ]
  },
  {
   "cell_type": "code",
   "execution_count": 85,
   "id": "88929c22-8fe5-4196-9d78-57dd7451ca5d",
   "metadata": {},
   "outputs": [
    {
     "data": {
      "text/html": [
       "<div>\n",
       "<style scoped>\n",
       "    .dataframe tbody tr th:only-of-type {\n",
       "        vertical-align: middle;\n",
       "    }\n",
       "\n",
       "    .dataframe tbody tr th {\n",
       "        vertical-align: top;\n",
       "    }\n",
       "\n",
       "    .dataframe thead th {\n",
       "        text-align: right;\n",
       "    }\n",
       "</style>\n",
       "<table border=\"1\" class=\"dataframe\">\n",
       "  <thead>\n",
       "    <tr style=\"text-align: right;\">\n",
       "      <th></th>\n",
       "      <th>Age</th>\n",
       "      <th>job</th>\n",
       "      <th>summary</th>\n",
       "    </tr>\n",
       "    <tr>\n",
       "      <th>name</th>\n",
       "      <th></th>\n",
       "      <th></th>\n",
       "      <th></th>\n",
       "    </tr>\n",
       "  </thead>\n",
       "  <tbody>\n",
       "    <tr>\n",
       "      <th>Mike</th>\n",
       "      <td>900.0</td>\n",
       "      <td>without job</td>\n",
       "      <td>age:900.0, job:without job</td>\n",
       "    </tr>\n",
       "    <tr>\n",
       "      <th>Alice</th>\n",
       "      <td>490000.0</td>\n",
       "      <td>without job</td>\n",
       "      <td>age:490000.0, job:without job</td>\n",
       "    </tr>\n",
       "    <tr>\n",
       "      <th>john</th>\n",
       "      <td>44.0</td>\n",
       "      <td>without job</td>\n",
       "      <td>age:44.0, job:without job</td>\n",
       "    </tr>\n",
       "  </tbody>\n",
       "</table>\n",
       "</div>"
      ],
      "text/plain": [
       "            Age          job                        summary\n",
       "name                                                       \n",
       "Mike      900.0  without job     age:900.0, job:without job\n",
       "Alice  490000.0  without job  age:490000.0, job:without job\n",
       "john       44.0  without job      age:44.0, job:without job"
      ]
     },
     "execution_count": 85,
     "metadata": {},
     "output_type": "execute_result"
    }
   ],
   "source": [
    "df[(df.Age>20)  & (df.job.notna())]"
   ]
  },
  {
   "cell_type": "code",
   "execution_count": 86,
   "id": "74b648c2-ae29-47a8-a9bf-4f13c61e7a32",
   "metadata": {},
   "outputs": [
    {
     "data": {
      "text/html": [
       "<div>\n",
       "<style scoped>\n",
       "    .dataframe tbody tr th:only-of-type {\n",
       "        vertical-align: middle;\n",
       "    }\n",
       "\n",
       "    .dataframe tbody tr th {\n",
       "        vertical-align: top;\n",
       "    }\n",
       "\n",
       "    .dataframe thead th {\n",
       "        text-align: right;\n",
       "    }\n",
       "</style>\n",
       "<table border=\"1\" class=\"dataframe\">\n",
       "  <thead>\n",
       "    <tr style=\"text-align: right;\">\n",
       "      <th></th>\n",
       "      <th>Age</th>\n",
       "      <th>job</th>\n",
       "      <th>summary</th>\n",
       "    </tr>\n",
       "    <tr>\n",
       "      <th>name</th>\n",
       "      <th></th>\n",
       "      <th></th>\n",
       "      <th></th>\n",
       "    </tr>\n",
       "  </thead>\n",
       "  <tbody>\n",
       "  </tbody>\n",
       "</table>\n",
       "</div>"
      ],
      "text/plain": [
       "Empty DataFrame\n",
       "Columns: [Age, job, summary]\n",
       "Index: []"
      ]
     },
     "execution_count": 86,
     "metadata": {},
     "output_type": "execute_result"
    }
   ],
   "source": [
    "df[(df.Age>20)  & (-df.job.notna())]#here '-' sign indicates opposite of notna() infact 'none'"
   ]
  },
  {
   "cell_type": "code",
   "execution_count": 87,
   "id": "d9fab6a2-4a29-4055-ad6f-552078f57edb",
   "metadata": {},
   "outputs": [
    {
     "data": {
      "text/html": [
       "<div>\n",
       "<style scoped>\n",
       "    .dataframe tbody tr th:only-of-type {\n",
       "        vertical-align: middle;\n",
       "    }\n",
       "\n",
       "    .dataframe tbody tr th {\n",
       "        vertical-align: top;\n",
       "    }\n",
       "\n",
       "    .dataframe thead th {\n",
       "        text-align: right;\n",
       "    }\n",
       "</style>\n",
       "<table border=\"1\" class=\"dataframe\">\n",
       "  <thead>\n",
       "    <tr style=\"text-align: right;\">\n",
       "      <th></th>\n",
       "      <th>Age</th>\n",
       "      <th>job</th>\n",
       "      <th>summary</th>\n",
       "    </tr>\n",
       "    <tr>\n",
       "      <th>name</th>\n",
       "      <th></th>\n",
       "      <th></th>\n",
       "      <th></th>\n",
       "    </tr>\n",
       "  </thead>\n",
       "  <tbody>\n",
       "    <tr>\n",
       "      <th>Mike</th>\n",
       "      <td>900.0</td>\n",
       "      <td>without job</td>\n",
       "      <td>age:900.0, job:without job</td>\n",
       "    </tr>\n",
       "    <tr>\n",
       "      <th>Alice</th>\n",
       "      <td>490000.0</td>\n",
       "      <td>without job</td>\n",
       "      <td>age:490000.0, job:without job</td>\n",
       "    </tr>\n",
       "    <tr>\n",
       "      <th>Bob</th>\n",
       "      <td>NaN</td>\n",
       "      <td>Accountant</td>\n",
       "      <td>age:6400.0, job:Accountant</td>\n",
       "    </tr>\n",
       "    <tr>\n",
       "      <th>john</th>\n",
       "      <td>44.0</td>\n",
       "      <td>without job</td>\n",
       "      <td>age:44.0, job:without job</td>\n",
       "    </tr>\n",
       "  </tbody>\n",
       "</table>\n",
       "</div>"
      ],
      "text/plain": [
       "            Age          job                        summary\n",
       "name                                                       \n",
       "Mike      900.0  without job     age:900.0, job:without job\n",
       "Alice  490000.0  without job  age:490000.0, job:without job\n",
       "Bob         NaN   Accountant     age:6400.0, job:Accountant\n",
       "john       44.0  without job      age:44.0, job:without job"
      ]
     },
     "execution_count": 87,
     "metadata": {},
     "output_type": "execute_result"
    }
   ],
   "source": [
    "df"
   ]
  },
  {
   "cell_type": "code",
   "execution_count": 88,
   "id": "a41a518d-acee-4905-9452-05032a9aad3f",
   "metadata": {},
   "outputs": [],
   "source": [
    "df.loc['Saikat']=[66,'Electrical Engineer','age:66,job:Electrical Engineer']"
   ]
  },
  {
   "cell_type": "code",
   "execution_count": 89,
   "id": "d7dba9e1-c53c-4731-803e-719c2d7c0614",
   "metadata": {},
   "outputs": [
    {
     "data": {
      "text/html": [
       "<div>\n",
       "<style scoped>\n",
       "    .dataframe tbody tr th:only-of-type {\n",
       "        vertical-align: middle;\n",
       "    }\n",
       "\n",
       "    .dataframe tbody tr th {\n",
       "        vertical-align: top;\n",
       "    }\n",
       "\n",
       "    .dataframe thead th {\n",
       "        text-align: right;\n",
       "    }\n",
       "</style>\n",
       "<table border=\"1\" class=\"dataframe\">\n",
       "  <thead>\n",
       "    <tr style=\"text-align: right;\">\n",
       "      <th></th>\n",
       "      <th>Age</th>\n",
       "      <th>job</th>\n",
       "      <th>summary</th>\n",
       "    </tr>\n",
       "    <tr>\n",
       "      <th>name</th>\n",
       "      <th></th>\n",
       "      <th></th>\n",
       "      <th></th>\n",
       "    </tr>\n",
       "  </thead>\n",
       "  <tbody>\n",
       "    <tr>\n",
       "      <th>Mike</th>\n",
       "      <td>900.0</td>\n",
       "      <td>without job</td>\n",
       "      <td>age:900.0, job:without job</td>\n",
       "    </tr>\n",
       "    <tr>\n",
       "      <th>Alice</th>\n",
       "      <td>490000.0</td>\n",
       "      <td>without job</td>\n",
       "      <td>age:490000.0, job:without job</td>\n",
       "    </tr>\n",
       "    <tr>\n",
       "      <th>Bob</th>\n",
       "      <td>NaN</td>\n",
       "      <td>Accountant</td>\n",
       "      <td>age:6400.0, job:Accountant</td>\n",
       "    </tr>\n",
       "    <tr>\n",
       "      <th>john</th>\n",
       "      <td>44.0</td>\n",
       "      <td>without job</td>\n",
       "      <td>age:44.0, job:without job</td>\n",
       "    </tr>\n",
       "    <tr>\n",
       "      <th>Saikat</th>\n",
       "      <td>66.0</td>\n",
       "      <td>Electrical Engineer</td>\n",
       "      <td>age:66,job:Electrical Engineer</td>\n",
       "    </tr>\n",
       "  </tbody>\n",
       "</table>\n",
       "</div>"
      ],
      "text/plain": [
       "             Age                  job                         summary\n",
       "name                                                                 \n",
       "Mike       900.0          without job      age:900.0, job:without job\n",
       "Alice   490000.0          without job   age:490000.0, job:without job\n",
       "Bob          NaN           Accountant      age:6400.0, job:Accountant\n",
       "john        44.0          without job       age:44.0, job:without job\n",
       "Saikat      66.0  Electrical Engineer  age:66,job:Electrical Engineer"
      ]
     },
     "execution_count": 89,
     "metadata": {},
     "output_type": "execute_result"
    }
   ],
   "source": [
    "df"
   ]
  },
  {
   "cell_type": "code",
   "execution_count": 90,
   "id": "9f886a97-8242-467f-a86a-eea40ff3ae7c",
   "metadata": {},
   "outputs": [],
   "source": [
    "df.at['Bob','Age']=float('nan')\n",
    "df.at['Alice','job']=float('nan')"
   ]
  },
  {
   "cell_type": "code",
   "execution_count": 95,
   "id": "f184f6aa-1160-4a37-abd3-0499e590f49b",
   "metadata": {},
   "outputs": [
    {
     "data": {
      "text/html": [
       "<div>\n",
       "<style scoped>\n",
       "    .dataframe tbody tr th:only-of-type {\n",
       "        vertical-align: middle;\n",
       "    }\n",
       "\n",
       "    .dataframe tbody tr th {\n",
       "        vertical-align: top;\n",
       "    }\n",
       "\n",
       "    .dataframe thead th {\n",
       "        text-align: right;\n",
       "    }\n",
       "</style>\n",
       "<table border=\"1\" class=\"dataframe\">\n",
       "  <thead>\n",
       "    <tr style=\"text-align: right;\">\n",
       "      <th></th>\n",
       "      <th>Age</th>\n",
       "      <th>job</th>\n",
       "      <th>summary</th>\n",
       "    </tr>\n",
       "    <tr>\n",
       "      <th>name</th>\n",
       "      <th></th>\n",
       "      <th></th>\n",
       "      <th></th>\n",
       "    </tr>\n",
       "  </thead>\n",
       "  <tbody>\n",
       "    <tr>\n",
       "      <th>Mike</th>\n",
       "      <td>900.0</td>\n",
       "      <td>without job</td>\n",
       "      <td>age:900.0, job:without job</td>\n",
       "    </tr>\n",
       "    <tr>\n",
       "      <th>Alice</th>\n",
       "      <td>490000.0</td>\n",
       "      <td>NaN</td>\n",
       "      <td>age:490000.0, job:without job</td>\n",
       "    </tr>\n",
       "    <tr>\n",
       "      <th>Bob</th>\n",
       "      <td>NaN</td>\n",
       "      <td>Accountant</td>\n",
       "      <td>age:6400.0, job:Accountant</td>\n",
       "    </tr>\n",
       "    <tr>\n",
       "      <th>john</th>\n",
       "      <td>44.0</td>\n",
       "      <td>without job</td>\n",
       "      <td>age:44.0, job:without job</td>\n",
       "    </tr>\n",
       "    <tr>\n",
       "      <th>Saikat</th>\n",
       "      <td>66.0</td>\n",
       "      <td>Electrical Engineer</td>\n",
       "      <td>age:66,job:Electrical Engineer</td>\n",
       "    </tr>\n",
       "  </tbody>\n",
       "</table>\n",
       "</div>"
      ],
      "text/plain": [
       "             Age                  job                         summary\n",
       "name                                                                 \n",
       "Mike       900.0          without job      age:900.0, job:without job\n",
       "Alice   490000.0                  NaN   age:490000.0, job:without job\n",
       "Bob          NaN           Accountant      age:6400.0, job:Accountant\n",
       "john        44.0          without job       age:44.0, job:without job\n",
       "Saikat      66.0  Electrical Engineer  age:66,job:Electrical Engineer"
      ]
     },
     "execution_count": 95,
     "metadata": {},
     "output_type": "execute_result"
    }
   ],
   "source": [
    "df"
   ]
  },
  {
   "cell_type": "code",
   "execution_count": 112,
   "id": "6bd75cd6-3ae6-489b-888a-5a64eab58f8e",
   "metadata": {},
   "outputs": [],
   "source": [
    "df=df.set_index('name')"
   ]
  },
  {
   "cell_type": "code",
   "execution_count": 104,
   "id": "fe61c08f-1a32-462f-a334-d3f56ae77ab2",
   "metadata": {},
   "outputs": [
    {
     "data": {
      "text/html": [
       "<div>\n",
       "<style scoped>\n",
       "    .dataframe tbody tr th:only-of-type {\n",
       "        vertical-align: middle;\n",
       "    }\n",
       "\n",
       "    .dataframe tbody tr th {\n",
       "        vertical-align: top;\n",
       "    }\n",
       "\n",
       "    .dataframe thead th {\n",
       "        text-align: right;\n",
       "    }\n",
       "</style>\n",
       "<table border=\"1\" class=\"dataframe\">\n",
       "  <thead>\n",
       "    <tr style=\"text-align: right;\">\n",
       "      <th></th>\n",
       "      <th>name</th>\n",
       "      <th>Age</th>\n",
       "      <th>job</th>\n",
       "      <th>summary</th>\n",
       "    </tr>\n",
       "  </thead>\n",
       "  <tbody>\n",
       "    <tr>\n",
       "      <th>0</th>\n",
       "      <td>Mike</td>\n",
       "      <td>900.0</td>\n",
       "      <td>without job</td>\n",
       "      <td>age:900.0, job:without job</td>\n",
       "    </tr>\n",
       "  </tbody>\n",
       "</table>\n",
       "</div>"
      ],
      "text/plain": [
       "   name    Age          job                     summary\n",
       "0  Mike  900.0  without job  age:900.0, job:without job"
      ]
     },
     "execution_count": 104,
     "metadata": {},
     "output_type": "execute_result"
    }
   ],
   "source": [
    "df[(df.name.str.endswith('e')) & (df.job.notna())]"
   ]
  },
  {
   "cell_type": "code",
   "execution_count": 105,
   "id": "71402e93-3123-4e44-bdba-fd2b86e89456",
   "metadata": {},
   "outputs": [
    {
     "data": {
      "text/html": [
       "<div>\n",
       "<style scoped>\n",
       "    .dataframe tbody tr th:only-of-type {\n",
       "        vertical-align: middle;\n",
       "    }\n",
       "\n",
       "    .dataframe tbody tr th {\n",
       "        vertical-align: top;\n",
       "    }\n",
       "\n",
       "    .dataframe thead th {\n",
       "        text-align: right;\n",
       "    }\n",
       "</style>\n",
       "<table border=\"1\" class=\"dataframe\">\n",
       "  <thead>\n",
       "    <tr style=\"text-align: right;\">\n",
       "      <th></th>\n",
       "      <th>name</th>\n",
       "      <th>Age</th>\n",
       "      <th>job</th>\n",
       "      <th>summary</th>\n",
       "    </tr>\n",
       "  </thead>\n",
       "  <tbody>\n",
       "    <tr>\n",
       "      <th>0</th>\n",
       "      <td>Mike</td>\n",
       "      <td>900.0</td>\n",
       "      <td>without job</td>\n",
       "      <td>age:900.0, job:without job</td>\n",
       "    </tr>\n",
       "    <tr>\n",
       "      <th>1</th>\n",
       "      <td>Alice</td>\n",
       "      <td>490000.0</td>\n",
       "      <td>NaN</td>\n",
       "      <td>age:490000.0, job:without job</td>\n",
       "    </tr>\n",
       "    <tr>\n",
       "      <th>2</th>\n",
       "      <td>Bob</td>\n",
       "      <td>NaN</td>\n",
       "      <td>Accountant</td>\n",
       "      <td>age:6400.0, job:Accountant</td>\n",
       "    </tr>\n",
       "    <tr>\n",
       "      <th>3</th>\n",
       "      <td>john</td>\n",
       "      <td>44.0</td>\n",
       "      <td>without job</td>\n",
       "      <td>age:44.0, job:without job</td>\n",
       "    </tr>\n",
       "    <tr>\n",
       "      <th>4</th>\n",
       "      <td>Saikat</td>\n",
       "      <td>66.0</td>\n",
       "      <td>Electrical Engineer</td>\n",
       "      <td>age:66,job:Electrical Engineer</td>\n",
       "    </tr>\n",
       "  </tbody>\n",
       "</table>\n",
       "</div>"
      ],
      "text/plain": [
       "     name       Age                  job                         summary\n",
       "0    Mike     900.0          without job      age:900.0, job:without job\n",
       "1   Alice  490000.0                  NaN   age:490000.0, job:without job\n",
       "2     Bob       NaN           Accountant      age:6400.0, job:Accountant\n",
       "3    john      44.0          without job       age:44.0, job:without job\n",
       "4  Saikat      66.0  Electrical Engineer  age:66,job:Electrical Engineer"
      ]
     },
     "execution_count": 105,
     "metadata": {},
     "output_type": "execute_result"
    }
   ],
   "source": [
    "df"
   ]
  },
  {
   "cell_type": "code",
   "execution_count": 113,
   "id": "eaaba83b-5c38-473b-87dd-4952b2f53fd9",
   "metadata": {},
   "outputs": [],
   "source": [
    "df.Age=df.Age.fillna(40)"
   ]
  },
  {
   "cell_type": "code",
   "execution_count": 125,
   "id": "4dc48104-5b6a-412d-b082-814b0c4e5970",
   "metadata": {},
   "outputs": [],
   "source": [
    "df.at['Alice','Age']=67"
   ]
  },
  {
   "cell_type": "code",
   "execution_count": 134,
   "id": "100ad86b-1284-4f3b-acc3-aa28959fd5b0",
   "metadata": {},
   "outputs": [],
   "source": [
    "df.at['Mike','Age']=26\n"
   ]
  },
  {
   "cell_type": "code",
   "execution_count": 146,
   "id": "a51ebba4-cd7b-497c-a8bf-39e826aced76",
   "metadata": {},
   "outputs": [
    {
     "data": {
      "text/html": [
       "<div>\n",
       "<style scoped>\n",
       "    .dataframe tbody tr th:only-of-type {\n",
       "        vertical-align: middle;\n",
       "    }\n",
       "\n",
       "    .dataframe tbody tr th {\n",
       "        vertical-align: top;\n",
       "    }\n",
       "\n",
       "    .dataframe thead th {\n",
       "        text-align: right;\n",
       "    }\n",
       "</style>\n",
       "<table border=\"1\" class=\"dataframe\">\n",
       "  <thead>\n",
       "    <tr style=\"text-align: right;\">\n",
       "      <th></th>\n",
       "      <th>Age</th>\n",
       "      <th>job</th>\n",
       "      <th>summary</th>\n",
       "    </tr>\n",
       "    <tr>\n",
       "      <th>name</th>\n",
       "      <th></th>\n",
       "      <th></th>\n",
       "      <th></th>\n",
       "    </tr>\n",
       "  </thead>\n",
       "  <tbody>\n",
       "    <tr>\n",
       "      <th>Mike</th>\n",
       "      <td>26.0</td>\n",
       "      <td>without job</td>\n",
       "      <td>age:900.0, job:without job</td>\n",
       "    </tr>\n",
       "    <tr>\n",
       "      <th>Alice</th>\n",
       "      <td>67.0</td>\n",
       "      <td>NaN</td>\n",
       "      <td>age:490000.0, job:without job</td>\n",
       "    </tr>\n",
       "    <tr>\n",
       "      <th>Bob</th>\n",
       "      <td>40.0</td>\n",
       "      <td>Accountant</td>\n",
       "      <td>age:6400.0, job:Accountant</td>\n",
       "    </tr>\n",
       "    <tr>\n",
       "      <th>john</th>\n",
       "      <td>44.0</td>\n",
       "      <td>without job</td>\n",
       "      <td>age:44.0, job:without job</td>\n",
       "    </tr>\n",
       "    <tr>\n",
       "      <th>Saikat</th>\n",
       "      <td>66.0</td>\n",
       "      <td>Electrical Engineer</td>\n",
       "      <td>age:66,job:Electrical Engineer</td>\n",
       "    </tr>\n",
       "  </tbody>\n",
       "</table>\n",
       "</div>"
      ],
      "text/plain": [
       "         Age                  job                         summary\n",
       "name                                                             \n",
       "Mike    26.0          without job      age:900.0, job:without job\n",
       "Alice   67.0                  NaN   age:490000.0, job:without job\n",
       "Bob     40.0           Accountant      age:6400.0, job:Accountant\n",
       "john    44.0          without job       age:44.0, job:without job\n",
       "Saikat  66.0  Electrical Engineer  age:66,job:Electrical Engineer"
      ]
     },
     "execution_count": 146,
     "metadata": {},
     "output_type": "execute_result"
    }
   ],
   "source": [
    "\n",
    "df"
   ]
  },
  {
   "cell_type": "code",
   "execution_count": null,
   "id": "27bcda84-88e6-4f80-8d77-7861a8d9c112",
   "metadata": {},
   "outputs": [],
   "source": []
  },
  {
   "cell_type": "code",
   "execution_count": 147,
   "id": "db48a0e3-e506-4a0e-aac7-45f35eca6e10",
   "metadata": {},
   "outputs": [],
   "source": [
    "#calculating Birthday\n",
    "import datetime as dt\n",
    "df['Birthday']=df['Age'].apply(lambda x: dt.datetime.now() - dt.timedelta(days=365*x))"
   ]
  },
  {
   "cell_type": "code",
   "execution_count": 148,
   "id": "13d9e066-0104-4959-b367-3ad16a1d5ce4",
   "metadata": {},
   "outputs": [
    {
     "data": {
      "text/html": [
       "<div>\n",
       "<style scoped>\n",
       "    .dataframe tbody tr th:only-of-type {\n",
       "        vertical-align: middle;\n",
       "    }\n",
       "\n",
       "    .dataframe tbody tr th {\n",
       "        vertical-align: top;\n",
       "    }\n",
       "\n",
       "    .dataframe thead th {\n",
       "        text-align: right;\n",
       "    }\n",
       "</style>\n",
       "<table border=\"1\" class=\"dataframe\">\n",
       "  <thead>\n",
       "    <tr style=\"text-align: right;\">\n",
       "      <th></th>\n",
       "      <th>Age</th>\n",
       "      <th>job</th>\n",
       "      <th>summary</th>\n",
       "      <th>Birthday</th>\n",
       "    </tr>\n",
       "    <tr>\n",
       "      <th>name</th>\n",
       "      <th></th>\n",
       "      <th></th>\n",
       "      <th></th>\n",
       "      <th></th>\n",
       "    </tr>\n",
       "  </thead>\n",
       "  <tbody>\n",
       "    <tr>\n",
       "      <th>Mike</th>\n",
       "      <td>26.0</td>\n",
       "      <td>without job</td>\n",
       "      <td>age:900.0, job:without job</td>\n",
       "      <td>1999-06-20 10:14:29.232062</td>\n",
       "    </tr>\n",
       "    <tr>\n",
       "      <th>Alice</th>\n",
       "      <td>67.0</td>\n",
       "      <td>NaN</td>\n",
       "      <td>age:490000.0, job:without job</td>\n",
       "      <td>1958-06-30 10:14:29.232062</td>\n",
       "    </tr>\n",
       "    <tr>\n",
       "      <th>Bob</th>\n",
       "      <td>40.0</td>\n",
       "      <td>Accountant</td>\n",
       "      <td>age:6400.0, job:Accountant</td>\n",
       "      <td>1985-06-23 10:14:29.232062</td>\n",
       "    </tr>\n",
       "    <tr>\n",
       "      <th>john</th>\n",
       "      <td>44.0</td>\n",
       "      <td>without job</td>\n",
       "      <td>age:44.0, job:without job</td>\n",
       "      <td>1981-06-24 10:14:29.232062</td>\n",
       "    </tr>\n",
       "    <tr>\n",
       "      <th>Saikat</th>\n",
       "      <td>66.0</td>\n",
       "      <td>Electrical Engineer</td>\n",
       "      <td>age:66,job:Electrical Engineer</td>\n",
       "      <td>1959-06-30 10:14:29.232062</td>\n",
       "    </tr>\n",
       "  </tbody>\n",
       "</table>\n",
       "</div>"
      ],
      "text/plain": [
       "         Age                  job                         summary  \\\n",
       "name                                                                \n",
       "Mike    26.0          without job      age:900.0, job:without job   \n",
       "Alice   67.0                  NaN   age:490000.0, job:without job   \n",
       "Bob     40.0           Accountant      age:6400.0, job:Accountant   \n",
       "john    44.0          without job       age:44.0, job:without job   \n",
       "Saikat  66.0  Electrical Engineer  age:66,job:Electrical Engineer   \n",
       "\n",
       "                         Birthday  \n",
       "name                               \n",
       "Mike   1999-06-20 10:14:29.232062  \n",
       "Alice  1958-06-30 10:14:29.232062  \n",
       "Bob    1985-06-23 10:14:29.232062  \n",
       "john   1981-06-24 10:14:29.232062  \n",
       "Saikat 1959-06-30 10:14:29.232062  "
      ]
     },
     "execution_count": 148,
     "metadata": {},
     "output_type": "execute_result"
    }
   ],
   "source": [
    "df"
   ]
  },
  {
   "cell_type": "code",
   "execution_count": 153,
   "id": "e24073c8-3652-4b60-bd2a-33fae8ff1077",
   "metadata": {},
   "outputs": [
    {
     "data": {
      "text/html": [
       "<div>\n",
       "<style scoped>\n",
       "    .dataframe tbody tr th:only-of-type {\n",
       "        vertical-align: middle;\n",
       "    }\n",
       "\n",
       "    .dataframe tbody tr th {\n",
       "        vertical-align: top;\n",
       "    }\n",
       "\n",
       "    .dataframe thead th {\n",
       "        text-align: right;\n",
       "    }\n",
       "</style>\n",
       "<table border=\"1\" class=\"dataframe\">\n",
       "  <thead>\n",
       "    <tr style=\"text-align: right;\">\n",
       "      <th></th>\n",
       "      <th>Age</th>\n",
       "      <th>job</th>\n",
       "      <th>summary</th>\n",
       "      <th>Birthday</th>\n",
       "    </tr>\n",
       "    <tr>\n",
       "      <th>name</th>\n",
       "      <th></th>\n",
       "      <th></th>\n",
       "      <th></th>\n",
       "      <th></th>\n",
       "    </tr>\n",
       "  </thead>\n",
       "  <tbody>\n",
       "    <tr>\n",
       "      <th>Mike</th>\n",
       "      <td>26.0</td>\n",
       "      <td>without job</td>\n",
       "      <td>age:900.0, job:without job</td>\n",
       "      <td>1999-06-20 10:14:29.232062</td>\n",
       "    </tr>\n",
       "    <tr>\n",
       "      <th>Bob</th>\n",
       "      <td>40.0</td>\n",
       "      <td>Accountant</td>\n",
       "      <td>age:6400.0, job:Accountant</td>\n",
       "      <td>1985-06-23 10:14:29.232062</td>\n",
       "    </tr>\n",
       "    <tr>\n",
       "      <th>john</th>\n",
       "      <td>44.0</td>\n",
       "      <td>without job</td>\n",
       "      <td>age:44.0, job:without job</td>\n",
       "      <td>1981-06-24 10:14:29.232062</td>\n",
       "    </tr>\n",
       "  </tbody>\n",
       "</table>\n",
       "</div>"
      ],
      "text/plain": [
       "       Age          job                     summary                   Birthday\n",
       "name                                                                          \n",
       "Mike  26.0  without job  age:900.0, job:without job 1999-06-20 10:14:29.232062\n",
       "Bob   40.0   Accountant  age:6400.0, job:Accountant 1985-06-23 10:14:29.232062\n",
       "john  44.0  without job   age:44.0, job:without job 1981-06-24 10:14:29.232062"
      ]
     },
     "execution_count": 153,
     "metadata": {},
     "output_type": "execute_result"
    }
   ],
   "source": [
    "df[df.Birthday.dt.year>1980]"
   ]
  },
  {
   "cell_type": "code",
   "execution_count": 155,
   "id": "af1c33ba-bbb5-4540-9144-14f95ddfbf4a",
   "metadata": {},
   "outputs": [
    {
     "data": {
      "text/html": [
       "<div>\n",
       "<style scoped>\n",
       "    .dataframe tbody tr th:only-of-type {\n",
       "        vertical-align: middle;\n",
       "    }\n",
       "\n",
       "    .dataframe tbody tr th {\n",
       "        vertical-align: top;\n",
       "    }\n",
       "\n",
       "    .dataframe thead th {\n",
       "        text-align: right;\n",
       "    }\n",
       "</style>\n",
       "<table border=\"1\" class=\"dataframe\">\n",
       "  <thead>\n",
       "    <tr style=\"text-align: right;\">\n",
       "      <th></th>\n",
       "      <th>Age</th>\n",
       "      <th>job</th>\n",
       "      <th>summary</th>\n",
       "      <th>Birthday</th>\n",
       "    </tr>\n",
       "    <tr>\n",
       "      <th>name</th>\n",
       "      <th></th>\n",
       "      <th></th>\n",
       "      <th></th>\n",
       "      <th></th>\n",
       "    </tr>\n",
       "  </thead>\n",
       "  <tbody>\n",
       "    <tr>\n",
       "      <th>Mike</th>\n",
       "      <td>26.0</td>\n",
       "      <td>without job</td>\n",
       "      <td>age:900.0, job:without job</td>\n",
       "      <td>1999-06-20 10:14:29.232062</td>\n",
       "    </tr>\n",
       "    <tr>\n",
       "      <th>Saikat</th>\n",
       "      <td>66.0</td>\n",
       "      <td>Electrical Engineer</td>\n",
       "      <td>age:66,job:Electrical Engineer</td>\n",
       "      <td>1959-06-30 10:14:29.232062</td>\n",
       "    </tr>\n",
       "  </tbody>\n",
       "</table>\n",
       "</div>"
      ],
      "text/plain": [
       "         Age                  job                         summary  \\\n",
       "name                                                                \n",
       "Mike    26.0          without job      age:900.0, job:without job   \n",
       "Saikat  66.0  Electrical Engineer  age:66,job:Electrical Engineer   \n",
       "\n",
       "                         Birthday  \n",
       "name                               \n",
       "Mike   1999-06-20 10:14:29.232062  \n",
       "Saikat 1959-06-30 10:14:29.232062  "
      ]
     },
     "execution_count": 155,
     "metadata": {},
     "output_type": "execute_result"
    }
   ],
   "source": [
    "ages=[26,66]\n",
    "df[df.Age.isin(ages)]"
   ]
  },
  {
   "cell_type": "code",
   "execution_count": 158,
   "id": "de232a5d-7564-4899-aa7f-39fd574eea17",
   "metadata": {},
   "outputs": [
    {
     "data": {
      "text/html": [
       "<div>\n",
       "<style scoped>\n",
       "    .dataframe tbody tr th:only-of-type {\n",
       "        vertical-align: middle;\n",
       "    }\n",
       "\n",
       "    .dataframe tbody tr th {\n",
       "        vertical-align: top;\n",
       "    }\n",
       "\n",
       "    .dataframe thead th {\n",
       "        text-align: right;\n",
       "    }\n",
       "</style>\n",
       "<table border=\"1\" class=\"dataframe\">\n",
       "  <thead>\n",
       "    <tr style=\"text-align: right;\">\n",
       "      <th></th>\n",
       "      <th>Age</th>\n",
       "      <th>job</th>\n",
       "      <th>summary</th>\n",
       "      <th>Birthday</th>\n",
       "    </tr>\n",
       "    <tr>\n",
       "      <th>name</th>\n",
       "      <th></th>\n",
       "      <th></th>\n",
       "      <th></th>\n",
       "      <th></th>\n",
       "    </tr>\n",
       "  </thead>\n",
       "  <tbody>\n",
       "    <tr>\n",
       "      <th>Alice</th>\n",
       "      <td>67.0</td>\n",
       "      <td>NaN</td>\n",
       "      <td>age:490000.0, job:without job</td>\n",
       "      <td>1958-06-30 10:14:29.232062</td>\n",
       "    </tr>\n",
       "    <tr>\n",
       "      <th>Bob</th>\n",
       "      <td>40.0</td>\n",
       "      <td>Accountant</td>\n",
       "      <td>age:6400.0, job:Accountant</td>\n",
       "      <td>1985-06-23 10:14:29.232062</td>\n",
       "    </tr>\n",
       "    <tr>\n",
       "      <th>john</th>\n",
       "      <td>44.0</td>\n",
       "      <td>without job</td>\n",
       "      <td>age:44.0, job:without job</td>\n",
       "      <td>1981-06-24 10:14:29.232062</td>\n",
       "    </tr>\n",
       "    <tr>\n",
       "      <th>Saikat</th>\n",
       "      <td>66.0</td>\n",
       "      <td>Electrical Engineer</td>\n",
       "      <td>age:66,job:Electrical Engineer</td>\n",
       "      <td>1959-06-30 10:14:29.232062</td>\n",
       "    </tr>\n",
       "  </tbody>\n",
       "</table>\n",
       "</div>"
      ],
      "text/plain": [
       "         Age                  job                         summary  \\\n",
       "name                                                                \n",
       "Alice   67.0                  NaN   age:490000.0, job:without job   \n",
       "Bob     40.0           Accountant      age:6400.0, job:Accountant   \n",
       "john    44.0          without job       age:44.0, job:without job   \n",
       "Saikat  66.0  Electrical Engineer  age:66,job:Electrical Engineer   \n",
       "\n",
       "                         Birthday  \n",
       "name                               \n",
       "Alice  1958-06-30 10:14:29.232062  \n",
       "Bob    1985-06-23 10:14:29.232062  \n",
       "john   1981-06-24 10:14:29.232062  \n",
       "Saikat 1959-06-30 10:14:29.232062  "
      ]
     },
     "execution_count": 158,
     "metadata": {},
     "output_type": "execute_result"
    }
   ],
   "source": [
    "df.query('Age>30')"
   ]
  },
  {
   "cell_type": "code",
   "execution_count": 165,
   "id": "c07f32ac-1fb6-4053-b03b-ce38422d2126",
   "metadata": {},
   "outputs": [],
   "source": [
    "df.at['Mike','job']='Programmer'"
   ]
  },
  {
   "cell_type": "code",
   "execution_count": 170,
   "id": "cd926697-a8f9-414e-9863-2002ff88e201",
   "metadata": {},
   "outputs": [
    {
     "data": {
      "text/html": [
       "<div>\n",
       "<style scoped>\n",
       "    .dataframe tbody tr th:only-of-type {\n",
       "        vertical-align: middle;\n",
       "    }\n",
       "\n",
       "    .dataframe tbody tr th {\n",
       "        vertical-align: top;\n",
       "    }\n",
       "\n",
       "    .dataframe thead th {\n",
       "        text-align: right;\n",
       "    }\n",
       "</style>\n",
       "<table border=\"1\" class=\"dataframe\">\n",
       "  <thead>\n",
       "    <tr style=\"text-align: right;\">\n",
       "      <th></th>\n",
       "      <th>Age</th>\n",
       "      <th>job</th>\n",
       "      <th>summary</th>\n",
       "      <th>Birthday</th>\n",
       "    </tr>\n",
       "    <tr>\n",
       "      <th>name</th>\n",
       "      <th></th>\n",
       "      <th></th>\n",
       "      <th></th>\n",
       "      <th></th>\n",
       "    </tr>\n",
       "  </thead>\n",
       "  <tbody>\n",
       "    <tr>\n",
       "      <th>Mike</th>\n",
       "      <td>26.0</td>\n",
       "      <td>Programmer</td>\n",
       "      <td>age:900.0, job:without job</td>\n",
       "      <td>1999-06-20 10:14:29.232062</td>\n",
       "    </tr>\n",
       "    <tr>\n",
       "      <th>Alice</th>\n",
       "      <td>67.0</td>\n",
       "      <td>without job</td>\n",
       "      <td>age:490000.0, job:without job</td>\n",
       "      <td>1958-06-30 10:14:29.232062</td>\n",
       "    </tr>\n",
       "    <tr>\n",
       "      <th>Bob</th>\n",
       "      <td>40.0</td>\n",
       "      <td>Accountant</td>\n",
       "      <td>age:6400.0, job:Accountant</td>\n",
       "      <td>1985-06-23 10:14:29.232062</td>\n",
       "    </tr>\n",
       "    <tr>\n",
       "      <th>john</th>\n",
       "      <td>44.0</td>\n",
       "      <td>without job</td>\n",
       "      <td>age:44.0, job:without job</td>\n",
       "      <td>1981-06-24 10:14:29.232062</td>\n",
       "    </tr>\n",
       "    <tr>\n",
       "      <th>Saikat</th>\n",
       "      <td>66.0</td>\n",
       "      <td>Electrical Engineer</td>\n",
       "      <td>age:66,job:Electrical Engineer</td>\n",
       "      <td>1959-06-30 10:14:29.232062</td>\n",
       "    </tr>\n",
       "  </tbody>\n",
       "</table>\n",
       "</div>"
      ],
      "text/plain": [
       "         Age                  job                         summary  \\\n",
       "name                                                                \n",
       "Mike    26.0           Programmer      age:900.0, job:without job   \n",
       "Alice   67.0          without job   age:490000.0, job:without job   \n",
       "Bob     40.0           Accountant      age:6400.0, job:Accountant   \n",
       "john    44.0          without job       age:44.0, job:without job   \n",
       "Saikat  66.0  Electrical Engineer  age:66,job:Electrical Engineer   \n",
       "\n",
       "                         Birthday  \n",
       "name                               \n",
       "Mike   1999-06-20 10:14:29.232062  \n",
       "Alice  1958-06-30 10:14:29.232062  \n",
       "Bob    1985-06-23 10:14:29.232062  \n",
       "john   1981-06-24 10:14:29.232062  \n",
       "Saikat 1959-06-30 10:14:29.232062  "
      ]
     },
     "execution_count": 170,
     "metadata": {},
     "output_type": "execute_result"
    }
   ],
   "source": [
    "df"
   ]
  },
  {
   "cell_type": "code",
   "execution_count": 167,
   "id": "315d81af-f57e-4bbf-aab7-3b434fe62d88",
   "metadata": {},
   "outputs": [
    {
     "data": {
      "text/html": [
       "<div>\n",
       "<style scoped>\n",
       "    .dataframe tbody tr th:only-of-type {\n",
       "        vertical-align: middle;\n",
       "    }\n",
       "\n",
       "    .dataframe tbody tr th {\n",
       "        vertical-align: top;\n",
       "    }\n",
       "\n",
       "    .dataframe thead th {\n",
       "        text-align: right;\n",
       "    }\n",
       "</style>\n",
       "<table border=\"1\" class=\"dataframe\">\n",
       "  <thead>\n",
       "    <tr style=\"text-align: right;\">\n",
       "      <th></th>\n",
       "      <th>Age</th>\n",
       "      <th>job</th>\n",
       "      <th>Birthday</th>\n",
       "    </tr>\n",
       "    <tr>\n",
       "      <th>name</th>\n",
       "      <th></th>\n",
       "      <th></th>\n",
       "      <th></th>\n",
       "    </tr>\n",
       "  </thead>\n",
       "  <tbody>\n",
       "    <tr>\n",
       "      <th>Mike</th>\n",
       "      <td>26.0</td>\n",
       "      <td>Programmer</td>\n",
       "      <td>1999-06-20 10:14:29.232062</td>\n",
       "    </tr>\n",
       "    <tr>\n",
       "      <th>Alice</th>\n",
       "      <td>67.0</td>\n",
       "      <td>Without job</td>\n",
       "      <td>1958-06-30 10:14:29.232062</td>\n",
       "    </tr>\n",
       "    <tr>\n",
       "      <th>Bob</th>\n",
       "      <td>40.0</td>\n",
       "      <td>Accountant</td>\n",
       "      <td>1985-06-23 10:14:29.232062</td>\n",
       "    </tr>\n",
       "    <tr>\n",
       "      <th>john</th>\n",
       "      <td>44.0</td>\n",
       "      <td>without job</td>\n",
       "      <td>1981-06-24 10:14:29.232062</td>\n",
       "    </tr>\n",
       "    <tr>\n",
       "      <th>Saikat</th>\n",
       "      <td>66.0</td>\n",
       "      <td>Electrical Engineer</td>\n",
       "      <td>1959-06-30 10:14:29.232062</td>\n",
       "    </tr>\n",
       "  </tbody>\n",
       "</table>\n",
       "</div>"
      ],
      "text/plain": [
       "         Age                  job                   Birthday\n",
       "name                                                        \n",
       "Mike    26.0           Programmer 1999-06-20 10:14:29.232062\n",
       "Alice   67.0          Without job 1958-06-30 10:14:29.232062\n",
       "Bob     40.0           Accountant 1985-06-23 10:14:29.232062\n",
       "john    44.0          without job 1981-06-24 10:14:29.232062\n",
       "Saikat  66.0  Electrical Engineer 1959-06-30 10:14:29.232062"
      ]
     },
     "execution_count": 167,
     "metadata": {},
     "output_type": "execute_result"
    }
   ],
   "source": [
    "df.drop('summary',axis=1)"
   ]
  },
  {
   "cell_type": "code",
   "execution_count": 178,
   "id": "7d8d5c8e-e4ed-41e6-82d1-9b62fc24be47",
   "metadata": {},
   "outputs": [],
   "source": [
    "df=df.drop('summary',axis=1)"
   ]
  },
  {
   "cell_type": "code",
   "execution_count": 179,
   "id": "0c98d48e-85f2-4952-878c-f4c11d08eb3a",
   "metadata": {},
   "outputs": [
    {
     "name": "stderr",
     "output_type": "stream",
     "text": [
      "C:\\Users\\User\\AppData\\Local\\Temp\\ipykernel_1548\\1628941761.py:1: FutureWarning: The behavior of DataFrame concatenation with empty or all-NA entries is deprecated. In a future version, this will no longer exclude empty or all-NA columns when determining the result dtypes. To retain the old behavior, exclude the relevant entries before the concat operation.\n",
      "  df.loc['talal']=[25,'Electrical Engineer',None]\n"
     ]
    }
   ],
   "source": [
    "df.loc['talal']=[25,'Electrical Engineer',None]"
   ]
  },
  {
   "cell_type": "code",
   "execution_count": 180,
   "id": "2e617853-66ba-487d-b11a-7c11d3cc19ad",
   "metadata": {},
   "outputs": [
    {
     "data": {
      "text/html": [
       "<div>\n",
       "<style scoped>\n",
       "    .dataframe tbody tr th:only-of-type {\n",
       "        vertical-align: middle;\n",
       "    }\n",
       "\n",
       "    .dataframe tbody tr th {\n",
       "        vertical-align: top;\n",
       "    }\n",
       "\n",
       "    .dataframe thead th {\n",
       "        text-align: right;\n",
       "    }\n",
       "</style>\n",
       "<table border=\"1\" class=\"dataframe\">\n",
       "  <thead>\n",
       "    <tr style=\"text-align: right;\">\n",
       "      <th></th>\n",
       "      <th>Age</th>\n",
       "      <th>job</th>\n",
       "      <th>Birthday</th>\n",
       "    </tr>\n",
       "    <tr>\n",
       "      <th>name</th>\n",
       "      <th></th>\n",
       "      <th></th>\n",
       "      <th></th>\n",
       "    </tr>\n",
       "  </thead>\n",
       "  <tbody>\n",
       "    <tr>\n",
       "      <th>Mike</th>\n",
       "      <td>26.0</td>\n",
       "      <td>Programmer</td>\n",
       "      <td>1999-06-20 10:14:29.232062</td>\n",
       "    </tr>\n",
       "    <tr>\n",
       "      <th>Alice</th>\n",
       "      <td>67.0</td>\n",
       "      <td>without job</td>\n",
       "      <td>1958-06-30 10:14:29.232062</td>\n",
       "    </tr>\n",
       "    <tr>\n",
       "      <th>Bob</th>\n",
       "      <td>40.0</td>\n",
       "      <td>Accountant</td>\n",
       "      <td>1985-06-23 10:14:29.232062</td>\n",
       "    </tr>\n",
       "    <tr>\n",
       "      <th>john</th>\n",
       "      <td>44.0</td>\n",
       "      <td>without job</td>\n",
       "      <td>1981-06-24 10:14:29.232062</td>\n",
       "    </tr>\n",
       "    <tr>\n",
       "      <th>Saikat</th>\n",
       "      <td>66.0</td>\n",
       "      <td>Electrical Engineer</td>\n",
       "      <td>1959-06-30 10:14:29.232062</td>\n",
       "    </tr>\n",
       "    <tr>\n",
       "      <th>talal</th>\n",
       "      <td>25.0</td>\n",
       "      <td>Electrical Engineer</td>\n",
       "      <td>NaT</td>\n",
       "    </tr>\n",
       "  </tbody>\n",
       "</table>\n",
       "</div>"
      ],
      "text/plain": [
       "         Age                  job                   Birthday\n",
       "name                                                        \n",
       "Mike    26.0           Programmer 1999-06-20 10:14:29.232062\n",
       "Alice   67.0          without job 1958-06-30 10:14:29.232062\n",
       "Bob     40.0           Accountant 1985-06-23 10:14:29.232062\n",
       "john    44.0          without job 1981-06-24 10:14:29.232062\n",
       "Saikat  66.0  Electrical Engineer 1959-06-30 10:14:29.232062\n",
       "talal   25.0  Electrical Engineer                        NaT"
      ]
     },
     "execution_count": 180,
     "metadata": {},
     "output_type": "execute_result"
    }
   ],
   "source": [
    "df"
   ]
  },
  {
   "cell_type": "markdown",
   "id": "2038e614-2e18-42e3-8d98-10451f78c31f",
   "metadata": {},
   "source": [
    "# **Grouping from data frame**"
   ]
  },
  {
   "cell_type": "code",
   "execution_count": 182,
   "id": "7c416f9f-1f6d-4a2e-96a1-4563ceff9685",
   "metadata": {},
   "outputs": [
    {
     "data": {
      "text/html": [
       "<div>\n",
       "<style scoped>\n",
       "    .dataframe tbody tr th:only-of-type {\n",
       "        vertical-align: middle;\n",
       "    }\n",
       "\n",
       "    .dataframe tbody tr th {\n",
       "        vertical-align: top;\n",
       "    }\n",
       "\n",
       "    .dataframe thead tr th {\n",
       "        text-align: left;\n",
       "    }\n",
       "\n",
       "    .dataframe thead tr:last-of-type th {\n",
       "        text-align: right;\n",
       "    }\n",
       "</style>\n",
       "<table border=\"1\" class=\"dataframe\">\n",
       "  <thead>\n",
       "    <tr>\n",
       "      <th></th>\n",
       "      <th colspan=\"4\" halign=\"left\">Age</th>\n",
       "    </tr>\n",
       "    <tr>\n",
       "      <th></th>\n",
       "      <th>mean</th>\n",
       "      <th>min</th>\n",
       "      <th>max</th>\n",
       "      <th>sum</th>\n",
       "    </tr>\n",
       "    <tr>\n",
       "      <th>job</th>\n",
       "      <th></th>\n",
       "      <th></th>\n",
       "      <th></th>\n",
       "      <th></th>\n",
       "    </tr>\n",
       "  </thead>\n",
       "  <tbody>\n",
       "    <tr>\n",
       "      <th>Accountant</th>\n",
       "      <td>40.0</td>\n",
       "      <td>40.0</td>\n",
       "      <td>40.0</td>\n",
       "      <td>40.0</td>\n",
       "    </tr>\n",
       "    <tr>\n",
       "      <th>Electrical Engineer</th>\n",
       "      <td>45.5</td>\n",
       "      <td>25.0</td>\n",
       "      <td>66.0</td>\n",
       "      <td>91.0</td>\n",
       "    </tr>\n",
       "    <tr>\n",
       "      <th>Programmer</th>\n",
       "      <td>26.0</td>\n",
       "      <td>26.0</td>\n",
       "      <td>26.0</td>\n",
       "      <td>26.0</td>\n",
       "    </tr>\n",
       "    <tr>\n",
       "      <th>without job</th>\n",
       "      <td>55.5</td>\n",
       "      <td>44.0</td>\n",
       "      <td>67.0</td>\n",
       "      <td>111.0</td>\n",
       "    </tr>\n",
       "  </tbody>\n",
       "</table>\n",
       "</div>"
      ],
      "text/plain": [
       "                      Age                   \n",
       "                     mean   min   max    sum\n",
       "job                                         \n",
       "Accountant           40.0  40.0  40.0   40.0\n",
       "Electrical Engineer  45.5  25.0  66.0   91.0\n",
       "Programmer           26.0  26.0  26.0   26.0\n",
       "without job          55.5  44.0  67.0  111.0"
      ]
     },
     "execution_count": 182,
     "metadata": {},
     "output_type": "execute_result"
    }
   ],
   "source": [
    "df.groupby('job').agg({\n",
    "    'Age': ['mean','min','max','sum']\n",
    "})"
   ]
  },
  {
   "cell_type": "markdown",
   "id": "c4f3bfeb-7641-44d4-aa24-af13cec83dd7",
   "metadata": {},
   "source": [
    "# **Sorting**"
   ]
  },
  {
   "cell_type": "code",
   "execution_count": 189,
   "id": "c27e0685-babf-4594-8446-49d71a865ce5",
   "metadata": {},
   "outputs": [
    {
     "data": {
      "text/html": [
       "<div>\n",
       "<style scoped>\n",
       "    .dataframe tbody tr th:only-of-type {\n",
       "        vertical-align: middle;\n",
       "    }\n",
       "\n",
       "    .dataframe tbody tr th {\n",
       "        vertical-align: top;\n",
       "    }\n",
       "\n",
       "    .dataframe thead th {\n",
       "        text-align: right;\n",
       "    }\n",
       "</style>\n",
       "<table border=\"1\" class=\"dataframe\">\n",
       "  <thead>\n",
       "    <tr style=\"text-align: right;\">\n",
       "      <th></th>\n",
       "      <th>Age</th>\n",
       "      <th>job</th>\n",
       "      <th>Birthday</th>\n",
       "    </tr>\n",
       "    <tr>\n",
       "      <th>name</th>\n",
       "      <th></th>\n",
       "      <th></th>\n",
       "      <th></th>\n",
       "    </tr>\n",
       "  </thead>\n",
       "  <tbody>\n",
       "    <tr>\n",
       "      <th>Alice</th>\n",
       "      <td>67.0</td>\n",
       "      <td>without job</td>\n",
       "      <td>1958-06-30 10:14:29.232062</td>\n",
       "    </tr>\n",
       "    <tr>\n",
       "      <th>Saikat</th>\n",
       "      <td>66.0</td>\n",
       "      <td>Electrical Engineer</td>\n",
       "      <td>1959-06-30 10:14:29.232062</td>\n",
       "    </tr>\n",
       "    <tr>\n",
       "      <th>john</th>\n",
       "      <td>44.0</td>\n",
       "      <td>without job</td>\n",
       "      <td>1981-06-24 10:14:29.232062</td>\n",
       "    </tr>\n",
       "    <tr>\n",
       "      <th>Bob</th>\n",
       "      <td>40.0</td>\n",
       "      <td>Accountant</td>\n",
       "      <td>1985-06-23 10:14:29.232062</td>\n",
       "    </tr>\n",
       "    <tr>\n",
       "      <th>Mike</th>\n",
       "      <td>26.0</td>\n",
       "      <td>Programmer</td>\n",
       "      <td>1999-06-20 10:14:29.232062</td>\n",
       "    </tr>\n",
       "    <tr>\n",
       "      <th>talal</th>\n",
       "      <td>25.0</td>\n",
       "      <td>Electrical Engineer</td>\n",
       "      <td>NaT</td>\n",
       "    </tr>\n",
       "  </tbody>\n",
       "</table>\n",
       "</div>"
      ],
      "text/plain": [
       "         Age                  job                   Birthday\n",
       "name                                                        \n",
       "Alice   67.0          without job 1958-06-30 10:14:29.232062\n",
       "Saikat  66.0  Electrical Engineer 1959-06-30 10:14:29.232062\n",
       "john    44.0          without job 1981-06-24 10:14:29.232062\n",
       "Bob     40.0           Accountant 1985-06-23 10:14:29.232062\n",
       "Mike    26.0           Programmer 1999-06-20 10:14:29.232062\n",
       "talal   25.0  Electrical Engineer                        NaT"
      ]
     },
     "execution_count": 189,
     "metadata": {},
     "output_type": "execute_result"
    }
   ],
   "source": [
    "df.sort_values('Age',ascending =False)"
   ]
  },
  {
   "cell_type": "code",
   "execution_count": null,
   "id": "54adb7e3-23b1-442b-8000-babda3808540",
   "metadata": {},
   "outputs": [],
   "source": []
  }
 ],
 "metadata": {
  "kernelspec": {
   "display_name": "Python 3 (ipykernel)",
   "language": "python",
   "name": "python3"
  },
  "language_info": {
   "codemirror_mode": {
    "name": "ipython",
    "version": 3
   },
   "file_extension": ".py",
   "mimetype": "text/x-python",
   "name": "python",
   "nbconvert_exporter": "python",
   "pygments_lexer": "ipython3",
   "version": "3.12.7"
  }
 },
 "nbformat": 4,
 "nbformat_minor": 5
}
