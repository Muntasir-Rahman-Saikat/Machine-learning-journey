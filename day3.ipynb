{
 "cells": [
  {
   "cell_type": "code",
   "execution_count": 1,
   "id": "e06abafb-48aa-4991-9346-e048623fc519",
   "metadata": {},
   "outputs": [],
   "source": [
    "data='My name is Saikat'"
   ]
  },
  {
   "cell_type": "code",
   "execution_count": 2,
   "id": "85e7bab4-b89f-495f-8b48-a5989fb8f0af",
   "metadata": {},
   "outputs": [
    {
     "data": {
      "text/plain": [
       "8"
      ]
     },
     "execution_count": 2,
     "metadata": {},
     "output_type": "execute_result"
    }
   ],
   "source": [
    "data.find('is')"
   ]
  },
  {
   "cell_type": "code",
   "execution_count": 3,
   "id": "2424ae37-5135-4a55-903e-4f3ce47195d1",
   "metadata": {},
   "outputs": [
    {
     "ename": "TypeError",
     "evalue": "'str' object is not callable",
     "output_type": "error",
     "traceback": [
      "\u001b[31m---------------------------------------------------------------------------\u001b[39m",
      "\u001b[31mTypeError\u001b[39m                                 Traceback (most recent call last)",
      "\u001b[36mCell\u001b[39m\u001b[36m \u001b[39m\u001b[32mIn[3]\u001b[39m\u001b[32m, line 1\u001b[39m\n\u001b[32m----> \u001b[39m\u001b[32m1\u001b[39m \u001b[38;5;28mprint\u001b[39m(\u001b[43mdata\u001b[49m\u001b[43m(\u001b[49m\u001b[32;43m2\u001b[39;49m\u001b[43m)\u001b[49m)\n",
      "\u001b[31mTypeError\u001b[39m: 'str' object is not callable"
     ]
    }
   ],
   "source": [
    "print(data(2))"
   ]
  },
  {
   "cell_type": "code",
   "execution_count": 4,
   "id": "aa834f9b-b886-4cd7-83e2-65b3f61dfbcd",
   "metadata": {},
   "outputs": [
    {
     "data": {
      "text/plain": [
       "1"
      ]
     },
     "execution_count": 4,
     "metadata": {},
     "output_type": "execute_result"
    }
   ],
   "source": [
    "data.count(data)"
   ]
  },
  {
   "cell_type": "code",
   "execution_count": 5,
   "id": "4fe06b0c-397e-4629-8f7b-4b38833250e5",
   "metadata": {},
   "outputs": [
    {
     "data": {
      "text/plain": [
       "58"
      ]
     },
     "execution_count": 5,
     "metadata": {},
     "output_type": "execute_result"
    }
   ],
   "source": [
    "import sys\n",
    "sys.getsizeof(data)"
   ]
  },
  {
   "cell_type": "code",
   "execution_count": 6,
   "id": "e9302a57-3bb0-47ec-9ce4-e5b55b842379",
   "metadata": {},
   "outputs": [
    {
     "ename": "AttributeError",
     "evalue": "module 'sys' has no attribute 'count'",
     "output_type": "error",
     "traceback": [
      "\u001b[31m---------------------------------------------------------------------------\u001b[39m",
      "\u001b[31mAttributeError\u001b[39m                            Traceback (most recent call last)",
      "\u001b[36mCell\u001b[39m\u001b[36m \u001b[39m\u001b[32mIn[6]\u001b[39m\u001b[32m, line 2\u001b[39m\n\u001b[32m      1\u001b[39m \u001b[38;5;28;01mimport\u001b[39;00m\u001b[38;5;250m \u001b[39m\u001b[34;01msys\u001b[39;00m\n\u001b[32m----> \u001b[39m\u001b[32m2\u001b[39m \u001b[43msys\u001b[49m\u001b[43m.\u001b[49m\u001b[43mcount\u001b[49m(data)\n",
      "\u001b[31mAttributeError\u001b[39m: module 'sys' has no attribute 'count'"
     ]
    }
   ],
   "source": [
    "import sys\n",
    "sys.count(data)"
   ]
  },
  {
   "cell_type": "code",
   "execution_count": 7,
   "id": "faef36ef-d848-4f20-9392-7c1949297f18",
   "metadata": {},
   "outputs": [
    {
     "data": {
      "text/plain": [
       "17"
      ]
     },
     "execution_count": 7,
     "metadata": {},
     "output_type": "execute_result"
    }
   ],
   "source": [
    "len(data)\n"
   ]
  },
  {
   "cell_type": "code",
   "execution_count": 17,
   "id": "902a37c3-ddee-4255-92ca-10cf11e6c234",
   "metadata": {},
   "outputs": [
    {
     "data": {
      "text/plain": [
       "13"
      ]
     },
     "execution_count": 17,
     "metadata": {},
     "output_type": "execute_result"
    }
   ],
   "source": [
    "data.find('i',9,17) #The use of find function is to find out the index numbers"
   ]
  },
  {
   "cell_type": "code",
   "execution_count": 18,
   "id": "ada542e3-a8e3-468f-8757-a007a21a2ed9",
   "metadata": {},
   "outputs": [
    {
     "data": {
      "text/plain": [
       "-1"
      ]
     },
     "execution_count": 18,
     "metadata": {},
     "output_type": "execute_result"
    }
   ],
   "source": [
    "data.find('x')"
   ]
  },
  {
   "cell_type": "code",
   "execution_count": 19,
   "id": "d9323664-5029-45a7-9b4d-2817dee816d0",
   "metadata": {},
   "outputs": [
    {
     "ename": "ValueError",
     "evalue": "substring not found",
     "output_type": "error",
     "traceback": [
      "\u001b[31m---------------------------------------------------------------------------\u001b[39m",
      "\u001b[31mValueError\u001b[39m                                Traceback (most recent call last)",
      "\u001b[36mCell\u001b[39m\u001b[36m \u001b[39m\u001b[32mIn[19]\u001b[39m\u001b[32m, line 1\u001b[39m\n\u001b[32m----> \u001b[39m\u001b[32m1\u001b[39m \u001b[43mdata\u001b[49m\u001b[43m.\u001b[49m\u001b[43mindex\u001b[49m\u001b[43m(\u001b[49m\u001b[33;43m'\u001b[39;49m\u001b[33;43mx\u001b[39;49m\u001b[33;43m'\u001b[39;49m\u001b[43m)\u001b[49m\n",
      "\u001b[31mValueError\u001b[39m: substring not found"
     ]
    }
   ],
   "source": [
    "data.index('x')"
   ]
  },
  {
   "cell_type": "code",
   "execution_count": 24,
   "id": "d209b40c-5215-47c8-a414-6190d0ac67c0",
   "metadata": {},
   "outputs": [
    {
     "data": {
      "text/plain": [
       "13"
      ]
     },
     "execution_count": 24,
     "metadata": {},
     "output_type": "execute_result"
    }
   ],
   "source": [
    "data.index('i',9,16)"
   ]
  },
  {
   "cell_type": "code",
   "execution_count": 25,
   "id": "de90cbf0-7ab5-4e5f-aa1b-47ef13c6e4fe",
   "metadata": {},
   "outputs": [
    {
     "ename": "TypeError",
     "evalue": "'str' object is not callable",
     "output_type": "error",
     "traceback": [
      "\u001b[31m---------------------------------------------------------------------------\u001b[39m",
      "\u001b[31mTypeError\u001b[39m                                 Traceback (most recent call last)",
      "\u001b[36mCell\u001b[39m\u001b[36m \u001b[39m\u001b[32mIn[25]\u001b[39m\u001b[32m, line 1\u001b[39m\n\u001b[32m----> \u001b[39m\u001b[32m1\u001b[39m \u001b[38;5;28mprint\u001b[39m(\u001b[43mdata\u001b[49m\u001b[43m(\u001b[49m\u001b[32;43m8\u001b[39;49m\u001b[43m)\u001b[49m)\n",
      "\u001b[31mTypeError\u001b[39m: 'str' object is not callable"
     ]
    }
   ],
   "source": [
    "print(data(8))"
   ]
  },
  {
   "cell_type": "code",
   "execution_count": 26,
   "id": "07a884f5-f46d-4b9f-ab3a-7797735ad447",
   "metadata": {},
   "outputs": [
    {
     "ename": "TypeError",
     "evalue": "'str' object is not callable",
     "output_type": "error",
     "traceback": [
      "\u001b[31m---------------------------------------------------------------------------\u001b[39m",
      "\u001b[31mTypeError\u001b[39m                                 Traceback (most recent call last)",
      "\u001b[36mCell\u001b[39m\u001b[36m \u001b[39m\u001b[32mIn[26]\u001b[39m\u001b[32m, line 1\u001b[39m\n\u001b[32m----> \u001b[39m\u001b[32m1\u001b[39m \u001b[43mdata\u001b[49m\u001b[43m(\u001b[49m\u001b[32;43m8\u001b[39;49m\u001b[43m)\u001b[49m\n",
      "\u001b[31mTypeError\u001b[39m: 'str' object is not callable"
     ]
    }
   ],
   "source": [
    "data(8)"
   ]
  },
  {
   "cell_type": "code",
   "execution_count": 27,
   "id": "eac6ad76-afad-486b-aecf-fb82b4ce98b6",
   "metadata": {},
   "outputs": [
    {
     "data": {
      "text/plain": [
       "'MY NAME IS SAIKAT'"
      ]
     },
     "execution_count": 27,
     "metadata": {},
     "output_type": "execute_result"
    }
   ],
   "source": [
    "data.upper()# convert all char into upper case similar same for lower()"
   ]
  },
  {
   "cell_type": "code",
   "execution_count": 29,
   "id": "dafe0c1a-8d70-4215-bc45-0f24b629744c",
   "metadata": {},
   "outputs": [
    {
     "data": {
      "text/plain": [
       "'my name is saikat'"
      ]
     },
     "execution_count": 29,
     "metadata": {},
     "output_type": "execute_result"
    }
   ],
   "source": [
    "data.casefold() #uses same as lower()"
   ]
  },
  {
   "cell_type": "code",
   "execution_count": 30,
   "id": "cf0eb359-3597-4ff5-9f85-5dd393f9f268",
   "metadata": {},
   "outputs": [
    {
     "data": {
      "text/plain": [
       "'My name is saikat'"
      ]
     },
     "execution_count": 30,
     "metadata": {},
     "output_type": "execute_result"
    }
   ],
   "source": [
    "data.capitalize() #converting only the first letter to capital"
   ]
  },
  {
   "cell_type": "code",
   "execution_count": 31,
   "id": "377a32ac-f2ff-46d5-ac8a-bcd8bfa2cc0c",
   "metadata": {},
   "outputs": [
    {
     "data": {
      "text/plain": [
       "'mY NAME IS sAIKAT'"
      ]
     },
     "execution_count": 31,
     "metadata": {},
     "output_type": "execute_result"
    }
   ],
   "source": [
    "data.swapcase()"
   ]
  },
  {
   "cell_type": "code",
   "execution_count": 32,
   "id": "2c0aa86f-14f1-4e9d-ad72-08b053837595",
   "metadata": {},
   "outputs": [
    {
     "data": {
      "text/plain": [
       "'My Name Is Saikat'"
      ]
     },
     "execution_count": 32,
     "metadata": {},
     "output_type": "execute_result"
    }
   ],
   "source": [
    "data.title()"
   ]
  },
  {
   "cell_type": "code",
   "execution_count": 33,
   "id": "c76d2df6-0254-41d8-b888-d49ad3e90c30",
   "metadata": {},
   "outputs": [
    {
     "data": {
      "text/plain": [
       "False"
      ]
     },
     "execution_count": 33,
     "metadata": {},
     "output_type": "execute_result"
    }
   ],
   "source": [
    "data.islower() #checking whether all the words is in lower case or not"
   ]
  },
  {
   "cell_type": "code",
   "execution_count": 34,
   "id": "6365bcec-f80a-4dc6-a140-433c4ddb2a40",
   "metadata": {},
   "outputs": [
    {
     "data": {
      "text/plain": [
       "False"
      ]
     },
     "execution_count": 34,
     "metadata": {},
     "output_type": "execute_result"
    }
   ],
   "source": [
    "data.isupper()"
   ]
  },
  {
   "cell_type": "code",
   "execution_count": 35,
   "id": "fefa5a94-2dd9-4cdc-bba8-cc7b809502d8",
   "metadata": {},
   "outputs": [
    {
     "data": {
      "text/plain": [
       "False"
      ]
     },
     "execution_count": 35,
     "metadata": {},
     "output_type": "execute_result"
    }
   ],
   "source": [
    "data.isdigit()\n"
   ]
  },
  {
   "cell_type": "code",
   "execution_count": 41,
   "id": "f1009607-0839-4a11-9b25-75973514f797",
   "metadata": {},
   "outputs": [
    {
     "data": {
      "text/plain": [
       "b'My name is Saikat'"
      ]
     },
     "execution_count": 41,
     "metadata": {},
     "output_type": "execute_result"
    }
   ],
   "source": [
    "(data.encode())"
   ]
  },
  {
   "cell_type": "code",
   "execution_count": 43,
   "id": "458518f7-6573-4b34-821f-e83eced41c97",
   "metadata": {},
   "outputs": [
    {
     "data": {
      "text/plain": [
       "bytes"
      ]
     },
     "execution_count": 43,
     "metadata": {},
     "output_type": "execute_result"
    }
   ],
   "source": [
    "type(data.encode())"
   ]
  },
  {
   "cell_type": "code",
   "execution_count": 44,
   "id": "57c3b597-7f57-4254-b075-dbfe6008db94",
   "metadata": {},
   "outputs": [
    {
     "data": {
      "text/plain": [
       "['My', 'name', 'is', 'Saikat']"
      ]
     },
     "execution_count": 44,
     "metadata": {},
     "output_type": "execute_result"
    }
   ],
   "source": [
    "data.split()"
   ]
  },
  {
   "cell_type": "code",
   "execution_count": 47,
   "id": "28d7f320-13a1-47dd-82cc-d27c96ec54e0",
   "metadata": {},
   "outputs": [
    {
     "data": {
      "text/plain": [
       "'is'"
      ]
     },
     "execution_count": 47,
     "metadata": {},
     "output_type": "execute_result"
    }
   ],
   "source": [
    "data.split()[2]# finding by index numbers"
   ]
  },
  {
   "cell_type": "code",
   "execution_count": 50,
   "id": "13f9c018-62d9-4ce4-9917-9fb86a8f2bfc",
   "metadata": {},
   "outputs": [
    {
     "data": {
      "text/plain": [
       "'                                         My name is Saikat                                          '"
      ]
     },
     "execution_count": 50,
     "metadata": {},
     "output_type": "execute_result"
    }
   ],
   "source": [
    "data.center(100)\n"
   ]
  },
  {
   "cell_type": "code",
   "execution_count": 51,
   "id": "05ff9078-f4a6-4475-92b8-4b559dfeb4fd",
   "metadata": {},
   "outputs": [
    {
     "data": {
      "text/plain": [
       "'My name is sadik'"
      ]
     },
     "execution_count": 51,
     "metadata": {},
     "output_type": "execute_result"
    }
   ],
   "source": [
    "data.replace('Saikat','sadik')\n"
   ]
  },
  {
   "cell_type": "code",
   "execution_count": 53,
   "id": "586e943b-5e7f-4c63-b282-a8d2a12ef2a7",
   "metadata": {},
   "outputs": [],
   "source": [
    "x=100\n",
    "y=49"
   ]
  },
  {
   "cell_type": "code",
   "execution_count": 54,
   "id": "380ca0d1-899c-4b21-8c7d-612a74b0c158",
   "metadata": {},
   "outputs": [],
   "source": [
    "z=x*y"
   ]
  },
  {
   "cell_type": "code",
   "execution_count": 56,
   "id": "f7524fe2-1f9d-43b6-b864-83de2b4cb88d",
   "metadata": {},
   "outputs": [
    {
     "name": "stdout",
     "output_type": "stream",
     "text": [
      "I have 4900 taka\n"
     ]
    }
   ],
   "source": [
    "print('I have {} taka'.format(z))"
   ]
  },
  {
   "cell_type": "markdown",
   "id": "4603b257-f31a-4e7e-9894-5d7fdec0a99c",
   "metadata": {},
   "source": [
    "# **Use of Range**"
   ]
  },
  {
   "cell_type": "code",
   "execution_count": 61,
   "id": "5f6a9e85-a53a-4d96-990e-9fc04eabca7f",
   "metadata": {},
   "outputs": [
    {
     "name": "stdout",
     "output_type": "stream",
     "text": [
      "0\n",
      "1\n",
      "2\n",
      "3\n",
      "4\n",
      "5\n",
      "6\n",
      "7\n",
      "8\n",
      "9\n"
     ]
    }
   ],
   "source": [
    "x=range(10) #1st case\n",
    "\n",
    "for i in x:\n",
    "     print(i)"
   ]
  },
  {
   "cell_type": "code",
   "execution_count": 60,
   "id": "2d6f6399-727e-43da-b847-177150d9e9fe",
   "metadata": {},
   "outputs": [
    {
     "data": {
      "text/plain": [
       "range(0, 10)"
      ]
     },
     "execution_count": 60,
     "metadata": {},
     "output_type": "execute_result"
    }
   ],
   "source": [
    "range(10)\n"
   ]
  },
  {
   "cell_type": "code",
   "execution_count": 66,
   "id": "7440a18a-735b-4a88-8425-b92a77cb92c5",
   "metadata": {},
   "outputs": [
    {
     "name": "stdout",
     "output_type": "stream",
     "text": [
      "5\n",
      "6\n",
      "7\n",
      "8\n",
      "9\n",
      "10\n",
      "11\n",
      "12\n",
      "13\n",
      "14\n",
      "15\n",
      "16\n",
      "17\n",
      "18\n",
      "19\n"
     ]
    }
   ],
   "source": [
    "x=range(5,20) #2nd case\n",
    "for i in x:\n",
    "         print(i)"
   ]
  },
  {
   "cell_type": "code",
   "execution_count": 67,
   "id": "8504f9fa-439e-4295-a90f-a21070506676",
   "metadata": {},
   "outputs": [
    {
     "name": "stdout",
     "output_type": "stream",
     "text": [
      "5\n",
      "8\n",
      "11\n",
      "14\n",
      "17\n"
     ]
    }
   ],
   "source": [
    "x=range(5,20,3)#3rd  case\n",
    "for i in x:\n",
    "         print(i)"
   ]
  },
  {
   "cell_type": "code",
   "execution_count": 74,
   "id": "26786582-91a0-4e0a-8b03-2478572a945a",
   "metadata": {},
   "outputs": [
    {
     "name": "stdout",
     "output_type": "stream",
     "text": [
      "20\n",
      "18\n",
      "16\n",
      "14\n",
      "12\n",
      "10\n",
      "8\n",
      "6\n"
     ]
    }
   ],
   "source": [
    "x=range(20,5,-2) #4th case\n",
    "for i in x:\n",
    "         print(i)"
   ]
  },
  {
   "cell_type": "markdown",
   "id": "7115da9e-6a44-412f-a93d-ab77fbeb5fa0",
   "metadata": {},
   "source": [
    "# **array**"
   ]
  },
  {
   "cell_type": "code",
   "execution_count": null,
   "id": "0ee59b78-7c1f-48dd-86a0-687201ebdd32",
   "metadata": {},
   "outputs": [],
   "source": [
    "import array as ar \n",
    "a=ar(["
   ]
  }
 ],
 "metadata": {
  "kernelspec": {
   "display_name": "Python 3 (ipykernel)",
   "language": "python",
   "name": "python3"
  },
  "language_info": {
   "codemirror_mode": {
    "name": "ipython",
    "version": 3
   },
   "file_extension": ".py",
   "mimetype": "text/x-python",
   "name": "python",
   "nbconvert_exporter": "python",
   "pygments_lexer": "ipython3",
   "version": "3.12.7"
  }
 },
 "nbformat": 4,
 "nbformat_minor": 5
}
