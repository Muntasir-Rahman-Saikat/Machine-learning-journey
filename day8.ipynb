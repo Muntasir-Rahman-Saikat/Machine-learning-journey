{
 "cells": [
  {
   "cell_type": "markdown",
   "id": "c5850032-44ab-4058-8e2a-2ad9c2441931",
   "metadata": {},
   "source": [
    "# **Array**"
   ]
  },
  {
   "cell_type": "code",
   "execution_count": 1,
   "id": "ed67ddd5-4d5e-432f-9c13-c989c066dc8e",
   "metadata": {},
   "outputs": [],
   "source": [
    "import array as ar \n",
    "ar1=ar.array('f',[2,4,5.5,25])"
   ]
  },
  {
   "cell_type": "code",
   "execution_count": 2,
   "id": "b4b976d4-6d39-4b91-bed7-12f135c743dc",
   "metadata": {},
   "outputs": [
    {
     "data": {
      "text/plain": [
       "array('f', [2.0, 4.0, 5.5, 25.0])"
      ]
     },
     "execution_count": 2,
     "metadata": {},
     "output_type": "execute_result"
    }
   ],
   "source": [
    "ar1"
   ]
  },
  {
   "cell_type": "code",
   "execution_count": 3,
   "id": "2b7a0032-bab3-4421-a092-0414977be5c1",
   "metadata": {},
   "outputs": [],
   "source": [
    "ar1.append(6)"
   ]
  },
  {
   "cell_type": "code",
   "execution_count": 5,
   "id": "5d48336d-d4ed-44d0-b2ed-36cdb0fbd8d4",
   "metadata": {},
   "outputs": [],
   "source": [
    "del ar1[1]"
   ]
  },
  {
   "cell_type": "code",
   "execution_count": 6,
   "id": "a093855c-a3c3-4e5b-b823-1911a013678e",
   "metadata": {},
   "outputs": [
    {
     "data": {
      "text/plain": [
       "array('f', [2.0, 5.5, 25.0, 6.0])"
      ]
     },
     "execution_count": 6,
     "metadata": {},
     "output_type": "execute_result"
    }
   ],
   "source": [
    "ar1"
   ]
  },
  {
   "cell_type": "code",
   "execution_count": 9,
   "id": "83f750e9-8fcc-4cf1-aa15-23eaee68dd63",
   "metadata": {},
   "outputs": [
    {
     "data": {
      "text/plain": [
       "[2.0, 5.5, 6.0, 25.0]"
      ]
     },
     "execution_count": 9,
     "metadata": {},
     "output_type": "execute_result"
    }
   ],
   "source": [
    "sorted(ar1)"
   ]
  },
  {
   "cell_type": "code",
   "execution_count": 11,
   "id": "85957d48-a48c-4c88-abe1-d43062858d03",
   "metadata": {},
   "outputs": [
    {
     "data": {
      "text/plain": [
       "array.array['i', [2.0, 5.5, 6.0, 25.0]]"
      ]
     },
     "execution_count": 11,
     "metadata": {},
     "output_type": "execute_result"
    }
   ],
   "source": [
    "ar.array['i',sorted(ar1)]"
   ]
  },
  {
   "cell_type": "code",
   "execution_count": 30,
   "id": "f1227836-23f7-492e-bbd9-6cb37235c4d2",
   "metadata": {},
   "outputs": [
    {
     "data": {
      "text/plain": [
       "[2.0, 5.5, 6.0, 25.0]"
      ]
     },
     "execution_count": 30,
     "metadata": {},
     "output_type": "execute_result"
    }
   ],
   "source": [
    "sorted(ar1) #sort() fucntion work na korle eta use kora jete pare\n"
   ]
  },
  {
   "cell_type": "code",
   "execution_count": 39,
   "id": "ccc551ba-8308-4a37-b1f4-3fa78ac1a2cc",
   "metadata": {},
   "outputs": [
    {
     "name": "stdin",
     "output_type": "stream",
     "text": [
      " 2\n",
      " 2\n"
     ]
    },
    {
     "name": "stdout",
     "output_type": "stream",
     "text": [
      "2\n"
     ]
    },
    {
     "name": "stdin",
     "output_type": "stream",
     "text": [
      " 5\n"
     ]
    },
    {
     "name": "stdout",
     "output_type": "stream",
     "text": [
      "5\n",
      "output\n",
      "array('i', [2, 5])\n"
     ]
    }
   ],
   "source": [
    " r=ar.array('i',[])\n",
    "items=int(input())\n",
    "for i in range(items):\n",
    "    c=int(input())\n",
    "    print(c)\n",
    "    r.append(c)\n",
    "print('output')\n",
    "print(r)"
   ]
  },
  {
   "cell_type": "markdown",
   "id": "4df47ba9-4028-431b-89dc-7bb94874456d",
   "metadata": {},
   "source": [
    "# **Dictionaries**"
   ]
  },
  {
   "cell_type": "code",
   "execution_count": 2,
   "id": "9f387b2b-48a8-458d-aa19-1a2f03d05f0f",
   "metadata": {},
   "outputs": [],
   "source": [
    "dic={ \n",
    "    'name': 'SAIKAT',#name refers Key and saikat refers  values\n",
    "    'VERSITY': 'CUET',\n",
    "}\n",
    "    "
   ]
  },
  {
   "cell_type": "code",
   "execution_count": 3,
   "id": "98c818be-b904-4215-9eb6-2b0101b56d05",
   "metadata": {},
   "outputs": [
    {
     "data": {
      "text/plain": [
       "{'name': 'SAIKAT', 'VERSITY': 'CUET'}"
      ]
     },
     "execution_count": 3,
     "metadata": {},
     "output_type": "execute_result"
    }
   ],
   "source": [
    "dic"
   ]
  },
  {
   "cell_type": "code",
   "execution_count": 4,
   "id": "7a132286-bade-4dc8-bd3b-7da69feda0e5",
   "metadata": {},
   "outputs": [
    {
     "data": {
      "text/plain": [
       "dict_keys(['name', 'VERSITY'])"
      ]
     },
     "execution_count": 4,
     "metadata": {},
     "output_type": "execute_result"
    }
   ],
   "source": [
    "dic.keys()"
   ]
  },
  {
   "cell_type": "code",
   "execution_count": 5,
   "id": "483ce064-965e-463e-8dda-63317541079c",
   "metadata": {},
   "outputs": [
    {
     "data": {
      "text/plain": [
       "dict_values(['SAIKAT', 'CUET'])"
      ]
     },
     "execution_count": 5,
     "metadata": {},
     "output_type": "execute_result"
    }
   ],
   "source": [
    "dic.values()"
   ]
  },
  {
   "cell_type": "code",
   "execution_count": 6,
   "id": "3fcb73b6-8163-4d0e-bef4-dffb5ea50175",
   "metadata": {},
   "outputs": [],
   "source": [
    "dic['VERSITY']= 'MIST'"
   ]
  },
  {
   "cell_type": "code",
   "execution_count": 7,
   "id": "1904a6e4-3d4b-41a6-b20d-03aae7869ef6",
   "metadata": {},
   "outputs": [
    {
     "data": {
      "text/plain": [
       "{'name': 'SAIKAT', 'VERSITY': 'MIST'}"
      ]
     },
     "execution_count": 7,
     "metadata": {},
     "output_type": "execute_result"
    }
   ],
   "source": [
    "dic"
   ]
  },
  {
   "cell_type": "code",
   "execution_count": 8,
   "id": "9c8e9c00-e1b9-4fdb-bece-d005ecfb63d9",
   "metadata": {},
   "outputs": [],
   "source": [
    "dic['Department']='EEE'#adding new key"
   ]
  },
  {
   "cell_type": "code",
   "execution_count": 9,
   "id": "60e76b7b-8330-456b-8aa3-a92236866f4b",
   "metadata": {},
   "outputs": [
    {
     "data": {
      "text/plain": [
       "{'name': 'SAIKAT', 'VERSITY': 'MIST', 'Department': 'EEE'}"
      ]
     },
     "execution_count": 9,
     "metadata": {},
     "output_type": "execute_result"
    }
   ],
   "source": [
    "dic"
   ]
  },
  {
   "cell_type": "code",
   "execution_count": 10,
   "id": "6f80b3ce-0a3d-41c6-8dc4-7a7f0c66c298",
   "metadata": {},
   "outputs": [],
   "source": [
    "dic.update({'Department':'CSE'})"
   ]
  },
  {
   "cell_type": "code",
   "execution_count": 11,
   "id": "805c5f7a-b249-4dcd-a1d5-365c059d0d32",
   "metadata": {},
   "outputs": [
    {
     "data": {
      "text/plain": [
       "{'name': 'SAIKAT', 'VERSITY': 'MIST', 'Department': 'CSE'}"
      ]
     },
     "execution_count": 11,
     "metadata": {},
     "output_type": "execute_result"
    }
   ],
   "source": [
    "dic"
   ]
  },
  {
   "cell_type": "code",
   "execution_count": 12,
   "id": "26141507-f05d-4605-b15d-26aa9ae2f270",
   "metadata": {},
   "outputs": [],
   "source": [
    "dic['name']='Muntasir'"
   ]
  },
  {
   "cell_type": "code",
   "execution_count": 13,
   "id": "8054aee4-65f0-498f-a82b-587d560d4d14",
   "metadata": {},
   "outputs": [
    {
     "data": {
      "text/plain": [
       "{'name': 'Muntasir', 'VERSITY': 'MIST', 'Department': 'CSE'}"
      ]
     },
     "execution_count": 13,
     "metadata": {},
     "output_type": "execute_result"
    }
   ],
   "source": [
    "dic"
   ]
  },
  {
   "cell_type": "code",
   "execution_count": 14,
   "id": "babd2a59-c197-48b8-8099-40ebe4ea994f",
   "metadata": {},
   "outputs": [],
   "source": [
    "dic.update({'VERSITY':'BUET'})"
   ]
  },
  {
   "cell_type": "code",
   "execution_count": 15,
   "id": "8e60e167-31ac-41af-b41d-45424963e4aa",
   "metadata": {},
   "outputs": [
    {
     "data": {
      "text/plain": [
       "{'name': 'Muntasir', 'VERSITY': 'BUET', 'Department': 'CSE'}"
      ]
     },
     "execution_count": 15,
     "metadata": {},
     "output_type": "execute_result"
    }
   ],
   "source": [
    "dic"
   ]
  },
  {
   "cell_type": "code",
   "execution_count": 16,
   "id": "858fff4d-1a2c-4e6e-9d86-473b2bc295d7",
   "metadata": {},
   "outputs": [
    {
     "data": {
      "text/plain": [
       "dict_values(['Muntasir', 'BUET', 'CSE'])"
      ]
     },
     "execution_count": 16,
     "metadata": {},
     "output_type": "execute_result"
    }
   ],
   "source": [
    "dic.values()"
   ]
  },
  {
   "cell_type": "code",
   "execution_count": 17,
   "id": "0fced7c5-2832-4232-b55b-8ad3d579c51e",
   "metadata": {},
   "outputs": [
    {
     "data": {
      "text/plain": [
       "{'name': 'Muntasir', 'VERSITY': 'BUET', 'Department': 'CSE'}"
      ]
     },
     "execution_count": 17,
     "metadata": {},
     "output_type": "execute_result"
    }
   ],
   "source": [
    "dic"
   ]
  },
  {
   "cell_type": "code",
   "execution_count": 18,
   "id": "977565f4-9510-4ac2-8e9f-7fd708dfc41b",
   "metadata": {},
   "outputs": [],
   "source": [
    "dic['ID']='1902078'\n",
    "\n"
   ]
  },
  {
   "cell_type": "code",
   "execution_count": 19,
   "id": "435373a2-aa84-4f39-af89-e743ce3031d2",
   "metadata": {},
   "outputs": [
    {
     "data": {
      "text/plain": [
       "{'name': 'Muntasir', 'VERSITY': 'BUET', 'Department': 'CSE', 'ID': '1902078'}"
      ]
     },
     "execution_count": 19,
     "metadata": {},
     "output_type": "execute_result"
    }
   ],
   "source": [
    "dic"
   ]
  },
  {
   "cell_type": "code",
   "execution_count": 20,
   "id": "099c6123-9d61-4bbe-a526-e34e1d760e15",
   "metadata": {},
   "outputs": [],
   "source": [
    "dic.update({'VERSITY':'CUET'})"
   ]
  },
  {
   "cell_type": "code",
   "execution_count": 21,
   "id": "078df55b-ed9f-411c-8230-a6e9c9c3bfdd",
   "metadata": {},
   "outputs": [
    {
     "data": {
      "text/plain": [
       "{'name': 'Muntasir', 'VERSITY': 'CUET', 'Department': 'CSE', 'ID': '1902078'}"
      ]
     },
     "execution_count": 21,
     "metadata": {},
     "output_type": "execute_result"
    }
   ],
   "source": [
    "dic"
   ]
  },
  {
   "cell_type": "code",
   "execution_count": 22,
   "id": "6222ef55-518d-403c-9730-7beb7a7b13bc",
   "metadata": {},
   "outputs": [
    {
     "data": {
      "text/plain": [
       "('ID', '1902078')"
      ]
     },
     "execution_count": 22,
     "metadata": {},
     "output_type": "execute_result"
    }
   ],
   "source": [
    "dic.popitem()#removes last item "
   ]
  },
  {
   "cell_type": "code",
   "execution_count": 23,
   "id": "7e6d3553-b843-4c9d-a343-adba3472dd70",
   "metadata": {},
   "outputs": [
    {
     "data": {
      "text/plain": [
       "{'name': 'Muntasir', 'VERSITY': 'CUET', 'Department': 'CSE'}"
      ]
     },
     "execution_count": 23,
     "metadata": {},
     "output_type": "execute_result"
    }
   ],
   "source": [
    "dic"
   ]
  },
  {
   "cell_type": "code",
   "execution_count": 24,
   "id": "04bdcd61-46c3-4bf3-9ec2-cb7da75cc052",
   "metadata": {},
   "outputs": [
    {
     "data": {
      "text/plain": [
       "'CUET'"
      ]
     },
     "execution_count": 24,
     "metadata": {},
     "output_type": "execute_result"
    }
   ],
   "source": [
    "dic.pop('VERSITY')#removig a particular item"
   ]
  },
  {
   "cell_type": "code",
   "execution_count": 25,
   "id": "68df9a93-39fc-4580-8e2f-ea896daf461c",
   "metadata": {},
   "outputs": [
    {
     "data": {
      "text/plain": [
       "{'name': 'Muntasir', 'Department': 'CSE'}"
      ]
     },
     "execution_count": 25,
     "metadata": {},
     "output_type": "execute_result"
    }
   ],
   "source": [
    "dic"
   ]
  },
  {
   "cell_type": "code",
   "execution_count": 26,
   "id": "49272404-dbf4-49e9-a456-f018d5634bc7",
   "metadata": {},
   "outputs": [],
   "source": [
    "del dic['Department']"
   ]
  },
  {
   "cell_type": "code",
   "execution_count": 27,
   "id": "d8df9ce3-4937-49a3-a0ed-310d49226be9",
   "metadata": {},
   "outputs": [
    {
     "data": {
      "text/plain": [
       "{'name': 'Muntasir'}"
      ]
     },
     "execution_count": 27,
     "metadata": {},
     "output_type": "execute_result"
    }
   ],
   "source": [
    "dic"
   ]
  },
  {
   "cell_type": "code",
   "execution_count": 7,
   "id": "b64f148d-f11b-44b8-9c2f-532729df8617",
   "metadata": {},
   "outputs": [],
   "source": [
    "h={ \n",
    "    'name':'Muntasir Rahman Saikat',\n",
    "    'University':'Cuet',\n",
    "    'Department':'EEE',\n",
    "    'Id':'1902078',\n",
    "\n",
    "}"
   ]
  },
  {
   "cell_type": "code",
   "execution_count": 36,
   "id": "b2a271d6-bd40-4b3f-91c3-a19e65d10756",
   "metadata": {},
   "outputs": [
    {
     "name": "stdout",
     "output_type": "stream",
     "text": [
      "Muntasir Rahman Saikat\n",
      "Cuet\n",
      "EEE\n",
      "1902078\n"
     ]
    }
   ],
   "source": [
    "for x in h:\n",
    "   print(h[x])"
   ]
  },
  {
   "cell_type": "code",
   "execution_count": 40,
   "id": "e14bd19e-81fe-48dc-8690-0072cc7d2a54",
   "metadata": {},
   "outputs": [],
   "source": [
    "f=list(h.keys())#converting only the keys into list"
   ]
  },
  {
   "cell_type": "code",
   "execution_count": 41,
   "id": "fcf375e1-d255-449d-b26d-5b4b7713ec24",
   "metadata": {},
   "outputs": [
    {
     "data": {
      "text/plain": [
       "['name', 'University', 'Department', 'Id']"
      ]
     },
     "execution_count": 41,
     "metadata": {},
     "output_type": "execute_result"
    }
   ],
   "source": [
    "f"
   ]
  },
  {
   "cell_type": "code",
   "execution_count": 42,
   "id": "d36ae8fa-ba6a-49fe-a7d6-84baedd23e3b",
   "metadata": {},
   "outputs": [],
   "source": [
    "dfdf=list(h.values())#converting only the values into list  "
   ]
  },
  {
   "cell_type": "code",
   "execution_count": 45,
   "id": "f38c78de-c71f-42ed-92cb-7b2e1727e227",
   "metadata": {},
   "outputs": [
    {
     "data": {
      "text/plain": [
       "['Muntasir Rahman Saikat', 'Cuet', 'EEE', '1902078']"
      ]
     },
     "execution_count": 45,
     "metadata": {},
     "output_type": "execute_result"
    }
   ],
   "source": [
    "dfdfn"
   ]
  },
  {
   "cell_type": "code",
   "execution_count": 67,
   "id": "572cd1f6-ee71-4d02-8fc2-fbb5818f2bff",
   "metadata": {},
   "outputs": [
    {
     "name": "stdin",
     "output_type": "stream",
     "text": [
      "Enter the number of keys for dictionary 4\n"
     ]
    },
    {
     "name": "stdout",
     "output_type": "stream",
     "text": [
      "key name:\n"
     ]
    },
    {
     "name": "stdin",
     "output_type": "stream",
     "text": [
      " Name\n"
     ]
    },
    {
     "name": "stdout",
     "output_type": "stream",
     "text": [
      "Enter the value\n"
     ]
    },
    {
     "name": "stdin",
     "output_type": "stream",
     "text": [
      " Muntasir Rahman Saikat\n"
     ]
    },
    {
     "name": "stdout",
     "output_type": "stream",
     "text": [
      "key name:\n"
     ]
    },
    {
     "name": "stdin",
     "output_type": "stream",
     "text": [
      " veristy\n"
     ]
    },
    {
     "name": "stdout",
     "output_type": "stream",
     "text": [
      "Enter the value\n"
     ]
    },
    {
     "name": "stdin",
     "output_type": "stream",
     "text": [
      " CUET\n"
     ]
    },
    {
     "name": "stdout",
     "output_type": "stream",
     "text": [
      "key name:\n"
     ]
    },
    {
     "name": "stdin",
     "output_type": "stream",
     "text": [
      " Department\n"
     ]
    },
    {
     "name": "stdout",
     "output_type": "stream",
     "text": [
      "Enter the value\n"
     ]
    },
    {
     "name": "stdin",
     "output_type": "stream",
     "text": [
      " EEE\n"
     ]
    },
    {
     "name": "stdout",
     "output_type": "stream",
     "text": [
      "key name:\n"
     ]
    },
    {
     "name": "stdin",
     "output_type": "stream",
     "text": [
      " Id\n"
     ]
    },
    {
     "name": "stdout",
     "output_type": "stream",
     "text": [
      "Enter the value\n"
     ]
    },
    {
     "name": "stdin",
     "output_type": "stream",
     "text": [
      " 1902078\n"
     ]
    },
    {
     "name": "stdout",
     "output_type": "stream",
     "text": [
      "{'Name': 'Muntasir Rahman Saikat', 'veristy': 'CUET', 'Department': 'EEE', 'Id': '1902078'}\n"
     ]
    }
   ],
   "source": [
    "#### taking input form user\n",
    "l=int(input('Enter the number of keys for dictionary'))\n",
    "d={}\n",
    "for i in range(l):\n",
    "   print('key name:')\n",
    "   keys=(input())\n",
    "   print('Enter the value')\n",
    "   values=input()\n",
    "   d[keys]=values\n",
    "    \n",
    "print(d)"
   ]
  },
  {
   "cell_type": "code",
   "execution_count": 71,
   "id": "abf7b52f-3b7a-4be3-a533-b150ce35e0ab",
   "metadata": {},
   "outputs": [],
   "source": [
    "d.pop('veristy')\n",
    "d['University']='CUET'"
   ]
  },
  {
   "cell_type": "code",
   "execution_count": 96,
   "id": "dfe7af14-8086-412d-ae75-0b0440a3e2ad",
   "metadata": {},
   "outputs": [
    {
     "data": {
      "text/plain": [
       "{'Name': 'Muntasir Rahman Saikat',\n",
       " 'Department': 'EEE',\n",
       " 'Id': '1902078',\n",
       " 'University': 'CUET'}"
      ]
     },
     "execution_count": 96,
     "metadata": {},
     "output_type": "execute_result"
    }
   ],
   "source": [
    "d"
   ]
  },
  {
   "cell_type": "markdown",
   "id": "b3891d79-1310-4cee-83da-78796644ec20",
   "metadata": {},
   "source": [
    "# **use of zip()**"
   ]
  },
  {
   "cell_type": "code",
   "execution_count": null,
   "id": "2f687446-3f9c-4210-a5ca-09fbaaf82671",
   "metadata": {},
   "outputs": [],
   "source": []
  },
  {
   "cell_type": "code",
   "execution_count": 101,
   "id": "2f9a177a-bb4a-4b96-b619-d0e2118006bd",
   "metadata": {},
   "outputs": [
    {
     "name": "stdout",
     "output_type": "stream",
     "text": [
      "[('saikat', 21), ('muntasir', 424), ('sadik', 34), ('munna', 12)]\n",
      "()\n"
     ]
    }
   ],
   "source": [
    "name=['saikat','muntasir','sadik','munna']\n",
    "grades=[21,424,34,12]\n",
    "zipped=zip(name,grades)\n",
    "print(list(zipped)) \n",
    "print(tuple(zipped))# ekbar print korar por data gulo exhasted hoye jay tai 2nd time print korte gele blank resutl dekhay\n"
   ]
  },
  {
   "cell_type": "code",
   "execution_count": 100,
   "id": "da71b027-de72-4aaf-968d-356c0f310dd3",
   "metadata": {},
   "outputs": [
    {
     "name": "stdout",
     "output_type": "stream",
     "text": [
      "('saikat', 'muntasir', 'sadik', 'munna')\n",
      "(21, 424, 34, 12)\n"
     ]
    }
   ],
   "source": [
    "name=['saikat','muntasir','sadik','munna']\n",
    "grades=[21,424,34,12]\n",
    "zipped=zip(name,grades)\n",
    "Names,Scores=zip(*zipped) #unzipping\n",
    "print(Names)\n",
    "print(Scores)"
   ]
  },
  {
   "cell_type": "code",
   "execution_count": 32,
   "id": "35306076-936b-4fc7-aa47-e6efaf4eae0f",
   "metadata": {},
   "outputs": [
    {
     "data": {
      "text/plain": [
       "21"
      ]
     },
     "execution_count": 32,
     "metadata": {},
     "output_type": "execute_result"
    }
   ],
   "source": [
    "name=['saikat','muntasir','sadik','munna']\n",
    "grades=[21,424,34,12]\n",
    "zipped=tuple(zip(name,grades))\n",
    "i1,n1=zipped[0]\n",
    "\n",
    "n1"
   ]
  },
  {
   "cell_type": "code",
   "execution_count": 35,
   "id": "acb16602-eb7a-4444-b248-513455d9142c",
   "metadata": {},
   "outputs": [
    {
     "data": {
      "text/plain": [
       "'saikat'"
      ]
     },
     "execution_count": 35,
     "metadata": {},
     "output_type": "execute_result"
    }
   ],
   "source": [
    "i1 "
   ]
  },
  {
   "cell_type": "code",
   "execution_count": 37,
   "id": "58a362a3-26ef-4a05-a8c1-296d43d4669c",
   "metadata": {},
   "outputs": [
    {
     "name": "stdout",
     "output_type": "stream",
     "text": [
      "saikat 21\n",
      "muntasir 424\n",
      "sadik 34\n",
      "munna 12\n"
     ]
    }
   ],
   "source": [
    "for names,scores in zipped:\n",
    "   print(names,scores)"
   ]
  },
  {
   "cell_type": "code",
   "execution_count": 45,
   "id": "179314c4-e2f4-4561-92f0-a2f6ec11f94b",
   "metadata": {},
   "outputs": [
    {
     "name": "stdout",
     "output_type": "stream",
     "text": [
      "index=0, name=saikat, scores=21\n",
      "index=1, name=muntasir, scores=424\n",
      "index=2, name=sadik, scores=34\n",
      "index=3, name=munna, scores=12\n"
     ]
    }
   ],
   "source": [
    "for index,l in enumerate(zipped):#Enumerate index soho value dekhay\n",
    "    names,scores=l\n",
    "    print('index={}, name={}, scores={}'.format(index,names,scores))"
   ]
  },
  {
   "cell_type": "markdown",
   "id": "c0dd0c65-2615-4da4-b09c-49e4b886b2e1",
   "metadata": {},
   "source": [
    "# **creating a zipfile by taking multiple elements**"
   ]
  },
  {
   "cell_type": "code",
   "execution_count": 78,
   "id": "668e8f72-9a08-498c-b6f1-6e811e5971b4",
   "metadata": {},
   "outputs": [],
   "source": [
    "import zipfile as zp \n",
    "zipp=zp.ZipFile('Zipped file.zip','w') #w means write \n",
    "zipp.write('qs.png')# kon kon file gula zip korbo seta evabe .write diye add korte hobe\n",
    "zipp.write('ss.png')"
   ]
  },
  {
   "cell_type": "code",
   "execution_count": 79,
   "id": "765cdb65-fc60-4db7-9d2f-a9e05e2c1fd7",
   "metadata": {},
   "outputs": [],
   "source": [
    "with zp.ZipFile('Zipped file.zip','r') as file: #HERE r means read\n",
    "    file.extractall('unzipped')"
   ]
  },
  {
   "cell_type": "code",
   "execution_count": 84,
   "id": "1ebcc14b-d3c8-4d05-b63f-d2a026c3dea7",
   "metadata": {},
   "outputs": [],
   "source": [
    "new=zp.ZipFile('Prgramming elements.zip','w')\n",
    "new.write('list_comprehension.png')\n",
    "new.write('list_functions.png')\n",
    "new.write('ml.JPG')"
   ]
  },
  {
   "cell_type": "code",
   "execution_count": 95,
   "id": "bdc26c53-5fd0-4361-b51e-cd5bd089b26f",
   "metadata": {},
   "outputs": [],
   "source": [
    "with zp.ZipFile('Prgramming elements.zip','r') as new1:\n",
    "    new1.extractall('extraced of programming elements')"
   ]
  },
  {
   "cell_type": "markdown",
   "id": "9aa078ac-9a62-4b1a-a88f-06b3852820c5",
   "metadata": {},
   "source": [
    "# **Search and replace text in a file**"
   ]
  },
  {
   "cell_type": "code",
   "execution_count": 120,
   "id": "e349f5f8-1ccf-4036-bcfa-28fef5b35121",
   "metadata": {},
   "outputs": [],
   "source": [
    "Search_word='Bayern Munich'\n",
    "Replace_word='Bercelona'\n",
    "with open('d.txt','r') as file:\n",
    "    data=file.read()#file.read() reads the entire content of d.txt and stores it in the data variable as a string.\n",
    "    data=data.replace(Search_word,Replace_word)"
   ]
  },
  {
   "cell_type": "code",
   "execution_count": 121,
   "id": "aa430420-9f99-454f-8a58-b4c79b4821ea",
   "metadata": {},
   "outputs": [],
   "source": [
    "with open(r'd.txt','w') as file:\n",
    "    file.write(data)"
   ]
  },
  {
   "cell_type": "markdown",
   "id": "3146e7e2-7336-4ff7-aaf7-284505695b46",
   "metadata": {},
   "source": [
    "# **Search and replace in direct text**"
   ]
  },
  {
   "cell_type": "code",
   "execution_count": 128,
   "id": "f3f7ff4a-ab09-4931-bec9-92573e94dc69",
   "metadata": {},
   "outputs": [
    {
     "data": {
      "text/plain": [
       "'I would definitely like to go to Bercelona.It iss a place of heaven no doubt about that.One day I will watch the match between Bercelona and Real Madrid'"
      ]
     },
     "execution_count": 128,
     "metadata": {},
     "output_type": "execute_result"
    }
   ],
   "source": [
    "text='I would definitely like to go to Bayern Munich.It iss a place of heaven no doubt about that.One day I will watch the match between Bayern Munich and Real Madrid'\n",
    "\n",
    "import re #regular expression\n",
    "re.sub(Search_word,Replace_word,text)\n"
   ]
  },
  {
   "cell_type": "code",
   "execution_count": 16,
   "id": "c65fd591-f149-46ef-9501-7408a6145244",
   "metadata": {},
   "outputs": [
    {
     "name": "stdin",
     "output_type": "stream",
     "text": [
      " 4\n"
     ]
    },
    {
     "name": "stdout",
     "output_type": "stream",
     "text": [
      " \n",
      "#  \n",
      "# #  \n",
      "# # #  \n",
      "# # # #  \n"
     ]
    }
   ],
   "source": [
    "x =int(input())\n",
    "for i in range(x+1): \n",
    "   for j in range(i):\n",
    "      print('#',end=' ')\n",
    "   print(' ')\n",
    "    "
   ]
  },
  {
   "cell_type": "markdown",
   "id": "5672c2e1-4d43-4fa2-81c4-11485404015f",
   "metadata": {},
   "source": [
    "  # **break**"
   ]
  },
  {
   "cell_type": "code",
   "execution_count": 59,
   "id": "497fe5d2-a6e4-463f-afd7-1f8748e6810b",
   "metadata": {},
   "outputs": [
    {
     "name": "stdout",
     "output_type": "stream",
     "text": [
      "1 * 1 = 1\n",
      "1 * 2 = 2\n",
      "1 * 3 = 3\n",
      "1 * 4 = 4\n",
      "1 * 5 = 5\n",
      "1 * 6 = 6\n",
      "1 * 7 = 7\n",
      "1 * 8 = 8\n",
      "1 * 9 = 9\n",
      "1 * 10 = 10\n",
      " \n",
      "2 * 1 = 2\n",
      "2 * 2 = 4\n",
      "2 * 3 = 6\n",
      "2 * 4 = 8\n",
      "2 * 5 = 10\n",
      "2 * 6 = 12\n",
      "2 * 7 = 14\n",
      "2 * 8 = 16\n",
      "2 * 9 = 18\n",
      "2 * 10 = 20\n",
      " \n",
      "3 * 1 = 3\n",
      "3 * 2 = 6\n",
      "3 * 3 = 9\n",
      "3 * 4 = 12\n",
      "3 * 5 = 15\n",
      "3 * 6 = 18\n",
      "3 * 7 = 21\n",
      "3 * 8 = 24\n",
      "3 * 9 = 27\n",
      "3 * 10 = 30\n",
      " \n",
      "4 * 1 = 4\n",
      "4 * 2 = 8\n",
      "4 * 3 = 12\n",
      "4 * 4 = 16\n",
      "4 * 5 = 20\n",
      "4 * 6 = 24\n",
      "4 * 7 = 28\n",
      "4 * 8 = 32\n",
      "4 * 9 = 36\n",
      "4 * 10 = 40\n",
      " \n"
     ]
    }
   ],
   "source": [
    "for i in range(1,100+1):\n",
    "    if i==5:\n",
    "        break\n",
    "    for j in range(1,11):  \n",
    "       print(i,'*',j,'=',i*j)\n",
    "\n",
    "    print(' ')\n"
   ]
  },
  {
   "cell_type": "code",
   "execution_count": 72,
   "id": "bab3f731-fb24-4bca-9977-559897f9594f",
   "metadata": {},
   "outputs": [
    {
     "name": "stdout",
     "output_type": "stream",
     "text": [
      "2\n",
      "3\n"
     ]
    }
   ],
   "source": [
    "z=[10,2,3,4,5,6,7,8,9,10]\n",
    "for i in z:\n",
    "   if i>3:#ignores everything that is greater than 3\n",
    "     continue # continue statement skips current iteration\n",
    "   print(i)"
   ]
  },
  {
   "cell_type": "code",
   "execution_count": 77,
   "id": "5ebb4b58-1eab-4b0f-85b5-c7550a3bf2ae",
   "metadata": {},
   "outputs": [
    {
     "name": "stdout",
     "output_type": "stream",
     "text": [
      "10\n",
      "2\n",
      "4\n",
      "6\n",
      "8\n",
      "10\n"
     ]
    }
   ],
   "source": [
    " for j in z:\n",
    "    if j%2==1:\n",
    "      continue #means pass it just \n",
    "    print(j)"
   ]
  },
  {
   "cell_type": "code",
   "execution_count": 78,
   "id": "5786f8d2-b37a-48c2-b739-9f07f4c5a081",
   "metadata": {},
   "outputs": [
    {
     "data": {
      "text/plain": [
       "10"
      ]
     },
     "execution_count": 78,
     "metadata": {},
     "output_type": "execute_result"
    }
   ],
   "source": [
    "#modulus\n",
    "abs(-10)"
   ]
  },
  {
   "cell_type": "code",
   "execution_count": 81,
   "id": "650ea633-17b0-43c2-b417-eb69ab422c62",
   "metadata": {},
   "outputs": [
    {
     "data": {
      "text/plain": [
       "[5, 2, 5, 4, 1]"
      ]
     },
     "execution_count": 81,
     "metadata": {},
     "output_type": "execute_result"
    }
   ],
   "source": [
    "#reverse \n",
    "x=[1,4,5,2,5]\n",
    "y=list(reversed(x))\n",
    "y"
   ]
  },
  {
   "cell_type": "code",
   "execution_count": 83,
   "id": "487e36fc-63cc-4004-9ff1-b43813c7d1f6",
   "metadata": {},
   "outputs": [
    {
     "data": {
      "text/plain": [
       "217"
      ]
     },
     "execution_count": 83,
     "metadata": {},
     "output_type": "execute_result"
    }
   ],
   "source": [
    "#sum\n",
    "sum(x,200)"
   ]
  },
  {
   "cell_type": "code",
   "execution_count": 104,
   "id": "59a74de2-4df6-4b78-b4b6-5335dbccc415",
   "metadata": {},
   "outputs": [
    {
     "data": {
      "text/plain": [
       "'ခ'"
      ]
     },
     "execution_count": 104,
     "metadata": {},
     "output_type": "execute_result"
    }
   ],
   "source": [
    "chr(0x1001)"
   ]
  },
  {
   "cell_type": "markdown",
   "id": "ae41d221-6d91-4b57-bf7a-df4bd624f544",
   "metadata": {},
   "source": [
    "# **Function definition**"
   ]
  },
  {
   "cell_type": "code",
   "execution_count": 10,
   "id": "71f9777f-0706-4a6d-8386-3eea0f6a3191",
   "metadata": {},
   "outputs": [],
   "source": [
    "def dept():\n",
    "    print('EEE')\n"
   ]
  },
  {
   "cell_type": "code",
   "execution_count": 2,
   "id": "a7fef957-a5fc-4246-a3f6-211f1e94ec50",
   "metadata": {},
   "outputs": [
    {
     "name": "stdout",
     "output_type": "stream",
     "text": [
      "EEE\n"
     ]
    }
   ],
   "source": [
    "dept()"
   ]
  },
  {
   "cell_type": "code",
   "execution_count": 6,
   "id": "0207650f-2e4b-4698-bc2e-92c9935e8545",
   "metadata": {},
   "outputs": [],
   "source": [
    "def major(name):\n",
    "   print(f'My major is {name}')\n"
   ]
  },
  {
   "cell_type": "code",
   "execution_count": 7,
   "id": "9e3beef1-0609-4ff2-925b-72f7f8348563",
   "metadata": {},
   "outputs": [
    {
     "name": "stdout",
     "output_type": "stream",
     "text": [
      "My major is eee\n"
     ]
    }
   ],
   "source": [
    "major('eee')"
   ]
  },
  {
   "cell_type": "code",
   "execution_count": 8,
   "id": "32329a54-3fa7-41e1-a359-0be375e8aa87",
   "metadata": {},
   "outputs": [],
   "source": []
  },
  {
   "cell_type": "code",
   "execution_count": 11,
   "id": "90390d85-7185-4295-91da-be8975f1d232",
   "metadata": {},
   "outputs": [
    {
     "name": "stdout",
     "output_type": "stream",
     "text": [
      "EEE\n"
     ]
    }
   ],
   "source": [
    "dept()"
   ]
  },
  {
   "cell_type": "markdown",
   "id": "0448347f-2329-4b61-b6f1-52dfd7b3efa7",
   "metadata": {},
   "source": [
    "# **Return**"
   ]
  },
  {
   "cell_type": "code",
   "execution_count": 12,
   "id": "1b6c02ba-36fb-4e84-a39a-4772315fcb41",
   "metadata": {},
   "outputs": [],
   "source": [
    "def user_input():\n",
    "    x=int(input())\n",
    "    y=int(input())\n",
    "    z=int(input())\n",
    "    q=int(input())\n",
    "    return (x,y),(z,q)"
   ]
  },
  {
   "cell_type": "code",
   "execution_count": 18,
   "id": "7690a979-4100-4b69-98b8-903db5d09b07",
   "metadata": {},
   "outputs": [
    {
     "name": "stdin",
     "output_type": "stream",
     "text": [
      " 2\n",
      " 3\n",
      " 4\n",
      " 1\n"
     ]
    },
    {
     "data": {
      "text/plain": [
       "((2, 3), (4, 1))"
      ]
     },
     "execution_count": 18,
     "metadata": {},
     "output_type": "execute_result"
    }
   ],
   "source": [
    "user_input()\n"
   ]
  },
  {
   "cell_type": "code",
   "execution_count": 14,
   "id": "f1cbddd5-4597-4e96-bdb8-5f64618481dc",
   "metadata": {},
   "outputs": [
    {
     "name": "stdin",
     "output_type": "stream",
     "text": [
      " 2\n",
      " 1\n",
      " 1\n",
      " 1\n"
     ]
    }
   ],
   "source": [
    "p,l=user_input()"
   ]
  },
  {
   "cell_type": "code",
   "execution_count": 15,
   "id": "fec9ecdd-5e29-4c85-bc72-7d1c33b179c8",
   "metadata": {},
   "outputs": [
    {
     "data": {
      "text/plain": [
       "(2, 1)"
      ]
     },
     "execution_count": 15,
     "metadata": {},
     "output_type": "execute_result"
    }
   ],
   "source": [
    "p"
   ]
  },
  {
   "cell_type": "code",
   "execution_count": 24,
   "id": "66a1fd37-cb43-4cb0-84a9-1f6dbf948702",
   "metadata": {},
   "outputs": [
    {
     "name": "stdin",
     "output_type": "stream",
     "text": [
      " 5\n",
      " 65\n",
      " 6\n",
      " 3\n"
     ]
    }
   ],
   "source": [
    "p ,_=user_input()  #  _ this sign here works as a blank variable"
   ]
  },
  {
   "cell_type": "code",
   "execution_count": 25,
   "id": "f91ca2ab-c340-447e-a128-adff8a1b124c",
   "metadata": {},
   "outputs": [
    {
     "data": {
      "text/plain": [
       "(5, 65)"
      ]
     },
     "execution_count": 25,
     "metadata": {},
     "output_type": "execute_result"
    }
   ],
   "source": [
    "p"
   ]
  },
  {
   "cell_type": "code",
   "execution_count": 26,
   "id": "46b5995b-f3ef-4ec8-a994-a40160008778",
   "metadata": {},
   "outputs": [
    {
     "data": {
      "text/plain": [
       "(6, 3)"
      ]
     },
     "execution_count": 26,
     "metadata": {},
     "output_type": "execute_result"
    }
   ],
   "source": [
    "_"
   ]
  },
  {
   "cell_type": "code",
   "execution_count": 19,
   "id": "9447ead6-6d45-4c18-a914-a37b47d582af",
   "metadata": {},
   "outputs": [],
   "source": [
    "def mult1():\n",
    "    x=int(input('x='))\n",
    "    y=int(input('y='))\n",
    "    result=x*y\n",
    "    print(result) #won't bring any result because the function returns nothing here \n",
    "\n",
    "def mult2():\n",
    "    t=mult1()\n",
    "    \n",
    "    z=int(input('z='))\n",
    "    result2=t*z\n",
    "    return result2"
   ]
  },
  {
   "cell_type": "code",
   "execution_count": 35,
   "id": "5449fd85-8eea-44a9-bcf8-42d9c6d8d538",
   "metadata": {},
   "outputs": [
    {
     "name": "stdin",
     "output_type": "stream",
     "text": [
      "x= 2\n",
      "y= 4\n"
     ]
    },
    {
     "name": "stdout",
     "output_type": "stream",
     "text": [
      "8\n"
     ]
    },
    {
     "name": "stdin",
     "output_type": "stream",
     "text": [
      "z= 5\n"
     ]
    },
    {
     "ename": "TypeError",
     "evalue": "unsupported operand type(s) for *: 'NoneType' and 'int'",
     "output_type": "error",
     "traceback": [
      "\u001b[31m---------------------------------------------------------------------------\u001b[39m",
      "\u001b[31mTypeError\u001b[39m                                 Traceback (most recent call last)",
      "\u001b[36mCell\u001b[39m\u001b[36m \u001b[39m\u001b[32mIn[35]\u001b[39m\u001b[32m, line 1\u001b[39m\n\u001b[32m----> \u001b[39m\u001b[32m1\u001b[39m \u001b[43mmult2\u001b[49m\u001b[43m(\u001b[49m\u001b[43m)\u001b[49m\n",
      "\u001b[36mCell\u001b[39m\u001b[36m \u001b[39m\u001b[32mIn[34]\u001b[39m\u001b[32m, line 11\u001b[39m, in \u001b[36mmult2\u001b[39m\u001b[34m()\u001b[39m\n\u001b[32m      8\u001b[39m t=mult1()\n\u001b[32m     10\u001b[39m z=\u001b[38;5;28mint\u001b[39m(\u001b[38;5;28minput\u001b[39m(\u001b[33m'\u001b[39m\u001b[33mz=\u001b[39m\u001b[33m'\u001b[39m))\n\u001b[32m---> \u001b[39m\u001b[32m11\u001b[39m result2=\u001b[43mt\u001b[49m\u001b[43m*\u001b[49m\u001b[43mz\u001b[49m\n\u001b[32m     12\u001b[39m \u001b[38;5;28;01mreturn\u001b[39;00m result2\n",
      "\u001b[31mTypeError\u001b[39m: unsupported operand type(s) for *: 'NoneType' and 'int'"
     ]
    }
   ],
   "source": [
    "mult2()"
   ]
  },
  {
   "cell_type": "code",
   "execution_count": 36,
   "id": "c82f276f-4360-495e-b679-8eb82e6be54c",
   "metadata": {},
   "outputs": [],
   "source": [
    "def mult1():\n",
    "    x=int(input('x='))\n",
    "    y=int(input('y='))\n",
    "    result=x*y\n",
    "    print('result=',result) #won't bring any result because the function returns nothing here \n",
    "    return result\n",
    "def mult2():\n",
    "    t=mult1()lt\n",
    "    \n",
    "    z=int(input('z='))\n",
    "    result2=t*z\n",
    "    return result2"
   ]
  },
  {
   "cell_type": "code",
   "execution_count": 37,
   "id": "0c332983-925e-4cb6-92a3-52e9521b6d7e",
   "metadata": {},
   "outputs": [
    {
     "name": "stdin",
     "output_type": "stream",
     "text": [
      "x= 4\n",
      "y= 6\n"
     ]
    },
    {
     "name": "stdout",
     "output_type": "stream",
     "text": [
      "result= 24\n"
     ]
    },
    {
     "name": "stdin",
     "output_type": "stream",
     "text": [
      "z= 4\n"
     ]
    },
    {
     "data": {
      "text/plain": [
       "96"
      ]
     },
     "execution_count": 37,
     "metadata": {},
     "output_type": "execute_result"
    }
   ],
   "source": [
    "mult2()"
   ]
  },
  {
   "cell_type": "code",
   "execution_count": 16,
   "id": "a7cade4b-8dc7-472a-8529-e51f0d782b58",
   "metadata": {},
   "outputs": [],
   "source": [
    "def facto(x):\n",
    "    \n",
    "    s=1\n",
    "    if x==0:\n",
    "       print('1')\n",
    "    else:\n",
    "         for i in range(x,0,-1):\n",
    "             s=s*i\n",
    "             \n",
    "              \n",
    "             if s==1:\n",
    "                break\n",
    "             \n",
    "\n",
    "             \n",
    "    return s\n",
    "    \n",
    "   \n"
   ]
  },
  {
   "cell_type": "code",
   "execution_count": 17,
   "id": "d73c8347-c782-46d4-afd3-1fab9f0f51ed",
   "metadata": {},
   "outputs": [
    {
     "data": {
      "text/plain": [
       "720"
      ]
     },
     "execution_count": 17,
     "metadata": {},
     "output_type": "execute_result"
    }
   ],
   "source": [
    "facto(6)"
   ]
  },
  {
   "cell_type": "code",
   "execution_count": null,
   "id": "80e22350-4be8-4bb0-bfb6-ae43b89442c7",
   "metadata": {},
   "outputs": [],
   "source": [
    "#wrte a code to remove remove duplicates from the input_list\n",
    "input_list=[1,2,3,42,5,2,3,23,42]\n",
    "def remove_duplicates(input_list):\n",
    "    remove_duplicates=[] \n",
    "    for i in input_list:\n",
    "        if i not in remove_duplicates:\n",
    "            remove_duplicates.append(i)\n",
    "\n",
    "    return remove_duplicates\n",
    "\n"
   ]
  },
  {
   "cell_type": "code",
   "execution_count": 104,
   "id": "f7ff1236-8077-4d5e-ba42-4b7c13f577d0",
   "metadata": {},
   "outputs": [
    {
     "data": {
      "text/plain": [
       "[1, 2, 3, 42, 5, 23]"
      ]
     },
     "execution_count": 104,
     "metadata": {},
     "output_type": "execute_result"
    }
   ],
   "source": [
    "remove_duplicates(input_list)"
   ]
  },
  {
   "cell_type": "code",
   "execution_count": 31,
   "id": "2c26d809-d8e7-451d-930d-5a1860ce218a",
   "metadata": {},
   "outputs": [],
   "source": [
    "x=[1,2,3,42,5,23,21]\n",
    "def doubles(inputs):\n",
    "    \n",
    "    for k in inputs[:]: # inputs[:] creates a shallow copy of the list, which allows you to iterate over the original list without modifying it during the loop.\n",
    "        inputs.append(k)\n",
    "\n",
    "    return inputs"
   ]
  },
  {
   "cell_type": "code",
   "execution_count": 32,
   "id": "b7bb5d67-312f-4a37-ac5c-3ee103213e05",
   "metadata": {},
   "outputs": [
    {
     "data": {
      "text/plain": [
       "[1, 2, 3, 42, 5, 23, 21, 1, 2, 3, 42, 5, 23, 21]"
      ]
     },
     "execution_count": 32,
     "metadata": {},
     "output_type": "execute_result"
    }
   ],
   "source": [
    "doubles(x)"
   ]
  },
  {
   "cell_type": "code",
   "execution_count": null,
   "id": "580a9c19-efdd-4ea3-b3cf-99c4d57a30ce",
   "metadata": {},
   "outputs": [],
   "source": [
    "x["
   ]
  },
  {
   "cell_type": "code",
   "execution_count": 8,
   "id": "31f97b3d-71b2-49c9-a6ac-d60708b24cf7",
   "metadata": {},
   "outputs": [
    {
     "data": {
      "text/plain": [
       "[1, 1, 2, 2, 3, 3, 5, 5, 21, 21, 23, 23, 42, 42]"
      ]
     },
     "execution_count": 8,
     "metadata": {},
     "output_type": "execute_result"
    }
   ],
   "source": [
    "inputs.sort()\n",
    "inputs\n"
   ]
  },
  {
   "cell_type": "code",
   "execution_count": 1,
   "id": "8f5e4430-e729-4634-a48f-2620d364144c",
   "metadata": {},
   "outputs": [
    {
     "name": "stdout",
     "output_type": "stream",
     "text": [
      "1\n",
      "2\n",
      "3\n",
      "42\n",
      "5\n",
      "23\n"
     ]
    }
   ],
   "source": [
    "inputs=[1,2,3,42,5,23]\n",
    "for i in inputs:\n",
    "    x=i\n",
    "    print(x)\n",
    "     \n",
    "     "
   ]
  },
  {
   "cell_type": "code",
   "execution_count": null,
   "id": "66ebff52-7d3a-425d-af0c-dcf84431d923",
   "metadata": {},
   "outputs": [],
   "source": []
  },
  {
   "cell_type": "code",
   "execution_count": null,
   "id": "189279fb-cde9-40b7-be7f-d63ed26f0933",
   "metadata": {},
   "outputs": [],
   "source": []
  }
 ],
 "metadata": {
  "kernelspec": {
   "display_name": "Python 3 (ipykernel)",
   "language": "python",
   "name": "python3"
  },
  "language_info": {
   "codemirror_mode": {
    "name": "ipython",
    "version": 3
   },
   "file_extension": ".py",
   "mimetype": "text/x-python",
   "name": "python",
   "nbconvert_exporter": "python",
   "pygments_lexer": "ipython3",
   "version": "3.12.7"
  }
 },
 "nbformat": 4,
 "nbformat_minor": 5
}
