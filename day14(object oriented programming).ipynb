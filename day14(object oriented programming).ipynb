{
 "cells": [
  {
   "cell_type": "code",
   "execution_count": 12,
   "id": "5670ade1-7bf1-4a46-806b-18328489c34b",
   "metadata": {},
   "outputs": [
    {
     "name": "stdout",
     "output_type": "stream",
     "text": [
      "hello world\n"
     ]
    }
   ],
   "source": [
    " class person:\n",
    "      def __init__(self):#constructor\n",
    "          print('hello world')\n",
    "x=person()#object\n",
    "          "
   ]
  },
  {
   "cell_type": "code",
   "execution_count": 2,
   "id": "4f003e70-4495-4fb7-90ee-0750c9927f68",
   "metadata": {},
   "outputs": [
    {
     "name": "stdout",
     "output_type": "stream",
     "text": [
      "Saikat\n",
      "25\n",
      "170\n",
      "Hello World\n",
      "object Deleted\n"
     ]
    }
   ],
   "source": [
    " class person:\n",
    "      def __init__(self,name,age,height):#constructor\n",
    "          self.names=name#self is a reference to object\n",
    "          self.age=age\n",
    "          self.height=height\n",
    "      def HelloWorld(self):#⚠️ Note: Normally, we don't use double underscores for custom methods — that style is reserved for special Python methods like __init__, __str__, etc.\n",
    "          print('Hello World')\n",
    "      def __del__(self):#destructor\n",
    "          print(\"object Deleted\")\n",
    "person1=person('Saikat','25','170')# here person1 is object\n",
    "print(person1.names)\n",
    "print(person1.age)\n",
    "print(person1.height)\n",
    "person1.HelloWorld()\n",
    "del person1\n"
   ]
  },
  {
   "cell_type": "code",
   "execution_count": 4,
   "id": "91bdb0b3-2be1-489a-ae2e-4d29be3148d1",
   "metadata": {},
   "outputs": [
    {
     "name": "stdout",
     "output_type": "stream",
     "text": [
      "<class '__main__.person'>\n"
     ]
    }
   ],
   "source": [
    "print(person)"
   ]
  },
  {
   "cell_type": "code",
   "execution_count": 5,
   "id": "15a1aa9d-1f3b-4bcb-98f2-5a9169ca9b94",
   "metadata": {},
   "outputs": [
    {
     "name": "stdout",
     "output_type": "stream",
     "text": [
      "Name: Ankar, age: 21, Height: 130\n",
      "2\n"
     ]
    }
   ],
   "source": [
    "\n",
    "class person:\n",
    "     amount=0\n",
    "     def __init__(self,name,age,height):#constructor\n",
    "          self.name=name\n",
    "          self.age=age\n",
    "          self.height=height\n",
    "          person.amount+=1\n",
    "     def __del__(self):\n",
    "          person.amount-=1\n",
    "     def __str__(self):\n",
    "          return 'Name: {}, age: {}, Height: {}'.format(self.name,self.age,self.height)\n",
    "person1=person('saikat',23,170)\n",
    "person2=person('Ankar',21,130)\n",
    "print(person2)\n",
    "print(person.amount)"
   ]
  },
  {
   "cell_type": "markdown",
   "id": "4abca752-9b2f-4c31-a237-023a531d9045",
   "metadata": {},
   "source": [
    "# **Inheritance**"
   ]
  },
  {
   "cell_type": "code",
   "execution_count": 21,
   "id": "37ab785a-05b2-41f4-9d5c-dc651e1e5c6b",
   "metadata": {},
   "outputs": [
    {
     "name": "stdout",
     "output_type": "stream",
     "text": [
      "Name: Henry, age: 40, Height: 176, Salary: 3000\n",
      "36000\n"
     ]
    }
   ],
   "source": [
    "class person:\n",
    "     amount=0\n",
    "     def __init__(self,name,age,height):#constructor\n",
    "          self.name=name\n",
    "          self.age=age\n",
    "          self.height=height\n",
    "     def __str__(self):\n",
    "          return 'Name: {}, age: {}, Height: {}'.format(self.name,self.age,self.height)    \n",
    "class worker(person):\n",
    "    def __init__(self,name,age,height,salary):\n",
    "        super(worker,self).__init__(name,age,height)#accessing the parent class attributes in order to avoid rewriting \n",
    "        self.salary=salary\n",
    "    def __str__(self): #this is done to overwrite the string\n",
    "        text=super(worker,self).__str__()\n",
    "        text+=', Salary: {}'.format(self.salary)\n",
    "        return text\n",
    "        \n",
    "    def calc_yearly_salary(self):\n",
    "        return self.salary*12\n",
    "worker1=worker('Henry',40,176,3000) \n",
    "print(worker1)\n",
    "print(worker1.calc_yearly_salary())"
   ]
  },
  {
   "cell_type": "markdown",
   "id": "e082cdca-746f-42d6-8006-7a0e46e5fe59",
   "metadata": {},
   "source": [
    "## **Operator Overloading**\n",
    "**You can define yourself when you add or apply any operator on two of your objects**"
   ]
  },
  {
   "cell_type": "code",
   "execution_count": 27,
   "id": "54600576-f27a-48b4-a400-5cea01fe47ac",
   "metadata": {},
   "outputs": [
    {
     "name": "stdout",
     "output_type": "stream",
     "text": [
      "X=3,Y=5\n",
      "X=34,Y=12\n",
      "X=-31,Y=-7\n"
     ]
    }
   ],
   "source": [
    "class vector:\n",
    "    def __init__(self,x,y):\n",
    "        self.x=x\n",
    "        self.y=y\n",
    "    def __add__(self,other):\n",
    "        return vector(self.x+other.x,self.y+other.y)\n",
    "    def __sub__(self,other):\n",
    "        return vector(self.x-other.x,self.y-other.y)\n",
    "    def __str__(self):\n",
    "        return 'X={},Y={}'.format(self.x,self.y)\n",
    "X=vector(3,5)\n",
    "Y=vector(34,12)\n",
    "l=X-Y\n",
    "print(X)\n",
    "print(Y)\n",
    "print(l)"
   ]
  },
  {
   "cell_type": "code",
   "execution_count": null,
   "id": "32b7883f-60d6-448a-8582-33b7292892af",
   "metadata": {},
   "outputs": [],
   "source": [
    "class vector:\n",
    "    def __init__(self,x,y):\n",
    "        self.x=x\n",
    "        self.y=y\n",
    "\n",
    "    def __init__(self"
   ]
  }
 ],
 "metadata": {
  "kernelspec": {
   "display_name": "Python 3 (ipykernel)",
   "language": "python",
   "name": "python3"
  },
  "language_info": {
   "codemirror_mode": {
    "name": "ipython",
    "version": 3
   },
   "file_extension": ".py",
   "mimetype": "text/x-python",
   "name": "python",
   "nbconvert_exporter": "python",
   "pygments_lexer": "ipython3",
   "version": "3.12.7"
  }
 },
 "nbformat": 4,
 "nbformat_minor": 5
}
