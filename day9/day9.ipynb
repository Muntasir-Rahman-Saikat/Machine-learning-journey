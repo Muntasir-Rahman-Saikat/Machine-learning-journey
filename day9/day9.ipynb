{
 "cells": [
  {
   "cell_type": "code",
   "execution_count": 3,
   "id": "89d3fced-d36a-4612-87c0-cc989d69c8e0",
   "metadata": {},
   "outputs": [],
   "source": [
    "def lists(x,y):# Here x and y is called parameter\n",
    "    list1=list(x)\n",
    "    list2=list(y)\n",
    "    list3=list1+list2\n",
    "\n",
    "    \n",
    "    \n",
    "    return list3\n",
    "\n"
   ]
  },
  {
   "cell_type": "code",
   "execution_count": 2,
   "id": "3f46268f-82dc-4905-8266-3900926a61e7",
   "metadata": {},
   "outputs": [
    {
     "ename": "TypeError",
     "evalue": "can't multiply sequence by non-int of type 'list'",
     "output_type": "error",
     "traceback": [
      "\u001b[31m---------------------------------------------------------------------------\u001b[39m",
      "\u001b[31mTypeError\u001b[39m                                 Traceback (most recent call last)",
      "\u001b[36mCell\u001b[39m\u001b[36m \u001b[39m\u001b[32mIn[2]\u001b[39m\u001b[32m, line 1\u001b[39m\n\u001b[32m----> \u001b[39m\u001b[32m1\u001b[39m \u001b[43mlists\u001b[49m\u001b[43m(\u001b[49m\u001b[43m(\u001b[49m\u001b[32;43m1\u001b[39;49m\u001b[43m,\u001b[49m\u001b[32;43m3\u001b[39;49m\u001b[43m,\u001b[49m\u001b[32;43m4\u001b[39;49m\u001b[43m,\u001b[49m\u001b[32;43m5\u001b[39;49m\u001b[43m,\u001b[49m\u001b[32;43m1\u001b[39;49m\u001b[43m,\u001b[49m\u001b[32;43m3\u001b[39;49m\u001b[43m)\u001b[49m\u001b[43m,\u001b[49m\u001b[43m(\u001b[49m\u001b[32;43m1\u001b[39;49m\u001b[43m,\u001b[49m\u001b[32;43m3\u001b[39;49m\u001b[43m,\u001b[49m\u001b[32;43m4\u001b[39;49m\u001b[43m,\u001b[49m\u001b[32;43m1\u001b[39;49m\u001b[43m,\u001b[49m\u001b[32;43m2\u001b[39;49m\u001b[43m)\u001b[49m\u001b[43m)\u001b[49m \u001b[38;5;66;03m#here the value of x and y is called arguments\u001b[39;00m\n",
      "\u001b[36mCell\u001b[39m\u001b[36m \u001b[39m\u001b[32mIn[1]\u001b[39m\u001b[32m, line 4\u001b[39m, in \u001b[36mlists\u001b[39m\u001b[34m(x, y)\u001b[39m\n\u001b[32m      2\u001b[39m list1=\u001b[38;5;28mlist\u001b[39m(x)\n\u001b[32m      3\u001b[39m list2=\u001b[38;5;28mlist\u001b[39m(y)\n\u001b[32m----> \u001b[39m\u001b[32m4\u001b[39m list3=\u001b[43mlist1\u001b[49m\u001b[43m*\u001b[49m\u001b[43mlist2\u001b[49m\n\u001b[32m      8\u001b[39m \u001b[38;5;28;01mreturn\u001b[39;00m list3\n",
      "\u001b[31mTypeError\u001b[39m: can't multiply sequence by non-int of type 'list'"
     ]
    }
   ],
   "source": [
    "lists((1,3,4,5,1,3),(1,3,4,1,2)) #here the value of x and y is called arguments"
   ]
  },
  {
   "cell_type": "code",
   "execution_count": 16,
   "id": "d57bbe8f-828e-4fd0-a206-61953e8ef21b",
   "metadata": {},
   "outputs": [
    {
     "data": {
      "text/plain": [
       "[1, 2, 3]"
      ]
     },
     "execution_count": 16,
     "metadata": {},
     "output_type": "execute_result"
    }
   ],
   "source": [
    "list1"
   ]
  },
  {
   "cell_type": "code",
   "execution_count": 17,
   "id": "5d922c5f-67f1-4cab-a4d1-2d8cb0262600",
   "metadata": {},
   "outputs": [
    {
     "data": {
      "text/plain": [
       "[4, 5, 6]"
      ]
     },
     "execution_count": 17,
     "metadata": {},
     "output_type": "execute_result"
    }
   ],
   "source": [
    "list2"
   ]
  },
  {
   "cell_type": "code",
   "execution_count": 18,
   "id": "0dabc140-58e9-47a7-a4a7-0a82b6e41c34",
   "metadata": {},
   "outputs": [
    {
     "data": {
      "text/plain": [
       "[1, 2, 3]"
      ]
     },
     "execution_count": 18,
     "metadata": {},
     "output_type": "execute_result"
    }
   ],
   "source": [
    "list3=list1.copy()\n",
    "list3"
   ]
  },
  {
   "cell_type": "code",
   "execution_count": 19,
   "id": "2cbe1893-766f-4f08-8357-7136b8273d91",
   "metadata": {},
   "outputs": [],
   "source": [
    "list3.extend(list2)"
   ]
  },
  {
   "cell_type": "code",
   "execution_count": 20,
   "id": "4ee309b4-2f9f-4a70-8992-4a43138814da",
   "metadata": {},
   "outputs": [
    {
     "data": {
      "text/plain": [
       "[1, 2, 3, 4, 5, 6]"
      ]
     },
     "execution_count": 20,
     "metadata": {},
     "output_type": "execute_result"
    }
   ],
   "source": [
    "list3"
   ]
  },
  {
   "cell_type": "code",
   "execution_count": 5,
   "id": "017a7d49-ae5a-4a3c-b96a-25a93b8f4d57",
   "metadata": {},
   "outputs": [
    {
     "name": "stdout",
     "output_type": "stream",
     "text": [
      "1\n",
      "(2, 4, 5, 6, 4)\n",
      "21\n"
     ]
    },
    {
     "data": {
      "text/plain": [
       "22"
      ]
     },
     "execution_count": 5,
     "metadata": {},
     "output_type": "execute_result"
    }
   ],
   "source": [
    "def add_num(x,*y):# here *y is called the variable length argument\n",
    "    print(x)\n",
    "    print(y)\n",
    "    z=sum(y)\n",
    "    print(z)\n",
    "    \n",
    "    result=sum((x,*y))\n",
    "    return result\n",
    "\n",
    "y=add_num(1,2,4,5,6,4)\n",
    "\n",
    "y"
   ]
  },
  {
   "cell_type": "code",
   "execution_count": 34,
   "id": "888169b5-d2e0-4d93-bb84-375c957d758d",
   "metadata": {},
   "outputs": [
    {
     "ename": "TypeError",
     "evalue": "'int' object is not iterable",
     "output_type": "error",
     "traceback": [
      "\u001b[31m---------------------------------------------------------------------------\u001b[39m",
      "\u001b[31mTypeError\u001b[39m                                 Traceback (most recent call last)",
      "\u001b[36mCell\u001b[39m\u001b[36m \u001b[39m\u001b[32mIn[34]\u001b[39m\u001b[32m, line 1\u001b[39m\n\u001b[32m----> \u001b[39m\u001b[32m1\u001b[39m \u001b[38;5;28mprint\u001b[39m(\u001b[38;5;28;43msum\u001b[39;49m\u001b[43m(\u001b[49m\u001b[32;43m3\u001b[39;49m\u001b[43m+\u001b[49m\u001b[32;43m3\u001b[39;49m\u001b[43m)\u001b[49m)\n",
      "\u001b[31mTypeError\u001b[39m: 'int' object is not iterable"
     ]
    }
   ],
   "source": [
    "\n"
   ]
  },
  {
   "cell_type": "markdown",
   "id": "fea34f09-7ade-4da9-add8-e5b7bb0cdf87",
   "metadata": {},
   "source": [
    "# **Keyword Argument**"
   ]
  },
  {
   "cell_type": "code",
   "execution_count": 44,
   "id": "10c1cd9a-a094-46f6-8f18-58c7ca0c4959",
   "metadata": {},
   "outputs": [
    {
     "name": "stdout",
     "output_type": "stream",
     "text": [
      "job= Electrical Engineer\n",
      "income= 10000\n"
     ]
    }
   ],
   "source": [
    "def personal(job,income):\n",
    "    print('job=',job)\n",
    "    print('income=',income)\n",
    "    return(job,income)\n",
    "\n",
    "x,y=personal(income=10000,job='Electrical Engineer')"
   ]
  },
  {
   "cell_type": "code",
   "execution_count": 45,
   "id": "72a4c185-3ecc-483e-b5d8-eaee49e82000",
   "metadata": {},
   "outputs": [
    {
     "data": {
      "text/plain": [
       "'Electrical Engineer'"
      ]
     },
     "execution_count": 45,
     "metadata": {},
     "output_type": "execute_result"
    }
   ],
   "source": [
    "x"
   ]
  },
  {
   "cell_type": "code",
   "execution_count": 46,
   "id": "e26b8e52-1a26-4e54-b3a4-03dfce5f122e",
   "metadata": {},
   "outputs": [
    {
     "data": {
      "text/plain": [
       "10000"
      ]
     },
     "execution_count": 46,
     "metadata": {},
     "output_type": "execute_result"
    }
   ],
   "source": [
    "y"
   ]
  },
  {
   "cell_type": "code",
   "execution_count": 11,
   "id": "bf3cd15e-d761-4792-bcb8-03fcc9d3943a",
   "metadata": {},
   "outputs": [],
   "source": [
    "def personal_data(name,**org):# ekhane ** keyword variable hisebe receieve korbe\n",
    "    return(name,org)\n",
    "\n",
    "Name,University_and_Department=personal_data(name='saikat',university='CUET',department='EEE')\n",
    "\n"
   ]
  },
  {
   "cell_type": "code",
   "execution_count": 12,
   "id": "1035634f-685b-414a-8a00-325783b1803d",
   "metadata": {},
   "outputs": [
    {
     "data": {
      "text/plain": [
       "'saikat'"
      ]
     },
     "execution_count": 12,
     "metadata": {},
     "output_type": "execute_result"
    }
   ],
   "source": [
    "Name"
   ]
  },
  {
   "cell_type": "code",
   "execution_count": 10,
   "id": "eaf97cac-0a21-484f-8a18-bffdc1bd904a",
   "metadata": {},
   "outputs": [
    {
     "data": {
      "text/plain": [
       "{'universitys': 'CUET', 'department': 'EEE'}"
      ]
     },
     "execution_count": 10,
     "metadata": {},
     "output_type": "execute_result"
    }
   ],
   "source": [
    "University_and_Department"
   ]
  },
  {
   "cell_type": "code",
   "execution_count": 67,
   "id": "133c5bcf-f20e-41f7-86cb-0ccc8565708e",
   "metadata": {},
   "outputs": [
    {
     "data": {
      "text/plain": [
       "dict"
      ]
     },
     "execution_count": 67,
     "metadata": {},
     "output_type": "execute_result"
    }
   ],
   "source": [
    "type(University_and_Department)"
   ]
  },
  {
   "cell_type": "code",
   "execution_count": 68,
   "id": "0ae3b943-8c36-4d4f-a432-61fc5ae324ec",
   "metadata": {},
   "outputs": [],
   "source": [
    "def personal_data(name,*org):# ekhane * only variable hisebe receieve korbe\n",
    "    return(name,org)\n",
    "\n",
    "Name,University_and_Department=personal_data('saikat','CUET','EEE')\n"
   ]
  },
  {
   "cell_type": "code",
   "execution_count": 69,
   "id": "663097be-d8bf-44e7-bfae-e2cf6e1deb94",
   "metadata": {},
   "outputs": [
    {
     "data": {
      "text/plain": [
       "'saikat'"
      ]
     },
     "execution_count": 69,
     "metadata": {},
     "output_type": "execute_result"
    }
   ],
   "source": [
    "Name"
   ]
  },
  {
   "cell_type": "code",
   "execution_count": 70,
   "id": "2e5bce2f-08b7-4ab5-b39e-17ceeef95fe2",
   "metadata": {},
   "outputs": [
    {
     "data": {
      "text/plain": [
       "('CUET', 'EEE')"
      ]
     },
     "execution_count": 70,
     "metadata": {},
     "output_type": "execute_result"
    }
   ],
   "source": [
    "University_and_Department"
   ]
  },
  {
   "cell_type": "code",
   "execution_count": 71,
   "id": "56c83235-18f3-46d4-9931-beb4c3cb755d",
   "metadata": {},
   "outputs": [
    {
     "ename": "SyntaxError",
     "evalue": "invalid syntax (992583946.py, line 1)",
     "output_type": "error",
     "traceback": [
      "  \u001b[36mCell\u001b[39m\u001b[36m \u001b[39m\u001b[32mIn[71]\u001b[39m\u001b[32m, line 1\u001b[39m\n\u001b[31m    \u001b[39m\u001b[31m5!\u001b[39m\n     ^\n\u001b[31mSyntaxError\u001b[39m\u001b[31m:\u001b[39m invalid syntax\n"
     ]
    }
   ],
   "source": [
    "5!"
   ]
  },
  {
   "cell_type": "code",
   "execution_count": 72,
   "id": "8daedbc4-22b8-43a0-8009-c241d8f731af",
   "metadata": {},
   "outputs": [
    {
     "ename": "NameError",
     "evalue": "name 'fact' is not defined",
     "output_type": "error",
     "traceback": [
      "\u001b[31m---------------------------------------------------------------------------\u001b[39m",
      "\u001b[31mNameError\u001b[39m                                 Traceback (most recent call last)",
      "\u001b[36mCell\u001b[39m\u001b[36m \u001b[39m\u001b[32mIn[72]\u001b[39m\u001b[32m, line 1\u001b[39m\n\u001b[32m----> \u001b[39m\u001b[32m1\u001b[39m \u001b[43mfact\u001b[49m(\u001b[32m4\u001b[39m)\n",
      "\u001b[31mNameError\u001b[39m: name 'fact' is not defined"
     ]
    }
   ],
   "source": [
    "fact(4)"
   ]
  },
  {
   "cell_type": "markdown",
   "id": "4d239c02-3019-4912-b884-272f05869c84",
   "metadata": {},
   "source": [
    "# **Fucntion Recursion**"
   ]
  },
  {
   "cell_type": "code",
   "execution_count": 75,
   "id": "98bd1c5d-fcf6-46ab-b59f-c7f9ed4876ee",
   "metadata": {},
   "outputs": [],
   "source": [
    "def fact(x):\n",
    "    if x==0:\n",
    "        return 1\n",
    "    return x*fact(x-1)"
   ]
  },
  {
   "cell_type": "code",
   "execution_count": 77,
   "id": "50386101-413a-4ccb-aa7e-99be3777aa12",
   "metadata": {},
   "outputs": [],
   "source": [
    "x=fact(4)"
   ]
  },
  {
   "cell_type": "code",
   "execution_count": 78,
   "id": "9f3c0b40-02fb-4532-8351-67acb85cd123",
   "metadata": {},
   "outputs": [
    {
     "data": {
      "text/plain": [
       "24"
      ]
     },
     "execution_count": 78,
     "metadata": {},
     "output_type": "execute_result"
    }
   ],
   "source": [
    "x"
   ]
  },
  {
   "cell_type": "code",
   "execution_count": 82,
   "id": "9072e042-b16a-42b0-b0ba-4b2637a3bc89",
   "metadata": {},
   "outputs": [
    {
     "data": {
      "text/plain": [
       "120"
      ]
     },
     "execution_count": 82,
     "metadata": {},
     "output_type": "execute_result"
    }
   ],
   "source": [
    "fact(5)"
   ]
  },
  {
   "cell_type": "code",
   "execution_count": 83,
   "id": "6dcce2fc-8c48-4db0-b2f4-26d8c4e13c5e",
   "metadata": {},
   "outputs": [
    {
     "data": {
      "text/plain": [
       "1"
      ]
     },
     "execution_count": 83,
     "metadata": {},
     "output_type": "execute_result"
    }
   ],
   "source": [
    "fact(0)"
   ]
  },
  {
   "cell_type": "code",
   "execution_count": 85,
   "id": "d76bad88-5e7d-4443-b922-259f744755a9",
   "metadata": {},
   "outputs": [
    {
     "data": {
      "text/plain": [
       "3000"
      ]
     },
     "execution_count": 85,
     "metadata": {},
     "output_type": "execute_result"
    }
   ],
   "source": [
    "import sys \n",
    "sys.getrecursionlimit()"
   ]
  },
  {
   "cell_type": "code",
   "execution_count": 87,
   "id": "87f198ed-65c6-4f2f-9d3c-b4a707c6532d",
   "metadata": {},
   "outputs": [
    {
     "name": "stdout",
     "output_type": "stream",
     "text": [
      "saikat\n"
     ]
    }
   ],
   "source": [
    "def web():\n",
    "    print('saikat')\n",
    "\n",
    "web()"
   ]
  },
  {
   "cell_type": "markdown",
   "id": "cdcf9e47-f790-4d32-948b-10f409a2946b",
   "metadata": {},
   "source": [
    "# **Lambda Anonymous Functin**"
   ]
  },
  {
   "cell_type": "markdown",
   "id": "f792a612-94d0-452a-9f41-7bd7838fde72",
   "metadata": {},
   "source": [
    "lamda arguments: expression\n"
   ]
  },
  {
   "cell_type": "code",
   "execution_count": 20,
   "id": "d47a4e18-c33b-4665-9bbb-8ea871d13a7b",
   "metadata": {},
   "outputs": [
    {
     "data": {
      "text/plain": [
       "(<function __main__.<lambda>(y, z)>, 2, 4)"
      ]
     },
     "execution_count": 20,
     "metadata": {},
     "output_type": "execute_result"
    }
   ],
   "source": [
    "x=lambda y,z: y+z\n",
    "x(1,4)\n"
   ]
  },
  {
   "cell_type": "markdown",
   "id": "acb3cd2e-a639-4921-b66c-c911eea6292a",
   "metadata": {},
   "source": [
    "# **Lambda in Higher Order**"
   ]
  },
  {
   "cell_type": "code",
   "execution_count": 91,
   "id": "efe66338-1102-4c95-9597-2cabc72f8e62",
   "metadata": {},
   "outputs": [
    {
     "data": {
      "text/plain": [
       "48"
      ]
     },
     "execution_count": 91,
     "metadata": {},
     "output_type": "execute_result"
    }
   ],
   "source": [
    "def operation(x,y,op):\n",
    "    return(op(x,y))\n",
    "\n",
    "operation(12,4,lambda x,y: x*y)"
   ]
  },
  {
   "cell_type": "markdown",
   "id": "a2fba1bf-17d6-454f-b50f-6172ede53d92",
   "metadata": {},
   "source": [
    "# **Map()**"
   ]
  },
  {
   "cell_type": "markdown",
   "id": "f50c1ee4-31b9-418d-b2a2-8e0c89439cfc",
   "metadata": {},
   "source": [
    "map(function,iterable object)"
   ]
  },
  {
   "cell_type": "code",
   "execution_count": 3,
   "id": "64ebdcc8-f825-4cda-b25c-2dc4f450cf1d",
   "metadata": {},
   "outputs": [
    {
     "data": {
      "text/plain": [
       "[1, 4, 9, 16, 25, 36, 100]"
      ]
     },
     "execution_count": 3,
     "metadata": {},
     "output_type": "execute_result"
    }
   ],
   "source": [
    "num=[1,2,3,4,5,6,10]\n",
    "num=list(map(lambda x:x**2,num))\n",
    "num"
   ]
  },
  {
   "cell_type": "markdown",
   "id": "4f0552c6-8709-40b1-8549-d87da2f525d9",
   "metadata": {},
   "source": [
    "# **filter**"
   ]
  },
  {
   "cell_type": "markdown",
   "id": "6ee6e8ac-9b92-48a3-b287-6164ea74183e",
   "metadata": {},
   "source": [
    "filter(function,iterable object)\n"
   ]
  },
  {
   "cell_type": "code",
   "execution_count": 16,
   "id": "9afe68a2-5461-4db9-a0dd-e87a6d0ad7b9",
   "metadata": {},
   "outputs": [
    {
     "data": {
      "text/plain": [
       "[1, 5, 7, 5, 7, 9]"
      ]
     },
     "execution_count": 16,
     "metadata": {},
     "output_type": "execute_result"
    }
   ],
   "source": [
    "num=[1,2,4,5,6,7,5,7,8,0,9]\n",
    "tum=list(filter(lambda num:num%2==1,num))\n",
    "tum\n"
   ]
  },
  {
   "cell_type": "markdown",
   "id": "a0b9e6b6-dbd7-464f-ac5a-f8477b4f77f1",
   "metadata": {},
   "source": [
    "# **Reduce**"
   ]
  },
  {
   "cell_type": "raw",
   "id": "c69a0462-ea91-4eaf-aca8-702461782bca",
   "metadata": {},
   "source": [
    "reduce(function,iterable object)"
   ]
  },
  {
   "cell_type": "code",
   "execution_count": 17,
   "id": "21598b9b-7ff5-4e27-803d-1133bdc5d02e",
   "metadata": {},
   "outputs": [
    {
     "data": {
      "text/plain": [
       "54"
      ]
     },
     "execution_count": 17,
     "metadata": {},
     "output_type": "execute_result"
    }
   ],
   "source": [
    "from functools import reduce\n",
    "reduce(lambda a,b:a+b,num)#a=1,b=5 hence a+b=6.For next operation a=6,b=7 hence a+b=13 and the rest is followed thereby"
   ]
  },
  {
   "cell_type": "markdown",
   "id": "08984ddb-ce38-4ade-a025-e9ff0e24f0db",
   "metadata": {},
   "source": [
    "# **creating module**"
   ]
  },
  {
   "cell_type": "code",
   "execution_count": 16,
   "id": "a21405a3-987c-44bf-8cfe-1038b5e564cf",
   "metadata": {},
   "outputs": [
    {
     "data": {
      "text/plain": [
       "64"
      ]
     },
     "execution_count": 16,
     "metadata": {},
     "output_type": "execute_result"
    }
   ],
   "source": [
    "from test_module import square,greet\n",
    "square(8)\n",
    "#test_module.greet('Saikat')\n",
    "\n"
   ]
  },
  {
   "cell_type": "code",
   "execution_count": 17,
   "id": "a42f84e5-e234-44a0-857a-199c42b0f37c",
   "metadata": {},
   "outputs": [
    {
     "name": "stdout",
     "output_type": "stream",
     "text": [
      "Hello,Saikat!\n"
     ]
    }
   ],
   "source": [
    "\n",
    "greet('Saikat')"
   ]
  },
  {
   "cell_type": "code",
   "execution_count": 18,
   "id": "fa4c647f-673a-4477-9871-d2aed8492882",
   "metadata": {},
   "outputs": [
    {
     "data": {
      "text/plain": [
       "64"
      ]
     },
     "execution_count": 18,
     "metadata": {},
     "output_type": "execute_result"
    }
   ],
   "source": [
    "from test_module import *#here * means all the functions under test_module\n",
    "square(8)"
   ]
  },
  {
   "cell_type": "code",
   "execution_count": 7,
   "id": "6eeaaf00-3009-4340-8d46-73957a773b7c",
   "metadata": {},
   "outputs": [
    {
     "name": "stdout",
     "output_type": "stream",
     "text": [
      "Collecting yt-dlp\n",
      "  Downloading yt_dlp-2025.2.19-py3-none-any.whl.metadata (171 kB)\n",
      "Downloading yt_dlp-2025.2.19-py3-none-any.whl (3.2 MB)\n",
      "   ---------------------------------------- 0.0/3.2 MB ? eta -:--:--\n",
      "   ---------------------------------------- 0.0/3.2 MB ? eta -:--:--\n",
      "   --- ------------------------------------ 0.3/3.2 MB ? eta -:--:--\n",
      "   --------- ------------------------------ 0.8/3.2 MB 1.8 MB/s eta 0:00:02\n",
      "   ------------- -------------------------- 1.0/3.2 MB 1.6 MB/s eta 0:00:02\n",
      "   ------------------- -------------------- 1.6/3.2 MB 1.8 MB/s eta 0:00:01\n",
      "   ------------------- -------------------- 1.6/3.2 MB 1.8 MB/s eta 0:00:01\n",
      "   ----------------------- ---------------- 1.8/3.2 MB 1.5 MB/s eta 0:00:01\n",
      "   -------------------------- ------------- 2.1/3.2 MB 1.4 MB/s eta 0:00:01\n",
      "   ----------------------------- ---------- 2.4/3.2 MB 1.5 MB/s eta 0:00:01\n",
      "   -------------------------------- ------- 2.6/3.2 MB 1.4 MB/s eta 0:00:01\n",
      "   ---------------------------------------- 3.2/3.2 MB 1.5 MB/s eta 0:00:00\n",
      "Installing collected packages: yt-dlp\n",
      "Successfully installed yt-dlp-2025.2.19\n",
      "Note: you may need to restart the kernel to use updated packages.\n"
     ]
    }
   ],
   "source": [
    "pip install yt-dlp"
   ]
  },
  {
   "cell_type": "code",
   "execution_count": 2,
   "id": "9c943950-621e-4b33-b866-57878782cb93",
   "metadata": {},
   "outputs": [],
   "source": [
    "from pytube import YouTube"
   ]
  },
  {
   "cell_type": "code",
   "execution_count": 10,
   "id": "77a50634-10ed-49f6-b815-0231ed9d0dc6",
   "metadata": {},
   "outputs": [
    {
     "ename": "HTTPError",
     "evalue": "HTTP Error 403: Forbidden",
     "output_type": "error",
     "traceback": [
      "\u001b[31m---------------------------------------------------------------------------\u001b[39m",
      "\u001b[31mHTTPError\u001b[39m                                 Traceback (most recent call last)",
      "\u001b[36mCell\u001b[39m\u001b[36m \u001b[39m\u001b[32mIn[10]\u001b[39m\u001b[32m, line 3\u001b[39m\n\u001b[32m      1\u001b[39m url=\u001b[33m'\u001b[39m\u001b[33mhttps://www.youtube.com/watch?v=Sbn18WSKRtE\u001b[39m\u001b[33m'\u001b[39m\n\u001b[32m      2\u001b[39m yt=YouTube(url)\n\u001b[32m----> \u001b[39m\u001b[32m3\u001b[39m stream=\u001b[43myt\u001b[49m\u001b[43m.\u001b[49m\u001b[43mstreams\u001b[49m.get_highest_resolution().first()\n",
      "\u001b[36mFile \u001b[39m\u001b[32mF:\\anaconda_colbe_jei_folder_e\\Lib\\site-packages\\pytube\\__main__.py:296\u001b[39m, in \u001b[36mYouTube.streams\u001b[39m\u001b[34m(self)\u001b[39m\n\u001b[32m    291\u001b[39m \u001b[38;5;250m\u001b[39m\u001b[33;03m\"\"\"Interface to query both adaptive (DASH) and progressive streams.\u001b[39;00m\n\u001b[32m    292\u001b[39m \n\u001b[32m    293\u001b[39m \u001b[33;03m:rtype: :class:`StreamQuery <StreamQuery>`.\u001b[39;00m\n\u001b[32m    294\u001b[39m \u001b[33;03m\"\"\"\u001b[39;00m\n\u001b[32m    295\u001b[39m \u001b[38;5;28mself\u001b[39m.check_availability()\n\u001b[32m--> \u001b[39m\u001b[32m296\u001b[39m \u001b[38;5;28;01mreturn\u001b[39;00m StreamQuery(\u001b[38;5;28;43mself\u001b[39;49m\u001b[43m.\u001b[49m\u001b[43mfmt_streams\u001b[49m)\n",
      "\u001b[36mFile \u001b[39m\u001b[32mF:\\anaconda_colbe_jei_folder_e\\Lib\\site-packages\\pytube\\__main__.py:176\u001b[39m, in \u001b[36mYouTube.fmt_streams\u001b[39m\u001b[34m(self)\u001b[39m\n\u001b[32m    172\u001b[39m     \u001b[38;5;28;01mreturn\u001b[39;00m \u001b[38;5;28mself\u001b[39m._fmt_streams\n\u001b[32m    174\u001b[39m \u001b[38;5;28mself\u001b[39m._fmt_streams = []\n\u001b[32m--> \u001b[39m\u001b[32m176\u001b[39m stream_manifest = extract.apply_descrambler(\u001b[38;5;28;43mself\u001b[39;49m\u001b[43m.\u001b[49m\u001b[43mstreaming_data\u001b[49m)\n\u001b[32m    178\u001b[39m \u001b[38;5;66;03m# If the cached js doesn't work, try fetching a new js file\u001b[39;00m\n\u001b[32m    179\u001b[39m \u001b[38;5;66;03m# https://github.com/pytube/pytube/issues/1054\u001b[39;00m\n\u001b[32m    180\u001b[39m \u001b[38;5;28;01mtry\u001b[39;00m:\n",
      "\u001b[36mFile \u001b[39m\u001b[32mF:\\anaconda_colbe_jei_folder_e\\Lib\\site-packages\\pytube\\__main__.py:160\u001b[39m, in \u001b[36mYouTube.streaming_data\u001b[39m\u001b[34m(self)\u001b[39m\n\u001b[32m    158\u001b[39m     \u001b[38;5;28;01mreturn\u001b[39;00m \u001b[38;5;28mself\u001b[39m.vid_info[\u001b[33m'\u001b[39m\u001b[33mstreamingData\u001b[39m\u001b[33m'\u001b[39m]\n\u001b[32m    159\u001b[39m \u001b[38;5;28;01melse\u001b[39;00m:\n\u001b[32m--> \u001b[39m\u001b[32m160\u001b[39m     \u001b[38;5;28;43mself\u001b[39;49m\u001b[43m.\u001b[49m\u001b[43mbypass_age_gate\u001b[49m\u001b[43m(\u001b[49m\u001b[43m)\u001b[49m\n\u001b[32m    161\u001b[39m     \u001b[38;5;28;01mreturn\u001b[39;00m \u001b[38;5;28mself\u001b[39m.vid_info[\u001b[33m'\u001b[39m\u001b[33mstreamingData\u001b[39m\u001b[33m'\u001b[39m]\n",
      "\u001b[36mFile \u001b[39m\u001b[32mF:\\anaconda_colbe_jei_folder_e\\Lib\\site-packages\\pytube\\__main__.py:257\u001b[39m, in \u001b[36mYouTube.bypass_age_gate\u001b[39m\u001b[34m(self)\u001b[39m\n\u001b[32m    251\u001b[39m \u001b[38;5;250m\u001b[39m\u001b[33;03m\"\"\"Attempt to update the vid_info by bypassing the age gate.\"\"\"\u001b[39;00m\n\u001b[32m    252\u001b[39m innertube = InnerTube(\n\u001b[32m    253\u001b[39m     client=\u001b[33m'\u001b[39m\u001b[33mANDROID_EMBED\u001b[39m\u001b[33m'\u001b[39m,\n\u001b[32m    254\u001b[39m     use_oauth=\u001b[38;5;28mself\u001b[39m.use_oauth,\n\u001b[32m    255\u001b[39m     allow_cache=\u001b[38;5;28mself\u001b[39m.allow_oauth_cache\n\u001b[32m    256\u001b[39m )\n\u001b[32m--> \u001b[39m\u001b[32m257\u001b[39m innertube_response = \u001b[43minnertube\u001b[49m\u001b[43m.\u001b[49m\u001b[43mplayer\u001b[49m\u001b[43m(\u001b[49m\u001b[38;5;28;43mself\u001b[39;49m\u001b[43m.\u001b[49m\u001b[43mvideo_id\u001b[49m\u001b[43m)\u001b[49m\n\u001b[32m    259\u001b[39m playability_status = innertube_response[\u001b[33m'\u001b[39m\u001b[33mplayabilityStatus\u001b[39m\u001b[33m'\u001b[39m].get(\u001b[33m'\u001b[39m\u001b[33mstatus\u001b[39m\u001b[33m'\u001b[39m, \u001b[38;5;28;01mNone\u001b[39;00m)\n\u001b[32m    261\u001b[39m \u001b[38;5;66;03m# If we still can't access the video, raise an exception\u001b[39;00m\n\u001b[32m    262\u001b[39m \u001b[38;5;66;03m# (tier 3 age restriction)\u001b[39;00m\n",
      "\u001b[36mFile \u001b[39m\u001b[32mF:\\anaconda_colbe_jei_folder_e\\Lib\\site-packages\\pytube\\innertube.py:448\u001b[39m, in \u001b[36mInnerTube.player\u001b[39m\u001b[34m(self, video_id)\u001b[39m\n\u001b[32m    444\u001b[39m query = {\n\u001b[32m    445\u001b[39m     \u001b[33m'\u001b[39m\u001b[33mvideoId\u001b[39m\u001b[33m'\u001b[39m: video_id,\n\u001b[32m    446\u001b[39m }\n\u001b[32m    447\u001b[39m query.update(\u001b[38;5;28mself\u001b[39m.base_params)\n\u001b[32m--> \u001b[39m\u001b[32m448\u001b[39m \u001b[38;5;28;01mreturn\u001b[39;00m \u001b[38;5;28;43mself\u001b[39;49m\u001b[43m.\u001b[49m\u001b[43m_call_api\u001b[49m\u001b[43m(\u001b[49m\u001b[43mendpoint\u001b[49m\u001b[43m,\u001b[49m\u001b[43m \u001b[49m\u001b[43mquery\u001b[49m\u001b[43m,\u001b[49m\u001b[43m \u001b[49m\u001b[38;5;28;43mself\u001b[39;49m\u001b[43m.\u001b[49m\u001b[43mbase_data\u001b[49m\u001b[43m)\u001b[49m\n",
      "\u001b[36mFile \u001b[39m\u001b[32mF:\\anaconda_colbe_jei_folder_e\\Lib\\site-packages\\pytube\\innertube.py:390\u001b[39m, in \u001b[36mInnerTube._call_api\u001b[39m\u001b[34m(self, endpoint, query, data)\u001b[39m\n\u001b[32m    386\u001b[39m         headers[\u001b[33m'\u001b[39m\u001b[33mAuthorization\u001b[39m\u001b[33m'\u001b[39m] = \u001b[33mf\u001b[39m\u001b[33m'\u001b[39m\u001b[33mBearer \u001b[39m\u001b[38;5;132;01m{\u001b[39;00m\u001b[38;5;28mself\u001b[39m.access_token\u001b[38;5;132;01m}\u001b[39;00m\u001b[33m'\u001b[39m\n\u001b[32m    388\u001b[39m headers.update(\u001b[38;5;28mself\u001b[39m.header)\n\u001b[32m--> \u001b[39m\u001b[32m390\u001b[39m response = \u001b[43mrequest\u001b[49m\u001b[43m.\u001b[49m\u001b[43m_execute_request\u001b[49m\u001b[43m(\u001b[49m\n\u001b[32m    391\u001b[39m \u001b[43m    \u001b[49m\u001b[43mendpoint_url\u001b[49m\u001b[43m,\u001b[49m\n\u001b[32m    392\u001b[39m \u001b[43m    \u001b[49m\u001b[33;43m'\u001b[39;49m\u001b[33;43mPOST\u001b[39;49m\u001b[33;43m'\u001b[39;49m\u001b[43m,\u001b[49m\n\u001b[32m    393\u001b[39m \u001b[43m    \u001b[49m\u001b[43mheaders\u001b[49m\u001b[43m=\u001b[49m\u001b[43mheaders\u001b[49m\u001b[43m,\u001b[49m\n\u001b[32m    394\u001b[39m \u001b[43m    \u001b[49m\u001b[43mdata\u001b[49m\u001b[43m=\u001b[49m\u001b[43mdata\u001b[49m\n\u001b[32m    395\u001b[39m \u001b[43m\u001b[49m\u001b[43m)\u001b[49m\n\u001b[32m    396\u001b[39m \u001b[38;5;28;01mreturn\u001b[39;00m json.loads(response.read())\n",
      "\u001b[36mFile \u001b[39m\u001b[32mF:\\anaconda_colbe_jei_folder_e\\Lib\\site-packages\\pytube\\request.py:37\u001b[39m, in \u001b[36m_execute_request\u001b[39m\u001b[34m(url, method, headers, data, timeout)\u001b[39m\n\u001b[32m     35\u001b[39m \u001b[38;5;28;01melse\u001b[39;00m:\n\u001b[32m     36\u001b[39m     \u001b[38;5;28;01mraise\u001b[39;00m \u001b[38;5;167;01mValueError\u001b[39;00m(\u001b[33m\"\u001b[39m\u001b[33mInvalid URL\u001b[39m\u001b[33m\"\u001b[39m)\n\u001b[32m---> \u001b[39m\u001b[32m37\u001b[39m \u001b[38;5;28;01mreturn\u001b[39;00m \u001b[43murlopen\u001b[49m\u001b[43m(\u001b[49m\u001b[43mrequest\u001b[49m\u001b[43m,\u001b[49m\u001b[43m \u001b[49m\u001b[43mtimeout\u001b[49m\u001b[43m=\u001b[49m\u001b[43mtimeout\u001b[49m\u001b[43m)\u001b[49m\n",
      "\u001b[36mFile \u001b[39m\u001b[32mF:\\anaconda_colbe_jei_folder_e\\Lib\\urllib\\request.py:215\u001b[39m, in \u001b[36murlopen\u001b[39m\u001b[34m(url, data, timeout, cafile, capath, cadefault, context)\u001b[39m\n\u001b[32m    213\u001b[39m \u001b[38;5;28;01melse\u001b[39;00m:\n\u001b[32m    214\u001b[39m     opener = _opener\n\u001b[32m--> \u001b[39m\u001b[32m215\u001b[39m \u001b[38;5;28;01mreturn\u001b[39;00m \u001b[43mopener\u001b[49m\u001b[43m.\u001b[49m\u001b[43mopen\u001b[49m\u001b[43m(\u001b[49m\u001b[43murl\u001b[49m\u001b[43m,\u001b[49m\u001b[43m \u001b[49m\u001b[43mdata\u001b[49m\u001b[43m,\u001b[49m\u001b[43m \u001b[49m\u001b[43mtimeout\u001b[49m\u001b[43m)\u001b[49m\n",
      "\u001b[36mFile \u001b[39m\u001b[32mF:\\anaconda_colbe_jei_folder_e\\Lib\\urllib\\request.py:521\u001b[39m, in \u001b[36mOpenerDirector.open\u001b[39m\u001b[34m(self, fullurl, data, timeout)\u001b[39m\n\u001b[32m    519\u001b[39m \u001b[38;5;28;01mfor\u001b[39;00m processor \u001b[38;5;129;01min\u001b[39;00m \u001b[38;5;28mself\u001b[39m.process_response.get(protocol, []):\n\u001b[32m    520\u001b[39m     meth = \u001b[38;5;28mgetattr\u001b[39m(processor, meth_name)\n\u001b[32m--> \u001b[39m\u001b[32m521\u001b[39m     response = \u001b[43mmeth\u001b[49m\u001b[43m(\u001b[49m\u001b[43mreq\u001b[49m\u001b[43m,\u001b[49m\u001b[43m \u001b[49m\u001b[43mresponse\u001b[49m\u001b[43m)\u001b[49m\n\u001b[32m    523\u001b[39m \u001b[38;5;28;01mreturn\u001b[39;00m response\n",
      "\u001b[36mFile \u001b[39m\u001b[32mF:\\anaconda_colbe_jei_folder_e\\Lib\\urllib\\request.py:630\u001b[39m, in \u001b[36mHTTPErrorProcessor.http_response\u001b[39m\u001b[34m(self, request, response)\u001b[39m\n\u001b[32m    627\u001b[39m \u001b[38;5;66;03m# According to RFC 2616, \"2xx\" code indicates that the client's\u001b[39;00m\n\u001b[32m    628\u001b[39m \u001b[38;5;66;03m# request was successfully received, understood, and accepted.\u001b[39;00m\n\u001b[32m    629\u001b[39m \u001b[38;5;28;01mif\u001b[39;00m \u001b[38;5;129;01mnot\u001b[39;00m (\u001b[32m200\u001b[39m <= code < \u001b[32m300\u001b[39m):\n\u001b[32m--> \u001b[39m\u001b[32m630\u001b[39m     response = \u001b[38;5;28;43mself\u001b[39;49m\u001b[43m.\u001b[49m\u001b[43mparent\u001b[49m\u001b[43m.\u001b[49m\u001b[43merror\u001b[49m\u001b[43m(\u001b[49m\n\u001b[32m    631\u001b[39m \u001b[43m        \u001b[49m\u001b[33;43m'\u001b[39;49m\u001b[33;43mhttp\u001b[39;49m\u001b[33;43m'\u001b[39;49m\u001b[43m,\u001b[49m\u001b[43m \u001b[49m\u001b[43mrequest\u001b[49m\u001b[43m,\u001b[49m\u001b[43m \u001b[49m\u001b[43mresponse\u001b[49m\u001b[43m,\u001b[49m\u001b[43m \u001b[49m\u001b[43mcode\u001b[49m\u001b[43m,\u001b[49m\u001b[43m \u001b[49m\u001b[43mmsg\u001b[49m\u001b[43m,\u001b[49m\u001b[43m \u001b[49m\u001b[43mhdrs\u001b[49m\u001b[43m)\u001b[49m\n\u001b[32m    633\u001b[39m \u001b[38;5;28;01mreturn\u001b[39;00m response\n",
      "\u001b[36mFile \u001b[39m\u001b[32mF:\\anaconda_colbe_jei_folder_e\\Lib\\urllib\\request.py:559\u001b[39m, in \u001b[36mOpenerDirector.error\u001b[39m\u001b[34m(self, proto, *args)\u001b[39m\n\u001b[32m    557\u001b[39m \u001b[38;5;28;01mif\u001b[39;00m http_err:\n\u001b[32m    558\u001b[39m     args = (\u001b[38;5;28mdict\u001b[39m, \u001b[33m'\u001b[39m\u001b[33mdefault\u001b[39m\u001b[33m'\u001b[39m, \u001b[33m'\u001b[39m\u001b[33mhttp_error_default\u001b[39m\u001b[33m'\u001b[39m) + orig_args\n\u001b[32m--> \u001b[39m\u001b[32m559\u001b[39m     \u001b[38;5;28;01mreturn\u001b[39;00m \u001b[38;5;28;43mself\u001b[39;49m\u001b[43m.\u001b[49m\u001b[43m_call_chain\u001b[49m\u001b[43m(\u001b[49m\u001b[43m*\u001b[49m\u001b[43margs\u001b[49m\u001b[43m)\u001b[49m\n",
      "\u001b[36mFile \u001b[39m\u001b[32mF:\\anaconda_colbe_jei_folder_e\\Lib\\urllib\\request.py:492\u001b[39m, in \u001b[36mOpenerDirector._call_chain\u001b[39m\u001b[34m(self, chain, kind, meth_name, *args)\u001b[39m\n\u001b[32m    490\u001b[39m \u001b[38;5;28;01mfor\u001b[39;00m handler \u001b[38;5;129;01min\u001b[39;00m handlers:\n\u001b[32m    491\u001b[39m     func = \u001b[38;5;28mgetattr\u001b[39m(handler, meth_name)\n\u001b[32m--> \u001b[39m\u001b[32m492\u001b[39m     result = \u001b[43mfunc\u001b[49m\u001b[43m(\u001b[49m\u001b[43m*\u001b[49m\u001b[43margs\u001b[49m\u001b[43m)\u001b[49m\n\u001b[32m    493\u001b[39m     \u001b[38;5;28;01mif\u001b[39;00m result \u001b[38;5;129;01mis\u001b[39;00m \u001b[38;5;129;01mnot\u001b[39;00m \u001b[38;5;28;01mNone\u001b[39;00m:\n\u001b[32m    494\u001b[39m         \u001b[38;5;28;01mreturn\u001b[39;00m result\n",
      "\u001b[36mFile \u001b[39m\u001b[32mF:\\anaconda_colbe_jei_folder_e\\Lib\\urllib\\request.py:639\u001b[39m, in \u001b[36mHTTPDefaultErrorHandler.http_error_default\u001b[39m\u001b[34m(self, req, fp, code, msg, hdrs)\u001b[39m\n\u001b[32m    638\u001b[39m \u001b[38;5;28;01mdef\u001b[39;00m\u001b[38;5;250m \u001b[39m\u001b[34mhttp_error_default\u001b[39m(\u001b[38;5;28mself\u001b[39m, req, fp, code, msg, hdrs):\n\u001b[32m--> \u001b[39m\u001b[32m639\u001b[39m     \u001b[38;5;28;01mraise\u001b[39;00m HTTPError(req.full_url, code, msg, hdrs, fp)\n",
      "\u001b[31mHTTPError\u001b[39m: HTTP Error 403: Forbidden"
     ]
    }
   ],
   "source": [
    "url='https://www.youtube.com/watch?v=Sbn18WSKRtE'\n",
    "yt=YouTube(url)\n",
    "stream=yt.streams.get_highest_resolution().first()"
   ]
  },
  {
   "cell_type": "code",
   "execution_count": null,
   "id": "33913d03-07c4-4dbf-ae65-5e2340886d6d",
   "metadata": {},
   "outputs": [],
   "source": [
    "stream.download()\n",
    "print('Download Completed')"
   ]
  },
  {
   "cell_type": "markdown",
   "id": "3383fd36-77e8-49fd-92f7-4412351bddb0",
   "metadata": {},
   "source": [
    "# **File handling**"
   ]
  },
  {
   "cell_type": "markdown",
   "id": "0db70fd7-8511-4189-8d68-9560bf1b0b7e",
   "metadata": {},
   "source": [
    "# **Reading text from a file**"
   ]
  },
  {
   "cell_type": "code",
   "execution_count": 42,
   "id": "77414762-2622-45a8-bfb5-7b13a8bf2b47",
   "metadata": {},
   "outputs": [
    {
     "name": "stdout",
     "output_type": "stream",
     "text": [
      "Hello.Assalamualaikum My name is Muntasir Rahman Saikat .I am currently a 4th year running student in EEE department at CUET .\n"
     ]
    }
   ],
   "source": [
    "with open('d.txt','r') as file:\n",
    "    for lines in file:\n",
    "        print(lines.strip())"
   ]
  },
  {
   "cell_type": "markdown",
   "id": "4ea5c073-1a5e-4e94-82dd-6a000f37d699",
   "metadata": {},
   "source": [
    "# **Writing Text in a file**"
   ]
  },
  {
   "cell_type": "code",
   "execution_count": 32,
   "id": "c99a247d-9f98-4f0f-9690-33c18f664885",
   "metadata": {},
   "outputs": [],
   "source": [
    "new_line=['I am currently focusing on switching from elcetrical to computer science background.As I am no longer feeling any sort of interest in my current department studies.']\n",
    "with open('d1.txt','w') as file :\n",
    "    for x in new_line :\n",
    "        file.write(x)"
   ]
  },
  {
   "cell_type": "markdown",
   "id": "d237e9c5-da36-4ec3-b31e-1733cf58fc9b",
   "metadata": {},
   "source": [
    "# **Appending text in a file**"
   ]
  },
  {
   "cell_type": "code",
   "execution_count": 46,
   "id": "cfce2686-88c4-442e-9db9-775b42d2868d",
   "metadata": {},
   "outputs": [],
   "source": [
    "new_line=['I am currently focusing on switching from elcetrical to computer science background.','As I am no longer feeling any sort of interest in my current department studies.']\n",
    "with open('d.txt','a') as file :\n",
    "    for x in new_line :\n",
    "        file.write(x+'\\n')"
   ]
  },
  {
   "cell_type": "code",
   "execution_count": null,
   "id": "f84a5118-d606-4e36-a915-e51a6c06a609",
   "metadata": {},
   "outputs": [],
   "source": []
  }
 ],
 "metadata": {
  "kernelspec": {
   "display_name": "Python 3 (ipykernel)",
   "language": "python",
   "name": "python3"
  },
  "language_info": {
   "codemirror_mode": {
    "name": "ipython",
    "version": 3
   },
   "file_extension": ".py",
   "mimetype": "text/x-python",
   "name": "python",
   "nbconvert_exporter": "python",
   "pygments_lexer": "ipython3",
   "version": "3.12.7"
  }
 },
 "nbformat": 4,
 "nbformat_minor": 5
}
