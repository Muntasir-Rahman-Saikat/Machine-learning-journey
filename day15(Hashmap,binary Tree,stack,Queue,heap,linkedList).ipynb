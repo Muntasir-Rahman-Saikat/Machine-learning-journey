{
 "cells": [
  {
   "cell_type": "code",
   "execution_count": 3,
   "id": "ab9703fd-481d-4171-8d49-d23002c7fe0d",
   "metadata": {},
   "outputs": [
    {
     "name": "stdout",
     "output_type": "stream",
     "text": [
      "{'Name': 'Muntasir Rahman Saikat', 'Id': 1902078, 'DEPT': 'EEE'}\n"
     ]
    }
   ],
   "source": [
    "dictionary ={\n",
    "    'Name':\"Muntasir Rahman Saikat\",\n",
    "    'Id':1902078,\n",
    "    'DEPT':'EEE'\n",
    "}\n",
    "print(dictionary)"
   ]
  },
  {
   "cell_type": "markdown",
   "id": "b9c59f5b-a8b7-4620-8f34-cbc052ebfa7d",
   "metadata": {},
   "source": [
    "# **Question**\n",
    "**From Leetcode-**\n",
    "**How many numbers are smaller than the current number**"
   ]
  },
  {
   "cell_type": "markdown",
   "id": "b0585e4a-3e82-4fae-a6b3-268c9b85d4aa",
   "metadata": {},
   "source": [
    "**time complexity O(n*n))**"
   ]
  },
  {
   "cell_type": "code",
   "execution_count": 18,
   "id": "ec3b8516-505c-4b56-8c83-d8200a21bac6",
   "metadata": {},
   "outputs": [
    {
     "name": "stdout",
     "output_type": "stream",
     "text": [
      "[4, 0, 1, 1, 3]\n"
     ]
    }
   ],
   "source": [
    "\n",
    "class Solution(object):\n",
    "    def smallerNumbersThanCurrent(self, nums):\n",
    "        u=[]\n",
    "        for i in range(len(nums)):\n",
    "            count=0       \n",
    "            for j in range(len(nums)):\n",
    "                if i!=j and nums[i]>nums[j]:\n",
    "                    count+=1\n",
    "            u.append(count)\n",
    "        return u    \n",
    "x=Solution()\n",
    "print(x.smallerNumbersThanCurrent([8,1,2,2,3]))"
   ]
  },
  {
   "cell_type": "markdown",
   "id": "c9375a8a-d59d-442f-a38d-b5b19f83bb09",
   "metadata": {},
   "source": [
    "**a)Need to reduce the time complexity to O(n)\n",
    "**"
   ]
  },
  {
   "cell_type": "code",
   "execution_count": 34,
   "id": "547fff10-5bc3-4d56-afe8-0d391aa064bc",
   "metadata": {},
   "outputs": [
    {
     "name": "stdout",
     "output_type": "stream",
     "text": [
      "[4, 0, 1, 1, 3]\n"
     ]
    }
   ],
   "source": [
    "#brute force approach\n",
    "#efficient solution using hashmap\n",
    "\"\"\" num=[8,1,2,2,3]\n",
    "after sorting we get,num=[1,2,2,3,8]\n",
    "prottekta individual \n",
    "number theke choto \n",
    "number kon gula ache=[0,1,1,3,4]\n",
    "\"\"\"\n",
    "class Solution(object):\n",
    "    def smallerNumbersThanCurrent(self, nums):\n",
    "        ans=[]\n",
    "        dic={}\n",
    "        sorted_num=sorted(nums)             # O(nlogn)\n",
    "        \n",
    "        for i in range(len(sorted_num)):    # time complexity O(n)\n",
    "            if sorted_num[i] not in dic:\n",
    "                dic[sorted_num[i]]=i\n",
    "        for i in nums:                     # time complexity O(n)\n",
    "            ans.append(dic[i])\n",
    "        return ans\n",
    "sol=Solution()\n",
    "p=sol.smallerNumbersThanCurrent([8,1,2,2,3])\n",
    "print(p)"
   ]
  },
  {
   "cell_type": "markdown",
   "id": "6d9df585-b6c9-4660-ade5-f768a083a431",
   "metadata": {},
   "source": [
    "# **binary search tree(bst)**"
   ]
  },
  {
   "cell_type": "markdown",
   "id": "0b08f4b7-7ac9-4d9d-aad1-5e3f593990a4",
   "metadata": {},
   "source": [
    "# **Pre-order Traversal**"
   ]
  },
  {
   "cell_type": "code",
   "execution_count": 55,
   "id": "791f1824-f64a-4ef0-8c9a-967fd2a2dd6b",
   "metadata": {},
   "outputs": [
    {
     "name": "stdout",
     "output_type": "stream",
     "text": [
      "13\n",
      "10\n",
      "5\n",
      "100\n",
      "15\n",
      "3\n",
      "2\n"
     ]
    }
   ],
   "source": [
    "class TreeNode:\n",
    "    def __init__(self,value):\n",
    "        self.val=value\n",
    "        self.left,self.right=None,None\n",
    "def traverse(root):\n",
    "    if root:\n",
    "        print(root.val)\n",
    "        traverse(root.left)\n",
    "        traverse(root.right)\n",
    "def main():\n",
    "    root=TreeNode(13)\n",
    "    root.left=TreeNode(10)\n",
    "    root.right=TreeNode(15)\n",
    "    root.left.left=TreeNode(5)\n",
    "    root.left.right=TreeNode(100)\n",
    "    root.right.right=TreeNode(2)\n",
    "    root.right.left=TreeNode(3)\n",
    "    \n",
    "    traverse(root)\n",
    "main()"
   ]
  },
  {
   "cell_type": "markdown",
   "id": "c3bb6d8b-ee9f-4197-9118-22a3d5b4c1f8",
   "metadata": {},
   "source": [
    "# **In-order Traversal**"
   ]
  },
  {
   "cell_type": "code",
   "execution_count": 56,
   "id": "19608153-192a-4579-80f8-bac403df570a",
   "metadata": {},
   "outputs": [
    {
     "name": "stdout",
     "output_type": "stream",
     "text": [
      "5\n",
      "10\n",
      "100\n",
      "13\n",
      "3\n",
      "15\n",
      "2\n"
     ]
    }
   ],
   "source": [
    "class TreeNode:\n",
    "    def __init__(self,value):\n",
    "        self.val=value\n",
    "        self.left,self.right=None,None\n",
    "def traverse(root):\n",
    "    if root:\n",
    "        traverse(root.left)\n",
    "        print(root.val)\n",
    "        traverse(root.right)\n",
    "def main():\n",
    "    root=TreeNode(13)\n",
    "    root.left=TreeNode(10)\n",
    "    root.right=TreeNode(15)\n",
    "    root.left.left=TreeNode(5)\n",
    "    root.left.right=TreeNode(100)\n",
    "    root.right.right=TreeNode(2)\n",
    "    root.right.left=TreeNode(3)\n",
    "    \n",
    "    traverse(root)\n",
    "main()"
   ]
  },
  {
   "cell_type": "markdown",
   "id": "a06046b5-2cc0-4660-aeae-f70b362a5e84",
   "metadata": {},
   "source": [
    "# **Post-order Traversal**"
   ]
  },
  {
   "cell_type": "code",
   "execution_count": 10,
   "id": "861ec000-2803-41cf-93ed-02b5a53a26e5",
   "metadata": {},
   "outputs": [
    {
     "name": "stdout",
     "output_type": "stream",
     "text": [
      "5\n",
      "100\n",
      "10\n",
      "3\n",
      "2\n",
      "15\n",
      "13\n"
     ]
    }
   ],
   "source": [
    "\n",
    "class TreeNode:\n",
    "    def __init__(self,value):\n",
    "        self.val=value\n",
    "        self.left,self.right=None,None\n",
    "def traverse(root):\n",
    "    if root:\n",
    "        traverse(root.left)\n",
    "        traverse(root.right)\n",
    "        print(root.val)\n",
    "def main():\n",
    "    root=TreeNode(13)\n",
    "    root.left=TreeNode(10)\n",
    "    root.right=TreeNode(15)\n",
    "    root.left.left=TreeNode(5)\n",
    "    root.left.right=TreeNode(100)\n",
    "    root.right.right=TreeNode(2)\n",
    "    root.right.left=TreeNode(3)\n",
    "    \n",
    "    traverse(root)\n",
    "main()"
   ]
  },
  {
   "cell_type": "markdown",
   "id": "4b597146-60bf-4bab-b6a2-571b391a4f87",
   "metadata": {},
   "source": [
    "# **Post order traversal with only using class not print**"
   ]
  },
  {
   "cell_type": "code",
   "execution_count": 11,
   "id": "e117cdce-dde0-4e7d-84bb-334b56e7ddd7",
   "metadata": {},
   "outputs": [
    {
     "name": "stdout",
     "output_type": "stream",
     "text": [
      "Inorder traversal output: [1, 2, 7, 4, 3, 5]\n"
     ]
    }
   ],
   "source": [
    "class TreeNode():\n",
    "    def __init__(self,value):\n",
    "        self.value=value\n",
    "        self.left,self.right=None,None\n",
    "class Solution():\n",
    "        def InorderTraversal(self,root):\n",
    "            self.root=root\n",
    "            ans=[]\n",
    "            def Traverse(root):\n",
    "                if root:\n",
    "                    Traverse(root.left)\n",
    "                    \n",
    "                    Traverse(root.right)\n",
    "                    ans.append(root.value)\n",
    "            Traverse(root)\n",
    "            return ans\n",
    "\n",
    "root=TreeNode(5)\n",
    "root.left=TreeNode(7)\n",
    "root.right=TreeNode(3)\n",
    "root.left.left=TreeNode(1)\n",
    "root.left.right=TreeNode(2)\n",
    "root.right.right=TreeNode(4)\n",
    "sol=Solution()\n",
    "output=sol.InorderTraversal(root)\n",
    "print('Inorder traversal output:',output)"
   ]
  },
  {
   "cell_type": "markdown",
   "id": "d4f5cc45-f737-4007-afc5-6e1384cfceb9",
   "metadata": {},
   "source": [
    "# **stack**"
   ]
  },
  {
   "cell_type": "code",
   "execution_count": 45,
   "id": "c6cbba75-9328-48f8-b6f8-5bd4dca16676",
   "metadata": {},
   "outputs": [
    {
     "name": "stdout",
     "output_type": "stream",
     "text": [
      "size of the stack 3\n",
      "is the stack empyt?: False\n",
      "2\n",
      "pop of stack 2\n"
     ]
    }
   ],
   "source": [
    "class Stack:\n",
    "    def __init__(self):\n",
    "        self.stack=[]\n",
    "        \n",
    "    def push(self,item):\n",
    "        self.stack.append(item)\n",
    "    def is_empty(self):\n",
    "        # if len(self.stack)==0:\n",
    "        #     return True\n",
    "        # else:\n",
    "        #     return False \n",
    "        return len(self.stack)==0\n",
    "    def pop(self):\n",
    "        if self.is_empty():\n",
    "            print('stack is empty')\n",
    "        else:\n",
    "            return self.stack.pop()\n",
    "    def size(self):\n",
    "        return len(self.stack)\n",
    "    \n",
    "    def peek(self):#just dekhte cacchi\n",
    "        return self.stack[-1]\n",
    "stack=Stack()\n",
    "stack.push(110)\n",
    "stack.push(10)\n",
    "stack.push(2)\n",
    "print(\"size of the stack\",stack.size())\n",
    "\n",
    "print(\"is the stack empyt?:\",stack.is_empty())\n",
    "print(stack.peek())\n",
    "print(\"pop of stack\",stack.pop())#means list theke 2 permanently ber kore dise\n"
   ]
  },
  {
   "cell_type": "code",
   "execution_count": 46,
   "id": "6164fe3c-d569-43f0-8629-c695f407a93b",
   "metadata": {},
   "outputs": [
    {
     "name": "stdout",
     "output_type": "stream",
     "text": [
      "pop of stack 10\n"
     ]
    }
   ],
   "source": [
    "print(\"pop of stack\",stack.pop())\n"
   ]
  },
  {
   "cell_type": "code",
   "execution_count": 47,
   "id": "c6ae31bd-e837-4541-9d9a-02c4832aa136",
   "metadata": {},
   "outputs": [
    {
     "name": "stdout",
     "output_type": "stream",
     "text": [
      "pop of stack 110\n"
     ]
    }
   ],
   "source": [
    "print(\"pop of stack\",stack.pop())"
   ]
  },
  {
   "cell_type": "code",
   "execution_count": 48,
   "id": "07669a70-d0ee-4a79-af10-adc6e85e417f",
   "metadata": {},
   "outputs": [
    {
     "name": "stdout",
     "output_type": "stream",
     "text": [
      "stack is empty\n",
      "pop of stack None\n"
     ]
    }
   ],
   "source": [
    "print(\"pop of stack\",stack.pop())"
   ]
  },
  {
   "cell_type": "markdown",
   "id": "63bcc4fc-68ca-45c9-83a7-0f0e9c7b346d",
   "metadata": {},
   "source": [
    "# **Leetcode problem of stack: Valid Parenthesis**\n",
    "**Interview Question**"
   ]
  },
  {
   "cell_type": "code",
   "execution_count": 10,
   "id": "08f80c57-4fdc-4256-8e33-bc4f085711d8",
   "metadata": {},
   "outputs": [
    {
     "name": "stdout",
     "output_type": "stream",
     "text": [
      "True\n"
     ]
    }
   ],
   "source": [
    "class polution():\n",
    "    def isvalid(self,value):\n",
    "        self.value=value\n",
    "        stack=[]\n",
    "        dic={\n",
    "            '}':'{',\n",
    "            ']':'[',\n",
    "            ')':'('\n",
    "        }\n",
    "        for ch in self.value:\n",
    "            if ch in '([{':\n",
    "                stack.append(ch)\n",
    "            else:\n",
    "                if stack and stack[-1]==dic[ch]:\n",
    "                    stack.pop()\n",
    "                else:\n",
    "                    return False\n",
    "        return len(stack)==0\n",
    "x=polution()\n",
    "print(x.isvalid('(){}[]'))\n",
    "            \n",
    "            "
   ]
  },
  {
   "cell_type": "markdown",
   "id": "063b32d1-aa47-490a-89cd-aeea7ef7f25d",
   "metadata": {},
   "source": [
    "# **Queue(FIFO)**"
   ]
  },
  {
   "cell_type": "code",
   "execution_count": 11,
   "id": "e8cbb189-881d-4f43-a01a-f7f0efde860c",
   "metadata": {},
   "outputs": [
    {
     "name": "stdout",
     "output_type": "stream",
     "text": [
      "10\n",
      "43\n",
      "2\n",
      "2\n",
      "34\n"
     ]
    }
   ],
   "source": [
    "class mine():\n",
    "    \n",
    "    def __init__(self):\n",
    "        self.queue=[]\n",
    "    def put(self,x):\n",
    "        self.queue.append(x)\n",
    "    def get(self):\n",
    "        return self.queue.pop(0)\n",
    "    def size(self):\n",
    "        return len(self.queue)\n",
    "    def is_empty(self):\n",
    "        return len(self.queue)==0\n",
    "    def peek(self):\n",
    "        return self.queue[0]\n",
    "s=mine()\n",
    "s.put(10)\n",
    "s.put(43)\n",
    "s.put(2)\n",
    "s.put(34)\n",
    "s.put(43)\n",
    "print(s.get())\n",
    "print(s.get())\n",
    "print(s.get())\n",
    "print(s.size())\n",
    "print(s.peek())\n",
    "        "
   ]
  },
  {
   "cell_type": "markdown",
   "id": "32f263fa-90f9-4398-a0a9-5875c54c7f76",
   "metadata": {},
   "source": [
    "# **Heap**\n",
    "**Min-Heap**"
   ]
  },
  {
   "cell_type": "code",
   "execution_count": 16,
   "id": "2dc38ab8-d789-4a1c-8775-52e239bff4d5",
   "metadata": {},
   "outputs": [
    {
     "name": "stdout",
     "output_type": "stream",
     "text": [
      "[4, 5, 6, 10, 8, 13]\n",
      "min_first_value:  4\n",
      "after extraction: [5, 8, 6, 10, 13]\n",
      "[4, 5, 6, 10, 8, 13]\n",
      "After inserting a value=[1, 8, 5, 10, 13, 6]\n"
     ]
    }
   ],
   "source": [
    "import math\n",
    "class Minheap():\n",
    "    def __init__(self):\n",
    "        self.heap=[]\n",
    "    def parent(self,index):\n",
    "        return (index-1)//2 if index !=0 else None\n",
    "  \n",
    "            \n",
    "    def left(self,index):\n",
    "        return 2*index+1\n",
    "    def right(self,index):\n",
    "        return 2*index+2\n",
    "    def insert(self,value):\n",
    "        self.heap.append(value)\n",
    "        self.sift_up(len(self.heap)-1)\n",
    "        return  self.heap\n",
    "    def sift_up(self,index):\n",
    "        parent_index=self.parent(index)\n",
    "        while index!=0 and self.heap[index]<self.heap[parent_index]:\n",
    "            self.heap[index],self.heap[parent_index]=self.heap[parent_index],self.heap[index]\n",
    "            index=parent_index\n",
    "            parent_index=self.parent(index)\n",
    "            \n",
    "    def sift_down(self,index):\n",
    "       while True:\n",
    "                smallest=index\n",
    "                left=self.left(index)\n",
    "                right=self.right(index)\n",
    "                if left<len(self.heap) and self.heap[left]<self.heap[smallest]:\n",
    "                    smallest=left\n",
    "                if right<len(self.heap) and self.heap[right]<self.heap[smallest]:\n",
    "                    smallest=right \n",
    "                if smallest==index:\n",
    "                    break\n",
    "                self.heap[smallest],self.heap[index]=self.heap[index],self.heap[smallest]\n",
    "                index=smallest\n",
    "                \n",
    "\n",
    "    def heapify(self,item):\n",
    "        self.heap=list(item)\n",
    "        for i in reversed(range(self.parent(len(self.heap)-1)+1)):\n",
    "            self.sift_down(i)\n",
    "        return self.heap\n",
    "    def extract_min(self):\n",
    "        if len(self.heap)==0:\n",
    "            raise IndexError('Empty heap')\n",
    "        min_first_value=self.heap[0]\n",
    "        print('min_first_value: ',min_first_value)\n",
    "        last_value=self.heap.pop()\n",
    "        if self.heap:\n",
    "            self.heap[0]=last_value\n",
    "            self.sift_down(0)\n",
    "        return self.heap \n",
    "       \n",
    "x=Minheap()\n",
    "print(x.heapify((8,10,13,4,5,6)))\n",
    "\n",
    "print('after extraction:',x.extract_min())\n",
    "import heapq\n",
    "mylist=[8,10,13,4,5,6]\n",
    "heapq.heapify(mylist)\n",
    "print(mylist)\n",
    "y=x.insert(1)\n",
    "print(f'After inserting a value={y}')\n",
    "\n"
   ]
  },
  {
   "cell_type": "markdown",
   "id": "6d070dbe-9080-4feb-8957-3da746642553",
   "metadata": {},
   "source": [
    "# **Linked List**"
   ]
  },
  {
   "cell_type": "code",
   "execution_count": 113,
   "id": "95a25eb2-9cb4-4471-9b58-419f1aaf3454",
   "metadata": {},
   "outputs": [
    {
     "name": "stdout",
     "output_type": "stream",
     "text": [
      "25--> 21--> 5--> 24--> 2--> 343--> 35353--> None\n"
     ]
    },
    {
     "data": {
      "text/plain": [
       "False"
      ]
     },
     "execution_count": 113,
     "metadata": {},
     "output_type": "execute_result"
    }
   ],
   "source": [
    "class Node():\n",
    "    def __init__(self,data):\n",
    "        self.data=data\n",
    "        self.next=None\n",
    "class LinkedList():\n",
    "    def __init__(self):\n",
    "        self.head=None\n",
    "    def insert_begining(self,value):\n",
    "        new_node=Node(value) #if the new node is needed to be used on other functions then self. should be added...By the way,now 'new_node' has been working as local variable\n",
    "        new_node.next=self.head\n",
    "        self.head=new_node\n",
    "    def insert_after_node (self,target,value):\n",
    "        current=self.head\n",
    "        new_node=Node(value)\n",
    "        while current:\n",
    "            if current.data==target:\n",
    "                \n",
    "                new_node.next=current.next\n",
    "                current.next=new_node\n",
    "            current=current.next\n",
    "    def delete(self,target):\n",
    "        \n",
    "        current=self.head\n",
    "        while current and current.next:\n",
    "                if self.head.data==target:\n",
    "                    self.head=current.next\n",
    "                    return \n",
    "                if  current.next.data==target:\n",
    "                    current.next=current.next.next\n",
    "                    return   #return dile while loop ta off hoye jabe\n",
    "                current=current.next\n",
    "    def search(self,target):\n",
    "        current=self.head\n",
    "        while current:\n",
    "            if current.data==target:\n",
    "                return True\n",
    "            current=current.next\n",
    "        return False\n",
    "    def insert_at_end(self,data):\n",
    "        new_node=Node(data)\n",
    "        if not self.head:\n",
    "            self.head=new_node\n",
    "        else:\n",
    "            current=self.head\n",
    "            while current.next:\n",
    "                current=current.next\n",
    "            current.next=new_node\n",
    "                \n",
    "                \n",
    "                    \n",
    "    def display(self):\n",
    "        current=self.head\n",
    "        while current:\n",
    "            print(current.data,end='--> ')\n",
    "            current=current.next\n",
    "        print('None')\n",
    "x=LinkedList()\n",
    "x.insert_begining(2)\n",
    "x.insert_begining(24)\n",
    "x.insert_begining(21)\n",
    "x.insert_begining(25)\n",
    "x.insert_at_end(343)\n",
    "x.insert_after_node(21,5)\n",
    "x.insert_at_end(35353)\n",
    "x.delete(9)\n",
    "x.display()\n",
    "x.search(4222)\n",
    "\n",
    "\n",
    "        \n",
    "        "
   ]
  },
  {
   "cell_type": "code",
   "execution_count": 96,
   "id": "069dbc90-68c4-48c3-884b-6162b36d7c0f",
   "metadata": {},
   "outputs": [
    {
     "name": "stdout",
     "output_type": "stream",
     "text": [
      "4--> 43--> 32--> 3--> None\n"
     ]
    }
   ],
   "source": [
    "x.delete(9)\n",
    "x.delete(33)\n",
    "x.display()"
   ]
  },
  {
   "cell_type": "code",
   "execution_count": null,
   "id": "35c1197f-8376-4f4e-b6b6-d4c66a59c5fc",
   "metadata": {},
   "outputs": [],
   "source": []
  }
 ],
 "metadata": {
  "kernelspec": {
   "display_name": "Python 3 (ipykernel)",
   "language": "python",
   "name": "python3"
  },
  "language_info": {
   "codemirror_mode": {
    "name": "ipython",
    "version": 3
   },
   "file_extension": ".py",
   "mimetype": "text/x-python",
   "name": "python",
   "nbconvert_exporter": "python",
   "pygments_lexer": "ipython3",
   "version": "3.12.7"
  }
 },
 "nbformat": 4,
 "nbformat_minor": 5
}
