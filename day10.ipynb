{
 "cells": [
  {
   "cell_type": "markdown",
   "id": "3b385778-61ca-4e71-94a2-9ee8180c4f2b",
   "metadata": {},
   "source": [
    "# **PdfReader()**"
   ]
  },
  {
   "cell_type": "code",
   "execution_count": 1,
   "id": "5ae23da1-bd27-477d-b008-69e14e3d4e55",
   "metadata": {},
   "outputs": [
    {
     "name": "stdout",
     "output_type": "stream",
     "text": [
      "Requirement already satisfied: pypdf in f:\\anaconda_colbe_jei_folder_e\\lib\\site-packages (5.4.0)\n"
     ]
    }
   ],
   "source": [
    "!pip install pypdf"
   ]
  },
  {
   "cell_type": "code",
   "execution_count": 2,
   "id": "a2bb1567-53d0-490f-8e1f-dbed9eaf7e52",
   "metadata": {},
   "outputs": [],
   "source": [
    "from pypdf import PdfReader \n",
    "pdf=PdfReader('doc.pdf')"
   ]
  },
  {
   "cell_type": "code",
   "execution_count": 3,
   "id": "6c43cec7-786d-4ebf-92ed-2ffea67072e8",
   "metadata": {},
   "outputs": [
    {
     "data": {
      "text/plain": [
       "1"
      ]
     },
     "execution_count": 3,
     "metadata": {},
     "output_type": "execute_result"
    }
   ],
   "source": [
    "len(pdf.pages)"
   ]
  },
  {
   "cell_type": "code",
   "execution_count": 4,
   "id": "6dffdacd-fd8c-4960-b76a-d0182035dead",
   "metadata": {},
   "outputs": [
    {
     "data": {
      "text/plain": [
       "'CHITTAGONG UNIVERSITY OF ENGINEERING & TECHNOLOGY\\n                CHITTAGONG - 4349\\nCOURSE REGISTRATION FORM\\nSTUDENT NO 1 9 0 2 0 7 8\\n    YEAR    DEPT.  ROLL NO. \\nSTUDENT NAME MUNTASIR RAHMAN SAIKAT\\nDEPARTMENT EEE LEVEL 4 TERM 1 SESSION 2022-2023\\nNAME OF THE HALL BBH\\nCOURSE NO COURSE TITLE CR.HOURS REMARKS\\nEEE 431 ADVANCE COMMUNICATION ENGINEERING 3.00 regular\\nEEE 432 ADVANCE COMMUNICATION ENGINEERING SESSIONAL 0.75 regular\\nEEE 400 PROJECT/THESIS 0.75 regular\\nEEE 471 POWER SESTEM ANALYSIS 3.00 regular\\nEEE 473 TELECOMMUNICATION ENGINEERING 3.00 regular\\nEEE 475 VLSI TECHNOLOGY 3.00 regular\\nEEE 472 POWER SYSTEM ANALYSIS SESSIONAL 0.75 regular\\nEEE 474 TELECOMMUNICATION ENGINEERING SESSIONAL 1.5 regular\\nEEE 476 VLSI TECHNOLOGY SESSIONAL 1.5 regular\\nEEE 402 INDUSTRIAL ATTACHMENT/TRAINING 0.75 regular\\nCREDIT HOURS TAKEN (CURRENT SEMESTER) 18\\n        1st LEVEL        2nd LEVEL        3rd LEVEL        4th LEVEL\\n 1st Term 2nd Term 1st Term 2nd Term 1st Term 2nd Term 1st Term 2nd Term \\nCREDIT HOUR COMPLETED         \\nGPA         \\nSignature of the Student\\nDate : _______________________________________________________________________________________________\\n     (Signed)                                                              (Signed)                                                              (Signed)\\n     Provost                                                              Adviser                                                              Head\\n     Signature & Date:                                             Signature & Date:                                              Signature & Date:\\nPage 1/1'"
      ]
     },
     "execution_count": 4,
     "metadata": {},
     "output_type": "execute_result"
    }
   ],
   "source": [
    "page=pdf.pages[0]\n",
    "page.extract_text()"
   ]
  },
  {
   "cell_type": "code",
   "execution_count": 5,
   "id": "cbae97ba-92b5-4803-8f04-f6e61f1d379d",
   "metadata": {},
   "outputs": [
    {
     "name": "stdout",
     "output_type": "stream",
     "text": [
      "Requirement already satisfied: pypdf2 in f:\\anaconda_colbe_jei_folder_e\\lib\\site-packages (3.0.1)\n"
     ]
    }
   ],
   "source": [
    "!pip install pypdf2"
   ]
  },
  {
   "cell_type": "code",
   "execution_count": 6,
   "id": "1ffc68ef-ad61-4d5b-aa68-82f56c42c10d",
   "metadata": {},
   "outputs": [],
   "source": [
    "import PyPDF2"
   ]
  },
  {
   "cell_type": "code",
   "execution_count": 8,
   "id": "641ca8b1-e62d-4008-98c1-f7db59063736",
   "metadata": {},
   "outputs": [
    {
     "name": "stdout",
     "output_type": "stream",
     "text": [
      "CHITTAGONG UNIVERSITY OF ENGINEERING & TECHNOLOGY\n",
      "                CHITTAGONG - 4349\n",
      "COURSE REGISTRATION FORM\n",
      "STUDENT NO 1902078\n",
      "    YEAR    DEPT.  ROLL NO. \n",
      "STUDENT NAME MUNTASIR RAHMAN SAIKAT\n",
      "DEPARTMENT EEE LEVEL 4TERM 1SESSION 2022-2023\n",
      "NAME OF THE HALL BBH\n",
      "COURSE NO COURSE TITLE CR.HOURS REMARKS\n",
      "EEE 431 ADVANCE COMMUNICATION ENGINEERING 3.00 regular\n",
      "EEE 432 ADVANCE COMMUNICATION ENGINEERING SESSIONAL 0.75 regular\n",
      "EEE 400 PROJECT/THESIS 0.75 regular\n",
      "EEE 471 POWER SESTEM ANALYSIS 3.00 regular\n",
      "EEE 473 TELECOMMUNICATION ENGINEERING 3.00 regular\n",
      "EEE 475 VLSI TECHNOLOGY 3.00 regular\n",
      "EEE 472 POWER SYSTEM ANALYSIS SESSIONAL 0.75 regular\n",
      "EEE 474 TELECOMMUNICATION ENGINEERING SESSIONAL 1.5 regular\n",
      "EEE 476 VLSI TECHNOLOGY SESSIONAL 1.5 regular\n",
      "EEE 402 INDUSTRIAL ATTACHMENT/TRAINING 0.75 regular\n",
      "CREDIT HOURS TAKEN (CURRENT SEMESTER) 18\n",
      "        1st LEVEL        2nd LEVEL        3rd LEVEL        4th LEVEL\n",
      " 1st Term 2nd Term 1st Term 2nd Term 1st Term 2nd Term 1st Term 2nd Term \n",
      "CREDIT HOUR COMPLETED         \n",
      "GPA         \n",
      "Signature of the Student\n",
      "Date : _______________________________________________________________________________________________\n",
      "     (Signed)                                                              (Signed)                                                              (Signed)\n",
      "     Provost                                                              Adviser                                                              Head\n",
      "     Signature & Date:                                             Signature & Date:                                              Signature & Date:\n",
      "Page 1/1\n"
     ]
    }
   ],
   "source": [
    "with open('doc.pdf','rb') as file :\n",
    "    read=PyPDF2.PdfReader(file)\n",
    "    first=read.pages[0].extract_text()\n",
    "    print(first)\n",
    "    "
   ]
  },
  {
   "cell_type": "code",
   "execution_count": 20,
   "id": "314fc490-969d-435f-ae9e-9a438a36ef0d",
   "metadata": {},
   "outputs": [
    {
     "name": "stdout",
     "output_type": "stream",
     "text": [
      "Art. 3.1.1. Power Station Design\n",
      "15Power station design requires wide experience .A\n",
      "satisfactory design ofthefollowing steps :\n",
      "vii.Design ofcooling system\n",
      "viii.Design ofpiping system tocarry steam and\n",
      "water\n",
      "ix.Selection ofelectrical generator\n",
      "x.Design and control ofinstruments\n",
      "xi.Design oflayout ofpower station\n",
      "\n"
     ]
    }
   ],
   "source": [
    "import PyPDF2\n",
    "with open('Steam Power Plant full.pdf','rb') as file:\n",
    "    pdf=PyPDF2.PdfReader(file)\n",
    "    read=pdf.pages[14].extract_text()\n",
    "    print(read)"
   ]
  },
  {
   "cell_type": "code",
   "execution_count": 21,
   "id": "da96282d-d1ea-41aa-8ebe-7d445ec84c00",
   "metadata": {
    "scrolled": true
   },
   "outputs": [
    {
     "name": "stdout",
     "output_type": "stream",
     "text": [
      "Steam Power Plant\n",
      "Course Title: Power Plant Engineering\n",
      "Course No.: EEE -481\n",
      "1Presented by -\n",
      "Sancoy Barua\n",
      "Assistant Professor,\n",
      "Dept. of EEE, CUETCUET\n",
      "BANGLADESH\n",
      "\n",
      "\n",
      "\n",
      "STEAM POWER PLANT\n",
      "Contents:\n",
      "1.   Working principle of steam \n",
      "power plant.\n",
      "2.   Purpose of draught.\n",
      "3.   Types of draught.\n",
      "4.   Economizer.\n",
      "5.   Advantage of economizer.\n",
      "6.   Air pre -heater.\n",
      "7.   Types of air pre -heater.\n",
      "8.   Super Heater.\n",
      "9.   Type of Super Heater.\n",
      "10.  Advantages of Super -heater .\n",
      "2\n",
      "11. Feed water Treatment. \n",
      "12. PH value of water.\n",
      "13.  Stem condenser.\n",
      "14. Feed water Heaters.\n",
      "15. Types of steam condenser.\n",
      "16. Advantages disadvantages of a \n",
      "source condenser.\n",
      "17. Types of cooling Tower.\n",
      "18. Factors of cooling Tower.\n",
      "19. Maintenance of cooling Tower\n",
      "\n",
      "\n",
      "References\n",
      "1.‘Power Plant \n",
      "Engineering’ –by \n",
      "G.R. NagpalChapter 3: Steam Power Plant\n",
      "3\n",
      "\n",
      "\n",
      "Art.3.0:Introduction\n",
      "Steam isanimportant medium ofproducing mechanical energy .\n",
      "Hasadvantage asitcanberaised from water ,which isabundant .\n",
      "Does notreact somuch with thematerials oftheequipment of\n",
      "PP.\n",
      "Itisstable atthetemperature required intheplant .\n",
      "Canbeused todrive steam engines, turbines etc.\n",
      "Most suitable where coalisavailable inabundance .\n",
      "Thermal electrical power generation isone ofthe major\n",
      "method .\n",
      "Outoftotal power developed inBangladesh about 98%isthermal\n",
      "(70%from Natural gas).Ref:Fiscal Year 2023 -24\n",
      "Forthermal PP ,pressure range~10𝑘𝑔/𝑐𝑚2tosuper critical\n",
      "pressure andthetemperature range2500𝐶to6500𝐶. 4\n",
      "\n",
      "\n",
      "\n",
      "STEAM POWER PLANT\n",
      "5Steam Power Plant\n",
      "\n",
      "\n",
      "\n",
      "6\n",
      "STEAM POWER PLANT\n",
      "\n",
      "\n",
      "\n",
      "7\n",
      "\n",
      "\n",
      "\n",
      "Working principle of steam power plant\n",
      "Asteam power plant using steam asworking substation\n",
      "works basically cycle (Rankine cycle ).\n",
      "Coal received incoal storage yard ofpower station is\n",
      "transferred inthefurnace bycoal handling unit .\n",
      "Heat produced due toburning ofcoal isutilized in\n",
      "converting water contained inboiler drum into steam at\n",
      "suitable pressure and temperature .\n",
      "The steam generated ispassed through thesuper heater .\n",
      "Superheated steam then flows through theturbine .\n",
      "After doing work intheturbine thepressure ofthesteam\n",
      "isreduced .\n",
      "8\n",
      "\n",
      "\n",
      "\n",
      "Steam leaving theturbine passes through thecondenser\n",
      "which maintain thelow pressure ofsteam attheexhaust\n",
      "ofturbine .\n",
      "Steam pressure inthecondenser depends upon flow rate\n",
      "and temperature of the cooling water and on\n",
      "effectiveness ofairremoval equipment .\n",
      "Water circulating through the condenser may betaken\n",
      "from thevarious sources, such as-river, take orsea.\n",
      "9Working principle of steam power plant\n",
      "\n",
      "\n",
      "\n",
      "Ifsufficient quantity ofwater isnot available the hot\n",
      "water coming out ofthe condenser may becooled in\n",
      "cooling towers and circulated again through the\n",
      "condenser .\n",
      "Airtaken from the atmosphere isfirst passed through\n",
      "theairpreheated ,where itisheated byflue gases .\n",
      "The hot airthen passes over boiler and super heater\n",
      "tubes ,flow through thedust collector and then through\n",
      "–economizer ,airpreheated and they areexhausted to\n",
      "theatmosphere through thechimney .10Working principle of steam power plant\n",
      "\n",
      "\n",
      "\n",
      "Art. 3.1. Essentials of STEAM POWER PLANT Equipment\n",
      "11The flow sheet ofathermal PPconsists ofthe\n",
      "following four (04)main circuits :\n",
      "i.Feed water and steam flow circuit,\n",
      "ii.Coal and ashcircuit,\n",
      "iii.Airand gascircuit,\n",
      "iv.Cooling water circuit\n",
      "\n",
      "\n",
      "\n",
      "Art. 3.1. Essentials of STEAM POWER PLANT Equipment\n",
      "12Steam\n",
      "Generated \n",
      "in BoilerExpanded\n",
      "Prime \n",
      "MoverCondensed\n",
      "CondenserFed Back\n",
      "Boiler\n",
      "\n",
      "\n",
      "\n",
      "Art. 3.1. Essentials of STEAM POWER PLANT Equipment\n",
      "13The different types ofsystems &components used SPP\n",
      "areasfollows :\n",
      "i.High Pressure Boiler\n",
      "ii.Prime Mover\n",
      "iii.Condensers &Cooling Towers\n",
      "iv.Coal Handling System\n",
      "v.Ash &Dust Handling System\n",
      "vi.Draught System\n",
      "vii.Feed Water Purification Plant\n",
      "viii.Pumping System\n",
      "ix.Air Preheater, Economiser, Super Heater, Feed\n",
      "Heaters\n",
      "\n",
      "\n",
      "\n",
      "Art. 3.1.1. Power Station Design\n",
      "14Power station design requires wide experience .A\n",
      "satisfactory design ofthefollowing steps :\n",
      "i.Selection ofsite\n",
      "ii.Estimation ofcapacity ofpower station\n",
      "iii.Selection ofturbines and their auxiliaries\n",
      "iv.Selection ofboilers, and their auxiliaries\n",
      "v.Design offuel handling system\n",
      "vi.Selection ofcondensers\n",
      "\n",
      "\n",
      "\n",
      "Art. 3.1.1. Power Station Design\n",
      "15Power station design requires wide experience .A\n",
      "satisfactory design ofthefollowing steps :\n",
      "vii.Design ofcooling system\n",
      "viii.Design ofpiping system tocarry steam and\n",
      "water\n",
      "ix.Selection ofelectrical generator\n",
      "x.Design and control ofinstruments\n",
      "xi.Design oflayout ofpower station\n",
      "\n",
      "\n",
      "\n",
      "1) Selection of site\n",
      "16\n",
      "\n",
      "\n",
      "\n",
      "2) Estimation of capacity of power station\n",
      "17\n",
      "\n",
      "\n",
      "\n",
      "3) Selection of turbines and their auxiliaries\n",
      "18\n",
      "\n",
      "\n",
      "\n",
      "4) Selection of boilers, and their auxiliaries\n",
      "19\n",
      "\n",
      "\n",
      "\n",
      "5) Design of fuel handling system\n",
      "20\n",
      "\n",
      "\n",
      "\n",
      "6) Selection of condensers\n",
      "21\n",
      "\n",
      "\n",
      "\n",
      "7) Design of cooling system\n",
      "22\n",
      "\n",
      "\n",
      "\n",
      "8) Design of piping system to carry steam and water \n",
      "23\n",
      "\n",
      "\n",
      "\n",
      "9) Selection of electrical generator\n",
      "24\n",
      "\n",
      "\n",
      "\n",
      "9) Design and control of instruments\n",
      "25\n",
      "\n",
      "\n",
      "\n",
      "10) Design of layout of power station\n",
      "26\n",
      "\n",
      "\n",
      "\n",
      "Art. 3.1.1. Power Station Design\n",
      "27Quality ofcoal used inSSP isimportant inthe\n",
      "design ofthe PP.Various factors tobeconsidered\n",
      "while designing theboilers and coal handling units\n",
      "areasfollows :\n",
      "i.Slagging &erosion properties ofash\n",
      "ii.Moisture inthecoal.Excessive moisture creates\n",
      "additional problems particularly incase of\n",
      "pulverised fuel power plants .\n",
      "iii.Burning characteristics ofcoal\n",
      "iv.Corrosive nature ofashi.Combustion rate\n",
      "ii.Ignition Temp\n",
      "iii.Flame Temp\n",
      "iv.Heat output\n",
      "v.Ash content\n",
      "vi.Moisture content\n",
      "vii.Sulfur content\n",
      "viii.Fixed carbo\n",
      "\n",
      "\n",
      "Art. 3.1.2. Characteristics of SPP\n",
      "28Desirable characteristics foraSSPareasfollows :\n",
      "i.Higher efficiency\n",
      "ii.Lower cost\n",
      "iii.Ability toburn coal especially ofhigh ash\n",
      "content, and inferior coals\n",
      "iv.Reduced environmental impact interms ofair\n",
      "pollution\n",
      "v.Reduced water requirement\n",
      "vi.Higher reliability and availability\n",
      "\n",
      "\n",
      "\n",
      "Art. 3.2 Coal Handling\n",
      "29Coal handling equipment isone of the major\n",
      "components ofplant cost.Various steps involved in\n",
      "coal handling areasfollows :\n",
      "i.Coal delivery\n",
      "ii.Unloading\n",
      "iii.Preparation\n",
      "iv.Transfer\n",
      "v.Outdoor Storage\n",
      "vi.Covered Storage\n",
      "vii.Inplant handling\n",
      "viii.Weighing and measuring\n",
      "ix.Feeding thecoal into furnace .\n",
      "\n",
      "\n",
      "\n",
      "Art. 3.2 Coal Handling\n",
      "30\n",
      "COAL DEILIVERY\n",
      "UNLOADING\n",
      "PREPARATION\n",
      "TRANSFER\n",
      "OUTDOOR STORAGE \n",
      "(DEAD STORAGE)\n",
      "COVERED STORAGE \n",
      "(LIVE STORAGE)\n",
      "IN PLANT HANDLING\n",
      "WEIGHING & \n",
      "MEASURING\n",
      "FURNACE\n",
      "\n",
      "\n",
      "Art. 3.2 Coal Handling\n",
      "31\n",
      "IV)Transfer\n",
      "1)Belt Conveyors\n",
      "\n",
      "\n",
      "\n",
      "Art. 3.2 Coal Handling\n",
      "32\n",
      "IV)Transfer\n",
      "2)Screw Conveyors\n",
      "\n",
      "\n",
      "\n",
      "Art. 3.2 Coal Handling\n",
      "33\n",
      "IV)Transfer\n",
      "3)Bucket Elevator\n",
      "\n",
      "\n",
      "\n",
      "Art. 3.2 Coal Handling\n",
      "34\n",
      "IV)Transfer\n",
      "4)Grab Bucket Elevator\n",
      "\n",
      "\n",
      "\n",
      "Art. 3.2 Coal Handling\n",
      "35\n",
      "IV)Transfer\n",
      "6)Flight Conveyor\n",
      "\n",
      "\n",
      "\n",
      "36(V) Storage of Coal\n",
      "1) Dead Storage\n",
      "STEAM POWER PLANT Equipment\n",
      "2) Covered Storage\n",
      "\n",
      "\n",
      "\n",
      "37(VI) In Plant Handling\n",
      "From Dead Storage toCovered Storage. Includes \n",
      "equipment such as –belt conveyors, screw conveyors, \n",
      "bucket elevators etc. to transfer coal.\n",
      "(VII) Coal Weighing Methods:\n",
      "Weigh lorries, hoppers and automatic scales are used to \n",
      "weigh the quantity coal. Commonly used methods:\n",
      "1.Mechanical, \n",
      "2.Pneumatic, \n",
      "3.Electronic\n",
      "STEAM POWER PLANT Equipment\n",
      "\n",
      "\n",
      "38Coal Preparation Plant\n",
      "STEAM POWER PLANT Equipment\n",
      "https://www.eeeguide.com/fuel -handling -system -and-ash-handling -system/\n",
      "\n",
      "\n",
      "\n",
      "39\n",
      "STEAM POWER PLANT Equipment\n",
      "\n",
      "\n",
      "\n",
      "40\n",
      "Art. 3.3 Fuel Burning Furnaces\n",
      "Aconfined space, provides support and enclosure\n",
      "forburning equipment .\n",
      "Stokers :used toburn solid fuels .\n",
      "Burners :used toburn pulverised orliquid fuels .\n",
      "Types ofFurnaces :\n",
      "i)Grate fired furnaces\n",
      "ii)Chamber fired furnaces\n",
      "\n",
      "\n",
      "41\n",
      "Grate fired furnaces\n",
      "Used toburn solid fuels .\n",
      "Stationary ormovable bed offuel\n",
      "Grate fired furnace istwo types based on\n",
      "methods used tofirethefuel and remove ashand\n",
      "slag.\n",
      "1.Hand fired\n",
      "2.Semi -mechanized\n",
      "3.Stoker fired\n",
      "\n",
      "\n",
      "42\n",
      "Grate fired furnaces\n",
      "Used toburn solid fuels .\n",
      "Stationary ormovable bed offuel\n",
      "Grate fired furnace istwo types based on\n",
      "methods used tofirethefuel and remove ashand\n",
      "slag.\n",
      "1.Hand fired\n",
      "2.Semi -mechanized\n",
      "3.Stoker fired\n",
      "\n",
      "\n",
      "43\n",
      "Chamber fired furnaces\n",
      "Used toused toburn pulverized, liquid orgaseous fuels .\n",
      "Furnace shape &size depends upon thefollowing factors :\n",
      "i. Type offuel tobeburnt,\n",
      "ii. Type offiring tobeused,\n",
      "iii. Amount ofheat toberecovered,\n",
      "iv. Amount ofsteam tobeproduced &itsconditions,\n",
      "v. Pressure &Temperature desired,\n",
      "vi. Grate area required,\n",
      "vii. Ash fusion temp .(AFT),\n",
      "viii. Flame length,\n",
      "ix. Amount ofexcess airtobeused .\n",
      "\n",
      "\n",
      "44\n",
      "\n",
      "\n",
      "\n",
      "45\n",
      "Art. 3.4.2 Mechanical Firing (Stokers)Solid fuels arefired into furnace bythefollowing methods :\n",
      "1)Hand firing,\n",
      "2)Mechanical firingArt. 3.4 Method of Fuel Firing\n",
      "Commonly used tofeed solid fuels into the furnace in\n",
      "medium &large size SPP.\n",
      "Advantages :\n",
      "i)Large quantities offuel can be fed and greater\n",
      "combustion capacity canbeachieved .\n",
      "ii)Poorer grades offuel canbeeasily burnt .\n",
      "iii)Itsaves labour ofhandling ash&areself-cleaning\n",
      "\n",
      "\n",
      "46\n",
      "Art. 3.4.2 Mechanical Firing (Stokers)\n",
      "Advantages :\n",
      "iv.Better furnace conditions can be maintained by\n",
      "feeding coal atauniform rate\n",
      "v.Can save coal &increase theefficiency ofcoal firing\n",
      "Main disadvantages are more costs ofoperation &\n",
      "repairing resulting from high furnace temperatures .\n",
      "\n",
      "\n",
      "47\n",
      "Art. 3.4.3 Types of Stokers\n",
      "\n",
      "\n",
      "\n",
      "48\n",
      "Art. 3.4.3 Types of Stokers\n",
      "\n",
      "\n",
      "\n",
      "49\n",
      "Art. 3.4.3 Types of Stokers\n",
      "\n",
      "\n",
      "\n",
      "50\n",
      "Art. 3.6 Pulverised Coal\n",
      "Coal ispulverised toincrease itssurface exposure,\n",
      "permitting rapid combustion .\n",
      "For large scale generation, still the most efficient\n",
      "method ofburring coal isthepulverisation .\n",
      "Types ofpulverising mills–\n",
      "1.Ball mill,\n",
      "2.Hammer mill,\n",
      "3.Ball and Race mill,\n",
      "4.Bowl mill\n",
      "\n",
      "\n",
      "51\n",
      "Art. 3.6 Pulverised Coal\n",
      "Essential Functions ofpulverising mills areasfollows -\n",
      "1.Drying ofthecoal,\n",
      "2.Grinding,\n",
      "3.Separation ofparticles ofthedesired size.\n",
      "Coal pulverising mills reduce coal topowder form by03\n",
      "actions :\n",
      "i.Impact (hammering)\n",
      "ii.Attrition (abrasion) –Rubbing or,collison\n",
      "iii.Crushing (Metallic Rolling surface)\n",
      "\n",
      "\n",
      "52\n",
      "Art. 3.6 Pulverised Coal\n",
      "\n",
      "\n",
      "\n",
      "53\n",
      "Art. 3.6 Pulverised Coal\n",
      "Advantages :\n",
      "1)Easy toburn wide variety ofcoal, such that low grade\n",
      "coal canbeburnt easily .\n",
      "2)More heating surface area, permits rapids and high\n",
      "rates ofcombustion .\n",
      "3)Firing requires low%ofexcess air.\n",
      "4)Combustion rate can beadjusted easily tomeet the\n",
      "varying load\n",
      "5)System becomes free from clinker troubles .\n",
      "6)Can utilize highly preheated air(7000F)\n",
      "7)Promoting flame propagation\n",
      "8)Pulverising equipment locating outside the furnace,\n",
      "canberepaired without cooling theunit down\n",
      "9)High temperature canbeproduced inthefurnace .\n",
      "\n",
      "\n",
      "54\n",
      "Art: 3.13 Draught\n",
      "Purpose ofDraught :\n",
      "1.The purpose ofdraught isasfollows -To\n",
      "supply require amount ofairtothefurnace\n",
      "forthecombustion offuel.\n",
      "2.Toremove thegaseous ofcombustion .\n",
      "\n",
      "\n",
      "\n",
      "55\n",
      "Art: 3.13 Draught\n",
      "Types ofdraught :\n",
      "1.Natural draught .\n",
      "2.Mechanical draught .\n",
      "3.Steam Jetdraught .\n",
      "\n",
      "\n",
      "\n",
      "Ifonly achimney isused tocreate the\n",
      "necessary draught ,the system iscalled natural\n",
      "draught system .\n",
      "Itisused inboiler ofsmaller capacities .\n",
      "Natural draught iscreated bythe difference in\n",
      "weight ofacolumn ofcold external airand that\n",
      "ofsimilar column ofhotgases inthechimney .\n",
      "This system isdependent upon the height of\n",
      "chimney and average temperature ofthegases in\n",
      "thechimney .\n",
      "56\n",
      "1. Natural draught:\n",
      "\n",
      "\n",
      "57\n",
      "1. Natural draught:\n",
      "\n",
      "\n",
      "\n",
      "Ifinaddition tochimney aforced draught (F.D)fan\n",
      "oraninduced draught (I.D)fanorboth areused .\n",
      "The system iscalled mechanical draught system .\n",
      "Inboiler oflarger capacities ,fans areemployed to\n",
      "create the necessary draught inorder toreduce\n",
      "theheight ofchimney .\n",
      "To obtained draught that isindependent of\n",
      "weather conditions and control thedraught easily .\n",
      "58\n",
      "2. Mechanical draught: \n",
      "\n",
      "\n",
      "Types of Mechanical draught:\n",
      "1)  Induced draught.\n",
      "2)  Forced draught.\n",
      "3)  Balance draught.\n",
      "59\n",
      "(Fig: -Induced draught.)STEAM POWER PLANT Equipment\n",
      "1) Induced draught :\n",
      "•Induced draught system shown infigiscreated by\n",
      "chimney and fanlocated inthegaspassage onthe\n",
      "chimney sideoftheboiler .\n",
      "•Inthissystem gasmovement isachieved asresult ofa\n",
      "vacuum .Thefansucks ingasfrom theboiler side and\n",
      "discharge ittothechimney .\n",
      "\n",
      "\n",
      "601) Induced draught:\n",
      "•The draught produced isindependent ofthe\n",
      "temp .ofthehotgases .\n",
      "•The gases may bedischarged ascold as\n",
      "possible after recovering asmuch heat\n",
      "possible inairpreheater andeconomiser .\n",
      "(Fig: -Induced draught.)\n",
      "\n",
      "\n",
      "Inforced draught system asshown\n",
      "infigthefaninstalled near the\n",
      "boiler base supplies theairata\n",
      "pressure above that ofatmosphere\n",
      "anddelivers itthrough airduct to\n",
      "thefurnace .\n",
      "Most high rating combustion\n",
      "equipment employs forced draught\n",
      "fans for supplying air tothe\n",
      "furnace .\n",
      "61\n",
      "Fig: Forced Draught \n",
      "System.\n",
      "2)  Forced draught:\n",
      "\n",
      "\n",
      "Balanced draught system\n",
      "(shown infig)isacombination\n",
      "ofinduced and forced draught\n",
      "system .\n",
      "The forced draught fan forces\n",
      "theairthrough thefuel bed on\n",
      "tothe top ofgrate and the\n",
      "induced draught fan sucks in\n",
      "gases from the boiler side and\n",
      "discharge them tothechimney .\n",
      "62\n",
      "Fig: Balanced draught system.\n",
      "3) Balanced draught system:\n",
      "\n",
      "\n",
      "63\n",
      "3) Balanced draught system:\n",
      "Used where pressure above fire isslightly below\n",
      "atmospheric .\n",
      "\n",
      "\n",
      "64\n",
      "\n",
      "\n",
      "\n",
      "Economiser isadevice indented forheating the feed\n",
      "water bymean offlue gases from boiler .\n",
      "Steaming economisers inwhich thewater israised to\n",
      "theboiling point and partially (10-20%)evaporates .\n",
      "Non -steaming economisers inwhich the temp .of\n",
      "water isbelow theboiling point by𝟐𝟎−𝟑𝟎𝟎𝑪.\n",
      "65\n",
      "Art. 3.18 Economiser\n",
      "Fig:AnEconomizer .\n",
      "\n",
      "\n",
      "Itconsists ofseries ofsteel tubes through which thefeed\n",
      "water flow .The combustion gases pass over the tubes\n",
      "and transfer some oftheir heat tothefeed water .\n",
      "The boiler efficiency rises by1%foreach100Frise in\n",
      "feed water temperature .\n",
      "66\n",
      "Art. 3.18 Economizer\n",
      "\n",
      "\n",
      "\n",
      "There aretwotype ofEconomizer :\n",
      "1.Parallel flow:When thegasandwater flow areinthesame\n",
      "direction ,then itiscalled parallel flow.\n",
      "2.Counter flow:When thegasandwater flow areinopposite\n",
      "direction ,then itiscalled counter flow.\n",
      "Advantages of Economizer: \n",
      "Theadvantage ofaneconomizer areasfollows,\n",
      "1.Itisreduce thelosses ofheat with thefluegases .\n",
      "2.Itreduces theconsumption offuel.\n",
      "3.Itimproves theefficiency oftheboiler installation .\n",
      "67\n",
      "STEAM POWER PLANT Equipment\n",
      "\n",
      "\n",
      "Consists ofplates ortubes with hotgases ononeside and\n",
      "airontheother .Itpreheats theairtobesupplied tothe\n",
      "furnace .\n",
      "The preheated air accelerates the combustion &\n",
      "facilitates theburning ofcoal.\n",
      "Degree ofpreheating depends onthetype offuel,type of\n",
      "fuel burning equipment &therating atwhich theboiler\n",
      "&furnace operated .\n",
      "Principal benefits areincreased thermal efficiency and\n",
      "increased steam capacity/ 𝑚2ofboiler surface .\n",
      "68\n",
      "Art. 3.18.2 Air -Preheater\n",
      "\n",
      "\n",
      "69\n",
      "Art. 3.18.2 Air -Preheater\n",
      "Two (02)Types ofAir-Preheater :\n",
      "1.Tubular type airpreheater .\n",
      "2.Plate type airpreheater .The heat carried with theflue gases coming outof\n",
      "theeconomizer arefurther utilized forpreheating\n",
      "theair before supplying tothecombustion chamber .\n",
      "Anincrease of𝟐𝟎𝟎𝑪intheairtemperature increases the\n",
      "boiler efficiency by1%.\n",
      "Inairpreheated airpasses through thetubes andfluegases\n",
      "pass over thetubes andtransfer theheat totheair.\n",
      "\n",
      "\n",
      "Flue gases flow through\n",
      "thetubes and airispassed\n",
      "over the outer surface of\n",
      "thetubes .\n",
      "The horizontal baffles are\n",
      "provided toincrease time\n",
      "ofcontact which will help\n",
      "forhigher heat transfer .\n",
      "Steel tubes 3mto10min\n",
      "height and 6cmto8cmin\n",
      "diameter are commonly\n",
      "used .70\n",
      "Fig:Tubular type airpreheater .\n",
      "1. Tubular type air preheater:\n",
      "\n",
      "\n",
      "Itconsists ofrectangular flat plates\n",
      "spaced from 1.5to2.5cm apart\n",
      "leaving alternative air and gas\n",
      "passages .\n",
      "Inplate type airpreheater the air\n",
      "absorbs heat from thehotgases being\n",
      "swept through the heater athigh\n",
      "velocity onthe opposite side ofa\n",
      "plate .\n",
      "This type ofairpreheater isnot used\n",
      "inmodern installations asitismore\n",
      "expensive both astofirst cost and\n",
      "maintenance cost.\n",
      "71\n",
      "Fig:Plate type airpreheater .2. Plate type Air -Preheater:\n",
      "\n",
      "\n",
      "•Thesteam produced intheboiler isnearly saturated thissteam as\n",
      "such should not beused intheturbine because thedryness\n",
      "fraction ofthesteam having theboiler willbelow.This results in\n",
      "thepresence ofmoisture which causes corrosion ofturbine\n",
      "blades etc.\n",
      "•Toraise thetemperature ofsteam, asuper -heater isused .It\n",
      "consists ofseveral tube circuits inparallel with oneormore return\n",
      "bends connected between headers .Superheated tube range from 1\n",
      "to2inch ofdiameter .The useofsuperheated steam increases\n",
      "turbine efficiency .\n",
      "72Art. 3.19 Super -Heater\n",
      "Fig: Inner \n",
      "deck Super -\n",
      "heater.\n",
      "\n",
      "\n",
      "73STEAM POWER PLANT\n",
      "\n",
      "\n",
      "\n",
      "74Art.3.19 Super -heater:\n",
      "Types ofSuper heater :\n",
      "1.Convective super heater (Located inFlue\n",
      "Gas flow path)\n",
      "2.Radiant Super heater (Absorbs heat from\n",
      "Furnace wall or,Boiler chamber)\n",
      "3.Combination ofthetwo.\n",
      "\n",
      "\n",
      "1.Super -heated steam hasanincreased capacity to\n",
      "work duetoahigher heat contact .Therefore, an\n",
      "economy insteam consumption insteam turbines\n",
      "&steam engine achieved .\n",
      "2.Super -heating raises theover allefficiency ofthe\n",
      "plant .Thetemperature ofthesuper -heated steam\n",
      "being higher itgives ahigher thermal efficiency\n",
      "when used forworking aprime mover .\n",
      "3.Super -heating ofsteam avoids theerosion of\n",
      "turbine blades inthelaststage ofexpansion of\n",
      "steam .Toavoid blade erosion itisdesirable to\n",
      "limit themoisture content to10to12%inthe\n",
      "exhaust ofthesteam turbines . 75Art.3.20 Advantages of Super -heated Steam\n",
      "\n",
      "\n",
      "Various impurities present inthenatural may beinthefollowing forms -\n",
      "1.Dissolved salts ;such as:-carbonate, sulphates, chlorides ofCa,Na\n",
      "andMg.Sometimes some Fe,Alorsilica salts arealsopresent .\n",
      "2.Dissolved gases ;such as:-CO2,O2andSO2.\n",
      "3.Mineral acids .\n",
      "4.Suspended matter ;such as:-alumina andsilica may bepresent as\n",
      "mud andsalt.•Natural water supplies are contain solid, liquid and gaseous\n",
      "impurities andthiswater cannotbeused forthegeneration ofsteam\n",
      "intheboilers .\n",
      "•Impurities present inraw water should beremoved before using in\n",
      "boiler .\n",
      "•Although inSPP, themain condensate returns totheboiler asfeed\n",
      "water butmake upwater isneeded toreplace thelosses dueto\n",
      "blown down, leakages etc.incycle .\n",
      "76Art 3.22 Feed Water Treatment\n",
      "\n",
      "\n",
      "These impurities may cause the following troubles:\n",
      "1. Scale formation.\n",
      "2. Corrosion.\n",
      "3. Foaming &Priming .\n",
      "4. Embrittlement .\n",
      "77Scale Formation: \n",
      "Impurities present inthewater may cause scale formation inthe\n",
      "boiler drums ofheader tubes andfeed water piping system .\n",
      "This will reduce theheat transfer rate and will cause over-\n",
      "heating oftubes which may result inblistering andrupturing .\n",
      "Scale isduemainly tosaltofCaandMg.Art 3.22 Feed Water Treatment\n",
      "\n",
      "\n",
      "78\n",
      "\n",
      "\n",
      "\n",
      "79Scale Formation: \n",
      "When scale hasformed thetubes should becleaned with\n",
      "water orelectric powered rotary brushes and cutters ,\n",
      "which are pushed through the tubes during boiler\n",
      "overhauls .\n",
      "Scale formation inthefeed water pipes chokes theflow\n",
      "which requires higher pressure tomaintain thewater\n",
      "flow.\n",
      "\n",
      "\n",
      "80Corrosion: \n",
      "Corrosion may occur intheboiler shell, tubes plates due\n",
      "toacidity present inwater .\n",
      "This reduces thelifeofconstruction materials .\n",
      "Corrosion takes place duetothepresence ofO2,CO2or\n",
      "chlorides dissolved inwater .\n",
      "Corrosion duetooxygen produces small pits.\n",
      "\n",
      "\n",
      "Alayer offoam iscaused intheboiler drum bysoluble and\n",
      "insoluble salts andother organic impurities ,oilandother\n",
      "impurities, which may bepresent in boiler water may cause\n",
      "forming .\n",
      "Itprevents thefree escape ofsteam bubbles asthey riseto\n",
      "thesurface ofwater .\n",
      "Toprevent foaming andpriming thefollowing precautions should\n",
      "beobserved .\n",
      "1.Oilsoap and other suspended impurities should notbepresent\n",
      "intheboiler water .\n",
      "2.Various valve should notbeopened suddenly tomaximum .\n",
      "3.Water intheboiler should beatitsminimum possible level .\n",
      "81Foaming & Priming: \n",
      "\n",
      "\n",
      "1.Mechanical Treatment .\n",
      "2.Thermal Treatment .\n",
      "3.Chemical Treatment.\n",
      "4.Demineralization.\n",
      "5.Blow -down.Embrittlement :\n",
      "Presence ofcertain concentration ofsodium hydro -oxide\n",
      "cause embrittlement .\n",
      "Due tothis theboiler metal becomes brittle and inner\n",
      "cracks appear along theseams below thewater level .\n",
      "82Methods ofFeed water Treatment :\n",
      "Itisdesirable that thewater tobeintheboiler should befree from\n",
      "various impurities .The different treatments adopted toremove the\n",
      "various impurities areasfollows -\n",
      "\n",
      "\n",
      "Art. 3.49 Boilers: \n",
      "Boiler is a closed vessel in which water is converted into steam by \n",
      "the application of heat  produced  by the combustion of fuel (solid, \n",
      "liquid, gaseous).\n",
      "Classification of Boiler:\n",
      "According to the contents in the tube:\n",
      "1. Fire tube boiler\n",
      "2. Water tube boiler\n",
      "According to the position of the furnace:\n",
      "1. Internally fire boiler\n",
      "2. Externally boiler\n",
      "According to the axis of the shell:\n",
      "1. Vertical boiler\n",
      "2. Horizontal boiler\n",
      "According to the number of tube:\n",
      "1. Single tube boiler\n",
      "2. Multi tube boiler\n",
      "According to application:\n",
      "1.Stationary boiler\n",
      "2.Mobile boiler\n",
      "According to the method of circulation of water & steam:\n",
      "1.Natural circulation boiler\n",
      "2.Forced circulation boiler\n",
      "\n",
      "\n",
      "\n",
      "Water Tube Boiler :Inwater tube boiler, water\n",
      "circulation through the tubes and hot products of\n",
      "combustion flow over thetube .\n",
      "\n",
      "\n",
      "\n",
      "Fire Tube Boiler :Infire tube boiler the hot products of\n",
      "combustion pass through thetubes which aresurrounding by\n",
      "water .Examples offiretube boilers areCornish boiler, Locomotive\n",
      "Boiler andCochran boiler etc.\n",
      "\n",
      "\n",
      "\n",
      "Water Tube Boiler Fire Tube Boiler\n",
      "1.The water circulates inside thetubes which are\n",
      "surrounded byhotgases from thefurnace .1.The hot gases from the furance pass\n",
      "through the tubes which aresurround by\n",
      "water .\n",
      "2.Itgenerates steam atahigher pressure upto165\n",
      "bar2.Itcangenerate steam only upto24.5bar\n",
      "3.The rate ofgeneration ofsteam ishigh ,i.e.upto\n",
      "450tones perhour .3.The rate ofgeneration ofsteam islow i.e.\n",
      "unto 9tonnes perhour .\n",
      "4.Overall efficiency with economizer isupto90% 4.Itsoverall efficiency isonly 75%\n",
      "5.Itcan betransported and erected easily asits\n",
      "various parts canbeseparated .5.Thetransportation anderection isdifficult .\n",
      "6.Theoperating cost ishigh 6.Theoperating cost isless\n",
      "7.Thebursting chances aremore 7.Thebursting chances areless\n",
      "8.The bursting does notproduce any destruction to\n",
      "thewhole boiler8The bursting produces greater risk tothe\n",
      "damage oftheproperty .\n",
      "9.Itisused forlarge power plants .. 9.Itisnotsuitable forlarge plants .\n",
      "Comparison between Water Tube and Fire Tube Boiler:\n",
      "\n",
      "\n",
      "Working Principal of a Water Tube Boiler: \n",
      "Thefig.shows aBabcock andWilcox boiler .\n",
      "Itisawater tube boiler itconsists ofa\n",
      "drum ,super heater ,header tubes etc.\n",
      "•The headers are inter -connected by\n",
      "means oftubes which form the real\n",
      "heating element oftheboiler .\n",
      "•Water circulated from drum into the\n",
      "down take header andthen through the\n",
      "tube totheuptake header andtothe\n",
      "drum .\n",
      "•Thefuel isburnt onthegrate andhot\n",
      "gases ofcombustion pass over thetubes\n",
      "andheat thewater circulation through\n",
      "thetubes .\n",
      "•The baffles provide azigzag path for\n",
      "thefluegases .1. Drum     2&3. Uptake & Down take Header     4. \n",
      "Door \n",
      "5. Tube           6.Mud Box        8. Water Level  \n",
      "Indicator\n",
      "9. Pressure gauge     10. Super Heater  13. Dry Pipe\n",
      "11. Superheated  Steam Box    12. Saturated Steam \n",
      "Box \n",
      "14. Outlet Pipe     15. Stop Valve     17. Dampers \n",
      "18. Caps     19. Safety Valve    20. Feed Valve \n",
      "21. Hopper    22. Chain    7. Grate\n",
      "\n",
      "\n",
      "Working Principal of a Water Tube Boiler: \n",
      "•Thehotwater andsteam riseupthrough theuptake\n",
      "header intotheboiler shell where thesteam generated\n",
      "above thewater level flow inthedrypipe andpass\n",
      "through thesuper heater .\n",
      "•Thecold water flow down intothetubes through the\n",
      "down take header .Thus steam separates from water\n",
      "andcollects inthesteam space .\n",
      "•Super heater isused tosuperheated thesteam .The\n",
      "superheated steam canbetaken outtothesteam stop\n",
      "valve .\n",
      "•Anysediment ormud inwater gets collected inmud\n",
      "boxandinblown offfrom time totime through the\n",
      "blow offvalve .\n",
      "\n",
      "\n",
      "Boiler Accessories\n",
      "1.Feed pump :The function ofafeed pump istosupply\n",
      "water intheboiler .\n",
      "2.Economizer :The function ofaeconomizer istoheat the\n",
      "feed water before enters theboiler .\n",
      "3.AirPre-Heater :Thefunction ofaAirpre-heater istoheat\n",
      "theairbefore itenter thefurnace .\n",
      "4.Super Heater :Thefunction ofasuper heater istoheat the\n",
      "steam above saturation temperature .\n",
      "5.Draft :The function ofadraft istosupply airtothe\n",
      "furnace .These arethedevices which areused asintegral parts of\n",
      "aboiler andhelp inrunning efficiency .Though there are\n",
      "many types ofboiler accessories, yetthefollowing are\n",
      "important from thesubject point ofview .\n",
      "\n",
      "\n",
      "Boiler Mountings: \n",
      "1.Feed Check Valve:Thefunction ofafeed check valve isto\n",
      "prevent thereturn ofwater from theboiler .\n",
      "2.Steam StopValve :Thefunction ofasteam stop valve isto\n",
      "regulate theflow ofsteam from theboiler .\n",
      "3.Safety Valve:The function ofasafety valve istoprevent\n",
      "theboiler from pressures higher than thedesired valve .These arethefittings ,which aremounted ontheboiler forits\n",
      "proper andsafe functioning .Though there aremany types of\n",
      "boiler mountings, yetthefollowing areimportant from the\n",
      "subject point ofview .\n",
      "\n",
      "\n",
      "4.Blow OffValve:Thefunction ofablow offvalve isto\n",
      "empty theboiler when needed andtodischarge the\n",
      "mud andsediments that collect intheboiler .\n",
      "5.Water Level Indicator :The function ofawater level\n",
      "indicator istoshow thewater level inside theboiler .\n",
      "6.Pressure Gauge :Thefunction ofapressure gauge isto\n",
      "indicate thepressure ofsteam intheboiler .\n",
      "7.Fusible Plugs:Itsfunction istoputoffthefireinthe\n",
      "furnace oftheboiler when thelevel ofwater inthe\n",
      "boiler falls toanunsafe limit .Boiler Mountings: \n",
      "\n",
      "\n",
      "The various factors which should becarefully observed fortheproper\n",
      "maintenance oftheboiler areasfollows :\n",
      "Thecombustion equipment should besoadjusted thatthe\n",
      "temperature inthefurnace does notexceed thedesigned\n",
      "value .\n",
      "Thewater level intheboiler should notbeallowed tofall\n",
      "beyond theminimum level .\n",
      "The temperature should change slowly anduniformly in\n",
      "the various part ofthe boiler .Rapid changes in\n",
      "temperature cause unequal expansion .\n",
      "Thewater used forsteam generation should befree form\n",
      "scale forming impurities .Boiler Maintenance: \n",
      "\n",
      "\n",
      "Soot and ash deposited intubes ongasside should be\n",
      "removed regularly .\n",
      "Bearings ofpumps, stokers, pulverizes and farms etc.\n",
      "lubricated regularly .\n",
      "Atleast once inayear theinternal inspection ofboiler is\n",
      "necessary .\n",
      "Theboiler should beinspected forcorrosion, cracks, leads\n",
      "andother irregularities .\n",
      "Piping system joints and valve should bechecked for\n",
      "leakage .Boiler Maintenance: \n",
      "\n",
      "\n",
      "94Art 3.28: Steam Condensers:\n",
      "Asteam condenser ismeant toreceive theexhaust steam\n",
      "from theturbine orengine ,condense itand maintain a\n",
      "pressure attheexhaust lower than atmospheric .\n",
      "Air inside the condenser should bepumped out\n",
      "continuously inorder tomaintain thevacuum .\n",
      "Steam pressure incondenser depends mainly ontheflow\n",
      "rate and temperature ofthecooling water and onthe\n",
      "effectiveness ofairremoval equipment .\n",
      "Steam condensation occurs intherange of250𝐶to380𝐶.\n",
      "\n",
      "\n",
      "95Some oftheadvantages ofasteam condenser areasfollows :\n",
      "i.Increases power output .Power plant cycle improves inefficiency\n",
      "astheturbine exhaust pressure drops .\n",
      "ii.Recovers ofthefeed water which isavailable at450𝐶to500𝐶.\n",
      "This saves theamount offueltobeburnt inboiler .\n",
      "iii.Theuseofcondenser, decreases thesizeofboiler installation .\n",
      "Themain Disadvantage ofcondenser isthatitadds totheinitial cost of\n",
      "power plant asitrequires additional equipment like–cooling tower or\n",
      "cooling pond, vacuum pump, water circulating pump etc.\n",
      "Types of steam condenser: \n",
      "1.Surface condenser.\n",
      "2.Jet condenser.Art 3.28: Steam Condensers:\n",
      "\n",
      "\n",
      "Insurface condenser there isnodirect contact between thesteam\n",
      "andcooling water andthecondenser canbere-used intheboiler .\n",
      "Insuch condenser even impure water can beused forcooling\n",
      "purpose .\n",
      "Although thecapital cost and space needed ismore insurface\n",
      "condenser butitisjustified bysaving inrunning cost andincrease\n",
      "inefficiency ofplant .\n",
      ".\n",
      "96\n",
      "Surface condenser: \n",
      "\n",
      "\n",
      "Disadvantages of a surface condenser: \n",
      "Thevarious disadvantages ofthesurface condenser areasfollows -\n",
      "1.Thecapital cost ismore .\n",
      "2.Themaintenance cost andrunning cost ofthecondenser ishigh .\n",
      "3.Itisbulky andrequire more space .Advantages ofasurface condenser :\n",
      "Thevarious advantages ofasurface condenser areasfollows -\n",
      "1.Thecondensate canbeused asboiler feed water .\n",
      "2.Cooling water ofeven poor quality can beused because the\n",
      "cooling water does notcome indirect contact with steam .\n",
      "3.High vacuum can beobtained inthesurface condenser .This\n",
      "increases thethermal efficiency oftheplant .\n",
      "97Art 3.29.1: Surface condenser: \n",
      "\n",
      "\n",
      "Injetcondenser theexhaust steam and cooling water\n",
      "come indirect contact with each other .\n",
      "The temperature ofcooling water and condensate is\n",
      "same when leaving thecondensers .\n",
      "98\n",
      "Art 2.29.2. Jet condenser :\n",
      "\n",
      "\n",
      "Thedifferent type ofcooling tower areasfollows -\n",
      "1.Atmospheric cooling tower .\n",
      "2.Natural draught cooling tower\n",
      "3.Forced orinduced draught cooling tower .\n",
      "99Cooling Tower: \n",
      "1.Atmospheric Cooling \n",
      "Tower : \n",
      "Inthecooling tower hotwater\n",
      "isallowed tofallover louvers .\n",
      "The air flowing across in\n",
      "transverse -direction cools the\n",
      "falling water .These towers are\n",
      "used forsmall capacity power\n",
      "plant such as-diesel power\n",
      "plant .\n",
      "Fig: Atmospheric cooling tower.\n",
      "\n",
      "\n",
      "Innatural draught cooling tower, thehotwater from thecondenser is\n",
      "pumped tothe trough and nozzles situated near bottom .Troughs\n",
      "spray the water which falls inthe form ofdroplets into apond\n",
      "situated atbottom ofthetower .The airenters thecooling tower from\n",
      "airopening provided near thebase rises upward and take upheat of\n",
      "falling water .\n",
      "100Natural Draught Cooling Tower :\n",
      "The circulating water isdelivered to\n",
      "theupper part ofthewatering unit\n",
      "where itflows down and gives its\n",
      "heat tothe surrounding air.The\n",
      "cooled water flow into thetank and\n",
      "iscirculated through thecondenser .\n",
      "Tower made upoftheconcrete arepreferred because they arestable\n",
      "against larger airpressure their maintenance cost islow and they\n",
      "have larger capacity .Fig: Natural draught cooling tower.\n",
      "\n",
      "\n",
      "101Forced or Induced Draught Cooling Tower:\n",
      "Inthistower draught fanisinstalled atthebottom oftower .\n",
      "Thehotwater from thecondenser enter thenozzles .\n",
      "Thewater issprayed over thetower filling slats andtherising air\n",
      "cools thewater .\n",
      "Fig: Forced or induced draught cooling tower.\n",
      "\n",
      "\n",
      "The various factors that affect cooling water in a cooling tower \n",
      "are as follows -\n",
      "1.Sizeand height of cooling tower\n",
      "2.Velocity of air entering the tower.\n",
      "3.Temperature of hot water coming out of condenser.\n",
      "4.Temperature of air .\n",
      "5.Humidity of air.\n",
      "102Factors of the Cooling Tower : \n",
      "\n",
      "\n",
      "103Inorder toachieve thedesired cooling and toreduce the\n",
      "depreciation costs theregular maintenance ofcooling tower is\n",
      "essential .\n",
      "i.Thefans, motor housing etc.should beinspected from time\n",
      "totime .\n",
      "ii.Motor bearing should begreased andgear boxes oiled .\n",
      "iii.Any unusual noise orvibrations inthen should bechecked\n",
      "forstructural weakness .\n",
      "iv.The circulating water should betested forhardness and\n",
      "should kept free from impurities toavoid scale formations\n",
      "andavoid corrosive action ofwater .\n",
      "v.The water spraying nozzles should beinspected regularly\n",
      "forcooling .Maintenance of Cooling Tower : \n",
      "\n",
      "\n",
      "104\n",
      "Art. 3.35. To calculate the Weight of Cooling Water\n",
      "\n",
      "\n",
      "105Art. 3.35. To calculate the Weight of Cooling Water\n",
      "\n",
      "\n",
      "\n",
      "106Art. 3.35. To calculate the Weight of Cooling Water\n",
      "\n",
      "\n",
      "\n",
      "107Art. 3.35. To calculate the Weight of Cooling Water\n",
      "\n",
      "\n",
      "\n",
      "108Art. 3.35. To calculate the Weight of Cooling Water\n",
      "\n",
      "\n",
      "\n",
      "109\n",
      "\n",
      "\n",
      "\n"
     ]
    }
   ],
   "source": [
    "import PyPDF2\n",
    "with open('Steam Power Plant full.pdf','rb') as file:\n",
    "    pdf=PyPDF2.PdfReader(file)\n",
    "    for page in pdf.pages:\n",
    "        x=page.extract_text()\n",
    "        print(x)\n",
    "        print('\\n')"
   ]
  },
  {
   "cell_type": "markdown",
   "id": "08f9a96d-c305-4263-8db8-2b629c803bc5",
   "metadata": {},
   "source": [
    "# **Generator**"
   ]
  },
  {
   "cell_type": "code",
   "execution_count": 12,
   "id": "284fdd6c-865d-44f8-9106-76aa236cf287",
   "metadata": {},
   "outputs": [
    {
     "name": "stdout",
     "output_type": "stream",
     "text": [
      "10 23 34 5 234 "
     ]
    }
   ],
   "source": [
    "lists=[10,23,34,5,234]\n",
    "def data_generator(data):# Creating generator function \n",
    "    for i in data:\n",
    "        yield i #yield er pore ja ase setai holo output\n",
    "\n",
    "gen=data_generator(lists)#creating generator\n",
    "for j in gen:\n",
    "    print(j,end=' ')\n",
    "        "
   ]
  },
  {
   "cell_type": "code",
   "execution_count": 88,
   "id": "34ffb9af-c7cb-41f1-876d-1982a6cd140e",
   "metadata": {},
   "outputs": [
    {
     "name": "stdout",
     "output_type": "stream",
     "text": [
      "0\n"
     ]
    }
   ],
   "source": [
    "def number_generator():\n",
    "    for i in range(10**6):\n",
    "        yield i  # Generates one number at a time\n",
    "\n",
    "gens = number_generator()  # Generator object created\n",
    "print(next(gens))"
   ]
  },
  {
   "cell_type": "code",
   "execution_count": 90,
   "id": "c123f237-5989-45d1-b1a6-03b1a01e0547",
   "metadata": {},
   "outputs": [
    {
     "name": "stdout",
     "output_type": "stream",
     "text": [
      "1\n"
     ]
    }
   ],
   "source": [
    "print(next(gens))"
   ]
  },
  {
   "cell_type": "code",
   "execution_count": 91,
   "id": "ec0918e0-3932-48af-acc0-f4bdbfd9138a",
   "metadata": {},
   "outputs": [
    {
     "data": {
      "text/plain": [
       "generator"
      ]
     },
     "execution_count": 91,
     "metadata": {},
     "output_type": "execute_result"
    }
   ],
   "source": [
    "type(gens)"
   ]
  },
  {
   "cell_type": "code",
   "execution_count": 92,
   "id": "4b251eeb-5765-4e48-8cc7-0a62163e46a9",
   "metadata": {},
   "outputs": [
    {
     "data": {
      "text/plain": [
       "192"
      ]
     },
     "execution_count": 92,
     "metadata": {},
     "output_type": "execute_result"
    }
   ],
   "source": [
    "import sys\n",
    "sys.getsizeof(gens)"
   ]
  },
  {
   "cell_type": "code",
   "execution_count": 84,
   "id": "6cacf230-9a94-4906-a3d1-f774f376b280",
   "metadata": {},
   "outputs": [
    {
     "name": "stdout",
     "output_type": "stream",
     "text": [
      "b'%PDF-1.5\\r\\n'\n",
      "\n",
      "\n",
      "b'%\\xb5\\xb5\\xb5\\xb5\\r\\n'\n",
      "b'1 0 obj\\r\\n'\n",
      "b'<</Type/Catalog/Pages 2 0 R/Lang(bn-BD) /StructTreeRoot 654 0 R/MarkInfo<</Marked true>>>>\\r\\n'\n",
      "b'endobj\\r\\n'\n"
     ]
    }
   ],
   "source": [
    "import PyPDF2\n",
    "def read_file(doc):\n",
    "    with open(doc,'rb') as file :\n",
    "        for line in file:\n",
    "            yield line  # Returns one line at a time\n",
    "\n",
    "gen = read_file(\"Steam Power Plant full.pdf\")\n",
    "\n",
    "print(next(gen)) # Reads and prints the first line\n",
    "print('\\n')\n",
    "print(next(gen))\n",
    "print(next(gen))\n",
    "print(next(gen))\n",
    "print(next(gen))# Reads and p"
   ]
  },
  {
   "cell_type": "code",
   "execution_count": 86,
   "id": "7d3da01e-9944-401a-b3a7-37d7e72791a9",
   "metadata": {},
   "outputs": [
    {
     "ename": "AttributeError",
     "evalue": "'NameObject' object has no attribute 'extract_text'",
     "output_type": "error",
     "traceback": [
      "\u001b[31m---------------------------------------------------------------------------\u001b[39m",
      "\u001b[31mAttributeError\u001b[39m                            Traceback (most recent call last)",
      "\u001b[36mCell\u001b[39m\u001b[36m \u001b[39m\u001b[32mIn[86]\u001b[39m\u001b[32m, line 13\u001b[39m\n\u001b[32m     10\u001b[39m gen = read_pdf_text(\u001b[33m\"\u001b[39m\u001b[33mSteam Power Plant full.pdf\u001b[39m\u001b[33m\"\u001b[39m)\n\u001b[32m     12\u001b[39m \u001b[38;5;66;03m# Read and print extracted text\u001b[39;00m\n\u001b[32m---> \u001b[39m\u001b[32m13\u001b[39m \u001b[38;5;28mprint\u001b[39m(\u001b[38;5;28;43mnext\u001b[39;49m\u001b[43m(\u001b[49m\u001b[43mgen\u001b[49m\u001b[43m)\u001b[49m)  \u001b[38;5;66;03m# Reads text from the first page\u001b[39;00m\n\u001b[32m     14\u001b[39m \u001b[38;5;28mprint\u001b[39m(\u001b[33m'\u001b[39m\u001b[38;5;130;01m\\n\u001b[39;00m\u001b[33m'\u001b[39m)\n\u001b[32m     15\u001b[39m \u001b[38;5;28mprint\u001b[39m(\u001b[38;5;28mnext\u001b[39m(gen))  \u001b[38;5;66;03m# Reads text from the second page\u001b[39;00m\n",
      "\u001b[36mCell\u001b[39m\u001b[36m \u001b[39m\u001b[32mIn[86]\u001b[39m\u001b[32m, line 7\u001b[39m, in \u001b[36mread_pdf_text\u001b[39m\u001b[34m(doc)\u001b[39m\n\u001b[32m      5\u001b[39m pdf = PyPDF2.PdfReader(file)  \u001b[38;5;66;03m# Correct way to open a PDF in PyPDF2\u001b[39;00m\n\u001b[32m      6\u001b[39m \u001b[38;5;28;01mfor\u001b[39;00m page \u001b[38;5;129;01min\u001b[39;00m pdf.pages[\u001b[32m40\u001b[39m]:  \u001b[38;5;66;03m# Loop through each page\u001b[39;00m\n\u001b[32m----> \u001b[39m\u001b[32m7\u001b[39m     \u001b[38;5;28;01myield\u001b[39;00m \u001b[43mpage\u001b[49m\u001b[43m.\u001b[49m\u001b[43mextract_text\u001b[49m()\n",
      "\u001b[31mAttributeError\u001b[39m: 'NameObject' object has no attribute 'extract_text'"
     ]
    }
   ],
   "source": [
    "import PyPDF2\n",
    "\n",
    "def read_pdf_text(doc):\n",
    "    with open(doc, 'rb') as file:\n",
    "        pdf = PyPDF2.PdfReader(file)  # Correct way to open a PDF in PyPDF2\n",
    "        for page in pdf.pages:  # Loop through each page\n",
    "            yield page.extract_text()  # Extract text from each page\n",
    "\n",
    "# Create a generator\n",
    "gen = read_pdf_text(\"Steam Power Plant full.pdf\")\n",
    "\n",
    "# Read and print extracted text\n",
    "print(next(gen))  # Reads text from the first page\n",
    "print('\\n')\n",
    "print(next(gen))  # Reads text from the second page"
   ]
  },
  {
   "cell_type": "code",
   "execution_count": 93,
   "id": "1366a25e-2527-4a1f-bd84-d2ff3bccc1fa",
   "metadata": {},
   "outputs": [
    {
     "data": {
      "text/plain": [
       "240"
      ]
     },
     "execution_count": 93,
     "metadata": {},
     "output_type": "execute_result"
    }
   ],
   "source": [
    "sys.getsizeof(gen)"
   ]
  },
  {
   "cell_type": "markdown",
   "id": "c7c785a5-6d55-4733-9c7e-23858c20fc04",
   "metadata": {},
   "source": [
    "# **Generator with Yield**"
   ]
  },
  {
   "cell_type": "code",
   "execution_count": 97,
   "id": "3fe42b1a-b71e-47f6-a79a-7d815a15f595",
   "metadata": {},
   "outputs": [
    {
     "name": "stdout",
     "output_type": "stream",
     "text": [
      "0\n",
      "2\n",
      "4\n",
      "6\n",
      "8\n"
     ]
    }
   ],
   "source": [
    "def even_number():\n",
    "    num=0\n",
    "    while True:\n",
    "        yield num\n",
    "        num+=2\n",
    "\n",
    "e=even_number()\n",
    "for _ in range(5):\n",
    "    print(next(e))"
   ]
  },
  {
   "cell_type": "code",
   "execution_count": 106,
   "id": "c2279b4c-885d-415e-9413-73fce03fc31e",
   "metadata": {},
   "outputs": [
    {
     "data": {
      "text/plain": [
       "184"
      ]
     },
     "execution_count": 106,
     "metadata": {},
     "output_type": "execute_result"
    }
   ],
   "source": [
    "sys.getsizeof(e)"
   ]
  },
  {
   "cell_type": "markdown",
   "id": "556acb9d-663a-4190-aa91-5309c40702b3",
   "metadata": {},
   "source": [
    "# **Generator without yield**\n",
    "gen = (x*x for x in range(5))  #note that: this is not list .Rather this generator because here parenthesis is used instead of third brackets"
   ]
  },
  {
   "cell_type": "code",
   "execution_count": 102,
   "id": "7befd513-3d28-4b2d-92c0-495182278a1b",
   "metadata": {},
   "outputs": [],
   "source": [
    "even=(i for i in range(9) if i%2==0) #note that: this is not list .Rather this generator because here parenthesis is used instead of third brackets"
   ]
  },
  {
   "cell_type": "code",
   "execution_count": 103,
   "id": "fdbda473-9084-4a0d-a0ba-3341844f17cf",
   "metadata": {},
   "outputs": [
    {
     "data": {
      "text/plain": [
       "<generator object <genexpr> at 0x000002AA8B9FCAD0>"
      ]
     },
     "execution_count": 103,
     "metadata": {},
     "output_type": "execute_result"
    }
   ],
   "source": [
    "even"
   ]
  },
  {
   "cell_type": "code",
   "execution_count": 104,
   "id": "7b213554-7bcc-4d24-b452-bf5b9c0b4b0a",
   "metadata": {},
   "outputs": [
    {
     "name": "stdout",
     "output_type": "stream",
     "text": [
      "0\n",
      "2\n",
      "4\n",
      "6\n",
      "8\n"
     ]
    }
   ],
   "source": [
    "for s in even:\n",
    "    print(s)"
   ]
  },
  {
   "cell_type": "code",
   "execution_count": 105,
   "id": "a0426802-19ec-4cd9-85e4-e167e9d149e6",
   "metadata": {},
   "outputs": [
    {
     "data": {
      "text/plain": [
       "200"
      ]
     },
     "execution_count": 105,
     "metadata": {},
     "output_type": "execute_result"
    }
   ],
   "source": [
    "sys.getsizeof(even)"
   ]
  },
  {
   "cell_type": "code",
   "execution_count": 26,
   "id": "7fd792c0-4af5-41ba-b56e-0a7df7fdfe28",
   "metadata": {},
   "outputs": [
    {
     "name": "stdout",
     "output_type": "stream",
     "text": [
      "['How', 'are', 'you', 'doing']\n",
      "How are you doing\n"
     ]
    }
   ],
   "source": [
    "my_string ='How,are,you,doing'\n",
    "my_list=my_string.split(\",\")\n",
    "print(my_list)\n",
    "new_string= ' '.join(my_list)\n",
    "print(new_string)"
   ]
  },
  {
   "cell_type": "markdown",
   "id": "71cda826-35ed-40b0-936b-35620972c3dc",
   "metadata": {},
   "source": [
    "# **Calculator** "
   ]
  },
  {
   "cell_type": "code",
   "execution_count": 8,
   "id": "a84fd66e-0699-43c5-a93b-9e8a1423961e",
   "metadata": {},
   "outputs": [
    {
     "name": "stdin",
     "output_type": "stream",
     "text": [
      "enter the first number 23\n",
      "Enter the operation /\n",
      "Enter the 2nd number 21\n"
     ]
    },
    {
     "name": "stdout",
     "output_type": "stream",
     "text": [
      "1.0952380952380953\n"
     ]
    }
   ],
   "source": [
    "num1=float(input('enter the first number'))\n",
    "op=input('Enter the operation')\n",
    "num2=float(input('Enter the 2nd number'))\n",
    "if op=='+':\n",
    "   print(num1+num2)\n",
    "elif op=='-':\n",
    "     print(num1-num2)\n",
    "elif op=='*':\n",
    "    print(num1*num2)\n",
    "elif op=='/':\n",
    "    print(num1/num2)\n",
    "else :\n",
    "    print('Invalid operation')\n"
   ]
  },
  {
   "cell_type": "markdown",
   "id": "b88d7481-35a4-4f4a-8a43-ffdff88ff15c",
   "metadata": {},
   "source": [
    "# **Guessing Game**"
   ]
  },
  {
   "cell_type": "code",
   "execution_count": 27,
   "id": "6532609d-d8e7-470d-b061-ed6cf6e3c9bf",
   "metadata": {},
   "outputs": [
    {
     "name": "stdout",
     "output_type": "stream",
     "text": [
      "Your guessing limit is 5\n"
     ]
    },
    {
     "name": "stdin",
     "output_type": "stream",
     "text": [
      " muntasir \n"
     ]
    },
    {
     "name": "stdout",
     "output_type": "stream",
     "text": [
      "wrong guess\n"
     ]
    },
    {
     "name": "stdin",
     "output_type": "stream",
     "text": [
      " saikat\n"
     ]
    },
    {
     "name": "stdout",
     "output_type": "stream",
     "text": [
      "wrong guess\n"
     ]
    },
    {
     "name": "stdin",
     "output_type": "stream",
     "text": [
      " talal\n"
     ]
    },
    {
     "name": "stdout",
     "output_type": "stream",
     "text": [
      "wrong guess\n"
     ]
    },
    {
     "name": "stdin",
     "output_type": "stream",
     "text": [
      " talha\n"
     ]
    },
    {
     "name": "stdout",
     "output_type": "stream",
     "text": [
      "wrong guess\n"
     ]
    },
    {
     "name": "stdin",
     "output_type": "stream",
     "text": [
      " giraffe\n"
     ]
    },
    {
     "name": "stdout",
     "output_type": "stream",
     "text": [
      "Congratulations! You have guessed it correct\n"
     ]
    }
   ],
   "source": [
    "secret_word='giraffe'\n",
    "guess=\" \"\n",
    "print('Your guessing limit is 5')\n",
    "for i in range(6):\n",
    "    if i==5:\n",
    "        print('sorry you have crossed the guessing limit')\n",
    "    else:\n",
    "         guess=input()\n",
    "         if guess==secret_word:\n",
    "            print('Congratulations! You have guessed it correct')\n",
    "            break\n",
    "         else:\n",
    "              print('wrong guess')\n",
    "    \n",
    "   \n",
    "\n",
    "\n",
    "        \n",
    "    \n",
    "    \n",
    "  \n",
    "\n",
    "\n",
    "\n",
    "\n",
    "\n",
    "        \n",
    "    "
   ]
  },
  {
   "cell_type": "markdown",
   "id": "713c1bcc-baad-4ecf-8b85-7ee291ef8bfe",
   "metadata": {},
   "source": [
    "# **Guessing Game using While loop**"
   ]
  },
  {
   "cell_type": "code",
   "execution_count": 20,
   "id": "a8f5aa17-2363-4628-b33b-a9403e6a30f0",
   "metadata": {},
   "outputs": [
    {
     "name": "stdin",
     "output_type": "stream",
     "text": [
      " s\n",
      " s\n",
      " s\n",
      " s\n",
      " s\n"
     ]
    },
    {
     "name": "stdout",
     "output_type": "stream",
     "text": [
      "Sorry You are out of guess limit\n"
     ]
    }
   ],
   "source": [
    "\n",
    "guess=\" \"\n",
    "secret='Istiaq'\n",
    "guess_number=5\n",
    "count=0\n",
    "out_of_limit=False\n",
    "while(guess!=secret and not out_of_limit):\n",
    "    guess=input()\n",
    "    count+=1\n",
    "    if count==guess_number:\n",
    "        out_of_limit=True\n",
    "if out_of_limit:\n",
    "    print('Sorry You are out of guess limit')\n",
    "else:\n",
    "    print('Congratulations you have guessed correct')\n",
    "    "
   ]
  },
  {
   "cell_type": "code",
   "execution_count": 4,
   "id": "b8ac0e0e-d14d-4608-8e84-217249cbaafa",
   "metadata": {},
   "outputs": [
    {
     "data": {
      "text/plain": [
       "'ddff dlkjkj\\ndf\\n'"
      ]
     },
     "execution_count": 4,
     "metadata": {},
     "output_type": "execute_result"
    }
   ],
   "source": [
    "'''ddff dlkjkj\n",
    "df\n",
    "''' #multiple line comments"
   ]
  },
  {
   "cell_type": "markdown",
   "id": "7bf6649b-bd66-4e87-9eee-5d7be6f60324",
   "metadata": {},
   "source": [
    "# **Try and Except method**"
   ]
  },
  {
   "cell_type": "code",
   "execution_count": 23,
   "id": "15366541-0530-4545-bd33-8e01ca05c683",
   "metadata": {},
   "outputs": [
    {
     "name": "stdin",
     "output_type": "stream",
     "text": [
      "Please, Enter the number: fs\n"
     ]
    },
    {
     "name": "stdout",
     "output_type": "stream",
     "text": [
      "Invalid input\n"
     ]
    }
   ],
   "source": [
    "    \n",
    "\"\"\" except Exception as e:\n",
    "    print('error',type(e).__name__) \n",
    "    \"\"\"\n",
    "try:\n",
    "    value=10\n",
    "\n",
    "    number=int(input('Please, Enter the number:'))\n",
    "\n",
    "except ValueError:\n",
    "      print('Invalid input')\n",
    "except ZeroDivisionError:\n",
    "    print('divided by zero')\n"
   ]
  },
  {
   "cell_type": "code",
   "execution_count": 6,
   "id": "2b196f41-9d0f-4fcf-bc7d-3dd7e3137cbc",
   "metadata": {},
   "outputs": [
    {
     "name": "stdin",
     "output_type": "stream",
     "text": [
      "Enter the range for prime numbers 20\n"
     ]
    },
    {
     "name": "stdout",
     "output_type": "stream",
     "text": [
      "The prime numbers are\n",
      "2\n",
      "3\n",
      "5\n",
      "7\n",
      "11\n",
      "13\n",
      "17\n",
      "19\n",
      "Total count=8\n"
     ]
    }
   ],
   "source": [
    "try:    \n",
    "    x=int(input('Enter the range for prime numbers'))\n",
    "    y=print('The prime numbers are')\n",
    "    count=0\n",
    "    for i in range(x+1):\n",
    "        if i>1:\n",
    "            Is_prime=True\n",
    "            for j in range(2,int(i**0.5)+1):\n",
    "                if i%j==0:\n",
    "                    Is_prime=False\n",
    "            if Is_prime:\n",
    "                print(i)\n",
    "                count+=1\n",
    "    print(f'Total count={count}')\n",
    "\n",
    "except ValueError:\n",
    "      print('Invalid input')\n",
    "except ZeroDivisionError:\n",
    "    print('divided by zero')\n",
    "\n",
    "\n",
    "     \n"
   ]
  },
  {
   "cell_type": "code",
   "execution_count": 14,
   "id": "b5970276-d232-4f71-bc83-d12152804109",
   "metadata": {},
   "outputs": [
    {
     "name": "stdin",
     "output_type": "stream",
     "text": [
      "Enter the range of prime numbers 101\n"
     ]
    },
    {
     "name": "stdout",
     "output_type": "stream",
     "text": [
      "0\n",
      "1\n",
      "2\n",
      "3\n",
      "5\n",
      "7\n",
      "11\n",
      "13\n",
      "17\n",
      "19\n",
      "23\n",
      "29\n",
      "31\n",
      "37\n",
      "41\n",
      "43\n",
      "47\n",
      "53\n",
      "59\n",
      "61\n",
      "67\n",
      "71\n",
      "73\n",
      "79\n",
      "83\n",
      "89\n",
      "97\n",
      "101\n"
     ]
    }
   ],
   "source": [
    "x=int(input('Enter the range of prime numbers'))\n",
    "for i in range(x+1):\n",
    "    if i>1:\n",
    "        is_prime=True\n",
    "        for j in range(2,int(i**0.5)+1):\n",
    "            if i%j==0:\n",
    "               is_prime=False\n",
    "    if is_prime:\n",
    "            print(i)\n",
    "\n",
    "\n"
   ]
  },
  {
   "cell_type": "markdown",
   "id": "77d1e9ad-c5ca-433a-8891-565b66e17966",
   "metadata": {},
   "source": [
    "# **Use of Datetime**"
   ]
  },
  {
   "cell_type": "code",
   "execution_count": 2,
   "id": "6d25f534-c27a-4e43-af47-003b0b1a844a",
   "metadata": {},
   "outputs": [
    {
     "name": "stdout",
     "output_type": "stream",
     "text": [
      "2025-08-27 18:10:45.234283\n"
     ]
    }
   ],
   "source": [
    "from datetime import datetime,timedelta\n",
    "print(datetime.now()-timedelta(days=2))\n"
   ]
  },
  {
   "cell_type": "code",
   "execution_count": 1,
   "id": "11ef6601-090e-42b5-9eca-9b5dfac4e240",
   "metadata": {},
   "outputs": [
    {
     "data": {
      "text/plain": [
       "'1.26.4'"
      ]
     },
     "execution_count": 1,
     "metadata": {},
     "output_type": "execute_result"
    }
   ],
   "source": [
    "import numpy as np \n",
    "np.__version__\n"
   ]
  },
  {
   "cell_type": "code",
   "execution_count": 3,
   "id": "934109fb-7b4b-4878-a04d-ac0da4f66e33",
   "metadata": {},
   "outputs": [
    {
     "name": "stdout",
     "output_type": "stream",
     "text": [
      "[231  14   1   3   6   7]\n"
     ]
    }
   ],
   "source": [
    "lisst=[231,14,1,3,6,7]\n",
    "array=np.array(lisst)\n",
    "print(array)"
   ]
  },
  {
   "cell_type": "code",
   "execution_count": 8,
   "id": "12867597-1e73-40f0-8cda-83dd2f2ad747",
   "metadata": {},
   "outputs": [
    {
     "data": {
      "text/plain": [
       "(6,)"
      ]
     },
     "execution_count": 8,
     "metadata": {},
     "output_type": "execute_result"
    }
   ],
   "source": [
    "array.shape\n"
   ]
  },
  {
   "cell_type": "code",
   "execution_count": 27,
   "id": "fdabed0d-5de9-40ff-85fd-82d2079d44c8",
   "metadata": {},
   "outputs": [
    {
     "name": "stdout",
     "output_type": "stream",
     "text": [
      "[[0 0 0 0 0]\n",
      " [0 0 0 0 0]\n",
      " [0 0 0 0 0]\n",
      " [0 0 0 0 0]\n",
      " [0 0 0 0 0]]\n"
     ]
    }
   ],
   "source": [
    "import numpy as np \n",
    "x=np.zeros((5,5),dtype='int')\n",
    "print(x)"
   ]
  },
  {
   "cell_type": "code",
   "execution_count": 29,
   "id": "6ce10069-8416-4077-9e0d-5362802de33b",
   "metadata": {},
   "outputs": [
    {
     "name": "stdout",
     "output_type": "stream",
     "text": [
      "[15 15 15 15 15 15]\n"
     ]
    }
   ],
   "source": [
    "y=np.full((6,),fill_value=15)\n",
    "print(y)"
   ]
  },
  {
   "cell_type": "code",
   "execution_count": null,
   "id": "d4869a0f-b40a-4ffa-b5e7-8670c72e4a3a",
   "metadata": {},
   "outputs": [],
   "source": []
  }
 ],
 "metadata": {
  "kernelspec": {
   "display_name": "Python 3 (ipykernel)",
   "language": "python",
   "name": "python3"
  },
  "language_info": {
   "codemirror_mode": {
    "name": "ipython",
    "version": 3
   },
   "file_extension": ".py",
   "mimetype": "text/x-python",
   "name": "python",
   "nbconvert_exporter": "python",
   "pygments_lexer": "ipython3",
   "version": "3.12.7"
  }
 },
 "nbformat": 4,
 "nbformat_minor": 5
}
