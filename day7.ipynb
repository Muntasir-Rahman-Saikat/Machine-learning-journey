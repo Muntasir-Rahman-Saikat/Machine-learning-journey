{
 "cells": [
  {
   "cell_type": "markdown",
   "id": "b3e01e88-de67-4946-a3e2-6a52693af900",
   "metadata": {},
   "source": [
    "# **Frozen set**"
   ]
  },
  {
   "cell_type": "code",
   "execution_count": 17,
   "id": "0b12d53f-5963-4c53-a7d0-3586f3060d28",
   "metadata": {},
   "outputs": [],
   "source": [
    "#immutable set of python set\n",
    "s1={1,3,4,56,4}\n",
    "\n"
   ]
  },
  {
   "cell_type": "code",
   "execution_count": 18,
   "id": "e3c290bf-618c-4803-ba11-cf74f42dd0e7",
   "metadata": {},
   "outputs": [
    {
     "data": {
      "text/plain": [
       "{1, 3, 4, 56}"
      ]
     },
     "execution_count": 18,
     "metadata": {},
     "output_type": "execute_result"
    }
   ],
   "source": [
    "s1"
   ]
  },
  {
   "cell_type": "code",
   "execution_count": 23,
   "id": "627cefbe-cc87-4521-8e9d-56a194c382ca",
   "metadata": {},
   "outputs": [],
   "source": [
    "s1.update([91])"
   ]
  },
  {
   "cell_type": "code",
   "execution_count": 24,
   "id": "efa5b152-e16d-47c9-8710-5632711a0763",
   "metadata": {},
   "outputs": [
    {
     "data": {
      "text/plain": [
       "{1, 3, 4, 9, 56, 91}"
      ]
     },
     "execution_count": 24,
     "metadata": {},
     "output_type": "execute_result"
    }
   ],
   "source": [
    "s1"
   ]
  },
  {
   "cell_type": "code",
   "execution_count": 25,
   "id": "9b6e21ba-d490-499e-ac0d-d3096b45c676",
   "metadata": {},
   "outputs": [],
   "source": [
    "s1=set(sorted(s1))"
   ]
  },
  {
   "cell_type": "code",
   "execution_count": 27,
   "id": "2a78f0f8-0adf-4bc7-bd1f-dedf308eb41c",
   "metadata": {},
   "outputs": [],
   "source": [
    "s2=frozenset(s1)"
   ]
  },
  {
   "cell_type": "code",
   "execution_count": 28,
   "id": "9a526181-6991-4e18-b952-353fc56922c8",
   "metadata": {},
   "outputs": [
    {
     "data": {
      "text/plain": [
       "frozenset({1, 3, 4, 9, 56, 91})"
      ]
     },
     "execution_count": 28,
     "metadata": {},
     "output_type": "execute_result"
    }
   ],
   "source": [
    "s2"
   ]
  },
  {
   "cell_type": "code",
   "execution_count": 29,
   "id": "c27eb676-478b-4e20-953d-df9b5c7fb379",
   "metadata": {},
   "outputs": [
    {
     "data": {
      "text/plain": [
       "frozenset"
      ]
     },
     "execution_count": 29,
     "metadata": {},
     "output_type": "execute_result"
    }
   ],
   "source": [
    "type(s2)"
   ]
  },
  {
   "cell_type": "code",
   "execution_count": 30,
   "id": "cc01532b-21cd-42b9-91d4-355fbc5437ec",
   "metadata": {},
   "outputs": [
    {
     "ename": "AttributeError",
     "evalue": "'frozenset' object has no attribute 'add'",
     "output_type": "error",
     "traceback": [
      "\u001b[31m---------------------------------------------------------------------------\u001b[39m",
      "\u001b[31mAttributeError\u001b[39m                            Traceback (most recent call last)",
      "\u001b[36mCell\u001b[39m\u001b[36m \u001b[39m\u001b[32mIn[30]\u001b[39m\u001b[32m, line 1\u001b[39m\n\u001b[32m----> \u001b[39m\u001b[32m1\u001b[39m \u001b[43ms2\u001b[49m\u001b[43m.\u001b[49m\u001b[43madd\u001b[49m(\u001b[32m12\u001b[39m)\n",
      "\u001b[31mAttributeError\u001b[39m: 'frozenset' object has no attribute 'add'"
     ]
    }
   ],
   "source": [
    "s2.add(12) #since frozenset is immutable "
   ]
  },
  {
   "cell_type": "code",
   "execution_count": 1,
   "id": "93b1c392-d182-4e5e-a02d-6929d7336660",
   "metadata": {},
   "outputs": [],
   "source": [
    "l=[1,4,523,'2s',6]"
   ]
  },
  {
   "cell_type": "code",
   "execution_count": 2,
   "id": "36250815-bfd7-4a71-b0fe-020422b14901",
   "metadata": {},
   "outputs": [],
   "source": [
    "s3=frozenset(l)"
   ]
  },
  {
   "cell_type": "code",
   "execution_count": 3,
   "id": "88a59360-70c9-4b03-89cf-7303939eab23",
   "metadata": {},
   "outputs": [
    {
     "data": {
      "text/plain": [
       "frozenset({1, '2s', 4, 523, 6})"
      ]
     },
     "execution_count": 3,
     "metadata": {},
     "output_type": "execute_result"
    }
   ],
   "source": [
    "s3"
   ]
  },
  {
   "cell_type": "code",
   "execution_count": 34,
   "id": "b60245ff-aae5-4f24-9c5d-8369b09699b3",
   "metadata": {},
   "outputs": [
    {
     "ename": "AttributeError",
     "evalue": "'frozenset' object has no attribute 'remove'",
     "output_type": "error",
     "traceback": [
      "\u001b[31m---------------------------------------------------------------------------\u001b[39m",
      "\u001b[31mAttributeError\u001b[39m                            Traceback (most recent call last)",
      "\u001b[36mCell\u001b[39m\u001b[36m \u001b[39m\u001b[32mIn[34]\u001b[39m\u001b[32m, line 1\u001b[39m\n\u001b[32m----> \u001b[39m\u001b[32m1\u001b[39m \u001b[43ms3\u001b[49m\u001b[43m.\u001b[49m\u001b[43mremove\u001b[49m(\u001b[33m'\u001b[39m\u001b[33m2s\u001b[39m\u001b[33m'\u001b[39m)\n",
      "\u001b[31mAttributeError\u001b[39m: 'frozenset' object has no attribute 'remove'"
     ]
    }
   ],
   "source": [
    "s3.remove('2s')#since immutable"
   ]
  },
  {
   "cell_type": "code",
   "execution_count": 36,
   "id": "5c998afd-a45c-4eb4-8ddd-a3454352f21c",
   "metadata": {},
   "outputs": [
    {
     "ename": "TypeError",
     "evalue": "'frozenset' object does not support item assignment",
     "output_type": "error",
     "traceback": [
      "\u001b[31m---------------------------------------------------------------------------\u001b[39m",
      "\u001b[31mTypeError\u001b[39m                                 Traceback (most recent call last)",
      "\u001b[36mCell\u001b[39m\u001b[36m \u001b[39m\u001b[32mIn[36]\u001b[39m\u001b[32m, line 1\u001b[39m\n\u001b[32m----> \u001b[39m\u001b[32m1\u001b[39m \u001b[43ms3\u001b[49m\u001b[43m[\u001b[49m\u001b[32;43m2\u001b[39;49m\u001b[43m]\u001b[49m=\u001b[32m56\u001b[39m \u001b[38;5;66;03m#since immutable\u001b[39;00m\n",
      "\u001b[31mTypeError\u001b[39m: 'frozenset' object does not support item assignment"
     ]
    }
   ],
   "source": [
    "s3[2]=56 #since immutable"
   ]
  },
  {
   "cell_type": "code",
   "execution_count": 37,
   "id": "5e736e4d-cb1f-40cb-9edb-6b744d7c6fe0",
   "metadata": {},
   "outputs": [
    {
     "data": {
      "text/plain": [
       "frozenset({1, 2, 3, 4, 5, 9, 56, 91})"
      ]
     },
     "execution_count": 37,
     "metadata": {},
     "output_type": "execute_result"
    }
   ],
   "source": [
    "g={2,5,1}\n",
    "s2.union(g)"
   ]
  },
  {
   "cell_type": "code",
   "execution_count": 42,
   "id": "b93d48d7-d818-414b-9743-1820025d4bae",
   "metadata": {},
   "outputs": [],
   "source": [
    "p=s2.intersection(g)"
   ]
  },
  {
   "cell_type": "code",
   "execution_count": 41,
   "id": "b493b3fa-5fe7-4e14-bee7-e449b3f0e83c",
   "metadata": {},
   "outputs": [
    {
     "data": {
      "text/plain": [
       "set"
      ]
     },
     "execution_count": 41,
     "metadata": {},
     "output_type": "execute_result"
    }
   ],
   "source": [
    "type(g)"
   ]
  },
  {
   "cell_type": "code",
   "execution_count": 44,
   "id": "b8f04537-fd2f-4b4c-915e-b0a3080a402e",
   "metadata": {},
   "outputs": [
    {
     "data": {
      "text/plain": [
       "{1, 2, 4, 5, 54}"
      ]
     },
     "execution_count": 44,
     "metadata": {},
     "output_type": "execute_result"
    }
   ],
   "source": [
    "f={2,4,54}\n",
    "g.union(f)"
   ]
  },
  {
   "cell_type": "code",
   "execution_count": 54,
   "id": "6005a563-272a-4a16-b775-6a619f02de3d",
   "metadata": {},
   "outputs": [
    {
     "data": {
      "text/plain": [
       "frozenset({' ', 'a', 'c', 'd', 'e', 'i', 'n', 's', 't'})"
      ]
     },
     "execution_count": 54,
     "metadata": {},
     "output_type": "execute_result"
    }
   ],
   "source": [
    "s='data science'\n",
    "w=frozenset(s)\n",
    "w"
   ]
  },
  {
   "cell_type": "code",
   "execution_count": 55,
   "id": "03a69843-23e1-48e3-8d18-8301f27e2261",
   "metadata": {},
   "outputs": [],
   "source": [
    "h=list(w)#converting frozenset into list"
   ]
  },
  {
   "cell_type": "code",
   "execution_count": 56,
   "id": "e5c85a02-b1bf-4594-b4fa-4034409df230",
   "metadata": {},
   "outputs": [
    {
     "data": {
      "text/plain": [
       "['c', 't', 'e', ' ', 'a', 's', 'i', 'n', 'd']"
      ]
     },
     "execution_count": 56,
     "metadata": {},
     "output_type": "execute_result"
    }
   ],
   "source": [
    "h"
   ]
  },
  {
   "cell_type": "code",
   "execution_count": 57,
   "id": "bc2e6ae0-8320-4f6f-95b7-e1e70d440e8a",
   "metadata": {},
   "outputs": [],
   "source": [
    "h=tuple(h)"
   ]
  },
  {
   "cell_type": "code",
   "execution_count": 58,
   "id": "383df74e-a15b-4be3-a088-c720af0ac5d6",
   "metadata": {},
   "outputs": [
    {
     "data": {
      "text/plain": [
       "('c', 't', 'e', ' ', 'a', 's', 'i', 'n', 'd')"
      ]
     },
     "execution_count": 58,
     "metadata": {},
     "output_type": "execute_result"
    }
   ],
   "source": [
    "h"
   ]
  },
  {
   "cell_type": "code",
   "execution_count": 59,
   "id": "6a2a7fc8-8c81-432b-a1f4-6f6cc9c3a397",
   "metadata": {},
   "outputs": [
    {
     "data": {
      "text/plain": [
       "frozenset({' ', 'a', 'c', 'd', 'e', 'i', 'n', 's', 't'})"
      ]
     },
     "execution_count": 59,
     "metadata": {},
     "output_type": "execute_result"
    }
   ],
   "source": [
    "h=frozenset(h)\n",
    "h"
   ]
  },
  {
   "cell_type": "code",
   "execution_count": 60,
   "id": "b4e6c858-b284-460d-ba8e-c35a49b88b55",
   "metadata": {},
   "outputs": [],
   "source": [
    "li=[list(x) for x in h]"
   ]
  },
  {
   "cell_type": "code",
   "execution_count": 61,
   "id": "b23c5b83-86fe-41ae-ba27-2b92c8c27c37",
   "metadata": {},
   "outputs": [
    {
     "data": {
      "text/plain": [
       "[['c'], ['t'], ['e'], [' '], ['a'], ['s'], ['i'], ['n'], ['d']]"
      ]
     },
     "execution_count": 61,
     "metadata": {},
     "output_type": "execute_result"
    }
   ],
   "source": [
    "li"
   ]
  },
  {
   "cell_type": "code",
   "execution_count": 71,
   "id": "eaec7ac6-7e77-484b-8ce9-d5b1b0ea17e4",
   "metadata": {},
   "outputs": [
    {
     "data": {
      "text/plain": [
       "[('c',), ('t',), ('e',), (' ',), ('a',), ('s',), ('i',), ('n',), ('d',)]"
      ]
     },
     "execution_count": 71,
     "metadata": {},
     "output_type": "execute_result"
    }
   ],
   "source": [
    "tu=[tuple(x) for x in h]\n",
    "tu\n"
   ]
  },
  {
   "cell_type": "code",
   "execution_count": 65,
   "id": "11334fd5-d089-443e-b804-1f5ff84c27d3",
   "metadata": {},
   "outputs": [
    {
     "data": {
      "text/plain": [
       "frozenset({' ', 'a', 'c', 'd', 'e', 'i', 'n', 's', 't'})"
      ]
     },
     "execution_count": 65,
     "metadata": {},
     "output_type": "execute_result"
    }
   ],
   "source": [
    "h"
   ]
  },
  {
   "cell_type": "code",
   "execution_count": 72,
   "id": "25d549ab-53e1-4168-88f4-7f76ae950025",
   "metadata": {},
   "outputs": [
    {
     "ename": "AttributeError",
     "evalue": "'frozenset' object has no attribute 'clear'",
     "output_type": "error",
     "traceback": [
      "\u001b[31m---------------------------------------------------------------------------\u001b[39m",
      "\u001b[31mAttributeError\u001b[39m                            Traceback (most recent call last)",
      "\u001b[36mCell\u001b[39m\u001b[36m \u001b[39m\u001b[32mIn[72]\u001b[39m\u001b[32m, line 1\u001b[39m\n\u001b[32m----> \u001b[39m\u001b[32m1\u001b[39m \u001b[43mh\u001b[49m\u001b[43m.\u001b[49m\u001b[43mclear\u001b[49m()\n",
      "\u001b[31mAttributeError\u001b[39m: 'frozenset' object has no attribute 'clear'"
     ]
    }
   ],
   "source": [
    "h.clear()"
   ]
  },
  {
   "cell_type": "code",
   "execution_count": 73,
   "id": "90a4b00c-db29-4e5b-a8b6-5cfbe560cdbb",
   "metadata": {},
   "outputs": [
    {
     "data": {
      "text/plain": [
       "{1, 2, 5}"
      ]
     },
     "execution_count": 73,
     "metadata": {},
     "output_type": "execute_result"
    }
   ],
   "source": [
    "g"
   ]
  },
  {
   "cell_type": "markdown",
   "id": "73268f01-df67-476c-95e6-cb9cc9b78c3e",
   "metadata": {},
   "source": [
    "# **Use of Difference**"
   ]
  },
  {
   "cell_type": "code",
   "execution_count": 76,
   "id": "a172268e-e788-4be2-85f5-1d3594ceb773",
   "metadata": {},
   "outputs": [
    {
     "data": {
      "text/plain": [
       "frozenset({' ', 'a', 'c', 'd', 'e', 'i', 'n', 's', 't'})"
      ]
     },
     "execution_count": 76,
     "metadata": {},
     "output_type": "execute_result"
    }
   ],
   "source": [
    "h.difference(g)"
   ]
  },
  {
   "cell_type": "code",
   "execution_count": 77,
   "id": "36f9d33a-9537-410d-80b6-8391a98ff151",
   "metadata": {},
   "outputs": [],
   "source": [
    "gh={4,5,234,52,2}"
   ]
  },
  {
   "cell_type": "code",
   "execution_count": 89,
   "id": "284d8ad4-5885-492e-be60-7e1e049cb737",
   "metadata": {},
   "outputs": [
    {
     "data": {
      "text/plain": [
       "{4, 52, 234}"
      ]
     },
     "execution_count": 89,
     "metadata": {},
     "output_type": "execute_result"
    }
   ],
   "source": [
    "gh.difference(g)"
   ]
  },
  {
   "cell_type": "markdown",
   "id": "2ddf861b-806c-40de-9291-7443ad53db36",
   "metadata": {},
   "source": [
    "# **difference_update**"
   ]
  },
  {
   "cell_type": "code",
   "execution_count": 90,
   "id": "5a776bc2-97cc-4316-8448-cfa189bdcbaa",
   "metadata": {},
   "outputs": [
    {
     "data": {
      "text/plain": [
       "{4, 52, 234}"
      ]
     },
     "execution_count": 90,
     "metadata": {},
     "output_type": "execute_result"
    }
   ],
   "source": [
    "e=gh.difference_update(g) # jeta difference thake setai update kore dey \n",
    "gh"
   ]
  },
  {
   "cell_type": "code",
   "execution_count": 92,
   "id": "12e8cd05-99bd-45fd-8d7f-827fd216ecd0",
   "metadata": {},
   "outputs": [],
   "source": [
    "#similar rule for intersection_update() "
   ]
  },
  {
   "cell_type": "markdown",
   "id": "64819c21-f640-40ad-86b6-192666d2be02",
   "metadata": {},
   "source": [
    "# **issubset**"
   ]
  },
  {
   "cell_type": "code",
   "execution_count": 97,
   "id": "02df78e0-0f92-4350-96f3-7bcf717b819e",
   "metadata": {},
   "outputs": [
    {
     "data": {
      "text/plain": [
       "True"
      ]
     },
     "execution_count": 97,
     "metadata": {},
     "output_type": "execute_result"
    }
   ],
   "source": [
    "t={4,52}\n",
    "t.issubset(gh)"
   ]
  },
  {
   "cell_type": "code",
   "execution_count": 100,
   "id": "176154cb-4af7-441b-b4f7-d73fcfd8d530",
   "metadata": {},
   "outputs": [
    {
     "data": {
      "text/plain": [
       "True"
      ]
     },
     "execution_count": 100,
     "metadata": {},
     "output_type": "execute_result"
    }
   ],
   "source": [
    "yy={4,52,2}\n",
    "yy.issuperset(t) #superset means t er sobgula elements  yy er moddhe ache"
   ]
  },
  {
   "cell_type": "code",
   "execution_count": 105,
   "id": "dbacd5dc-e0a1-4d32-a88c-dd287baf4576",
   "metadata": {},
   "outputs": [
    {
     "data": {
      "text/plain": [
       "{1, 3, 4, 49, 52}"
      ]
     },
     "execution_count": 105,
     "metadata": {},
     "output_type": "execute_result"
    }
   ],
   "source": [
    "tt={2,1,49,3}\n",
    "tt.symmetric_difference(yy)#this means common gula bade uncommon jegulo thakbe seguloi show korbe"
   ]
  },
  {
   "cell_type": "code",
   "execution_count": 106,
   "id": "31e0b18b-44a0-49b4-88b4-dadefa1ac118",
   "metadata": {},
   "outputs": [
    {
     "data": {
      "text/plain": [
       "{1, 2, 3, 49}"
      ]
     },
     "execution_count": 106,
     "metadata": {},
     "output_type": "execute_result"
    }
   ],
   "source": [
    "tt"
   ]
  },
  {
   "cell_type": "code",
   "execution_count": 108,
   "id": "0c59994e-107b-4f48-b0a3-6cd1487dcd62",
   "metadata": {},
   "outputs": [
    {
     "data": {
      "text/plain": [
       "[1, 2, 3, 49]"
      ]
     },
     "execution_count": 108,
     "metadata": {},
     "output_type": "execute_result"
    }
   ],
   "source": [
    "xx=list(tt)\n",
    "xx"
   ]
  },
  {
   "cell_type": "code",
   "execution_count": null,
   "id": "cff0e024-885b-423d-8baa-10398a72dc9f",
   "metadata": {},
   "outputs": [],
   "source": []
  },
  {
   "cell_type": "code",
   "execution_count": 125,
   "id": "5436786a-c360-49fb-8208-01e8915d5624",
   "metadata": {},
   "outputs": [
    {
     "name": "stdin",
     "output_type": "stream",
     "text": [
      "Enter the range of prime numbers 100\n"
     ]
    },
    {
     "name": "stdout",
     "output_type": "stream",
     "text": [
      "2\n",
      "3\n",
      "5\n",
      "7\n",
      "11\n",
      "13\n",
      "17\n",
      "19\n",
      "23\n",
      "29\n",
      "31\n",
      "37\n",
      "41\n",
      "43\n",
      "47\n",
      "53\n",
      "59\n",
      "61\n",
      "67\n",
      "71\n",
      "73\n",
      "79\n",
      "83\n",
      "89\n",
      "97\n"
     ]
    }
   ],
   "source": [
    "x=int(input('Enter the range of prime numbers'))\n",
    "for i in range(1,x+1):\n",
    "    if i>1:\n",
    "      is_prime=True\n",
    "      for j in range(2,int(i**0.5)+1):\n",
    "         if i%j==0:\n",
    "            is_prime=False\n",
    "    if is_prime:\n",
    "            print(i)\n",
    "            "
   ]
  },
  {
   "cell_type": "code",
   "execution_count": null,
   "id": "d8b36c7e-1e36-4f4d-b2a0-9efcca298b65",
   "metadata": {},
   "outputs": [],
   "source": []
  }
 ],
 "metadata": {
  "kernelspec": {
   "display_name": "Python 3 (ipykernel)",
   "language": "python",
   "name": "python3"
  },
  "language_info": {
   "codemirror_mode": {
    "name": "ipython",
    "version": 3
   },
   "file_extension": ".py",
   "mimetype": "text/x-python",
   "name": "python",
   "nbconvert_exporter": "python",
   "pygments_lexer": "ipython3",
   "version": "3.12.7"
  }
 },
 "nbformat": 4,
 "nbformat_minor": 5
}
