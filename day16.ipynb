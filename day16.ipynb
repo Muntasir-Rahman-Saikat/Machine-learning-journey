{
 "cells": [
  {
   "cell_type": "code",
   "execution_count": 32,
   "id": "e7cd79ac-6804-4c7a-83e1-e70616ee4e4e",
   "metadata": {},
   "outputs": [
    {
     "name": "stdout",
     "output_type": "stream",
     "text": [
      "[[1. 0. 0. 0. 0.]\n",
      " [0. 1. 0. 0. 0.]\n",
      " [0. 0. 1. 0. 0.]\n",
      " [0. 0. 0. 1. 0.]\n",
      " [0. 0. 0. 0. 1.]]\n"
     ]
    }
   ],
   "source": [
    "import numpy as np\n",
    "x=np.eye(5,)\n",
    "print(x)"
   ]
  },
  {
   "cell_type": "code",
   "execution_count": 31,
   "id": "c363b952-2893-45d9-9d3b-19bc36b62769",
   "metadata": {},
   "outputs": [
    {
     "name": "stdout",
     "output_type": "stream",
     "text": [
      "[[1.23802473e-311 6.12641401e-322 0.00000000e+000 0.00000000e+000]\n",
      " [1.42417900e-306 1.15998412e-028 4.31603868e-080 1.94919985e-153]\n",
      " [1.35717430e+131 9.72826561e-072 8.04882561e-096 1.39804329e-076]\n",
      " [1.39803697e-076 4.08598363e-033 1.08539816e-071 2.59050082e-144]\n",
      " [2.86530729e+161 2.59050167e-144 4.82412328e+228 1.04718130e-142]]\n"
     ]
    }
   ],
   "source": [
    "tr=np.empty((5,4))\n",
    "print(tr)"
   ]
  },
  {
   "cell_type": "code",
   "execution_count": 33,
   "id": "53bc87bf-57c9-4324-a915-a4fe145d55cb",
   "metadata": {},
   "outputs": [
    {
     "data": {
      "text/plain": [
       "array([[1, 0, 0, 0, 0],\n",
       "       [0, 1, 0, 0, 0],\n",
       "       [0, 0, 1, 0, 0],\n",
       "       [0, 0, 0, 1, 0],\n",
       "       [0, 0, 0, 0, 1]])"
      ]
     },
     "execution_count": 33,
     "metadata": {},
     "output_type": "execute_result"
    }
   ],
   "source": [
    "x.astype('int')"
   ]
  },
  {
   "cell_type": "markdown",
   "id": "09efa4e7-bc79-493d-9aa1-f97d85b55e2e",
   "metadata": {},
   "source": [
    "# **sequential array**"
   ]
  },
  {
   "cell_type": "code",
   "execution_count": 36,
   "id": "51fe6a42-144c-4411-a76e-4932852eb611",
   "metadata": {},
   "outputs": [
    {
     "name": "stdout",
     "output_type": "stream",
     "text": [
      "[1 3 5 7 9]\n"
     ]
    }
   ],
   "source": [
    "print(np.arange(start=1,stop=10,step=2))"
   ]
  },
  {
   "cell_type": "code",
   "execution_count": 38,
   "id": "9702463c-0bee-4673-9e73-61299107cc68",
   "metadata": {},
   "outputs": [
    {
     "name": "stdout",
     "output_type": "stream",
     "text": [
      "[0 2 4 6 8]\n"
     ]
    }
   ],
   "source": [
    "print(np.arange(0,10,2))"
   ]
  },
  {
   "cell_type": "markdown",
   "id": "3a632d93-896f-4152-a444-671f0b25f78d",
   "metadata": {},
   "source": [
    "# **creating linearly spaced array**"
   ]
  },
  {
   "cell_type": "code",
   "execution_count": 40,
   "id": "0b047f0d-acf2-4461-979e-001c853545d1",
   "metadata": {},
   "outputs": [
    {
     "name": "stdout",
     "output_type": "stream",
     "text": [
      "[ 1  3  5  7 10]\n"
     ]
    }
   ],
   "source": [
    "print(np.linspace(start=1,stop=10,num=5,dtype='int'))"
   ]
  },
  {
   "cell_type": "code",
   "execution_count": 1,
   "id": "9d3b3a33-8646-433d-b92e-634ae589b99d",
   "metadata": {},
   "outputs": [],
   "source": [
    "import numpy as np \n"
   ]
  },
  {
   "cell_type": "markdown",
   "id": "0c2b9fb2-7f68-4163-9217-89a731b89a73",
   "metadata": {},
   "source": [
    "# **Multidimentional numpy array**\n"
   ]
  },
  {
   "cell_type": "code",
   "execution_count": 5,
   "id": "90b8f0dd-417d-4749-9f58-d438fe4ebcb9",
   "metadata": {},
   "outputs": [
    {
     "name": "stdout",
     "output_type": "stream",
     "text": [
      "scalar 48\n",
      "vector [  1   4 543  56]\n",
      "matrix [[1 4 5]\n",
      " [2 4 5]\n",
      " [5 6 2]]\n"
     ]
    }
   ],
   "source": [
    " \"\"\"Mathematica objects:\n",
    " scalar: 4 or 4.5(0 D)\n",
    " Vector:[1,2,4,5](1-D)\n",
    " matrix: [[1,2,342],\n",
    "          [2,4,5]](2-D)\n",
    " tensor: an x-dimentional array where x>2         \n",
    "          \"\"\"\n",
    "scalar =np.array(48)\n",
    "vector= np.array([1,4,543,56])\n",
    "matrix=np.array(\n",
    "    [[1,4,5],\n",
    "     [2,4,5],\n",
    "     [5,6,2]\n",
    "    ])\n",
    "print('scalar',scalar)\n",
    "print('vector',vector)\n",
    "print('matrix',matrix)"
   ]
  },
  {
   "cell_type": "code",
   "execution_count": 8,
   "id": "8e2097dc-ae99-4081-9df1-02e708744547",
   "metadata": {},
   "outputs": [
    {
     "name": "stdout",
     "output_type": "stream",
     "text": [
      "dimenstion of scalar 0\n",
      "dimenstion of vector 1\n",
      "dimenstion of matrix 2\n"
     ]
    }
   ],
   "source": [
    "print('dimenstion of scalar',scalar.ndim)\n",
    "print('dimenstion of vector',vector.ndim)\n",
    "print('dimenstion of matrix',matrix.ndim)"
   ]
  },
  {
   "cell_type": "code",
   "execution_count": 10,
   "id": "d6aa6699-f58f-4596-b7c1-9bcfa6685845",
   "metadata": {},
   "outputs": [
    {
     "name": "stdout",
     "output_type": "stream",
     "text": [
      "2\n",
      "6\n"
     ]
    }
   ],
   "source": [
    "\"\"\"Numpy indexing \n",
    "    non-negative indexing(0,1,2,3,4,N-1)\n",
    "    negative indexing(-1,-2,-3,....)\n",
    "    \"\"\"\n",
    "nps=np.array([1,2,43,4,6])\n",
    "print(nps[1])\n",
    "print(nps[-1])\n"
   ]
  },
  {
   "cell_type": "markdown",
   "id": "1754f98e-a4e7-4773-9576-8edcfee66486",
   "metadata": {},
   "source": [
    "# **\"\"\"numpy slicing\"\"\"**\n"
   ]
  },
  {
   "cell_type": "code",
   "execution_count": 13,
   "id": "25f25aad-3d7c-4cf2-986b-c870e63002fc",
   "metadata": {},
   "outputs": [
    {
     "name": "stdout",
     "output_type": "stream",
     "text": [
      "[2, 4, 5]\n"
     ]
    }
   ],
   "source": [
    "s=[1,2,4,5,6,673]\n",
    "print(s[1:4:1])\n"
   ]
  },
  {
   "cell_type": "code",
   "execution_count": 23,
   "id": "99e38eb6-322f-4a9c-a8b7-6baccbb0675c",
   "metadata": {},
   "outputs": [
    {
     "name": "stdout",
     "output_type": "stream",
     "text": [
      "[[  1  14 143  12]\n",
      " [  3   4   1  51]\n",
      " [ 35   2   5   1]]\n",
      "[[ 14 143]\n",
      " [  4   1]]\n"
     ]
    }
   ],
   "source": [
    "two_d_array=np.array([[1,14,143,12],\n",
    "          [3,4,1,51],\n",
    "          [35,2,5,1]])\n",
    "print(two_d_array)\n",
    "print(two_d_array[0:2:1,1:3])"
   ]
  },
  {
   "cell_type": "markdown",
   "id": "66836971-5223-4fd1-b9e1-d1186f11c051",
   "metadata": {},
   "source": [
    "# **Numpy Reshape**"
   ]
  },
  {
   "cell_type": "code",
   "execution_count": 45,
   "id": "fc2df30b-4883-4b8e-9cd4-a9cd2e53186b",
   "metadata": {},
   "outputs": [
    {
     "name": "stdout",
     "output_type": "stream",
     "text": [
      "(3, 4)\n",
      "(4, 3)\n",
      "[[  1  14 143  12]\n",
      " [  3   4   1  51]\n",
      " [ 35   2   5   1]]\n",
      "[[  1  14 143]\n",
      " [ 12   3   4]\n",
      " [  1  51  35]\n",
      " [  2   5   1]]\n"
     ]
    }
   ],
   "source": [
    "two_d_array=np.array([[1,14,143,12],\n",
    "          [3,4,1,51],\n",
    "          [35,2,5,1]])\n",
    "\n",
    "reshape_2D_array=two_d_array.reshape(4,3)\n",
    "print(two_d_array.shape)\n",
    "print(reshape_2D_array.shape)\n",
    "print(two_d_array)\n",
    "print(reshape_2D_array)"
   ]
  },
  {
   "cell_type": "code",
   "execution_count": 34,
   "id": "01bc4c3f-e8d9-4274-9cad-f53d54a0ea17",
   "metadata": {},
   "outputs": [
    {
     "name": "stdout",
     "output_type": "stream",
     "text": [
      "[[[[0. 0.]\n",
      "   [0. 0.]]\n",
      "\n",
      "  [[0. 0.]\n",
      "   [0. 0.]]\n",
      "\n",
      "  [[0. 0.]\n",
      "   [0. 0.]]\n",
      "\n",
      "  [[0. 0.]\n",
      "   [0. 0.]]]\n",
      "\n",
      "\n",
      " [[[0. 0.]\n",
      "   [0. 0.]]\n",
      "\n",
      "  [[0. 0.]\n",
      "   [0. 0.]]\n",
      "\n",
      "  [[0. 0.]\n",
      "   [0. 0.]]\n",
      "\n",
      "  [[0. 0.]\n",
      "   [0. 0.]]]\n",
      "\n",
      "\n",
      " [[[0. 0.]\n",
      "   [0. 0.]]\n",
      "\n",
      "  [[0. 0.]\n",
      "   [0. 0.]]\n",
      "\n",
      "  [[0. 0.]\n",
      "   [0. 0.]]\n",
      "\n",
      "  [[0. 0.]\n",
      "   [0. 0.]]]]\n"
     ]
    }
   ],
   "source": [
    "my_np_array=np.zeros(shape=(3,4,2,2))\n",
    "print(my_np_array)"
   ]
  },
  {
   "cell_type": "markdown",
   "id": "4613aae4-0ad0-4f5c-a3d5-0c71a351f57b",
   "metadata": {},
   "source": [
    "# **Numpy Filtering**"
   ]
  },
  {
   "cell_type": "code",
   "execution_count": 5,
   "id": "294fd59e-7acb-4004-98ee-a5245d6c0cba",
   "metadata": {},
   "outputs": [
    {
     "name": "stdout",
     "output_type": "stream",
     "text": [
      "[1 3]\n"
     ]
    }
   ],
   "source": [
    "my_1D_array=np.array(\n",
    "    [1,2,3]\n",
    ")\n",
    "filtered_mask=[True,False,True]\n",
    "filtered_array=my_1D_array[filtered_mask]\n",
    "print(filtered_array)"
   ]
  },
  {
   "cell_type": "code",
   "execution_count": 63,
   "id": "231650f1-a2f1-4dee-8a20-19c835802f20",
   "metadata": {},
   "outputs": [
    {
     "name": "stdout",
     "output_type": "stream",
     "text": [
      "[ True False  True False  True]\n",
      "[1 3 5]\n"
     ]
    }
   ],
   "source": [
    "\"\"\"Vectorization\"\"\"\n",
    "my_1D_array=np.array(\n",
    "    [1,2,3,4,5]\n",
    ")\n",
    "my_1D_array%2==0\n",
    "print(my_1D_array%2==1)\n",
    "print(my_1D_array[my_1D_array%2==1])"
   ]
  },
  {
   "cell_type": "code",
   "execution_count": 64,
   "id": "92946d68-3668-45be-954c-b8ba2a8c688e",
   "metadata": {},
   "outputs": [
    {
     "data": {
      "text/plain": [
       "array([ 6,  7,  8,  9, 10])"
      ]
     },
     "execution_count": 64,
     "metadata": {},
     "output_type": "execute_result"
    }
   ],
   "source": [
    "my_1D_array +=5\n",
    "my_1D_array"
   ]
  },
  {
   "cell_type": "markdown",
   "id": "eaa88977-47a4-4573-8a67-14038447b869",
   "metadata": {},
   "source": [
    "# **broadcasting vectorization**\n",
    "\n",
    "**Converting a lower shape into higher shape**\n"
   ]
  },
  {
   "cell_type": "code",
   "execution_count": 2,
   "id": "41790bf3-b081-4828-95ee-5824e151036d",
   "metadata": {},
   "outputs": [
    {
     "name": "stdout",
     "output_type": "stream",
     "text": [
      "(2,)\n",
      "(4, 2)\n",
      "[[ 22   8]\n",
      " [ 34   2]\n",
      " [234   2]\n",
      " [  2  90]]\n"
     ]
    }
   ],
   "source": [
    "'previous batch class 17 time:4.06pm'\n",
    "\"\"\"Broadcasting\n",
    "converting a lower shape into higher shape for vectorization\n",
    "\n",
    "condition: requires that the arrays involved in the operation either have the same size in each dimension or that one of the arrays has a size of 1 in that dimension.\n",
    "\n",
    "For example: (6, 7, 7) and (6,)\n",
    "\n",
    "Step 1: Convert the lower dimensional object to the same dimension of the higher dimensional object by replacing the empty dimensions with 1\n",
    "(6,) => (6, 1, 1)\n",
    "\n",
    "Step 2. Verify compatibility of the broadcasting\n",
    "(6, 7, 7)\n",
    "(6, 1, 1) So this shape can be broadcasted.\n",
    "\n",
    "For example, (6, 31 8) and (6, 2)\n",
    "(6, 2) => (6, 2, 1) will provie error\n",
    "\"\"\"\n",
    "import numpy as np\n",
    "w=np.array([1,2])\n",
    "x=np.array([\n",
    "    [22,4],\n",
    "    [34,1],\n",
    "    [234,1],\n",
    "    [2,45]\n",
    "])\n",
    "print(w.shape)\n",
    "print(x.shape)\n",
    "print(w*x)"
   ]
  },
  {
   "cell_type": "code",
   "execution_count": 11,
   "id": "20165e5f-797a-4714-97b3-8f261c5817c1",
   "metadata": {},
   "outputs": [
    {
     "ename": "ValueError",
     "evalue": "operands could not be broadcast together with shapes (4,2) (3,2) ",
     "output_type": "error",
     "traceback": [
      "\u001b[31m---------------------------------------------------------------------------\u001b[39m",
      "\u001b[31mValueError\u001b[39m                                Traceback (most recent call last)",
      "\u001b[36mCell\u001b[39m\u001b[36m \u001b[39m\u001b[32mIn[11]\u001b[39m\u001b[32m, line 4\u001b[39m\n\u001b[32m      1\u001b[39m xy=np.array([[\u001b[32m4\u001b[39m,\u001b[32m41\u001b[39m],\n\u001b[32m      2\u001b[39m              [\u001b[32m1\u001b[39m,\u001b[32m4\u001b[39m],\n\u001b[32m      3\u001b[39m              [\u001b[32m43\u001b[39m,\u001b[32m4\u001b[39m]])\n\u001b[32m----> \u001b[39m\u001b[32m4\u001b[39m \u001b[38;5;28mprint\u001b[39m(\u001b[43mx\u001b[49m\u001b[43m*\u001b[49m\u001b[43mxy\u001b[49m)\n",
      "\u001b[31mValueError\u001b[39m: operands could not be broadcast together with shapes (4,2) (3,2) "
     ]
    }
   ],
   "source": [
    "xy=np.array([[4,41],\n",
    "             [1,4],\n",
    "             [43,4]])\n",
    "print(x*xy)"
   ]
  },
  {
   "cell_type": "code",
   "execution_count": 12,
   "id": "b8e9115b-ace3-4656-ad32-83dd5cd3178c",
   "metadata": {},
   "outputs": [
    {
     "name": "stdout",
     "output_type": "stream",
     "text": [
      "2\n",
      "(4, 2)\n"
     ]
    }
   ],
   "source": [
    "print(x.ndim)\n",
    "print(x.shape)"
   ]
  },
  {
   "cell_type": "markdown",
   "id": "64f82002-2874-4fd8-82e0-0b6befa3e960",
   "metadata": {},
   "source": [
    "# **numpy axis**"
   ]
  },
  {
   "cell_type": "code",
   "execution_count": 23,
   "id": "30b5c624-e439-4003-8bc0-21e6b6f8b8f8",
   "metadata": {},
   "outputs": [
    {
     "name": "stdout",
     "output_type": "stream",
     "text": [
      "[10  8  8]\n"
     ]
    }
   ],
   "source": [
    " \"\"\"\n",
    "    Numpy Axis\n",
    "    First dimension: axis=0\n",
    "    Second dimension: axis=1\n",
    "    Third dimension: axis=2\n",
    "    ...\n",
    "    Nth dimension: axis=N-1 [6, 7]\"\"\"\n",
    "my_np_array=np.array(\n",
    "    [[1,4,5],\n",
    "     [2,5,1],\n",
    "     [2,1,5]])\n",
    "s=np.sum(my_np_array,axis=1)\n",
    "print(s)"
   ]
  },
  {
   "cell_type": "code",
   "execution_count": 31,
   "id": "cafb393e-49fb-40c1-884b-5055a2727bc3",
   "metadata": {},
   "outputs": [
    {
     "name": "stdout",
     "output_type": "stream",
     "text": [
      "(2, 2, 3)\n",
      "sum of rows [[ 4  6  6]\n",
      " [12 14 10]]\n",
      "sum of collumns [[ 4 12]\n",
      " [16 20]]\n",
      "sum of multidimensions [[ 6  8  6]\n",
      " [10 12 10]]\n"
     ]
    }
   ],
   "source": [
    "c = np.array([[[1, 2,1],\n",
    "               [3, 4,5]],\n",
    "              \n",
    "              [[5, 6,5],\n",
    "               [7, 8,5]]])\n",
    "y=np.sum(c,axis=1)\n",
    "z=np.sum(c,axis=2)\n",
    "j=np.sum(c,axis=0)\n",
    "print(c.shape)\n",
    "print('sum of rows',y)\n",
    "print('sum of collumns',z)\n",
    "print('sum of multidimensions',j)"
   ]
  },
  {
   "cell_type": "code",
   "execution_count": 32,
   "id": "dcd08086-1ded-4e1f-9261-f255fc80929a",
   "metadata": {},
   "outputs": [
    {
     "name": "stdout",
     "output_type": "stream",
     "text": [
      "2\n"
     ]
    }
   ],
   "source": [
    "print(y.ndim)"
   ]
  },
  {
   "cell_type": "markdown",
   "id": "6506cc4b-9afb-40ff-88da-f9b9ba4a5dac",
   "metadata": {},
   "source": [
    "# **Numpy Random**"
   ]
  },
  {
   "cell_type": "code",
   "execution_count": 47,
   "id": "791d1424-7bb7-447e-a123-cc9fd1f004b3",
   "metadata": {},
   "outputs": [
    {
     "name": "stdout",
     "output_type": "stream",
     "text": [
      "1\n",
      "54\n"
     ]
    }
   ],
   "source": [
    "print(np.random.randint(5))\n",
    "print(np.random.randint(100))"
   ]
  },
  {
   "cell_type": "code",
   "execution_count": 6,
   "id": "e69e2fb7-0aaf-4139-9714-46f061fd43f8",
   "metadata": {},
   "outputs": [
    {
     "name": "stdout",
     "output_type": "stream",
     "text": [
      "[[92 98]\n",
      " [12 25]\n",
      " [65 24]\n",
      " [35  9]\n",
      " [98  2]]\n"
     ]
    }
   ],
   "source": [
    "x=(np.random.randint(100,size=(5,2)))\n",
    "print(x)"
   ]
  },
  {
   "cell_type": "code",
   "execution_count": 10,
   "id": "6d676aa3-6f7d-4518-8e08-9f9e69ddc575",
   "metadata": {},
   "outputs": [
    {
     "name": "stdout",
     "output_type": "stream",
     "text": [
      "[[92 98]\n",
      " [98  2]\n",
      " [35  9]\n",
      " [12 25]\n",
      " [65 24]]\n"
     ]
    }
   ],
   "source": [
    "\"\"\"shuffle\"\"\"\n",
    "np.random.shuffle(x)\n",
    "print(x)"
   ]
  },
  {
   "cell_type": "code",
   "execution_count": 18,
   "id": "b5c31ab8-3241-444e-a6a3-cf5a0882baf6",
   "metadata": {},
   "outputs": [
    {
     "name": "stdout",
     "output_type": "stream",
     "text": [
      "[ 5  6  7 19 41]\n",
      "[41 19  7  6  5]\n"
     ]
    }
   ],
   "source": [
    "\"\"\"sorting\"\"\"\n",
    "probabilities =np.array([19,41,5,6,7])\n",
    "probabilities_sorted=np.sort(probabilities)\n",
    "print(probabilities_sorted)\n",
    "\n",
    "\"\"\"Reversed Sorted\"\"\"\n",
    "probabilities_reversed_sorted=np.sort(probabilities)[::-1]\n",
    "print(probabilities_reversed_sorted)"
   ]
  },
  {
   "cell_type": "code",
   "execution_count": 19,
   "id": "c2797dea-2161-49e7-adce-ed86dd4f9d13",
   "metadata": {},
   "outputs": [
    {
     "name": "stdout",
     "output_type": "stream",
     "text": [
      "1\n",
      "2\n"
     ]
    }
   ],
   "source": [
    "\"\"\"Argmax and Argmin\"\"\"\n",
    "index_max=np.argmax(probabilities)\n",
    "print(index_max)\n",
    "\n",
    "index_min=np.argmin(probabilities)\n",
    "print(index_min)"
   ]
  },
  {
   "cell_type": "code",
   "execution_count": 24,
   "id": "f2b08b8f-effb-4a52-95e2-232b1bf56c2c",
   "metadata": {},
   "outputs": [
    {
     "name": "stdout",
     "output_type": "stream",
     "text": [
      "[array([1, 4]), array([2, 2]), array([5, 7])]\n"
     ]
    }
   ],
   "source": [
    "\"\"\"array_split\"\"\"\n",
    "my_np_array=np.array([1,4,2,2,5,7])\n",
    "new_np_array=np.split(\n",
    "    my_np_array,\n",
    "    indices_or_sections=3)\n",
    "print(new_np_array)\n"
   ]
  },
  {
   "cell_type": "code",
   "execution_count": null,
   "id": "ac2094f2-da93-456a-9624-97ffe3a6324d",
   "metadata": {},
   "outputs": [],
   "source": []
  }
 ],
 "metadata": {
  "kernelspec": {
   "display_name": "Python 3 (ipykernel)",
   "language": "python",
   "name": "python3"
  },
  "language_info": {
   "codemirror_mode": {
    "name": "ipython",
    "version": 3
   },
   "file_extension": ".py",
   "mimetype": "text/x-python",
   "name": "python",
   "nbconvert_exporter": "python",
   "pygments_lexer": "ipython3",
   "version": "3.12.7"
  }
 },
 "nbformat": 4,
 "nbformat_minor": 5
}
