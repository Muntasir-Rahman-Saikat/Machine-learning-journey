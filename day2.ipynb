{
 "cells": [
  {
   "cell_type": "markdown",
   "id": "e9b65085-5c02-413a-88dc-69611e515f8d",
   "metadata": {},
   "source": [
    "# DFD"
   ]
  },
  {
   "cell_type": "markdown",
   "id": "e5fdbe33-68e6-49df-b50f-b5fca91bff00",
   "metadata": {},
   "source": [
    "# **Local vs Global**"
   ]
  },
  {
   "cell_type": "code",
   "execution_count": 1,
   "id": "60dc4bd7-33da-49d4-9502-54f50196607d",
   "metadata": {},
   "outputs": [
    {
     "name": "stdout",
     "output_type": "stream",
     "text": [
      "my id is : 1000\n"
     ]
    }
   ],
   "source": [
    "x=1000\n",
    "y=90\n",
    "def fun():\n",
    "  \n",
    "      print('my id is :',x)\n",
    "\n",
    "fun()\n"
   ]
  },
  {
   "cell_type": "code",
   "execution_count": 2,
   "id": "375d3d5d-cd05-4a21-ba38-6c532d466a2e",
   "metadata": {},
   "outputs": [
    {
     "name": "stdout",
     "output_type": "stream",
     "text": [
      "my id number is : 90\n"
     ]
    }
   ],
   "source": [
    "print('my id number is :',y)"
   ]
  },
  {
   "cell_type": "markdown",
   "id": "2f40c53e-097a-4b2c-8bd5-ae16e6ba1386",
   "metadata": {},
   "source": [
    "# **Input Function** "
   ]
  },
  {
   "cell_type": "code",
   "execution_count": 3,
   "id": "de77b797-ee91-4949-99c3-fc44be468753",
   "metadata": {},
   "outputs": [
    {
     "data": {
      "text/plain": [
       "str"
      ]
     },
     "execution_count": 3,
     "metadata": {},
     "output_type": "execute_result"
    }
   ],
   "source": [
    "h=\"saikat\"\n",
    "type(h)\n"
   ]
  },
  {
   "cell_type": "code",
   "execution_count": 4,
   "id": "1338aacb-951e-4a5d-a5cc-6d6c49ced50c",
   "metadata": {},
   "outputs": [
    {
     "name": "stdin",
     "output_type": "stream",
     "text": [
      " 45\n"
     ]
    }
   ],
   "source": [
    " f = input()"
   ]
  },
  {
   "cell_type": "code",
   "execution_count": 5,
   "id": "f0e3fcdf-7d61-4e6e-aed3-162c8b4e67c5",
   "metadata": {},
   "outputs": [
    {
     "data": {
      "text/plain": [
       "'45'"
      ]
     },
     "execution_count": 5,
     "metadata": {},
     "output_type": "execute_result"
    }
   ],
   "source": [
    "f"
   ]
  },
  {
   "cell_type": "code",
   "execution_count": 6,
   "id": "73ef609b-6983-4242-9c96-701a9ea9114b",
   "metadata": {},
   "outputs": [
    {
     "data": {
      "text/plain": [
       "'45'"
      ]
     },
     "execution_count": 6,
     "metadata": {},
     "output_type": "execute_result"
    }
   ],
   "source": [
    "f"
   ]
  },
  {
   "cell_type": "code",
   "execution_count": 7,
   "id": "b8db0659-87fe-4619-b706-b78a14e4d821",
   "metadata": {},
   "outputs": [],
   "source": [
    "x=10\n",
    "y=39"
   ]
  },
  {
   "cell_type": "code",
   "execution_count": 8,
   "id": "bb31f38b-e504-448a-93d4-858bd7e4eea0",
   "metadata": {},
   "outputs": [
    {
     "data": {
      "text/plain": [
       "49"
      ]
     },
     "execution_count": 8,
     "metadata": {},
     "output_type": "execute_result"
    }
   ],
   "source": [
    "x+y"
   ]
  },
  {
   "cell_type": "code",
   "execution_count": 9,
   "id": "eee4d821-4d4d-40c1-8c50-a14f61e9f3b3",
   "metadata": {},
   "outputs": [
    {
     "name": "stdin",
     "output_type": "stream",
     "text": [
      " 55\n",
      " 3\n"
     ]
    }
   ],
   "source": [
    "x= input()\n",
    "y=input()"
   ]
  },
  {
   "cell_type": "code",
   "execution_count": 10,
   "id": "01fc6eaf-5882-420f-a5b0-04ecb14a57fb",
   "metadata": {},
   "outputs": [
    {
     "data": {
      "text/plain": [
       "'553'"
      ]
     },
     "execution_count": 10,
     "metadata": {},
     "output_type": "execute_result"
    }
   ],
   "source": [
    "x+y"
   ]
  },
  {
   "cell_type": "code",
   "execution_count": 11,
   "id": "6f8b6672-0d82-4235-b6cd-0981d8a67ce0",
   "metadata": {},
   "outputs": [
    {
     "name": "stdout",
     "output_type": "stream",
     "text": [
      "553\n"
     ]
    }
   ],
   "source": [
    "print(x+y)"
   ]
  },
  {
   "cell_type": "code",
   "execution_count": 12,
   "id": "40b1ad45-2e00-45de-a25f-5cb661b42870",
   "metadata": {},
   "outputs": [],
   "source": [
    "x=int(x)\n",
    "y=int(y)"
   ]
  },
  {
   "cell_type": "code",
   "execution_count": 13,
   "id": "b64c1bdb-a18a-4b15-bd92-15e496b76a4f",
   "metadata": {},
   "outputs": [
    {
     "data": {
      "text/plain": [
       "58"
      ]
     },
     "execution_count": 13,
     "metadata": {},
     "output_type": "execute_result"
    }
   ],
   "source": [
    "x+y\n"
   ]
  },
  {
   "cell_type": "markdown",
   "id": "44a3761f-e32c-4a5a-90ca-dd9e496db8c6",
   "metadata": {},
   "source": [
    " x=int(input('Enter the first value'))"
   ]
  },
  {
   "cell_type": "code",
   "execution_count": 15,
   "id": "4b4f57d3-67c7-4071-b304-e3eaa2eab27b",
   "metadata": {},
   "outputs": [
    {
     "name": "stdin",
     "output_type": "stream",
     "text": [
      "Enter the first value 4\n"
     ]
    }
   ],
   "source": [
    " x=int(input('Enter the first value'))\n",
    "\n"
   ]
  },
  {
   "cell_type": "code",
   "execution_count": 19,
   "id": "0fa82661-8c15-4bc6-b5ec-34cdb7473df5",
   "metadata": {},
   "outputs": [
    {
     "name": "stdin",
     "output_type": "stream",
     "text": [
      "Enter the 2nd value: 65.3\n"
     ]
    }
   ],
   "source": [
    "y=float(input('Enter the 2nd value:'))"
   ]
  },
  {
   "cell_type": "code",
   "execution_count": 20,
   "id": "22da1396-cb78-423e-aa69-a9196f5b9082",
   "metadata": {},
   "outputs": [
    {
     "name": "stdout",
     "output_type": "stream",
     "text": [
      "69.3\n"
     ]
    }
   ],
   "source": [
    "print(x+y)"
   ]
  },
  {
   "cell_type": "code",
   "execution_count": 21,
   "id": "88f4405d-e399-42a6-843a-b6c9fe3a2756",
   "metadata": {},
   "outputs": [
    {
     "ename": "TypeError",
     "evalue": "object of type 'float' has no len()",
     "output_type": "error",
     "traceback": [
      "\u001b[31m---------------------------------------------------------------------------\u001b[39m",
      "\u001b[31mTypeError\u001b[39m                                 Traceback (most recent call last)",
      "\u001b[36mCell\u001b[39m\u001b[36m \u001b[39m\u001b[32mIn[21]\u001b[39m\u001b[32m, line 1\u001b[39m\n\u001b[32m----> \u001b[39m\u001b[32m1\u001b[39m \u001b[38;5;28;43mlen\u001b[39;49m\u001b[43m(\u001b[49m\u001b[43my\u001b[49m\u001b[43m)\u001b[49m\n",
      "\u001b[31mTypeError\u001b[39m: object of type 'float' has no len()"
     ]
    }
   ],
   "source": [
    "len(y)"
   ]
  },
  {
   "cell_type": "code",
   "execution_count": 22,
   "id": "7330fa6f-9443-4fba-82d8-51748efa4100",
   "metadata": {},
   "outputs": [],
   "source": [
    "fd='here I am'"
   ]
  },
  {
   "cell_type": "code",
   "execution_count": 23,
   "id": "c78364dc-5fe3-43f9-900e-f72d29654b24",
   "metadata": {},
   "outputs": [
    {
     "data": {
      "text/plain": [
       "9"
      ]
     },
     "execution_count": 23,
     "metadata": {},
     "output_type": "execute_result"
    }
   ],
   "source": [
    "len(fd)"
   ]
  },
  {
   "cell_type": "code",
   "execution_count": 26,
   "id": "86f74bc1-619e-411f-91c9-2a5d95400dec",
   "metadata": {},
   "outputs": [
    {
     "data": {
      "text/plain": [
       "50"
      ]
     },
     "execution_count": 26,
     "metadata": {},
     "output_type": "execute_result"
    }
   ],
   "source": [
    "import sys\n",
    "sys.getsizeof(fd)"
   ]
  },
  {
   "cell_type": "code",
   "execution_count": 28,
   "id": "36aa58fa-0d47-4701-8236-ee232dd9f58f",
   "metadata": {},
   "outputs": [
    {
     "data": {
      "text/plain": [
       "1"
      ]
     },
     "execution_count": 28,
     "metadata": {},
     "output_type": "execute_result"
    }
   ],
   "source": [
    "fd.count('am')"
   ]
  },
  {
   "cell_type": "code",
   "execution_count": 34,
   "id": "0907770f-30cd-4a73-a328-e7b1cada0c02",
   "metadata": {},
   "outputs": [
    {
     "data": {
      "text/plain": [
       "1"
      ]
     },
     "execution_count": 34,
     "metadata": {},
     "output_type": "execute_result"
    }
   ],
   "source": [
    "fd.count('am')"
   ]
  },
  {
   "cell_type": "code",
   "execution_count": 36,
   "id": "32f63ef4-c682-4c22-abd8-65a272f3bcf0",
   "metadata": {},
   "outputs": [
    {
     "data": {
      "text/plain": [
       "1"
      ]
     },
     "execution_count": 36,
     "metadata": {},
     "output_type": "execute_result"
    }
   ],
   "source": [
    "fd.count(fd)"
   ]
  },
  {
   "cell_type": "code",
   "execution_count": 43,
   "id": "d484c7c5-b433-4975-963f-eb4afff2bc0f",
   "metadata": {},
   "outputs": [],
   "source": [
    "sub= 'here '"
   ]
  },
  {
   "cell_type": "code",
   "execution_count": 44,
   "id": "78957680-a71b-455f-8dc0-371adc475475",
   "metadata": {},
   "outputs": [
    {
     "data": {
      "text/plain": [
       "1"
      ]
     },
     "execution_count": 44,
     "metadata": {},
     "output_type": "execute_result"
    }
   ],
   "source": [
    "fd.count(sub)"
   ]
  },
  {
   "cell_type": "code",
   "execution_count": 1,
   "id": "f463cf28-8eff-47d0-a416-95603dcf55a5",
   "metadata": {},
   "outputs": [],
   "source": [
    "\n",
    "\n",
    "x = 'data SCIENCE is Fun'\n",
    "\n"
   ]
  },
  {
   "cell_type": "code",
   "execution_count": 2,
   "id": "b2de7a99-24d5-41b3-8644-5d9d9d16d2a3",
   "metadata": {},
   "outputs": [
    {
     "data": {
      "text/plain": [
       "'Data science is fun'"
      ]
     },
     "execution_count": 2,
     "metadata": {},
     "output_type": "execute_result"
    }
   ],
   "source": [
    "x.capitalize()"
   ]
  },
  {
   "cell_type": "code",
   "execution_count": 3,
   "id": "d43daee0-622b-4598-b2f1-4067b691af6a",
   "metadata": {},
   "outputs": [
    {
     "data": {
      "text/plain": [
       "'DATA science IS fUN'"
      ]
     },
     "execution_count": 3,
     "metadata": {},
     "output_type": "execute_result"
    }
   ],
   "source": [
    "x.swapcase()"
   ]
  },
  {
   "cell_type": "code",
   "execution_count": null,
   "id": "5efa6fb8-a506-41f5-b99f-d6aae4a53567",
   "metadata": {},
   "outputs": [],
   "source": []
  }
 ],
 "metadata": {
  "kernelspec": {
   "display_name": "Python 3 (ipykernel)",
   "language": "python",
   "name": "python3"
  },
  "language_info": {
   "codemirror_mode": {
    "name": "ipython",
    "version": 3
   },
   "file_extension": ".py",
   "mimetype": "text/x-python",
   "name": "python",
   "nbconvert_exporter": "python",
   "pygments_lexer": "ipython3",
   "version": "3.12.7"
  }
 },
 "nbformat": 4,
 "nbformat_minor": 5
}
