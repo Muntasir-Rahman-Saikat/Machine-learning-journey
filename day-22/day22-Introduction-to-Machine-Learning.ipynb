{
 "cells": [
  {
   "cell_type": "code",
   "execution_count": 33,
   "id": "initial_id",
   "metadata": {
    "ExecuteTime": {
     "end_time": "2025-06-15T16:41:56.570819Z",
     "start_time": "2025-06-15T16:41:51.174570Z"
    }
   },
   "outputs": [],
   "source": [
    "\"\"\"\n",
    "Class 7. Introduction to Machine Learning\n",
    "\n",
    "Linear regression: predicts numbers from features\n",
    "\"\"\"\n",
    "\n",
    "import pandas as pd\n",
    "import seaborn as sns"
   ]
  },
  {
   "cell_type": "code",
   "execution_count": 34,
   "id": "65812c45e5abf6fa",
   "metadata": {
    "ExecuteTime": {
     "end_time": "2025-06-15T16:42:05.241127Z",
     "start_time": "2025-06-15T16:42:05.233596Z"
    }
   },
   "outputs": [
    {
     "name": "stdout",
     "output_type": "stream",
     "text": [
      "E:\\PyCharmProjects\\pythonProject\\\n",
      "E:\\PyCharmProjects\\pythonProject\\data\n"
     ]
    }
   ],
   "source": [
    "import os\n",
    "\n",
    "ROOT_DIR = \"E:\\\\PyCharmProjects\\\\pythonProject\\\\\"\n",
    "DATA_DIR = os.path.join(ROOT_DIR, \"data\")\n",
    "\n",
    "print(ROOT_DIR)\n",
    "print(DATA_DIR)"
   ]
  },
  {
   "cell_type": "code",
   "execution_count": 35,
   "id": "ecb1085b6e82c376",
   "metadata": {
    "ExecuteTime": {
     "end_time": "2025-06-15T16:42:48.821642Z",
     "start_time": "2025-06-15T16:42:48.802014Z"
    }
   },
   "outputs": [
    {
     "name": "stdout",
     "output_type": "stream",
     "text": [
      "E:\\PyCharmProjects\\pythonProject\\data\\housing_single_feature.csv\n"
     ]
    }
   ],
   "source": [
    "dataset_file = os.path.join(\n",
    "    DATA_DIR, \n",
    "    \"housing_single_feature.csv\"\n",
    ")\n",
    "\n",
    "print(dataset_file)"
   ]
  },
  {
   "cell_type": "code",
   "execution_count": 36,
   "id": "e99f9ee4be87025e",
   "metadata": {
    "ExecuteTime": {
     "end_time": "2025-06-15T16:43:00.230223Z",
     "start_time": "2025-06-15T16:43:00.167577Z"
    }
   },
   "outputs": [
    {
     "data": {
      "text/html": [
       "<div>\n",
       "<style scoped>\n",
       "    .dataframe tbody tr th:only-of-type {\n",
       "        vertical-align: middle;\n",
       "    }\n",
       "\n",
       "    .dataframe tbody tr th {\n",
       "        vertical-align: top;\n",
       "    }\n",
       "\n",
       "    .dataframe thead th {\n",
       "        text-align: right;\n",
       "    }\n",
       "</style>\n",
       "<table border=\"1\" class=\"dataframe\">\n",
       "  <thead>\n",
       "    <tr style=\"text-align: right;\">\n",
       "      <th></th>\n",
       "      <th>area</th>\n",
       "      <th>price</th>\n",
       "    </tr>\n",
       "  </thead>\n",
       "  <tbody>\n",
       "    <tr>\n",
       "      <th>0</th>\n",
       "      <td>7420</td>\n",
       "      <td>13300000</td>\n",
       "    </tr>\n",
       "    <tr>\n",
       "      <th>1</th>\n",
       "      <td>8960</td>\n",
       "      <td>12250000</td>\n",
       "    </tr>\n",
       "    <tr>\n",
       "      <th>2</th>\n",
       "      <td>9960</td>\n",
       "      <td>12250000</td>\n",
       "    </tr>\n",
       "    <tr>\n",
       "      <th>3</th>\n",
       "      <td>7500</td>\n",
       "      <td>12215000</td>\n",
       "    </tr>\n",
       "    <tr>\n",
       "      <th>4</th>\n",
       "      <td>7420</td>\n",
       "      <td>11410000</td>\n",
       "    </tr>\n",
       "  </tbody>\n",
       "</table>\n",
       "</div>"
      ],
      "text/plain": [
       "   area     price\n",
       "0  7420  13300000\n",
       "1  8960  12250000\n",
       "2  9960  12250000\n",
       "3  7500  12215000\n",
       "4  7420  11410000"
      ]
     },
     "execution_count": 36,
     "metadata": {},
     "output_type": "execute_result"
    }
   ],
   "source": [
    "house_df = pd.read_csv(\"housing_single_feature.csv\")\n",
    "house_df.head()"
   ]
  },
  {
   "cell_type": "code",
   "execution_count": 37,
   "id": "ac1897b714d55618",
   "metadata": {
    "ExecuteTime": {
     "end_time": "2025-06-15T16:46:26.972746Z",
     "start_time": "2025-06-15T16:46:26.960787Z"
    }
   },
   "outputs": [
    {
     "name": "stdout",
     "output_type": "stream",
     "text": [
      "77898\n",
      "917802\n",
      "estimated_price 578920962\n"
     ]
    }
   ],
   "source": [
    "import numpy as np\n",
    "\n",
    "# Parameter and bias are generally termed as weights\n",
    "\n",
    "# Step 1. Weight initialization\n",
    "per_sft_price = np.random.randint(1, 1000000)\n",
    "registration_cost = np.random.randint(1, 1000000)\n",
    "\n",
    "print(per_sft_price)\n",
    "print(registration_cost)\n",
    "\n",
    "# Step 2. Define the ML Algorithm\n",
    "def get_house_price(area, per_sft_price, registration_cost):\n",
    "    estimated_price = per_sft_price * area + registration_cost\n",
    "    return estimated_price\n",
    "\n",
    "estimated_price = get_house_price(\n",
    "    area=7420,\n",
    "    per_sft_price=per_sft_price,\n",
    "    registration_cost=registration_cost,\n",
    ")\n",
    "\n",
    "print(\"estimated_price\",estimated_price)"
   ]
  },
  {
   "cell_type": "code",
   "execution_count": 38,
   "id": "75185411fd29abb1",
   "metadata": {
    "ExecuteTime": {
     "end_time": "2025-06-15T16:50:35.914774Z",
     "start_time": "2025-06-15T16:50:35.895919Z"
    }
   },
   "outputs": [
    {
     "data": {
      "text/html": [
       "<div>\n",
       "<style scoped>\n",
       "    .dataframe tbody tr th:only-of-type {\n",
       "        vertical-align: middle;\n",
       "    }\n",
       "\n",
       "    .dataframe tbody tr th {\n",
       "        vertical-align: top;\n",
       "    }\n",
       "\n",
       "    .dataframe thead th {\n",
       "        text-align: right;\n",
       "    }\n",
       "</style>\n",
       "<table border=\"1\" class=\"dataframe\">\n",
       "  <thead>\n",
       "    <tr style=\"text-align: right;\">\n",
       "      <th></th>\n",
       "      <th>area</th>\n",
       "      <th>price</th>\n",
       "      <th>estimated_price</th>\n",
       "    </tr>\n",
       "  </thead>\n",
       "  <tbody>\n",
       "    <tr>\n",
       "      <th>0</th>\n",
       "      <td>7420</td>\n",
       "      <td>13300000</td>\n",
       "      <td>578920962</td>\n",
       "    </tr>\n",
       "    <tr>\n",
       "      <th>1</th>\n",
       "      <td>8960</td>\n",
       "      <td>12250000</td>\n",
       "      <td>698883882</td>\n",
       "    </tr>\n",
       "    <tr>\n",
       "      <th>2</th>\n",
       "      <td>9960</td>\n",
       "      <td>12250000</td>\n",
       "      <td>776781882</td>\n",
       "    </tr>\n",
       "    <tr>\n",
       "      <th>3</th>\n",
       "      <td>7500</td>\n",
       "      <td>12215000</td>\n",
       "      <td>585152802</td>\n",
       "    </tr>\n",
       "    <tr>\n",
       "      <th>4</th>\n",
       "      <td>7420</td>\n",
       "      <td>11410000</td>\n",
       "      <td>578920962</td>\n",
       "    </tr>\n",
       "    <tr>\n",
       "      <th>5</th>\n",
       "      <td>7500</td>\n",
       "      <td>10850000</td>\n",
       "      <td>585152802</td>\n",
       "    </tr>\n",
       "  </tbody>\n",
       "</table>\n",
       "</div>"
      ],
      "text/plain": [
       "   area     price  estimated_price\n",
       "0  7420  13300000        578920962\n",
       "1  8960  12250000        698883882\n",
       "2  9960  12250000        776781882\n",
       "3  7500  12215000        585152802\n",
       "4  7420  11410000        578920962\n",
       "5  7500  10850000        585152802"
      ]
     },
     "execution_count": 38,
     "metadata": {},
     "output_type": "execute_result"
    }
   ],
   "source": [
    "# Step 3. Predict the result\n",
    "house_df['estimated_price'] = [ \n",
    "    get_house_price(area, per_sft_price, registration_cost) for area in house_df['area']\n",
    "]\n",
    "\n",
    "house_df.head(6)"
   ]
  },
  {
   "cell_type": "code",
   "execution_count": 39,
   "id": "ffffd833783de2d0",
   "metadata": {
    "ExecuteTime": {
     "end_time": "2025-06-15T16:51:38.021952Z",
     "start_time": "2025-06-15T16:51:37.930820Z"
    }
   },
   "outputs": [
    {
     "name": "stdout",
     "output_type": "stream",
     "text": [
      "1090\n"
     ]
    },
    {
     "data": {
      "text/html": [
       "<div>\n",
       "<style scoped>\n",
       "    .dataframe tbody tr th:only-of-type {\n",
       "        vertical-align: middle;\n",
       "    }\n",
       "\n",
       "    .dataframe tbody tr th {\n",
       "        vertical-align: top;\n",
       "    }\n",
       "\n",
       "    .dataframe thead th {\n",
       "        text-align: right;\n",
       "    }\n",
       "</style>\n",
       "<table border=\"1\" class=\"dataframe\">\n",
       "  <thead>\n",
       "    <tr style=\"text-align: right;\">\n",
       "      <th></th>\n",
       "      <th>area</th>\n",
       "      <th>price</th>\n",
       "      <th>type</th>\n",
       "    </tr>\n",
       "  </thead>\n",
       "  <tbody>\n",
       "    <tr>\n",
       "      <th>0</th>\n",
       "      <td>7420</td>\n",
       "      <td>13300000</td>\n",
       "      <td>y_true</td>\n",
       "    </tr>\n",
       "    <tr>\n",
       "      <th>1</th>\n",
       "      <td>7420</td>\n",
       "      <td>578920962</td>\n",
       "      <td>y_pred</td>\n",
       "    </tr>\n",
       "    <tr>\n",
       "      <th>2</th>\n",
       "      <td>8960</td>\n",
       "      <td>12250000</td>\n",
       "      <td>y_true</td>\n",
       "    </tr>\n",
       "    <tr>\n",
       "      <th>3</th>\n",
       "      <td>8960</td>\n",
       "      <td>698883882</td>\n",
       "      <td>y_pred</td>\n",
       "    </tr>\n",
       "    <tr>\n",
       "      <th>4</th>\n",
       "      <td>9960</td>\n",
       "      <td>12250000</td>\n",
       "      <td>y_true</td>\n",
       "    </tr>\n",
       "    <tr>\n",
       "      <th>5</th>\n",
       "      <td>9960</td>\n",
       "      <td>776781882</td>\n",
       "      <td>y_pred</td>\n",
       "    </tr>\n",
       "  </tbody>\n",
       "</table>\n",
       "</div>"
      ],
      "text/plain": [
       "   area      price    type\n",
       "0  7420   13300000  y_true\n",
       "1  7420  578920962  y_pred\n",
       "2  8960   12250000  y_true\n",
       "3  8960  698883882  y_pred\n",
       "4  9960   12250000  y_true\n",
       "5  9960  776781882  y_pred"
      ]
     },
     "execution_count": 39,
     "metadata": {},
     "output_type": "execute_result"
    }
   ],
   "source": [
    "x = []\n",
    "y = []\n",
    "y_type = []\n",
    "\n",
    "for i in range(len(house_df)):\n",
    "    x.append(house_df.iloc[i][\"area\"])\n",
    "    y.append(house_df.iloc[i][\"price\"])\n",
    "    y_type.append(\"y_true\")\n",
    "    \n",
    "    x.append(house_df.iloc[i][\"area\"])\n",
    "    y.append(house_df.iloc[i][\"estimated_price\"])\n",
    "    y_type.append(\"y_pred\")\n",
    "    \n",
    "house_df = pd.DataFrame({\n",
    "    \"area\": np.array(x),\n",
    "    \"price\": np.array(y),\n",
    "    \"type\": np.array(y_type)\n",
    "})\n",
    "\n",
    "print(len(house_df))\n",
    "house_df.head(6)"
   ]
  },
  {
   "cell_type": "code",
   "execution_count": 45,
   "id": "e7d2f231060b718c",
   "metadata": {
    "ExecuteTime": {
     "end_time": "2025-06-15T16:52:12.985296Z",
     "start_time": "2025-06-15T16:52:12.604058Z"
    }
   },
   "outputs": [
    {
     "data": {
      "text/plain": [
       "<seaborn.axisgrid.FacetGrid at 0x20db4567110>"
      ]
     },
     "execution_count": 45,
     "metadata": {},
     "output_type": "execute_result"
    },
    {
     "data": {
      "image/png": "[encoded data removed]",
      "text/plain": [
       "<Figure size 500x500 with 1 Axes>"
      ]
     },
     "metadata": {},
     "output_type": "display_data"
    }
   ],
   "source": [
    "\"\"\" Probability Distribution Function (PDF) for actual house price given in the dataset \"\"\"\n",
    "sns.displot(\n",
    "    data=house_df.query(\"type == 'y_true'\"),\n",
    "    x=\"price\",\n",
    "    kind='kde',\n",
    "    fill=True,\n",
    ")"
   ]
  },
  {
   "cell_type": "code",
   "execution_count": 41,
   "id": "f19be2dc4f303c2e",
   "metadata": {
    "ExecuteTime": {
     "end_time": "2025-06-15T16:53:46.866807Z",
     "start_time": "2025-06-15T16:53:46.651511Z"
    }
   },
   "outputs": [
    {
     "data": {
      "text/plain": [
       "<seaborn.axisgrid.FacetGrid at 0x20db2d25bb0>"
      ]
     },
     "execution_count": 41,
     "metadata": {},
     "output_type": "execute_result"
    },
    {
     "data": {
      "image/png": "[encoded data removed]",
      "text/plain": [
       "<Figure size 500x500 with 1 Axes>"
      ]
     },
     "metadata": {},
     "output_type": "display_data"
    }
   ],
   "source": [
    "sns.displot(\n",
    "    data=house_df.query(\"type == 'y_pred'\"),\n",
    "    x=\"price\",\n",
    "    kind='kde',\n",
    "    fill=True,\n",
    ")"
   ]
  },
  {
   "cell_type": "code",
   "execution_count": 42,
   "id": "889ea273f7ee861d",
   "metadata": {
    "ExecuteTime": {
     "end_time": "2025-06-15T17:01:20.876731Z",
     "start_time": "2025-06-15T17:01:19.483047Z"
    }
   },
   "outputs": [
    {
     "name": "stdout",
     "output_type": "stream",
     "text": [
      "KL Divergence: 0.06366852967781195\n"
     ]
    }
   ],
   "source": [
    "from scipy.stats import entropy\n",
    "\n",
    "def calculate_kl_divergence(df, epsilon=1e-10, max_divergence=1e6):\n",
    "    y_pred = df[df[\"type\"] == \"y_pred\"][\"price\"].values\n",
    "    y_true = df[df[\"type\"] == \"y_true\"][\"price\"].values\n",
    "    \n",
    "    y_pred_prob = y_pred / np.sum(y_pred)\n",
    "    y_true_prob = y_true / np.sum(y_true)\n",
    "    \n",
    "    y_pred_prob = np.clip(y_pred_prob, epsilon, 1)\n",
    "    y_true_prob = np.clip(y_true_prob, epsilon, 1)\n",
    "    \n",
    "    kl_div = entropy(y_true_prob, y_pred_prob)\n",
    "    \n",
    "    if np.isinf(kl_div):\n",
    "        kl_div = max_divergence\n",
    "    \n",
    "    return kl_div\n",
    "\n",
    "kl_divergence = calculate_kl_divergence(house_df)\n",
    "print(f\"KL Divergence: {kl_divergence}\")"
   ]
  },
  {
   "cell_type": "code",
   "execution_count": 49,
   "id": "2027f296-92e9-4192-ba31-517305ee481e",
   "metadata": {},
   "outputs": [
    {
     "name": "stdout",
     "output_type": "stream",
     "text": [
      "1\n"
     ]
    }
   ],
   "source": [
    "y_pred = house_df[house_df[\"type\"] == \"y_pred\"][\"price\"].values\n",
    "print(y_pred.ndim)"
   ]
  },
  {
   "cell_type": "code",
   "execution_count": 43,
   "id": "65c63279a3281f1b",
   "metadata": {},
   "outputs": [
    {
     "data": {
      "text/plain": [
       "'\\nFind the distribution dissimilarities between y_true_PDF and y_pred_PDF\\n\\nKL Divergence = D(y_true_PDF || y_pred_PDF)\\n\\nObjective of any Machine Learning\\n---------------------------------\\n\\n- Increase Maximum likelihood estimation\\n- Reduce dissimilarity between distributions (predicted vs true) \\n- Reduce KL divergence\\n- Minimize some error / loss / cost objective function\\n'"
      ]
     },
     "execution_count": 43,
     "metadata": {},
     "output_type": "execute_result"
    }
   ],
   "source": [
    "\"\"\"\n",
    "Find the distribution dissimilarities between y_true_PDF and y_pred_PDF\n",
    "\n",
    "KL Divergence = D(y_true_PDF || y_pred_PDF)\n",
    "\n",
    "Objective of any Machine Learning\n",
    "---------------------------------\n",
    "\n",
    "- Increase Maximum likelihood estimation\n",
    "- Reduce dissimilarity between distributions (predicted vs true) \n",
    "- Reduce KL divergence\n",
    "- Minimize some error / loss / cost objective function\n",
    "\"\"\""
   ]
  },
  {
   "cell_type": "code",
   "execution_count": null,
   "id": "7901e334528e2cc",
   "metadata": {},
   "outputs": [],
   "source": []
  }
 ],
 "metadata": {
  "kernelspec": {
   "display_name": "Python 3 (ipykernel)",
   "language": "python",
   "name": "python3"
  },
  "language_info": {
   "codemirror_mode": {
    "name": "ipython",
    "version": 3
   },
   "file_extension": ".py",
   "mimetype": "text/x-python",
   "name": "python",
   "nbconvert_exporter": "python",
   "pygments_lexer": "ipython3",
   "version": "3.12.7"
  }
 },
 "nbformat": 4,
 "nbformat_minor": 5
}
